{
 "cells": [
  {
   "cell_type": "markdown",
   "metadata": {
    "nbpresent": {
     "id": "0b1d1371-e9f4-4dda-8dc6-e7882e362b20"
    }
   },
   "source": [
    "# Artificial Intelligence Nanodegree\n",
    "\n",
    "## Convolutional Neural Networks\n",
    "\n",
    "## Project: Write an Algorithm for a Dog Identification App \n",
    "\n",
    "---\n",
    "\n",
    "In this notebook, some template code has already been provided for you, and you will need to implement additional functionality to successfully complete this project. You will not need to modify the included code beyond what is requested. Sections that begin with **'(IMPLEMENTATION)'** in the header indicate that the following block of code will require additional functionality which you must provide. Instructions will be provided for each section, and the specifics of the implementation are marked in the code block with a 'TODO' statement. Please be sure to read the instructions carefully! \n",
    "\n",
    "> **Note**: Once you have completed all of the code implementations, you need to finalize your work by exporting the iPython Notebook as an HTML document. Before exporting the notebook to html, all of the code cells need to have been run so that reviewers can see the final implementation and output. You can then export the notebook by using the menu above and navigating to  \\n\",\n",
    "    \"**File -> Download as -> HTML (.html)**. Include the finished document along with this notebook as your submission.\n",
    "\n",
    "In addition to implementing code, there will be questions that you must answer which relate to the project and your implementation. Each section where you will answer a question is preceded by a **'Question X'** header. Carefully read each question and provide thorough answers in the following text boxes that begin with **'Answer:'**. Your project submission will be evaluated based on your answers to each of the questions and the implementation you provide.\n",
    "\n",
    ">**Note:** Code and Markdown cells can be executed using the **Shift + Enter** keyboard shortcut.  Markdown cells can be edited by double-clicking the cell to enter edit mode.\n",
    "\n",
    "The rubric contains _optional_ \"Stand Out Suggestions\" for enhancing the project beyond the minimum requirements. If you decide to pursue the \"Stand Out Suggestions\", you should include the code in this IPython notebook.\n",
    "\n",
    "\n",
    "\n",
    "---\n",
    "### Why We're Here \n",
    "\n",
    "In this notebook, you will make the first steps towards developing an algorithm that could be used as part of a mobile or web app.  At the end of this project, your code will accept any user-supplied image as input.  If a dog is detected in the image, it will provide an estimate of the dog's breed.  If a human is detected, it will provide an estimate of the dog breed that is most resembling.  The image below displays potential sample output of your finished project (... but we expect that each student's algorithm will behave differently!). \n",
    "\n",
    "![Sample Dog Output](images/sample_dog_output.png)\n",
    "\n",
    "In this real-world setting, you will need to piece together a series of models to perform different tasks; for instance, the algorithm that detects humans in an image will be different from the CNN that infers dog breed.  There are many points of possible failure, and no perfect algorithm exists.  Your imperfect solution will nonetheless create a fun user experience!\n",
    "\n",
    "### The Road Ahead\n",
    "\n",
    "We break the notebook into separate steps.  Feel free to use the links below to navigate the notebook.\n",
    "\n",
    "* [Step 0](#step0): Import Datasets\n",
    "* [Step 1](#step1): Detect Humans\n",
    "* [Step 2](#step2): Detect Dogs\n",
    "* [Step 3](#step3): Create a CNN to Classify Dog Breeds (from Scratch)\n",
    "* [Step 4](#step4): Use a CNN to Classify Dog Breeds (using Transfer Learning)\n",
    "* [Step 5](#step5): Create a CNN to Classify Dog Breeds (using Transfer Learning)\n",
    "* [Step 6](#step6): Write your Algorithm\n",
    "* [Step 7](#step7): Test Your Algorithm\n",
    "\n",
    "---\n",
    "<a id='step0'></a>\n",
    "## Step 0: Import Datasets\n",
    "\n",
    "### Import Dog Dataset\n",
    "\n",
    "In the code cell below, we import a dataset of dog images.  We populate a few variables through the use of the `load_files` function from the scikit-learn library:\n",
    "- `train_files`, `valid_files`, `test_files` - numpy arrays containing file paths to images\n",
    "- `train_targets`, `valid_targets`, `test_targets` - numpy arrays containing onehot-encoded classification labels \n",
    "- `dog_names` - list of string-valued dog breed names for translating labels"
   ]
  },
  {
   "cell_type": "code",
   "execution_count": 1,
   "metadata": {
    "nbpresent": {
     "id": "be414f28-6d27-4e52-8786-1d0d51575532"
    },
    "scrolled": false
   },
   "outputs": [
    {
     "name": "stderr",
     "output_type": "stream",
     "text": [
      "Using TensorFlow backend.\n"
     ]
    },
    {
     "name": "stdout",
     "output_type": "stream",
     "text": [
      "There are 133 total dog categories.\n",
      "There are 8351 total dog images.\n",
      "\n",
      "There are 6680 training dog images.\n",
      "There are 835 validation dog images.\n",
      "There are 836 test dog images.\n"
     ]
    }
   ],
   "source": [
    "from sklearn.datasets import load_files       \n",
    "from keras.utils import np_utils\n",
    "import numpy as np\n",
    "from glob import glob\n",
    "\n",
    "# define function to load train, test, and validation datasets\n",
    "def load_dataset(path):\n",
    "    data = load_files(path)\n",
    "    dog_files = np.array(data['filenames'])\n",
    "    dog_targets = np_utils.to_categorical(np.array(data['target']), 133)\n",
    "    return dog_files, dog_targets\n",
    "\n",
    "# load train, test, and validation datasets\n",
    "train_files, train_targets = load_dataset('dogImages/train')\n",
    "valid_files, valid_targets = load_dataset('dogImages/valid')\n",
    "test_files, test_targets = load_dataset('dogImages/test')\n",
    "\n",
    "# load list of dog names\n",
    "dog_names = [item[20:-1] for item in sorted(glob(\"dogImages/train/*/\"))]\n",
    "\n",
    "# print statistics about the dataset\n",
    "print('There are %d total dog categories.' % len(dog_names))\n",
    "print('There are %s total dog images.\\n' % len(np.hstack([train_files, valid_files, test_files])))\n",
    "print('There are %d training dog images.' % len(train_files))\n",
    "print('There are %d validation dog images.' % len(valid_files))\n",
    "print('There are %d test dog images.'% len(test_files))"
   ]
  },
  {
   "cell_type": "markdown",
   "metadata": {
    "nbpresent": {
     "id": "5f2f0863-3365-4d0f-b188-bfb017d7c9c2"
    }
   },
   "source": [
    "### Import Human Dataset\n",
    "\n",
    "In the code cell below, we import a dataset of human images, where the file paths are stored in the numpy array `human_files`."
   ]
  },
  {
   "cell_type": "code",
   "execution_count": 2,
   "metadata": {
    "nbpresent": {
     "id": "aa49ee33-9985-43e4-b7bd-e502ac28ab64"
    },
    "scrolled": false
   },
   "outputs": [
    {
     "name": "stdout",
     "output_type": "stream",
     "text": [
      "There are 13233 total human images.\n"
     ]
    }
   ],
   "source": [
    "import random\n",
    "random.seed(8675309)\n",
    "\n",
    "# load filenames in shuffled human dataset\n",
    "human_files = np.array(glob(\"lfw/lfw/*/*\"))\n",
    "random.shuffle(human_files)\n",
    "\n",
    "# print statistics about the dataset\n",
    "print('There are %d total human images.' % len(human_files))"
   ]
  },
  {
   "cell_type": "markdown",
   "metadata": {
    "nbpresent": {
     "id": "9e2f1553-8581-4fac-9402-ce0510458c7d"
    }
   },
   "source": [
    "---\n",
    "<a id='step1'></a>\n",
    "## Step 1: Detect Humans\n",
    "\n",
    "We use OpenCV's implementation of [Haar feature-based cascade classifiers](http://docs.opencv.org/trunk/d7/d8b/tutorial_py_face_detection.html) to detect human faces in images.  OpenCV provides many pre-trained face detectors, stored as XML files on [github](https://github.com/opencv/opencv/tree/master/data/haarcascades).  We have downloaded one of these detectors and stored it in the `haarcascades` directory.\n",
    "\n",
    "In the next code cell, we demonstrate how to use this detector to find human faces in a sample image."
   ]
  },
  {
   "cell_type": "code",
   "execution_count": 3,
   "metadata": {
    "nbpresent": {
     "id": "fd8fd949-ab08-4b19-83e4-5058d6494b44"
    },
    "scrolled": false
   },
   "outputs": [
    {
     "name": "stdout",
     "output_type": "stream",
     "text": [
      "Number of faces detected: 3\n"
     ]
    },
    {
     "data": {
      "image/png": "[encoded data removed]",
      "text/plain": [
       "<matplotlib.figure.Figure at 0x7f8b68591e80>"
      ]
     },
     "metadata": {},
     "output_type": "display_data"
    }
   ],
   "source": [
    "import cv2                \n",
    "import matplotlib.pyplot as plt                        \n",
    "%matplotlib inline                               \n",
    "\n",
    "# extract pre-trained face detector\n",
    "face_cascade = cv2.CascadeClassifier('haarcascades/haarcascade_frontalface_alt.xml')\n",
    "\n",
    "# load color (BGR) image\n",
    "img = cv2.imread(human_files[3])\n",
    "# convert BGR image to grayscale\n",
    "gray = cv2.cvtColor(img, cv2.COLOR_BGR2GRAY)\n",
    "\n",
    "# find faces in image\n",
    "faces = face_cascade.detectMultiScale(gray)\n",
    "\n",
    "# print number of faces detected in the image\n",
    "print('Number of faces detected:', len(faces))\n",
    "\n",
    "# get bounding box for each detected face\n",
    "for (x,y,w,h) in faces:\n",
    "    # add bounding box to color image\n",
    "    cv2.rectangle(img,(x,y),(x+w,y+h),(255,0,0),2)\n",
    "    \n",
    "# convert BGR image to RGB for plotting\n",
    "cv_rgb = cv2.cvtColor(img, cv2.COLOR_BGR2RGB)\n",
    "\n",
    "# display the image, along with bounding box\n",
    "plt.imshow(cv_rgb)\n",
    "plt.show()"
   ]
  },
  {
   "cell_type": "markdown",
   "metadata": {
    "nbpresent": {
     "id": "82321456-bdf7-429f-87a5-80bbb875ed4b"
    }
   },
   "source": [
    "Before using any of the face detectors, it is standard procedure to convert the images to grayscale.  The `detectMultiScale` function executes the classifier stored in `face_cascade` and takes the grayscale image as a parameter.  \n",
    "\n",
    "In the above code, `faces` is a numpy array of detected faces, where each row corresponds to a detected face.  Each detected face is a 1D array with four entries that specifies the bounding box of the detected face.  The first two entries in the array (extracted in the above code as `x` and `y`) specify the horizontal and vertical positions of the top left corner of the bounding box.  The last two entries in the array (extracted here as `w` and `h`) specify the width and height of the box.\n",
    "\n",
    "### Write a Human Face Detector\n",
    "\n",
    "We can use this procedure to write a function that returns `True` if a human face is detected in an image and `False` otherwise.  This function, aptly named `face_detector`, takes a string-valued file path to an image as input and appears in the code block below."
   ]
  },
  {
   "cell_type": "code",
   "execution_count": 4,
   "metadata": {
    "collapsed": true,
    "nbpresent": {
     "id": "9785470a-3226-4b28-bb31-b408e246f471"
    },
    "scrolled": false
   },
   "outputs": [],
   "source": [
    "# returns \"True\" if face is detected in image stored at img_path\n",
    "def face_detector(img_path):\n",
    "    img = cv2.imread(img_path)\n",
    "    gray = cv2.cvtColor(img, cv2.COLOR_BGR2GRAY)\n",
    "    faces = face_cascade.detectMultiScale(gray)\n",
    "    return len(faces) > 0"
   ]
  },
  {
   "cell_type": "markdown",
   "metadata": {
    "nbpresent": {
     "id": "922e2623-1236-4d28-8bdc-df63b756ab9a"
    }
   },
   "source": [
    "### (IMPLEMENTATION) Assess the Human Face Detector\n",
    "\n",
    "__Question 1:__ Use the code cell below to test the performance of the `face_detector` function.  \n",
    "- What percentage of the first 100 images in `human_files` have a detected human face?  \n",
    "- What percentage of the first 100 images in `dog_files` have a detected human face? \n",
    "\n",
    "Ideally, we would like 100% of human images with a detected face and 0% of dog images with a detected face.  You will see that our algorithm falls short of this goal, but still gives acceptable performance.  We extract the file paths for the first 100 images from each of the datasets and store them in the numpy arrays `human_files_short` and `dog_files_short`.\n",
    "\n",
    "__Answer:__ \n",
    "99% of the human images have detected a human face, and 11% of the dog images have a detected human face."
   ]
  },
  {
   "cell_type": "code",
   "execution_count": 5,
   "metadata": {
    "nbpresent": {
     "id": "9d7fcb7a-fc73-48e1-825a-ebd5af3ed167"
    },
    "scrolled": false
   },
   "outputs": [
    {
     "name": "stdout",
     "output_type": "stream",
     "text": [
      "99 human faces were detected in the first 100 human images.\n",
      "11 human faces were detected in the first 100 dog images.\n"
     ]
    }
   ],
   "source": [
    "human_files_short = human_files[:100]\n",
    "dog_files_short = train_files[:100]\n",
    "# Do NOT modify the code above this line.\n",
    "\n",
    "## TODO: Test the performance of the face_detector algorithm \n",
    "## on the images in human_files_short and dog_files_short.\n",
    "num_human_faces = 0\n",
    "num_dog_faces = 0\n",
    "\n",
    "for x in human_files_short:\n",
    "    if face_detector(x):\n",
    "        num_human_faces += 1\n",
    "        \n",
    "for x in dog_files_short:\n",
    "    if face_detector(x):\n",
    "        num_dog_faces += 1\n",
    "\n",
    "print('%d human faces were detected in the first 100 human images.' % num_human_faces)\n",
    "print('%d human faces were detected in the first 100 dog images.' % num_dog_faces)"
   ]
  },
  {
   "cell_type": "markdown",
   "metadata": {
    "nbpresent": {
     "id": "197df124-a496-4dc9-a10b-80de67d20ded"
    }
   },
   "source": [
    "__Question 2:__ This algorithmic choice necessitates that we communicate to the user that we accept human images only when they provide a clear view of a face (otherwise, we risk having unneccessarily frustrated users!). In your opinion, is this a reasonable expectation to pose on the user? If not, can you think of a way to detect humans in images that does not necessitate an image with a clearly presented face?\n",
    "\n",
    "__Answer:__\n",
    "In my opinion, accepting human images only when they contain a clear view of a face is a reasonable expectation for this type of application. Most people looking to use an app like this are taking shots straight on with a phone, similar to taking a selfie or using a program like Skype. I think people are already used to using apps that have this type of requirement. If it did turn into an issue though, the same type of deep learning network that is being trained in this project to detect dogs could be used to create a pipeline for detecting humans without a clear image of their face.\n",
    "\n",
    "We suggest the face detector from OpenCV as a potential way to detect human images in your algorithm, but you are free to explore other approaches, especially approaches that make use of deep learning :).  Please use the code cell below to design and test your own face detection algorithm.  If you decide to pursue this _optional_ task, report performance on each of the datasets."
   ]
  },
  {
   "cell_type": "code",
   "execution_count": 6,
   "metadata": {
    "collapsed": true,
    "nbpresent": {
     "id": "95ca45c9-4659-4be3-9fc7-a674b91ae7db"
    },
    "scrolled": false
   },
   "outputs": [],
   "source": [
    "## (Optional) TODO: Report the performance of another  \n",
    "## face detection algorithm on the LFW dataset\n",
    "### Feel free to use as many code cells as needed."
   ]
  },
  {
   "cell_type": "markdown",
   "metadata": {
    "nbpresent": {
     "id": "a7e03bb9-f910-403a-89be-ccb580273907"
    }
   },
   "source": [
    "---\n",
    "<a id='step2'></a>\n",
    "## Step 2: Detect Dogs\n",
    "\n",
    "In this section, we use a pre-trained [ResNet-50](http://ethereon.github.io/netscope/#/gist/db945b393d40bfa26006) model to detect dogs in images.  Our first line of code downloads the ResNet-50 model, along with weights that have been trained on [ImageNet](http://www.image-net.org/), a very large, very popular dataset used for image classification and other vision tasks.  ImageNet contains over 10 million URLs, each linking to an image containing an object from one of [1000 categories](https://gist.github.com/yrevar/942d3a0ac09ec9e5eb3a).  Given an image, this pre-trained ResNet-50 model returns a prediction (derived from the available categories in ImageNet) for the object that is contained in the image."
   ]
  },
  {
   "cell_type": "code",
   "execution_count": 7,
   "metadata": {
    "collapsed": true,
    "nbpresent": {
     "id": "8a856d1b-97f7-42a3-8f4b-fb1020d47ef0"
    },
    "scrolled": false
   },
   "outputs": [],
   "source": [
    "from keras.applications.resnet50 import ResNet50\n",
    "\n",
    "# define ResNet50 model\n",
    "ResNet50_model = ResNet50(weights='imagenet')"
   ]
  },
  {
   "cell_type": "markdown",
   "metadata": {
    "nbpresent": {
     "id": "6a5d04a8-c85c-4573-8da8-1671348f5182"
    }
   },
   "source": [
    "### Pre-process the Data\n",
    "\n",
    "When using TensorFlow as backend, Keras CNNs require a 4D array (which we'll also refer to as a 4D tensor) as input, with shape\n",
    "\n",
    "$$\n",
    "(\\text{nb_samples}, \\text{rows}, \\text{columns}, \\text{channels}),\n",
    "$$\n",
    "\n",
    "where `nb_samples` corresponds to the total number of images (or samples), and `rows`, `columns`, and `channels` correspond to the number of rows, columns, and channels for each image, respectively.  \n",
    "\n",
    "The `path_to_tensor` function below takes a string-valued file path to a color image as input and returns a 4D tensor suitable for supplying to a Keras CNN.  The function first loads the image and resizes it to a square image that is $224 \\times 224$ pixels.  Next, the image is converted to an array, which is then resized to a 4D tensor.  In this case, since we are working with color images, each image has three channels.  Likewise, since we are processing a single image (or sample), the returned tensor will always have shape\n",
    "\n",
    "$$\n",
    "(1, 224, 224, 3).\n",
    "$$\n",
    "\n",
    "The `paths_to_tensor` function takes a numpy array of string-valued image paths as input and returns a 4D tensor with shape \n",
    "\n",
    "$$\n",
    "(\\text{nb_samples}, 224, 224, 3).\n",
    "$$\n",
    "\n",
    "Here, `nb_samples` is the number of samples, or number of images, in the supplied array of image paths.  It is best to think of `nb_samples` as the number of 3D tensors (where each 3D tensor corresponds to a different image) in your dataset!"
   ]
  },
  {
   "cell_type": "code",
   "execution_count": 8,
   "metadata": {
    "collapsed": true,
    "nbpresent": {
     "id": "0d5079c3-d8b4-47c0-86ea-2f30433c2556"
    },
    "scrolled": false
   },
   "outputs": [],
   "source": [
    "from keras.preprocessing import image                  \n",
    "from tqdm import tqdm\n",
    "\n",
    "def path_to_tensor(img_path):\n",
    "    # loads RGB image as PIL.Image.Image type\n",
    "    img = image.load_img(img_path, target_size=(224, 224))\n",
    "    # convert PIL.Image.Image type to 3D tensor with shape (224, 224, 3)\n",
    "    x = image.img_to_array(img)\n",
    "    # convert 3D tensor to 4D tensor with shape (1, 224, 224, 3) and return 4D tensor\n",
    "    return np.expand_dims(x, axis=0)\n",
    "\n",
    "def paths_to_tensor(img_paths):\n",
    "    list_of_tensors = [path_to_tensor(img_path) for img_path in tqdm(img_paths)]\n",
    "    return np.vstack(list_of_tensors)"
   ]
  },
  {
   "cell_type": "markdown",
   "metadata": {
    "nbpresent": {
     "id": "2f21f4bf-ca21-41b5-b2e8-177d2c85a319"
    }
   },
   "source": [
    "### Making Predictions with ResNet-50\n",
    "\n",
    "Getting the 4D tensor ready for ResNet-50, and for any other pre-trained model in Keras, requires some additional processing.  First, the RGB image is converted to BGR by reordering the channels.  All pre-trained models have the additional normalization step that the mean pixel (expressed in RGB as $[103.939, 116.779, 123.68]$ and calculated from all pixels in all images in ImageNet) must be subtracted from every pixel in each image.  This is implemented in the imported function `preprocess_input`.  If you're curious, you can check the code for `preprocess_input` [here](https://github.com/fchollet/keras/blob/master/keras/applications/imagenet_utils.py).\n",
    "\n",
    "Now that we have a way to format our image for supplying to ResNet-50, we are now ready to use the model to extract the predictions.  This is accomplished with the `predict` method, which returns an array whose $i$-th entry is the model's predicted probability that the image belongs to the $i$-th ImageNet category.  This is implemented in the `ResNet50_predict_labels` function below.\n",
    "\n",
    "By taking the argmax of the predicted probability vector, we obtain an integer corresponding to the model's predicted object class, which we can identify with an object category through the use of this [dictionary](https://gist.github.com/yrevar/942d3a0ac09ec9e5eb3a). "
   ]
  },
  {
   "cell_type": "code",
   "execution_count": 9,
   "metadata": {
    "collapsed": true,
    "nbpresent": {
     "id": "b0ec57f9-5d06-4e12-b598-3366a1bd4a53"
    },
    "scrolled": false
   },
   "outputs": [],
   "source": [
    "from keras.applications.resnet50 import preprocess_input, decode_predictions\n",
    "\n",
    "def ResNet50_predict_labels(img_path):\n",
    "    # returns prediction vector for image located at img_path\n",
    "    img = preprocess_input(path_to_tensor(img_path))\n",
    "    return np.argmax(ResNet50_model.predict(img))"
   ]
  },
  {
   "cell_type": "markdown",
   "metadata": {
    "nbpresent": {
     "id": "11f53b71-e368-45e5-a900-fd3eb2e13587"
    }
   },
   "source": [
    "### Write a Dog Detector\n",
    "\n",
    "While looking at the [dictionary](https://gist.github.com/yrevar/942d3a0ac09ec9e5eb3a), you will notice that the categories corresponding to dogs appear in an uninterrupted sequence and correspond to dictionary keys 151-268, inclusive, to include all categories from `'Chihuahua'` to `'Mexican hairless'`.  Thus, in order to check to see if an image is predicted to contain a dog by the pre-trained ResNet-50 model, we need only check if the `ResNet50_predict_labels` function above returns a value between 151 and 268 (inclusive).\n",
    "\n",
    "We use these ideas to complete the `dog_detector` function below, which returns `True` if a dog is detected in an image (and `False` if not)."
   ]
  },
  {
   "cell_type": "code",
   "execution_count": 10,
   "metadata": {
    "collapsed": true,
    "nbpresent": {
     "id": "b17f501c-85c8-48c1-8bb1-01673ef453de"
    },
    "scrolled": false
   },
   "outputs": [],
   "source": [
    "### returns \"True\" if a dog is detected in the image stored at img_path\n",
    "def dog_detector(img_path):\n",
    "    prediction = ResNet50_predict_labels(img_path)\n",
    "    return ((prediction <= 268) & (prediction >= 151)) "
   ]
  },
  {
   "cell_type": "markdown",
   "metadata": {
    "nbpresent": {
     "id": "14326f0d-2f7f-4ca0-9609-37d3d1311666"
    }
   },
   "source": [
    "### (IMPLEMENTATION) Assess the Dog Detector\n",
    "\n",
    "__Question 3:__ Use the code cell below to test the performance of your `dog_detector` function.  \n",
    "- What percentage of the images in `human_files_short` have a detected dog?  \n",
    "- What percentage of the images in `dog_files_short` have a detected dog?\n",
    "\n",
    "__Answer:__ \n",
    "0% of the first 100 human files have a detected dog. 100% of the first 100 dog files had a detected dog."
   ]
  },
  {
   "cell_type": "code",
   "execution_count": 11,
   "metadata": {
    "nbpresent": {
     "id": "40bfc0ac-b4b1-43ff-8b6f-c4094c24b437"
    },
    "scrolled": false
   },
   "outputs": [
    {
     "name": "stdout",
     "output_type": "stream",
     "text": [
      "0 dogs were detected in the first 100 human images.\n",
      "100 dogs were detected in the first 100 dog images.\n"
     ]
    }
   ],
   "source": [
    "### TODO: Test the performance of the dog_detector function\n",
    "### on the images in human_files_short and dog_files_short.\n",
    "num_human_faces = 0\n",
    "num_dog_faces = 0\n",
    "\n",
    "for x in human_files_short:\n",
    "    if dog_detector(x):\n",
    "        num_human_faces += 1\n",
    "        \n",
    "for x in dog_files_short:\n",
    "    if dog_detector(x):\n",
    "        num_dog_faces += 1\n",
    "        \n",
    "print('%d dogs were detected in the first 100 human images.' % num_human_faces)\n",
    "print('%d dogs were detected in the first 100 dog images.' % num_dog_faces)"
   ]
  },
  {
   "cell_type": "markdown",
   "metadata": {
    "nbpresent": {
     "id": "c1ae29c7-3b8b-47e1-b6cc-b3855b660fc0"
    }
   },
   "source": [
    "---\n",
    "<a id='step3'></a>\n",
    "## Step 3: Create a CNN to Classify Dog Breeds (from Scratch)\n",
    "\n",
    "Now that we have functions for detecting humans and dogs in images, we need a way to predict breed from images.  In this step, you will create a CNN that classifies dog breeds.  You must create your CNN _from scratch_ (so, you can't use transfer learning _yet_!), and you must attain a test accuracy of at least 1%.  In Step 5 of this notebook, you will have the opportunity to use transfer learning to create a CNN that attains greatly improved accuracy.\n",
    "\n",
    "Be careful with adding too many trainable layers!  More parameters means longer training, which means you are more likely to need a GPU to accelerate the training process.  Thankfully, Keras provides a handy estimate of the time that each epoch is likely to take; you can extrapolate this estimate to figure out how long it will take for your algorithm to train. \n",
    "\n",
    "We mention that the task of assigning breed to dogs from images is considered exceptionally challenging.  To see why, consider that *even a human* would have great difficulty in distinguishing between a Brittany and a Welsh Springer Spaniel.  \n",
    "\n",
    "Brittany | Welsh Springer Spaniel\n",
    "- | - \n",
    "<img src=\"images/Brittany_02625.jpg\" width=\"100\"> | <img src=\"images/Welsh_springer_spaniel_08203.jpg\" width=\"200\">\n",
    "\n",
    "It is not difficult to find other dog breed pairs with minimal inter-class variation (for instance, Curly-Coated Retrievers and American Water Spaniels).  \n",
    "\n",
    "Curly-Coated Retriever | American Water Spaniel\n",
    "- | -\n",
    "<img src=\"images/Curly-coated_retriever_03896.jpg\" width=\"200\"> | <img src=\"images/American_water_spaniel_00648.jpg\" width=\"200\">\n",
    "\n",
    "\n",
    "Likewise, recall that labradors come in yellow, chocolate, and black.  Your vision-based algorithm will have to conquer this high intra-class variation to determine how to classify all of these different shades as the same breed.  \n",
    "\n",
    "Yellow Labrador | Chocolate Labrador | Black Labrador\n",
    "- | -\n",
    "<img src=\"images/Labrador_retriever_06457.jpg\" width=\"150\"> | <img src=\"images/Labrador_retriever_06455.jpg\" width=\"240\"> | <img src=\"images/Labrador_retriever_06449.jpg\" width=\"220\">\n",
    "\n",
    "We also mention that random chance presents an exceptionally low bar: setting aside the fact that the classes are slightly imabalanced, a random guess will provide a correct answer roughly 1 in 133 times, which corresponds to an accuracy of less than 1%.  \n",
    "\n",
    "Remember that the practice is far ahead of the theory in deep learning.  Experiment with many different architectures, and trust your intuition.  And, of course, have fun! \n",
    "\n",
    "### Pre-process the Data\n",
    "\n",
    "We rescale the images by dividing every pixel in every image by 255."
   ]
  },
  {
   "cell_type": "code",
   "execution_count": 12,
   "metadata": {
    "nbpresent": {
     "id": "5aded55d-a7be-4955-9622-3a8c84f13340"
    },
    "scrolled": false
   },
   "outputs": [
    {
     "name": "stderr",
     "output_type": "stream",
     "text": [
      "100%|██████████| 6680/6680 [00:54<00:00, 123.12it/s]\n",
      "100%|██████████| 835/835 [00:06<00:00, 137.52it/s]\n",
      "100%|██████████| 836/836 [00:06<00:00, 138.20it/s]\n"
     ]
    }
   ],
   "source": [
    "from PIL import ImageFile                            \n",
    "ImageFile.LOAD_TRUNCATED_IMAGES = True                 \n",
    "\n",
    "# pre-process the data for Keras\n",
    "train_tensors = paths_to_tensor(train_files).astype('float32')/255\n",
    "valid_tensors = paths_to_tensor(valid_files).astype('float32')/255\n",
    "test_tensors = paths_to_tensor(test_files).astype('float32')/255"
   ]
  },
  {
   "cell_type": "markdown",
   "metadata": {
    "nbpresent": {
     "id": "76dd4630-e672-44fc-b2c9-694de96229be"
    }
   },
   "source": [
    "### (IMPLEMENTATION) Model Architecture\n",
    "\n",
    "Create a CNN to classify dog breed.  At the end of your code cell block, summarize the layers of your model by executing the line:\n",
    "    \n",
    "        model.summary()\n",
    "\n",
    "We have imported some Python modules to get you started, but feel free to import as many modules as you need.  If you end up getting stuck, here's a hint that specifies a model that trains relatively fast on CPU and attains >1% test accuracy in 5 epochs:\n",
    "\n",
    "![Sample CNN](images/sample_cnn.png)\n",
    "           \n",
    "__Question 4:__ Outline the steps you took to get to your final CNN architecture and your reasoning at each step.  If you chose to use the hinted architecture above, describe why you think that CNN architecture should work well for the image classification task.\n",
    "\n",
    "__Answer:__\n",
    "\n",
    "I tried the base model that is recommended in the image above and got approximately 2.5% accuracy, so I decided to experiment with other methods.\n",
    "\n",
    "Based on the lecture information and research into common CCN architectures, I found that a repeated set of convolution and pooling followed by fully connected layers is the recommended layering pattern. I choose to do three blocks of CONV RELU POOl with the last CONV layer having 2 additional pooling layers in order to reduce the dimensionality of the data.\n",
    "\n",
    "My choice of parameters in the CONV layers was aimed at trying to keep the training time within a realistic range, so I started with 16 filters and doubled it for each CONV layer. 2x2 and 3x3 sized filters are the most common in the research I read, so I selected the 3x3 arbitrarily. Padding='same' was chosen so that the output size of each layer wouldn't change.\n",
    "\n",
    "After the CONV blocks, the data is sent to a Flattening layer (which was recommended in the keras blog to reduce the data from 3-d feature maps to 1-d feature vectors) and then passed to a dense layer with 50% dropout and a final dense layer for class prediction. The dropout was chosen to reduce overfitting. The number of nodes on the first dense layer was set mostly to speed up processing time.\n",
    "\n",
    "This architecture achieves approximately 13% accuracy with 5 epochs."
   ]
  },
  {
   "cell_type": "code",
   "execution_count": 13,
   "metadata": {
    "nbpresent": {
     "id": "e3421c6c-f71c-4a21-9c46-2e1485e97d36"
    },
    "scrolled": false
   },
   "outputs": [
    {
     "name": "stdout",
     "output_type": "stream",
     "text": [
      "_________________________________________________________________\n",
      "Layer (type)                 Output Shape              Param #   \n",
      "=================================================================\n",
      "conv2d_1 (Conv2D)            (None, 224, 224, 16)      448       \n",
      "_________________________________________________________________\n",
      "activation_50 (Activation)   (None, 224, 224, 16)      0         \n",
      "_________________________________________________________________\n",
      "max_pooling2d_2 (MaxPooling2 (None, 112, 112, 16)      0         \n",
      "_________________________________________________________________\n",
      "conv2d_2 (Conv2D)            (None, 112, 112, 32)      4640      \n",
      "_________________________________________________________________\n",
      "activation_51 (Activation)   (None, 112, 112, 32)      0         \n",
      "_________________________________________________________________\n",
      "max_pooling2d_3 (MaxPooling2 (None, 56, 56, 32)        0         \n",
      "_________________________________________________________________\n",
      "conv2d_3 (Conv2D)            (None, 56, 56, 64)        18496     \n",
      "_________________________________________________________________\n",
      "activation_52 (Activation)   (None, 56, 56, 64)        0         \n",
      "_________________________________________________________________\n",
      "max_pooling2d_4 (MaxPooling2 (None, 28, 28, 64)        0         \n",
      "_________________________________________________________________\n",
      "max_pooling2d_5 (MaxPooling2 (None, 14, 14, 64)        0         \n",
      "_________________________________________________________________\n",
      "max_pooling2d_6 (MaxPooling2 (None, 7, 7, 64)          0         \n",
      "_________________________________________________________________\n",
      "flatten_2 (Flatten)          (None, 3136)              0         \n",
      "_________________________________________________________________\n",
      "dense_1 (Dense)              (None, 512)               1606144   \n",
      "_________________________________________________________________\n",
      "activation_53 (Activation)   (None, 512)               0         \n",
      "_________________________________________________________________\n",
      "dropout_1 (Dropout)          (None, 512)               0         \n",
      "_________________________________________________________________\n",
      "dense_2 (Dense)              (None, 133)               68229     \n",
      "=================================================================\n",
      "Total params: 1,697,957.0\n",
      "Trainable params: 1,697,957.0\n",
      "Non-trainable params: 0.0\n",
      "_________________________________________________________________\n"
     ]
    }
   ],
   "source": [
    "from keras.layers import Conv2D, MaxPooling2D, GlobalAveragePooling2D\n",
    "from keras.layers import Dropout, Flatten, Dense, Activation\n",
    "from keras.models import Sequential\n",
    "\n",
    "model = Sequential()\n",
    "\n",
    "### TODO: Define your architecture.\n",
    "\n",
    "model.add(Conv2D(16, (3,3), padding='same', input_shape=(224, 224, 3)))\n",
    "model.add(Activation('relu'))\n",
    "model.add(MaxPooling2D(pool_size=2))\n",
    "model.add(Conv2D(32, (3,3), padding='same'))\n",
    "model.add(Activation('relu'))\n",
    "model.add(MaxPooling2D(pool_size=2))\n",
    "model.add(Conv2D(64, (3,3), padding='same'))\n",
    "model.add(Activation('relu'))\n",
    "model.add(MaxPooling2D(pool_size=2))\n",
    "model.add(MaxPooling2D(pool_size=2))\n",
    "model.add(MaxPooling2D(pool_size=2))\n",
    "model.add(Flatten())\n",
    "model.add(Dense(512))\n",
    "model.add(Activation('relu'))\n",
    "model.add(Dropout(0.5))\n",
    "model.add(Dense(133, activation='softmax'))\n",
    "\n",
    "model.summary()"
   ]
  },
  {
   "cell_type": "markdown",
   "metadata": {
    "nbpresent": {
     "id": "d1cab638-b77b-4d26-ac61-2d085f8b7d9b"
    }
   },
   "source": [
    "### Compile the Model"
   ]
  },
  {
   "cell_type": "code",
   "execution_count": 14,
   "metadata": {
    "collapsed": true,
    "nbpresent": {
     "id": "96880e8c-d72e-49f9-8cde-132a57731919"
    },
    "scrolled": false
   },
   "outputs": [],
   "source": [
    "model.compile(optimizer='rmsprop', loss='categorical_crossentropy', metrics=['accuracy'])"
   ]
  },
  {
   "cell_type": "markdown",
   "metadata": {
    "nbpresent": {
     "id": "5b6391e4-183c-4e6f-b556-073ea09dadf7"
    }
   },
   "source": [
    "### (IMPLEMENTATION) Train the Model\n",
    "\n",
    "Train your model in the code cell below.  Use model checkpointing to save the model that attains the best validation loss.\n",
    "\n",
    "You are welcome to [augment the training data](https://blog.keras.io/building-powerful-image-classification-models-using-very-little-data.html), but this is not a requirement. "
   ]
  },
  {
   "cell_type": "code",
   "execution_count": 15,
   "metadata": {
    "nbpresent": {
     "id": "8a6b0228-99a0-4c33-b0ce-535c5b56102d"
    },
    "scrolled": false
   },
   "outputs": [
    {
     "name": "stdout",
     "output_type": "stream",
     "text": [
      "Train on 6680 samples, validate on 835 samples\n",
      "Epoch 1/5\n",
      "6660/6680 [============================>.] - ETA: 1s - loss: 4.8387 - acc: 0.0141Epoch 00000: val_loss improved from inf to 4.69595, saving model to saved_models/weights.best.from_scratch.hdf5\n",
      "6680/6680 [==============================] - 371s - loss: 4.8382 - acc: 0.0141 - val_loss: 4.6959 - val_acc: 0.0240\n",
      "Epoch 2/5\n",
      "6660/6680 [============================>.] - ETA: 1s - loss: 4.4943 - acc: 0.0459Epoch 00001: val_loss improved from 4.69595 to 4.27469, saving model to saved_models/weights.best.from_scratch.hdf5\n",
      "6680/6680 [==============================] - 372s - loss: 4.4928 - acc: 0.0461 - val_loss: 4.2747 - val_acc: 0.0539\n",
      "Epoch 3/5\n",
      "6660/6680 [============================>.] - ETA: 1s - loss: 4.1409 - acc: 0.0754Epoch 00002: val_loss improved from 4.27469 to 4.05896, saving model to saved_models/weights.best.from_scratch.hdf5\n",
      "6680/6680 [==============================] - 374s - loss: 4.1404 - acc: 0.0753 - val_loss: 4.0590 - val_acc: 0.0934\n",
      "Epoch 4/5\n",
      "6660/6680 [============================>.] - ETA: 1s - loss: 3.8945 - acc: 0.1078Epoch 00003: val_loss improved from 4.05896 to 3.95080, saving model to saved_models/weights.best.from_scratch.hdf5\n",
      "6680/6680 [==============================] - 375s - loss: 3.8950 - acc: 0.1078 - val_loss: 3.9508 - val_acc: 0.1090\n",
      "Epoch 5/5\n",
      "6660/6680 [============================>.] - ETA: 1s - loss: 3.6467 - acc: 0.1498Epoch 00004: val_loss improved from 3.95080 to 3.92367, saving model to saved_models/weights.best.from_scratch.hdf5\n",
      "6680/6680 [==============================] - 375s - loss: 3.6462 - acc: 0.1500 - val_loss: 3.9237 - val_acc: 0.1090\n"
     ]
    },
    {
     "data": {
      "text/plain": [
       "<keras.callbacks.History at 0x7f8af185cc18>"
      ]
     },
     "execution_count": 15,
     "metadata": {},
     "output_type": "execute_result"
    }
   ],
   "source": [
    "from keras.callbacks import ModelCheckpoint  \n",
    "\n",
    "### TODO: specify the number of epochs that you would like to use to train the model.\n",
    "\n",
    "epochs = 5\n",
    "\n",
    "### Do NOT modify the code below this line.\n",
    "\n",
    "checkpointer = ModelCheckpoint(filepath='saved_models/weights.best.from_scratch.hdf5', \n",
    "                               verbose=1, save_best_only=True)\n",
    "\n",
    "model.fit(train_tensors, train_targets, \n",
    "          validation_data=(valid_tensors, valid_targets),\n",
    "          epochs=epochs, batch_size=20, callbacks=[checkpointer], verbose=1)"
   ]
  },
  {
   "cell_type": "markdown",
   "metadata": {
    "nbpresent": {
     "id": "298d0910-21a9-4261-962c-ee93bb6ac592"
    }
   },
   "source": [
    "### Load the Model with the Best Validation Loss"
   ]
  },
  {
   "cell_type": "code",
   "execution_count": 16,
   "metadata": {
    "collapsed": true,
    "nbpresent": {
     "id": "6a23eac4-242b-4e8e-9d94-ef7fe32824cb"
    },
    "scrolled": false
   },
   "outputs": [],
   "source": [
    "model.load_weights('saved_models/weights.best.from_scratch.hdf5')"
   ]
  },
  {
   "cell_type": "markdown",
   "metadata": {
    "nbpresent": {
     "id": "1d337b93-57f5-498c-8ba2-fc350be7eae8"
    }
   },
   "source": [
    "### Test the Model\n",
    "\n",
    "Try out your model on the test dataset of dog images.  Ensure that your test accuracy is greater than 1%."
   ]
  },
  {
   "cell_type": "code",
   "execution_count": 17,
   "metadata": {
    "nbpresent": {
     "id": "617cc09a-6a6f-4746-8e28-d9c627135a64"
    },
    "scrolled": false
   },
   "outputs": [
    {
     "name": "stdout",
     "output_type": "stream",
     "text": [
      "Test accuracy: 13.2775%\n"
     ]
    }
   ],
   "source": [
    "# get index of predicted dog breed for each image in test set\n",
    "dog_breed_predictions = [np.argmax(model.predict(np.expand_dims(tensor, axis=0))) for tensor in test_tensors]\n",
    "\n",
    "# report test accuracy\n",
    "test_accuracy = 100*np.sum(np.array(dog_breed_predictions)==np.argmax(test_targets, axis=1))/len(dog_breed_predictions)\n",
    "print('Test accuracy: %.4f%%' % test_accuracy)"
   ]
  },
  {
   "cell_type": "markdown",
   "metadata": {
    "nbpresent": {
     "id": "a0e528df-c5d3-4f4f-ac21-22c6cd102e56"
    }
   },
   "source": [
    "---\n",
    "<a id='step4'></a>\n",
    "## Step 4: Use a CNN to Classify Dog Breeds\n",
    "\n",
    "To reduce training time without sacrificing accuracy, we show you how to train a CNN using transfer learning.  In the following step, you will get a chance to use transfer learning to train your own CNN.\n",
    "\n",
    "### Obtain Bottleneck Features"
   ]
  },
  {
   "cell_type": "code",
   "execution_count": 18,
   "metadata": {
    "collapsed": true,
    "nbpresent": {
     "id": "c71e9ce4-4a39-4979-b695-dfbcf05e465a"
    },
    "scrolled": false
   },
   "outputs": [],
   "source": [
    "bottleneck_features = np.load('bottleneck_features/DogVGG16Data.npz')\n",
    "train_VGG16 = bottleneck_features['train']\n",
    "valid_VGG16 = bottleneck_features['valid']\n",
    "test_VGG16 = bottleneck_features['test']"
   ]
  },
  {
   "cell_type": "markdown",
   "metadata": {
    "nbpresent": {
     "id": "4dcd32d1-22c0-4c4c-a175-18dbd73de3ca"
    }
   },
   "source": [
    "### Model Architecture\n",
    "\n",
    "The model uses the the pre-trained VGG-16 model as a fixed feature extractor, where the last convolutional output of VGG-16 is fed as input to our model.  We only add a global average pooling layer and a fully connected layer, where the latter contains one node for each dog category and is equipped with a softmax."
   ]
  },
  {
   "cell_type": "code",
   "execution_count": 19,
   "metadata": {
    "nbpresent": {
     "id": "6369770f-aac6-4921-80e6-947191449268"
    },
    "scrolled": false
   },
   "outputs": [
    {
     "name": "stdout",
     "output_type": "stream",
     "text": [
      "_________________________________________________________________\n",
      "Layer (type)                 Output Shape              Param #   \n",
      "=================================================================\n",
      "global_average_pooling2d_1 ( (None, 512)               0         \n",
      "_________________________________________________________________\n",
      "dense_3 (Dense)              (None, 133)               68229     \n",
      "=================================================================\n",
      "Total params: 68,229.0\n",
      "Trainable params: 68,229.0\n",
      "Non-trainable params: 0.0\n",
      "_________________________________________________________________\n"
     ]
    }
   ],
   "source": [
    "VGG16_model = Sequential()\n",
    "VGG16_model.add(GlobalAveragePooling2D(input_shape=train_VGG16.shape[1:]))\n",
    "VGG16_model.add(Dense(133, activation='softmax'))\n",
    "\n",
    "VGG16_model.summary()"
   ]
  },
  {
   "cell_type": "markdown",
   "metadata": {
    "nbpresent": {
     "id": "c792a73e-81cc-475e-be24-8f429a75b5b3"
    }
   },
   "source": [
    "### Compile the Model"
   ]
  },
  {
   "cell_type": "code",
   "execution_count": 20,
   "metadata": {
    "collapsed": true,
    "nbpresent": {
     "id": "d6ff3093-83d7-4596-a317-0eb378733877"
    },
    "scrolled": false
   },
   "outputs": [],
   "source": [
    "VGG16_model.compile(loss='categorical_crossentropy', optimizer='rmsprop', metrics=['accuracy'])"
   ]
  },
  {
   "cell_type": "markdown",
   "metadata": {
    "nbpresent": {
     "id": "68a866d5-b1dd-4fd1-a515-1fcf15c15172"
    }
   },
   "source": [
    "### Train the Model"
   ]
  },
  {
   "cell_type": "code",
   "execution_count": 21,
   "metadata": {
    "nbpresent": {
     "id": "f9d05385-5750-493f-a8a6-676a2a2a29f5"
    },
    "scrolled": true
   },
   "outputs": [
    {
     "name": "stdout",
     "output_type": "stream",
     "text": [
      "Train on 6680 samples, validate on 835 samples\n",
      "Epoch 1/20\n",
      "6400/6680 [===========================>..] - ETA: 0s - loss: 11.9445 - acc: 0.1336Epoch 00000: val_loss improved from inf to 10.46697, saving model to saved_models/weights.best.VGG16.hdf5\n",
      "6680/6680 [==============================] - 1s - loss: 11.8859 - acc: 0.1371 - val_loss: 10.4670 - val_acc: 0.2347\n",
      "Epoch 2/20\n",
      "6420/6680 [===========================>..] - ETA: 0s - loss: 9.9581 - acc: 0.2958Epoch 00001: val_loss improved from 10.46697 to 10.04209, saving model to saved_models/weights.best.VGG16.hdf5\n",
      "6680/6680 [==============================] - 1s - loss: 9.9733 - acc: 0.2960 - val_loss: 10.0421 - val_acc: 0.2970\n",
      "Epoch 3/20\n",
      "6600/6680 [============================>.] - ETA: 0s - loss: 9.5659 - acc: 0.3506Epoch 00002: val_loss improved from 10.04209 to 9.89794, saving model to saved_models/weights.best.VGG16.hdf5\n",
      "6680/6680 [==============================] - 1s - loss: 9.5755 - acc: 0.3501 - val_loss: 9.8979 - val_acc: 0.3150\n",
      "Epoch 4/20\n",
      "6620/6680 [============================>.] - ETA: 0s - loss: 9.3682 - acc: 0.3767Epoch 00003: val_loss improved from 9.89794 to 9.72437, saving model to saved_models/weights.best.VGG16.hdf5\n",
      "6680/6680 [==============================] - 1s - loss: 9.3525 - acc: 0.3777 - val_loss: 9.7244 - val_acc: 0.3210\n",
      "Epoch 5/20\n",
      "6500/6680 [============================>.] - ETA: 0s - loss: 9.2127 - acc: 0.3969Epoch 00004: val_loss improved from 9.72437 to 9.61567, saving model to saved_models/weights.best.VGG16.hdf5\n",
      "6680/6680 [==============================] - 1s - loss: 9.2015 - acc: 0.3975 - val_loss: 9.6157 - val_acc: 0.3437\n",
      "Epoch 6/20\n",
      "6500/6680 [============================>.] - ETA: 0s - loss: 9.0432 - acc: 0.4134Epoch 00005: val_loss improved from 9.61567 to 9.58766, saving model to saved_models/weights.best.VGG16.hdf5\n",
      "6680/6680 [==============================] - 1s - loss: 9.0557 - acc: 0.4130 - val_loss: 9.5877 - val_acc: 0.3485\n",
      "Epoch 7/20\n",
      "6480/6680 [============================>.] - ETA: 0s - loss: 8.9906 - acc: 0.4247Epoch 00006: val_loss did not improve\n",
      "6680/6680 [==============================] - 1s - loss: 8.9870 - acc: 0.4251 - val_loss: 9.5931 - val_acc: 0.3449\n",
      "Epoch 8/20\n",
      "6600/6680 [============================>.] - ETA: 0s - loss: 8.8968 - acc: 0.4326Epoch 00007: val_loss improved from 9.58766 to 9.47255, saving model to saved_models/weights.best.VGG16.hdf5\n",
      "6680/6680 [==============================] - 1s - loss: 8.9255 - acc: 0.4310 - val_loss: 9.4726 - val_acc: 0.3485\n",
      "Epoch 9/20\n",
      "6440/6680 [===========================>..] - ETA: 0s - loss: 8.8072 - acc: 0.4411Epoch 00008: val_loss improved from 9.47255 to 9.40026, saving model to saved_models/weights.best.VGG16.hdf5\n",
      "6680/6680 [==============================] - 1s - loss: 8.8183 - acc: 0.4404 - val_loss: 9.4003 - val_acc: 0.3641\n",
      "Epoch 10/20\n",
      "6540/6680 [============================>.] - ETA: 0s - loss: 8.7804 - acc: 0.4454Epoch 00009: val_loss did not improve\n",
      "6680/6680 [==============================] - 1s - loss: 8.7802 - acc: 0.4454 - val_loss: 9.4708 - val_acc: 0.3593\n",
      "Epoch 11/20\n",
      "6580/6680 [============================>.] - ETA: 0s - loss: 8.6742 - acc: 0.4468Epoch 00010: val_loss improved from 9.40026 to 9.32106, saving model to saved_models/weights.best.VGG16.hdf5\n",
      "6680/6680 [==============================] - 1s - loss: 8.6633 - acc: 0.4472 - val_loss: 9.3211 - val_acc: 0.3605\n",
      "Epoch 12/20\n",
      "6560/6680 [============================>.] - ETA: 0s - loss: 8.4953 - acc: 0.4623Epoch 00011: val_loss improved from 9.32106 to 9.15668, saving model to saved_models/weights.best.VGG16.hdf5\n",
      "6680/6680 [==============================] - 1s - loss: 8.4941 - acc: 0.4624 - val_loss: 9.1567 - val_acc: 0.3749\n",
      "Epoch 13/20\n",
      "6620/6680 [============================>.] - ETA: 0s - loss: 8.4277 - acc: 0.4686Epoch 00012: val_loss improved from 9.15668 to 9.12534, saving model to saved_models/weights.best.VGG16.hdf5\n",
      "6680/6680 [==============================] - 1s - loss: 8.4480 - acc: 0.4674 - val_loss: 9.1253 - val_acc: 0.3749\n",
      "Epoch 14/20\n",
      "6520/6680 [============================>.] - ETA: 0s - loss: 8.3472 - acc: 0.4727Epoch 00013: val_loss improved from 9.12534 to 8.92231, saving model to saved_models/weights.best.VGG16.hdf5\n",
      "6680/6680 [==============================] - 1s - loss: 8.3307 - acc: 0.4737 - val_loss: 8.9223 - val_acc: 0.3892\n",
      "Epoch 15/20\n",
      "6620/6680 [============================>.] - ETA: 0s - loss: 8.2496 - acc: 0.4796Epoch 00014: val_loss did not improve\n",
      "6680/6680 [==============================] - 1s - loss: 8.2601 - acc: 0.4789 - val_loss: 9.0062 - val_acc: 0.3784\n",
      "Epoch 16/20\n",
      "6540/6680 [============================>.] - ETA: 0s - loss: 8.1269 - acc: 0.4818Epoch 00015: val_loss improved from 8.92231 to 8.84494, saving model to saved_models/weights.best.VGG16.hdf5\n",
      "6680/6680 [==============================] - 1s - loss: 8.1414 - acc: 0.4808 - val_loss: 8.8449 - val_acc: 0.3904\n",
      "Epoch 17/20\n",
      "6440/6680 [===========================>..] - ETA: 0s - loss: 8.0570 - acc: 0.4908Epoch 00016: val_loss improved from 8.84494 to 8.79727, saving model to saved_models/weights.best.VGG16.hdf5\n",
      "6680/6680 [==============================] - 1s - loss: 8.0411 - acc: 0.4918 - val_loss: 8.7973 - val_acc: 0.3844\n",
      "Epoch 18/20\n",
      "6520/6680 [============================>.] - ETA: 0s - loss: 7.9938 - acc: 0.4963Epoch 00017: val_loss improved from 8.79727 to 8.79224, saving model to saved_models/weights.best.VGG16.hdf5\n",
      "6680/6680 [==============================] - 1s - loss: 8.0195 - acc: 0.4949 - val_loss: 8.7922 - val_acc: 0.3916\n",
      "Epoch 19/20\n",
      "6560/6680 [============================>.] - ETA: 0s - loss: 8.0135 - acc: 0.4968Epoch 00018: val_loss did not improve\n",
      "6680/6680 [==============================] - 1s - loss: 8.0032 - acc: 0.4975 - val_loss: 8.9006 - val_acc: 0.3904\n",
      "Epoch 20/20\n",
      "6540/6680 [============================>.] - ETA: 0s - loss: 7.9349 - acc: 0.4995Epoch 00019: val_loss improved from 8.79224 to 8.66626, saving model to saved_models/weights.best.VGG16.hdf5\n",
      "6680/6680 [==============================] - 1s - loss: 7.9254 - acc: 0.4999 - val_loss: 8.6663 - val_acc: 0.3988\n"
     ]
    },
    {
     "data": {
      "text/plain": [
       "<keras.callbacks.History at 0x7f8af05f7c88>"
      ]
     },
     "execution_count": 21,
     "metadata": {},
     "output_type": "execute_result"
    }
   ],
   "source": [
    "checkpointer = ModelCheckpoint(filepath='saved_models/weights.best.VGG16.hdf5', \n",
    "                               verbose=1, save_best_only=True)\n",
    "\n",
    "VGG16_model.fit(train_VGG16, train_targets, \n",
    "          validation_data=(valid_VGG16, valid_targets),\n",
    "          epochs=20, batch_size=20, callbacks=[checkpointer], verbose=1)"
   ]
  },
  {
   "cell_type": "markdown",
   "metadata": {
    "nbpresent": {
     "id": "8ce78060-7823-4180-b1de-7480070928cc"
    }
   },
   "source": [
    "### Load the Model with the Best Validation Loss"
   ]
  },
  {
   "cell_type": "code",
   "execution_count": 22,
   "metadata": {
    "collapsed": true,
    "nbpresent": {
     "id": "93e6e66b-1c4d-4078-b5b5-5f20c4a6d696"
    },
    "scrolled": false
   },
   "outputs": [],
   "source": [
    "VGG16_model.load_weights('saved_models/weights.best.VGG16.hdf5')"
   ]
  },
  {
   "cell_type": "markdown",
   "metadata": {
    "nbpresent": {
     "id": "5a55d640-1bda-43cb-926c-3cfcd7c461c4"
    }
   },
   "source": [
    "### Test the Model\n",
    "\n",
    "Now, we can use the CNN to test how well it identifies breed within our test dataset of dog images.  We print the test accuracy below."
   ]
  },
  {
   "cell_type": "code",
   "execution_count": 23,
   "metadata": {
    "nbpresent": {
     "id": "4a10d074-285c-41c8-9878-4b0ddba05d03"
    },
    "scrolled": false
   },
   "outputs": [
    {
     "name": "stdout",
     "output_type": "stream",
     "text": [
      "Test accuracy: 41.8660%\n"
     ]
    }
   ],
   "source": [
    "# get index of predicted dog breed for each image in test set\n",
    "VGG16_predictions = [np.argmax(VGG16_model.predict(np.expand_dims(feature, axis=0))) for feature in test_VGG16]\n",
    "\n",
    "# report test accuracy\n",
    "test_accuracy = 100*np.sum(np.array(VGG16_predictions)==np.argmax(test_targets, axis=1))/len(VGG16_predictions)\n",
    "print('Test accuracy: %.4f%%' % test_accuracy)"
   ]
  },
  {
   "cell_type": "markdown",
   "metadata": {
    "nbpresent": {
     "id": "29c791f6-bf10-4a84-9230-8e73ce1e5d56"
    }
   },
   "source": [
    "### Predict Dog Breed with the Model"
   ]
  },
  {
   "cell_type": "code",
   "execution_count": 24,
   "metadata": {
    "collapsed": true,
    "nbpresent": {
     "id": "9e57ec93-eaa0-4f5a-803f-fb2c3cc34496"
    },
    "scrolled": false
   },
   "outputs": [],
   "source": [
    "from extract_bottleneck_features import *\n",
    "\n",
    "def VGG16_predict_breed(img_path):\n",
    "    # extract bottleneck features\n",
    "    bottleneck_feature = extract_VGG16(path_to_tensor(img_path))\n",
    "    # obtain predicted vector\n",
    "    predicted_vector = VGG16_model.predict(bottleneck_feature)\n",
    "    # return dog breed that is predicted by the model\n",
    "    return dog_names[np.argmax(predicted_vector)]"
   ]
  },
  {
   "cell_type": "markdown",
   "metadata": {
    "nbpresent": {
     "id": "285d10bf-cef5-4093-9e21-808a09f3fceb"
    }
   },
   "source": [
    "---\n",
    "<a id='step5'></a>\n",
    "## Step 5: Create a CNN to Classify Dog Breeds (using Transfer Learning)\n",
    "\n",
    "You will now use transfer learning to create a CNN that can identify dog breed from images.  Your CNN must attain at least 60% accuracy on the test set.\n",
    "\n",
    "In Step 4, we used transfer learning to create a CNN using VGG-16 bottleneck features.  In this section, you must use the bottleneck features from a different pre-trained model.  To make things easier for you, we have pre-computed the features for all of the networks that are currently available in Keras:\n",
    "- [VGG-19](https://s3-us-west-1.amazonaws.com/udacity-aind/dog-project/DogVGG19Data.npz) bottleneck features\n",
    "- [ResNet-50](https://s3-us-west-1.amazonaws.com/udacity-aind/dog-project/DogResnet50Data.npz) bottleneck features\n",
    "- [Inception](https://s3-us-west-1.amazonaws.com/udacity-aind/dog-project/DogInceptionV3Data.npz) bottleneck features\n",
    "- [Xception](https://s3-us-west-1.amazonaws.com/udacity-aind/dog-project/DogXceptionData.npz) bottleneck features\n",
    "\n",
    "The files are encoded as such:\n",
    "\n",
    "    Dog{network}Data.npz\n",
    "    \n",
    "where `{network}`, in the above filename, can be one of `VGG19`, `Resnet50`, `InceptionV3`, or `Xception`.  Pick one of the above architectures, download the corresponding bottleneck features, and store the downloaded file in the `bottleneck_features/` folder in the repository.\n",
    "\n",
    "### (IMPLEMENTATION) Obtain Bottleneck Features\n",
    "\n",
    "In the code block below, extract the bottleneck features corresponding to the train, test, and validation sets by running the following:\n",
    "\n",
    "    bottleneck_features = np.load('bottleneck_features/Dog{network}Data.npz')\n",
    "    train_{network} = bottleneck_features['train']\n",
    "    valid_{network} = bottleneck_features['valid']\n",
    "    test_{network} = bottleneck_features['test']"
   ]
  },
  {
   "cell_type": "code",
   "execution_count": 25,
   "metadata": {
    "collapsed": true,
    "nbpresent": {
     "id": "efa4dcdf-25c5-4f39-b482-2b20c04bd396"
    },
    "scrolled": false
   },
   "outputs": [],
   "source": [
    "### TODO: Obtain bottleneck features from another pre-trained CNN.\n",
    "bottleneck_features = np.load('bottleneck_features/DogVGG19Data.npz')\n",
    "train_VGG19 = bottleneck_features['train']\n",
    "valid_VGG19 = bottleneck_features['valid']\n",
    "test_VGG19 = bottleneck_features['test']"
   ]
  },
  {
   "cell_type": "markdown",
   "metadata": {
    "nbpresent": {
     "id": "69c0df3d-d0f3-4020-8c67-40a24bd8e97b"
    }
   },
   "source": [
    "### (IMPLEMENTATION) Model Architecture\n",
    "\n",
    "Create a CNN to classify dog breed.  At the end of your code cell block, summarize the layers of your model by executing the line:\n",
    "    \n",
    "        <your model's name>.summary()\n",
    "   \n",
    "__Question 5:__ Outline the steps you took to get to your final CNN architecture and your reasoning at each step.  Describe why you think the architecture is suitable for the current problem.\n",
    "\n",
    "__Answer:__ \n",
    "\n",
    "I used a lot of trial and error to select the transfer model and the layers and parameters for my final model. I tried the VGG19, Resnet50, and Inception models, all of which feed into my first layer, which is a GAP2D layer. I also tried a flatten layer for the input, but that scored lower than the GAP, so I reverted back to the GAP.\n",
    "\n",
    "Below the GAP I placed a dense layer with 50% dropout to help alleviate overfitting. The number of nodes selected at that layer ranged from 256 up to 2048. My best results were achieved with 512 nodes. I tried dropout rates from 40% to 75%. 50% seemed the most consistent. The last layer consists of a fully connected dense layer used to perform the softmax predictions.\n",
    "\n",
    "The suggestion in the keras blog article (that is linked to from this project) to change the optimizer to SGD with a slow learner rate made a noticeable difference in the accuracy score. I tried different learner rates, but settled on the number suggested in the article since it produced slightly better results.\n",
    "\n",
    "I experimented with adding more dense layers of varying node sizes with varying dropout rates, but didn't manage to increase accuracy. The final model that I selected uses GAP for input from the Resnet50 and 2 FC layers. It trains in around 2 seconds per epoch on an AWS GPU instance. I selected 500 epochs since the training time was short.\n",
    "\n",
    "Several models are depicted below, with the final model displayed in code cells 35 and 36 of the notebook.\n",
    "\n",
    "This architecture works better than the one depicted in step 4 becuase the addition of another fully connected layer helps to establish more meaning or relevance for the patterns coming in from the pretrained transfer model. Also, the other transfer models are probably more effective than the VGG16 used in step4, with everything else held equal.\n",
    "\n"
   ]
  },
  {
   "cell_type": "code",
   "execution_count": 26,
   "metadata": {
    "nbpresent": {
     "id": "eb16b6c2-d84d-4b5c-b7fa-1fb637df84d9"
    },
    "scrolled": false
   },
   "outputs": [
    {
     "name": "stdout",
     "output_type": "stream",
     "text": [
      "_________________________________________________________________\n",
      "Layer (type)                 Output Shape              Param #   \n",
      "=================================================================\n",
      "global_average_pooling2d_2 ( (None, 512)               0         \n",
      "_________________________________________________________________\n",
      "dense_4 (Dense)              (None, 512)               262656    \n",
      "_________________________________________________________________\n",
      "dropout_2 (Dropout)          (None, 512)               0         \n",
      "_________________________________________________________________\n",
      "dense_5 (Dense)              (None, 133)               68229     \n",
      "=================================================================\n",
      "Total params: 330,885.0\n",
      "Trainable params: 330,885.0\n",
      "Non-trainable params: 0.0\n",
      "_________________________________________________________________\n"
     ]
    }
   ],
   "source": [
    "### TODO: Define your architecture.\n",
    "VGG19_model = Sequential()\n",
    "VGG19_model.add(GlobalAveragePooling2D(input_shape=train_VGG19.shape[1:]))\n",
    "VGG19_model.add(Dense(512, activation='relu'))\n",
    "VGG19_model.add(Dropout(0.5))\n",
    "VGG19_model.add(Dense(133, activation='softmax'))\n",
    "\n",
    "VGG19_model.summary()"
   ]
  },
  {
   "cell_type": "markdown",
   "metadata": {
    "nbpresent": {
     "id": "fe9034c9-227f-4ec2-8e1a-2201ed102401"
    }
   },
   "source": [
    "### (IMPLEMENTATION) Compile the Model"
   ]
  },
  {
   "cell_type": "code",
   "execution_count": 27,
   "metadata": {
    "collapsed": true,
    "nbpresent": {
     "id": "bb35f6e3-d2c1-4e70-ba54-938ee9eaefe1"
    },
    "scrolled": false
   },
   "outputs": [],
   "source": [
    "### TODO: Compile the model.\n",
    "from keras import optimizers\n",
    "VGG19_model.compile(loss='categorical_crossentropy', optimizer=optimizers.SGD(lr=1e-4, momentum=0.9), metrics=['accuracy'])"
   ]
  },
  {
   "cell_type": "markdown",
   "metadata": {
    "nbpresent": {
     "id": "bbc8a30c-aa10-4579-973f-f991c9014dc4"
    }
   },
   "source": [
    "### (IMPLEMENTATION) Train the Model\n",
    "\n",
    "Train your model in the code cell below.  Use model checkpointing to save the model that attains the best validation loss.  \n",
    "\n",
    "You are welcome to [augment the training data](https://blog.keras.io/building-powerful-image-classification-models-using-very-little-data.html), but this is not a requirement. "
   ]
  },
  {
   "cell_type": "code",
   "execution_count": 28,
   "metadata": {
    "nbpresent": {
     "id": "fe585b02-0648-4bed-9a10-d7fbd5c084ff"
    },
    "scrolled": true
   },
   "outputs": [
    {
     "name": "stdout",
     "output_type": "stream",
     "text": [
      "Train on 6680 samples, validate on 835 samples\n",
      "Epoch 1/100\n",
      "6600/6680 [============================>.] - ETA: 0s - loss: 11.0655 - acc: 0.0456Epoch 00000: val_loss improved from inf to 4.29692, saving model to saved_models/weights.best.VGG19.hdf5\n",
      "6680/6680 [==============================] - 2s - loss: 11.0025 - acc: 0.0463 - val_loss: 4.2969 - val_acc: 0.1892\n",
      "Epoch 2/100\n",
      "6640/6680 [============================>.] - ETA: 0s - loss: 4.6670 - acc: 0.1372Epoch 00001: val_loss improved from 4.29692 to 3.13379, saving model to saved_models/weights.best.VGG19.hdf5\n",
      "6680/6680 [==============================] - 1s - loss: 4.6614 - acc: 0.1382 - val_loss: 3.1338 - val_acc: 0.3066\n",
      "Epoch 3/100\n",
      "6500/6680 [============================>.] - ETA: 0s - loss: 3.5778 - acc: 0.2318Epoch 00002: val_loss improved from 3.13379 to 2.63327, saving model to saved_models/weights.best.VGG19.hdf5\n",
      "6680/6680 [==============================] - 2s - loss: 3.5717 - acc: 0.2322 - val_loss: 2.6333 - val_acc: 0.4060\n",
      "Epoch 4/100\n",
      "6620/6680 [============================>.] - ETA: 0s - loss: 3.0169 - acc: 0.3213Epoch 00003: val_loss improved from 2.63327 to 2.25301, saving model to saved_models/weights.best.VGG19.hdf5\n",
      "6680/6680 [==============================] - 1s - loss: 3.0121 - acc: 0.3216 - val_loss: 2.2530 - val_acc: 0.4707\n",
      "Epoch 5/100\n",
      "6520/6680 [============================>.] - ETA: 0s - loss: 2.6206 - acc: 0.3831Epoch 00004: val_loss improved from 2.25301 to 1.95357, saving model to saved_models/weights.best.VGG19.hdf5\n",
      "6680/6680 [==============================] - 2s - loss: 2.6186 - acc: 0.3834 - val_loss: 1.9536 - val_acc: 0.5269\n",
      "Epoch 6/100\n",
      "6640/6680 [============================>.] - ETA: 0s - loss: 2.3524 - acc: 0.4342Epoch 00005: val_loss improved from 1.95357 to 1.74026, saving model to saved_models/weights.best.VGG19.hdf5\n",
      "6680/6680 [==============================] - 1s - loss: 2.3517 - acc: 0.4340 - val_loss: 1.7403 - val_acc: 0.5677\n",
      "Epoch 7/100\n",
      "6540/6680 [============================>.] - ETA: 0s - loss: 2.1157 - acc: 0.4725Epoch 00006: val_loss improved from 1.74026 to 1.57222, saving model to saved_models/weights.best.VGG19.hdf5\n",
      "6680/6680 [==============================] - 1s - loss: 2.1124 - acc: 0.4734 - val_loss: 1.5722 - val_acc: 0.5988\n",
      "Epoch 8/100\n",
      "6600/6680 [============================>.] - ETA: 0s - loss: 1.9296 - acc: 0.5102Epoch 00007: val_loss improved from 1.57222 to 1.45522, saving model to saved_models/weights.best.VGG19.hdf5\n",
      "6680/6680 [==============================] - 1s - loss: 1.9283 - acc: 0.5109 - val_loss: 1.4552 - val_acc: 0.6419\n",
      "Epoch 9/100\n",
      "6540/6680 [============================>.] - ETA: 0s - loss: 1.7655 - acc: 0.5466Epoch 00008: val_loss improved from 1.45522 to 1.36713, saving model to saved_models/weights.best.VGG19.hdf5\n",
      "6680/6680 [==============================] - 1s - loss: 1.7613 - acc: 0.5487 - val_loss: 1.3671 - val_acc: 0.6383\n",
      "Epoch 10/100\n",
      "6600/6680 [============================>.] - ETA: 0s - loss: 1.6262 - acc: 0.5715Epoch 00009: val_loss improved from 1.36713 to 1.27609, saving model to saved_models/weights.best.VGG19.hdf5\n",
      "6680/6680 [==============================] - 1s - loss: 1.6224 - acc: 0.5723 - val_loss: 1.2761 - val_acc: 0.6551\n",
      "Epoch 11/100\n",
      "6540/6680 [============================>.] - ETA: 0s - loss: 1.5501 - acc: 0.5896Epoch 00010: val_loss improved from 1.27609 to 1.20642, saving model to saved_models/weights.best.VGG19.hdf5\n",
      "6680/6680 [==============================] - 1s - loss: 1.5490 - acc: 0.5894 - val_loss: 1.2064 - val_acc: 0.6790\n",
      "Epoch 12/100\n",
      "6500/6680 [============================>.] - ETA: 0s - loss: 1.4406 - acc: 0.6175Epoch 00011: val_loss improved from 1.20642 to 1.16473, saving model to saved_models/weights.best.VGG19.hdf5\n",
      "6680/6680 [==============================] - 1s - loss: 1.4413 - acc: 0.6174 - val_loss: 1.1647 - val_acc: 0.6886\n",
      "Epoch 13/100\n",
      "6620/6680 [============================>.] - ETA: 0s - loss: 1.3304 - acc: 0.6417Epoch 00012: val_loss improved from 1.16473 to 1.12260, saving model to saved_models/weights.best.VGG19.hdf5\n",
      "6680/6680 [==============================] - 1s - loss: 1.3310 - acc: 0.6422 - val_loss: 1.1226 - val_acc: 0.6970\n",
      "Epoch 14/100\n",
      "6600/6680 [============================>.] - ETA: 0s - loss: 1.2593 - acc: 0.6589Epoch 00013: val_loss improved from 1.12260 to 1.08365, saving model to saved_models/weights.best.VGG19.hdf5\n",
      "6680/6680 [==============================] - 1s - loss: 1.2635 - acc: 0.6587 - val_loss: 1.0837 - val_acc: 0.7078\n",
      "Epoch 15/100\n",
      "6660/6680 [============================>.] - ETA: 0s - loss: 1.2108 - acc: 0.6680Epoch 00014: val_loss improved from 1.08365 to 1.04911, saving model to saved_models/weights.best.VGG19.hdf5\n",
      "6680/6680 [==============================] - 1s - loss: 1.2102 - acc: 0.6681 - val_loss: 1.0491 - val_acc: 0.7138\n",
      "Epoch 16/100\n",
      "6520/6680 [============================>.] - ETA: 0s - loss: 1.1660 - acc: 0.6738Epoch 00015: val_loss improved from 1.04911 to 1.01407, saving model to saved_models/weights.best.VGG19.hdf5\n",
      "6680/6680 [==============================] - 1s - loss: 1.1658 - acc: 0.6743 - val_loss: 1.0141 - val_acc: 0.7186\n",
      "Epoch 17/100\n",
      "6500/6680 [============================>.] - ETA: 0s - loss: 1.1174 - acc: 0.6952Epoch 00016: val_loss improved from 1.01407 to 0.98047, saving model to saved_models/weights.best.VGG19.hdf5\n",
      "6680/6680 [==============================] - 1s - loss: 1.1168 - acc: 0.6943 - val_loss: 0.9805 - val_acc: 0.7305\n",
      "Epoch 18/100\n",
      "6580/6680 [============================>.] - ETA: 0s - loss: 1.0763 - acc: 0.7017Epoch 00017: val_loss improved from 0.98047 to 0.97110, saving model to saved_models/weights.best.VGG19.hdf5\n",
      "6680/6680 [==============================] - 1s - loss: 1.0743 - acc: 0.7015 - val_loss: 0.9711 - val_acc: 0.7281\n",
      "Epoch 19/100\n",
      "6540/6680 [============================>.] - ETA: 0s - loss: 1.0215 - acc: 0.7138Epoch 00018: val_loss improved from 0.97110 to 0.94798, saving model to saved_models/weights.best.VGG19.hdf5\n",
      "6680/6680 [==============================] - 1s - loss: 1.0195 - acc: 0.7147 - val_loss: 0.9480 - val_acc: 0.7305\n",
      "Epoch 20/100\n",
      "6480/6680 [============================>.] - ETA: 0s - loss: 0.9489 - acc: 0.7285Epoch 00019: val_loss improved from 0.94798 to 0.93411, saving model to saved_models/weights.best.VGG19.hdf5\n",
      "6680/6680 [==============================] - 1s - loss: 0.9495 - acc: 0.7287 - val_loss: 0.9341 - val_acc: 0.7329\n",
      "Epoch 21/100\n",
      "6540/6680 [============================>.] - ETA: 0s - loss: 0.9398 - acc: 0.7326Epoch 00020: val_loss improved from 0.93411 to 0.91707, saving model to saved_models/weights.best.VGG19.hdf5\n",
      "6680/6680 [==============================] - 1s - loss: 0.9419 - acc: 0.7320 - val_loss: 0.9171 - val_acc: 0.7341\n",
      "Epoch 22/100\n",
      "6560/6680 [============================>.] - ETA: 0s - loss: 0.8980 - acc: 0.7462Epoch 00021: val_loss improved from 0.91707 to 0.90068, saving model to saved_models/weights.best.VGG19.hdf5\n",
      "6680/6680 [==============================] - 1s - loss: 0.8966 - acc: 0.7470 - val_loss: 0.9007 - val_acc: 0.7389\n",
      "Epoch 23/100\n",
      "6520/6680 [============================>.] - ETA: 0s - loss: 0.8956 - acc: 0.7434Epoch 00022: val_loss improved from 0.90068 to 0.89882, saving model to saved_models/weights.best.VGG19.hdf5\n",
      "6680/6680 [==============================] - 1s - loss: 0.8993 - acc: 0.7422 - val_loss: 0.8988 - val_acc: 0.7329\n",
      "Epoch 24/100\n",
      "6560/6680 [============================>.] - ETA: 0s - loss: 0.8350 - acc: 0.7623Epoch 00023: val_loss improved from 0.89882 to 0.88301, saving model to saved_models/weights.best.VGG19.hdf5\n",
      "6680/6680 [==============================] - 1s - loss: 0.8356 - acc: 0.7623 - val_loss: 0.8830 - val_acc: 0.7461\n",
      "Epoch 25/100\n",
      "6480/6680 [============================>.] - ETA: 0s - loss: 0.7967 - acc: 0.7648Epoch 00024: val_loss improved from 0.88301 to 0.86680, saving model to saved_models/weights.best.VGG19.hdf5\n",
      "6680/6680 [==============================] - 1s - loss: 0.7957 - acc: 0.7645 - val_loss: 0.8668 - val_acc: 0.7485\n",
      "Epoch 26/100\n",
      "6600/6680 [============================>.] - ETA: 0s - loss: 0.8008 - acc: 0.7635Epoch 00025: val_loss improved from 0.86680 to 0.85282, saving model to saved_models/weights.best.VGG19.hdf5\n",
      "6680/6680 [==============================] - 1s - loss: 0.7986 - acc: 0.7645 - val_loss: 0.8528 - val_acc: 0.7485\n",
      "Epoch 27/100\n",
      "6600/6680 [============================>.] - ETA: 0s - loss: 0.7755 - acc: 0.7786Epoch 00026: val_loss improved from 0.85282 to 0.84298, saving model to saved_models/weights.best.VGG19.hdf5\n",
      "6680/6680 [==============================] - 1s - loss: 0.7780 - acc: 0.7775 - val_loss: 0.8430 - val_acc: 0.7485\n",
      "Epoch 28/100\n",
      "6600/6680 [============================>.] - ETA: 0s - loss: 0.7433 - acc: 0.7826Epoch 00027: val_loss improved from 0.84298 to 0.83378, saving model to saved_models/weights.best.VGG19.hdf5\n",
      "6680/6680 [==============================] - 1s - loss: 0.7492 - acc: 0.7811 - val_loss: 0.8338 - val_acc: 0.7593\n",
      "Epoch 29/100\n",
      "6500/6680 [============================>.] - ETA: 0s - loss: 0.7145 - acc: 0.7978Epoch 00028: val_loss improved from 0.83378 to 0.82492, saving model to saved_models/weights.best.VGG19.hdf5\n",
      "6680/6680 [==============================] - 1s - loss: 0.7152 - acc: 0.7975 - val_loss: 0.8249 - val_acc: 0.7569\n",
      "Epoch 30/100\n",
      "6540/6680 [============================>.] - ETA: 0s - loss: 0.6982 - acc: 0.7940Epoch 00029: val_loss improved from 0.82492 to 0.81884, saving model to saved_models/weights.best.VGG19.hdf5\n",
      "6680/6680 [==============================] - 1s - loss: 0.6968 - acc: 0.7942 - val_loss: 0.8188 - val_acc: 0.7641\n",
      "Epoch 31/100\n",
      "6560/6680 [============================>.] - ETA: 0s - loss: 0.6818 - acc: 0.7973Epoch 00030: val_loss improved from 0.81884 to 0.81647, saving model to saved_models/weights.best.VGG19.hdf5\n",
      "6680/6680 [==============================] - 1s - loss: 0.6827 - acc: 0.7970 - val_loss: 0.8165 - val_acc: 0.7593\n",
      "Epoch 32/100\n",
      "6600/6680 [============================>.] - ETA: 0s - loss: 0.6664 - acc: 0.7998Epoch 00031: val_loss improved from 0.81647 to 0.80789, saving model to saved_models/weights.best.VGG19.hdf5\n",
      "6680/6680 [==============================] - 1s - loss: 0.6670 - acc: 0.8000 - val_loss: 0.8079 - val_acc: 0.7533\n",
      "Epoch 33/100\n",
      "6560/6680 [============================>.] - ETA: 0s - loss: 0.6599 - acc: 0.8055Epoch 00032: val_loss improved from 0.80789 to 0.80558, saving model to saved_models/weights.best.VGG19.hdf5\n",
      "6680/6680 [==============================] - 1s - loss: 0.6573 - acc: 0.8063 - val_loss: 0.8056 - val_acc: 0.7629\n",
      "Epoch 34/100\n",
      "6620/6680 [============================>.] - ETA: 0s - loss: 0.6262 - acc: 0.8130Epoch 00033: val_loss improved from 0.80558 to 0.80142, saving model to saved_models/weights.best.VGG19.hdf5\n",
      "6680/6680 [==============================] - 2s - loss: 0.6266 - acc: 0.8136 - val_loss: 0.8014 - val_acc: 0.7665\n",
      "Epoch 35/100\n",
      "6580/6680 [============================>.] - ETA: 0s - loss: 0.6197 - acc: 0.8188Epoch 00034: val_loss improved from 0.80142 to 0.79479, saving model to saved_models/weights.best.VGG19.hdf5\n",
      "6680/6680 [==============================] - 2s - loss: 0.6188 - acc: 0.8192 - val_loss: 0.7948 - val_acc: 0.7641\n",
      "Epoch 36/100\n",
      "6500/6680 [============================>.] - ETA: 0s - loss: 0.5911 - acc: 0.8242Epoch 00035: val_loss improved from 0.79479 to 0.78380, saving model to saved_models/weights.best.VGG19.hdf5\n",
      "6680/6680 [==============================] - 1s - loss: 0.5913 - acc: 0.8244 - val_loss: 0.7838 - val_acc: 0.7629\n",
      "Epoch 37/100\n",
      "6620/6680 [============================>.] - ETA: 0s - loss: 0.5888 - acc: 0.8225Epoch 00036: val_loss improved from 0.78380 to 0.77776, saving model to saved_models/weights.best.VGG19.hdf5\n",
      "6680/6680 [==============================] - 1s - loss: 0.5880 - acc: 0.8226 - val_loss: 0.7778 - val_acc: 0.7701\n",
      "Epoch 38/100\n",
      "6560/6680 [============================>.] - ETA: 0s - loss: 0.5861 - acc: 0.8221Epoch 00037: val_loss improved from 0.77776 to 0.77570, saving model to saved_models/weights.best.VGG19.hdf5\n",
      "6680/6680 [==============================] - 1s - loss: 0.5843 - acc: 0.8231 - val_loss: 0.7757 - val_acc: 0.7677\n",
      "Epoch 39/100\n",
      "6620/6680 [============================>.] - ETA: 0s - loss: 0.5686 - acc: 0.8326Epoch 00038: val_loss improved from 0.77570 to 0.76257, saving model to saved_models/weights.best.VGG19.hdf5\n",
      "6680/6680 [==============================] - 1s - loss: 0.5678 - acc: 0.8323 - val_loss: 0.7626 - val_acc: 0.7784\n",
      "Epoch 40/100\n",
      "6520/6680 [============================>.] - ETA: 0s - loss: 0.5388 - acc: 0.8362Epoch 00039: val_loss did not improve\n",
      "6680/6680 [==============================] - 1s - loss: 0.5376 - acc: 0.8361 - val_loss: 0.7689 - val_acc: 0.7784\n",
      "Epoch 41/100\n",
      "6600/6680 [============================>.] - ETA: 0s - loss: 0.5408 - acc: 0.8355Epoch 00040: val_loss did not improve\n",
      "6680/6680 [==============================] - 1s - loss: 0.5418 - acc: 0.8356 - val_loss: 0.7663 - val_acc: 0.7713\n",
      "Epoch 42/100\n",
      "6560/6680 [============================>.] - ETA: 0s - loss: 0.5152 - acc: 0.8495Epoch 00041: val_loss did not improve\n",
      "6680/6680 [==============================] - 1s - loss: 0.5180 - acc: 0.8485 - val_loss: 0.7631 - val_acc: 0.7665\n",
      "Epoch 43/100\n",
      "6600/6680 [============================>.] - ETA: 0s - loss: 0.4857 - acc: 0.8530Epoch 00042: val_loss improved from 0.76257 to 0.76057, saving model to saved_models/weights.best.VGG19.hdf5\n",
      "6680/6680 [==============================] - 1s - loss: 0.4846 - acc: 0.8528 - val_loss: 0.7606 - val_acc: 0.7713\n",
      "Epoch 44/100\n",
      "6620/6680 [============================>.] - ETA: 0s - loss: 0.5076 - acc: 0.8489Epoch 00043: val_loss improved from 0.76057 to 0.75320, saving model to saved_models/weights.best.VGG19.hdf5\n",
      "6680/6680 [==============================] - 1s - loss: 0.5073 - acc: 0.8491 - val_loss: 0.7532 - val_acc: 0.7677\n",
      "Epoch 45/100\n",
      "6520/6680 [============================>.] - ETA: 0s - loss: 0.4947 - acc: 0.8505Epoch 00044: val_loss improved from 0.75320 to 0.74614, saving model to saved_models/weights.best.VGG19.hdf5\n",
      "6680/6680 [==============================] - 2s - loss: 0.4915 - acc: 0.8519 - val_loss: 0.7461 - val_acc: 0.7772\n",
      "Epoch 46/100\n",
      "6480/6680 [============================>.] - ETA: 0s - loss: 0.4713 - acc: 0.8568Epoch 00045: val_loss did not improve\n",
      "6680/6680 [==============================] - 1s - loss: 0.4739 - acc: 0.8561 - val_loss: 0.7475 - val_acc: 0.7772\n",
      "Epoch 47/100\n",
      "6520/6680 [============================>.] - ETA: 0s - loss: 0.4833 - acc: 0.8538Epoch 00046: val_loss did not improve\n",
      "6680/6680 [==============================] - 1s - loss: 0.4850 - acc: 0.8536 - val_loss: 0.7544 - val_acc: 0.7772\n",
      "Epoch 48/100\n",
      "6500/6680 [============================>.] - ETA: 0s - loss: 0.4765 - acc: 0.8560Epoch 00047: val_loss improved from 0.74614 to 0.74457, saving model to saved_models/weights.best.VGG19.hdf5\n",
      "6680/6680 [==============================] - 1s - loss: 0.4747 - acc: 0.8570 - val_loss: 0.7446 - val_acc: 0.7796\n",
      "Epoch 49/100\n",
      "6560/6680 [============================>.] - ETA: 0s - loss: 0.4540 - acc: 0.8671Epoch 00048: val_loss improved from 0.74457 to 0.73510, saving model to saved_models/weights.best.VGG19.hdf5\n",
      "6680/6680 [==============================] - 1s - loss: 0.4571 - acc: 0.8662 - val_loss: 0.7351 - val_acc: 0.7808\n",
      "Epoch 50/100\n",
      "6520/6680 [============================>.] - ETA: 0s - loss: 0.4642 - acc: 0.8584Epoch 00049: val_loss improved from 0.73510 to 0.73199, saving model to saved_models/weights.best.VGG19.hdf5\n",
      "6680/6680 [==============================] - 1s - loss: 0.4625 - acc: 0.8584 - val_loss: 0.7320 - val_acc: 0.7796\n",
      "Epoch 51/100\n",
      "6580/6680 [============================>.] - ETA: 0s - loss: 0.4530 - acc: 0.8612Epoch 00050: val_loss did not improve\n",
      "6680/6680 [==============================] - 1s - loss: 0.4536 - acc: 0.8606 - val_loss: 0.7330 - val_acc: 0.7820\n",
      "Epoch 52/100\n",
      "6660/6680 [============================>.] - ETA: 0s - loss: 0.4470 - acc: 0.8616Epoch 00051: val_loss improved from 0.73199 to 0.73156, saving model to saved_models/weights.best.VGG19.hdf5\n",
      "6680/6680 [==============================] - 1s - loss: 0.4468 - acc: 0.8617 - val_loss: 0.7316 - val_acc: 0.7808\n",
      "Epoch 53/100\n",
      "6560/6680 [============================>.] - ETA: 0s - loss: 0.4196 - acc: 0.8721Epoch 00052: val_loss improved from 0.73156 to 0.72301, saving model to saved_models/weights.best.VGG19.hdf5\n",
      "6680/6680 [==============================] - 2s - loss: 0.4212 - acc: 0.8725 - val_loss: 0.7230 - val_acc: 0.7868\n",
      "Epoch 54/100\n",
      "6660/6680 [============================>.] - ETA: 0s - loss: 0.4111 - acc: 0.8743Epoch 00053: val_loss did not improve\n",
      "6680/6680 [==============================] - 1s - loss: 0.4117 - acc: 0.8744 - val_loss: 0.7277 - val_acc: 0.7772\n",
      "Epoch 55/100\n",
      "6660/6680 [============================>.] - ETA: 0s - loss: 0.4080 - acc: 0.8763Epoch 00054: val_loss did not improve\n",
      "6680/6680 [==============================] - 1s - loss: 0.4083 - acc: 0.8762 - val_loss: 0.7254 - val_acc: 0.7796\n",
      "Epoch 56/100\n",
      "6660/6680 [============================>.] - ETA: 0s - loss: 0.4039 - acc: 0.8785Epoch 00055: val_loss improved from 0.72301 to 0.72278, saving model to saved_models/weights.best.VGG19.hdf5\n",
      "6680/6680 [==============================] - 1s - loss: 0.4048 - acc: 0.8781 - val_loss: 0.7228 - val_acc: 0.7784\n",
      "Epoch 57/100\n",
      "6600/6680 [============================>.] - ETA: 0s - loss: 0.3966 - acc: 0.8785Epoch 00056: val_loss did not improve\n",
      "6680/6680 [==============================] - 1s - loss: 0.3963 - acc: 0.8790 - val_loss: 0.7257 - val_acc: 0.7784\n",
      "Epoch 58/100\n",
      "6520/6680 [============================>.] - ETA: 0s - loss: 0.3673 - acc: 0.8900Epoch 00057: val_loss did not improve\n",
      "6680/6680 [==============================] - 1s - loss: 0.3679 - acc: 0.8895 - val_loss: 0.7279 - val_acc: 0.7796\n",
      "Epoch 59/100\n",
      "6500/6680 [============================>.] - ETA: 0s - loss: 0.3886 - acc: 0.8774Epoch 00058: val_loss did not improve\n",
      "6680/6680 [==============================] - 1s - loss: 0.3902 - acc: 0.8772 - val_loss: 0.7242 - val_acc: 0.7832\n",
      "Epoch 60/100\n",
      "6620/6680 [============================>.] - ETA: 0s - loss: 0.3763 - acc: 0.8841Epoch 00059: val_loss improved from 0.72278 to 0.71435, saving model to saved_models/weights.best.VGG19.hdf5\n",
      "6680/6680 [==============================] - 1s - loss: 0.3759 - acc: 0.8846 - val_loss: 0.7143 - val_acc: 0.7892\n",
      "Epoch 61/100\n",
      "6660/6680 [============================>.] - ETA: 0s - loss: 0.3622 - acc: 0.8931Epoch 00060: val_loss did not improve\n",
      "6680/6680 [==============================] - 1s - loss: 0.3627 - acc: 0.8930 - val_loss: 0.7162 - val_acc: 0.7892\n",
      "Epoch 62/100\n",
      "6540/6680 [============================>.] - ETA: 0s - loss: 0.3618 - acc: 0.8907Epoch 00061: val_loss did not improve\n",
      "6680/6680 [==============================] - 1s - loss: 0.3608 - acc: 0.8912 - val_loss: 0.7190 - val_acc: 0.7868\n",
      "Epoch 63/100\n",
      "6580/6680 [============================>.] - ETA: 0s - loss: 0.3493 - acc: 0.8919Epoch 00062: val_loss improved from 0.71435 to 0.71108, saving model to saved_models/weights.best.VGG19.hdf5\n",
      "6680/6680 [==============================] - 1s - loss: 0.3496 - acc: 0.8919 - val_loss: 0.7111 - val_acc: 0.7892\n",
      "Epoch 64/100\n",
      "6660/6680 [============================>.] - ETA: 0s - loss: 0.3635 - acc: 0.8890Epoch 00063: val_loss improved from 0.71108 to 0.70865, saving model to saved_models/weights.best.VGG19.hdf5\n",
      "6680/6680 [==============================] - 1s - loss: 0.3633 - acc: 0.8891 - val_loss: 0.7087 - val_acc: 0.7844\n",
      "Epoch 65/100\n",
      "6660/6680 [============================>.] - ETA: 0s - loss: 0.3509 - acc: 0.8940Epoch 00064: val_loss improved from 0.70865 to 0.70093, saving model to saved_models/weights.best.VGG19.hdf5\n",
      "6680/6680 [==============================] - 1s - loss: 0.3504 - acc: 0.8940 - val_loss: 0.7009 - val_acc: 0.7868\n",
      "Epoch 66/100\n",
      "6620/6680 [============================>.] - ETA: 0s - loss: 0.3402 - acc: 0.8934Epoch 00065: val_loss did not improve\n",
      "6680/6680 [==============================] - 1s - loss: 0.3404 - acc: 0.8934 - val_loss: 0.7066 - val_acc: 0.7916\n",
      "Epoch 67/100\n",
      "6520/6680 [============================>.] - ETA: 0s - loss: 0.3380 - acc: 0.8952Epoch 00066: val_loss did not improve\n",
      "6680/6680 [==============================] - 1s - loss: 0.3400 - acc: 0.8943 - val_loss: 0.7038 - val_acc: 0.7892\n",
      "Epoch 68/100\n",
      "6520/6680 [============================>.] - ETA: 0s - loss: 0.3263 - acc: 0.8998Epoch 00067: val_loss did not improve\n",
      "6680/6680 [==============================] - 1s - loss: 0.3248 - acc: 0.8997 - val_loss: 0.7058 - val_acc: 0.7892\n",
      "Epoch 69/100\n",
      "6620/6680 [============================>.] - ETA: 0s - loss: 0.3368 - acc: 0.8997Epoch 00068: val_loss did not improve\n",
      "6680/6680 [==============================] - 1s - loss: 0.3359 - acc: 0.9001 - val_loss: 0.7054 - val_acc: 0.7916\n",
      "Epoch 70/100\n",
      "6580/6680 [============================>.] - ETA: 0s - loss: 0.3191 - acc: 0.9053Epoch 00069: val_loss improved from 0.70093 to 0.69526, saving model to saved_models/weights.best.VGG19.hdf5\n",
      "6680/6680 [==============================] - 1s - loss: 0.3209 - acc: 0.9052 - val_loss: 0.6953 - val_acc: 0.7976\n",
      "Epoch 71/100\n",
      "6660/6680 [============================>.] - ETA: 0s - loss: 0.3101 - acc: 0.9077Epoch 00070: val_loss did not improve\n",
      "6680/6680 [==============================] - 1s - loss: 0.3105 - acc: 0.9075 - val_loss: 0.6988 - val_acc: 0.7892\n",
      "Epoch 72/100\n",
      "6500/6680 [============================>.] - ETA: 0s - loss: 0.3198 - acc: 0.9049Epoch 00071: val_loss improved from 0.69526 to 0.69498, saving model to saved_models/weights.best.VGG19.hdf5\n",
      "6680/6680 [==============================] - 1s - loss: 0.3211 - acc: 0.9043 - val_loss: 0.6950 - val_acc: 0.7868\n",
      "Epoch 73/100\n",
      "6600/6680 [============================>.] - ETA: 0s - loss: 0.3082 - acc: 0.9071Epoch 00072: val_loss did not improve\n",
      "6680/6680 [==============================] - 1s - loss: 0.3073 - acc: 0.9075 - val_loss: 0.6981 - val_acc: 0.7928\n",
      "Epoch 74/100\n",
      "6560/6680 [============================>.] - ETA: 0s - loss: 0.3004 - acc: 0.9076Epoch 00073: val_loss did not improve\n",
      "6680/6680 [==============================] - 1s - loss: 0.3021 - acc: 0.9069 - val_loss: 0.6974 - val_acc: 0.7892\n",
      "Epoch 75/100\n",
      "6560/6680 [============================>.] - ETA: 0s - loss: 0.2988 - acc: 0.9137Epoch 00074: val_loss improved from 0.69498 to 0.69226, saving model to saved_models/weights.best.VGG19.hdf5\n",
      "6680/6680 [==============================] - 1s - loss: 0.2985 - acc: 0.9133 - val_loss: 0.6923 - val_acc: 0.7916\n",
      "Epoch 76/100\n",
      "6520/6680 [============================>.] - ETA: 0s - loss: 0.2942 - acc: 0.9106Epoch 00075: val_loss did not improve\n",
      "6680/6680 [==============================] - 1s - loss: 0.2932 - acc: 0.9112 - val_loss: 0.6973 - val_acc: 0.7916\n",
      "Epoch 77/100\n",
      "6480/6680 [============================>.] - ETA: 0s - loss: 0.3075 - acc: 0.9082Epoch 00076: val_loss did not improve\n",
      "6680/6680 [==============================] - 2s - loss: 0.3082 - acc: 0.9081 - val_loss: 0.7008 - val_acc: 0.7844\n",
      "Epoch 78/100\n",
      "6640/6680 [============================>.] - ETA: 0s - loss: 0.3007 - acc: 0.9081Epoch 00077: val_loss did not improve\n",
      "6680/6680 [==============================] - 1s - loss: 0.3020 - acc: 0.9076 - val_loss: 0.6977 - val_acc: 0.7916\n",
      "Epoch 79/100\n",
      "6600/6680 [============================>.] - ETA: 0s - loss: 0.2886 - acc: 0.9127Epoch 00078: val_loss did not improve\n",
      "6680/6680 [==============================] - 1s - loss: 0.2882 - acc: 0.9124 - val_loss: 0.6954 - val_acc: 0.7976\n",
      "Epoch 80/100\n",
      "6620/6680 [============================>.] - ETA: 0s - loss: 0.2790 - acc: 0.9192Epoch 00079: val_loss did not improve\n",
      "6680/6680 [==============================] - 2s - loss: 0.2798 - acc: 0.9190 - val_loss: 0.6954 - val_acc: 0.7880\n",
      "Epoch 81/100\n",
      "6500/6680 [============================>.] - ETA: 0s - loss: 0.2771 - acc: 0.9171Epoch 00080: val_loss did not improve\n",
      "6680/6680 [==============================] - 2s - loss: 0.2803 - acc: 0.9154 - val_loss: 0.6936 - val_acc: 0.7892\n",
      "Epoch 82/100\n",
      "6660/6680 [============================>.] - ETA: 0s - loss: 0.2830 - acc: 0.9156Epoch 00081: val_loss did not improve\n",
      "6680/6680 [==============================] - 1s - loss: 0.2834 - acc: 0.9154 - val_loss: 0.6994 - val_acc: 0.7880\n",
      "Epoch 83/100\n",
      "6640/6680 [============================>.] - ETA: 0s - loss: 0.2705 - acc: 0.9209Epoch 00082: val_loss did not improve\n",
      "6680/6680 [==============================] - 1s - loss: 0.2706 - acc: 0.9205 - val_loss: 0.6936 - val_acc: 0.7880\n",
      "Epoch 84/100\n",
      "6500/6680 [============================>.] - ETA: 0s - loss: 0.2734 - acc: 0.9175Epoch 00083: val_loss improved from 0.69226 to 0.68489, saving model to saved_models/weights.best.VGG19.hdf5\n",
      "6680/6680 [==============================] - 1s - loss: 0.2736 - acc: 0.9177 - val_loss: 0.6849 - val_acc: 0.7868\n",
      "Epoch 85/100\n",
      "6520/6680 [============================>.] - ETA: 0s - loss: 0.2612 - acc: 0.9247Epoch 00084: val_loss did not improve\n",
      "6680/6680 [==============================] - 1s - loss: 0.2617 - acc: 0.9243 - val_loss: 0.6954 - val_acc: 0.7868\n",
      "Epoch 86/100\n",
      "6500/6680 [============================>.] - ETA: 0s - loss: 0.2610 - acc: 0.9205Epoch 00085: val_loss did not improve\n",
      "6680/6680 [==============================] - 1s - loss: 0.2592 - acc: 0.9214 - val_loss: 0.6893 - val_acc: 0.7976\n",
      "Epoch 87/100\n",
      "6620/6680 [============================>.] - ETA: 0s - loss: 0.2595 - acc: 0.9210Epoch 00086: val_loss did not improve\n",
      "6680/6680 [==============================] - 1s - loss: 0.2592 - acc: 0.9210 - val_loss: 0.6858 - val_acc: 0.7964\n",
      "Epoch 88/100\n",
      "6480/6680 [============================>.] - ETA: 0s - loss: 0.2580 - acc: 0.9224Epoch 00087: val_loss did not improve\n",
      "6680/6680 [==============================] - 1s - loss: 0.2571 - acc: 0.9222 - val_loss: 0.6897 - val_acc: 0.7892\n",
      "Epoch 89/100\n",
      "6540/6680 [============================>.] - ETA: 0s - loss: 0.2509 - acc: 0.9258Epoch 00088: val_loss did not improve\n",
      "6680/6680 [==============================] - 1s - loss: 0.2490 - acc: 0.9266 - val_loss: 0.6929 - val_acc: 0.7940\n",
      "Epoch 90/100\n",
      "6640/6680 [============================>.] - ETA: 0s - loss: 0.2441 - acc: 0.9297Epoch 00089: val_loss did not improve\n",
      "6680/6680 [==============================] - 1s - loss: 0.2450 - acc: 0.9293 - val_loss: 0.6850 - val_acc: 0.8060\n",
      "Epoch 91/100\n",
      "6520/6680 [============================>.] - ETA: 0s - loss: 0.2525 - acc: 0.9256Epoch 00090: val_loss did not improve\n",
      "6680/6680 [==============================] - 1s - loss: 0.2533 - acc: 0.9253 - val_loss: 0.6881 - val_acc: 0.7916\n",
      "Epoch 92/100\n",
      "6580/6680 [============================>.] - ETA: 0s - loss: 0.2513 - acc: 0.9229Epoch 00091: val_loss did not improve\n",
      "6680/6680 [==============================] - 1s - loss: 0.2517 - acc: 0.9234 - val_loss: 0.6865 - val_acc: 0.7988\n",
      "Epoch 93/100\n",
      "6620/6680 [============================>.] - ETA: 0s - loss: 0.2390 - acc: 0.9285Epoch 00092: val_loss did not improve\n",
      "6680/6680 [==============================] - 1s - loss: 0.2385 - acc: 0.9290 - val_loss: 0.6860 - val_acc: 0.7928\n",
      "Epoch 94/100\n",
      "6480/6680 [============================>.] - ETA: 0s - loss: 0.2310 - acc: 0.9352Epoch 00093: val_loss improved from 0.68489 to 0.68006, saving model to saved_models/weights.best.VGG19.hdf5\n",
      "6680/6680 [==============================] - 1s - loss: 0.2305 - acc: 0.9358 - val_loss: 0.6801 - val_acc: 0.8048\n",
      "Epoch 95/100\n",
      "6480/6680 [============================>.] - ETA: 0s - loss: 0.2456 - acc: 0.9253Epoch 00094: val_loss did not improve\n",
      "6680/6680 [==============================] - 1s - loss: 0.2472 - acc: 0.9249 - val_loss: 0.6825 - val_acc: 0.7940\n",
      "Epoch 96/100\n",
      "6620/6680 [============================>.] - ETA: 0s - loss: 0.2341 - acc: 0.9319Epoch 00095: val_loss did not improve\n",
      "6680/6680 [==============================] - 1s - loss: 0.2348 - acc: 0.9322 - val_loss: 0.6901 - val_acc: 0.7940\n",
      "Epoch 97/100\n",
      "6480/6680 [============================>.] - ETA: 0s - loss: 0.2262 - acc: 0.9326Epoch 00096: val_loss did not improve\n",
      "6680/6680 [==============================] - 1s - loss: 0.2258 - acc: 0.9331 - val_loss: 0.6844 - val_acc: 0.7976\n",
      "Epoch 98/100\n",
      "6520/6680 [============================>.] - ETA: 0s - loss: 0.2397 - acc: 0.9293Epoch 00097: val_loss did not improve\n",
      "6680/6680 [==============================] - 1s - loss: 0.2412 - acc: 0.9284 - val_loss: 0.6878 - val_acc: 0.8024\n",
      "Epoch 99/100\n",
      "6580/6680 [============================>.] - ETA: 0s - loss: 0.2281 - acc: 0.9333Epoch 00098: val_loss improved from 0.68006 to 0.67991, saving model to saved_models/weights.best.VGG19.hdf5\n",
      "6680/6680 [==============================] - 1s - loss: 0.2288 - acc: 0.9331 - val_loss: 0.6799 - val_acc: 0.7988\n",
      "Epoch 100/100\n",
      "6560/6680 [============================>.] - ETA: 0s - loss: 0.2271 - acc: 0.9320Epoch 00099: val_loss did not improve\n",
      "6680/6680 [==============================] - 1s - loss: 0.2260 - acc: 0.9322 - val_loss: 0.6847 - val_acc: 0.7976\n"
     ]
    },
    {
     "data": {
      "text/plain": [
       "<keras.callbacks.History at 0x7f8af030db38>"
      ]
     },
     "execution_count": 28,
     "metadata": {},
     "output_type": "execute_result"
    }
   ],
   "source": [
    "from keras.callbacks import ModelCheckpoint \n",
    "### TODO: Train the model.\n",
    "checkpointer = ModelCheckpoint(filepath='saved_models/weights.best.VGG19.hdf5', \n",
    "                               verbose=1, save_best_only=True)\n",
    "\n",
    "VGG19_model.fit(train_VGG19, train_targets, \n",
    "          validation_data=(valid_VGG19, valid_targets),\n",
    "          epochs=100, batch_size=20, callbacks=[checkpointer], verbose=1)"
   ]
  },
  {
   "cell_type": "markdown",
   "metadata": {
    "nbpresent": {
     "id": "b134ae7c-d30b-413a-b5e9-8eb8fc5a5332"
    }
   },
   "source": [
    "### (IMPLEMENTATION) Load the Model with the Best Validation Loss"
   ]
  },
  {
   "cell_type": "code",
   "execution_count": 29,
   "metadata": {
    "collapsed": true,
    "nbpresent": {
     "id": "1c02170f-4661-4741-98fb-2e73fae3c15e"
    },
    "scrolled": false
   },
   "outputs": [],
   "source": [
    "### TODO: Load the model weights with the best validation loss.\n",
    "VGG19_model.load_weights('saved_models/weights.best.VGG19.hdf5')"
   ]
  },
  {
   "cell_type": "markdown",
   "metadata": {
    "nbpresent": {
     "id": "82f89478-4ac7-4e36-bdcf-4190c8ddcfc9"
    }
   },
   "source": [
    "### (IMPLEMENTATION) Test the Model\n",
    "\n",
    "Try out your model on the test dataset of dog images. Ensure that your test accuracy is greater than 60%."
   ]
  },
  {
   "cell_type": "code",
   "execution_count": 30,
   "metadata": {
    "nbpresent": {
     "id": "93e448c9-cba4-4132-8123-fcc29eecf5cd"
    },
    "scrolled": false
   },
   "outputs": [
    {
     "name": "stdout",
     "output_type": "stream",
     "text": [
      "Test accuracy: 79.0670%\n"
     ]
    }
   ],
   "source": [
    "### TODO: Calculate classification accuracy on the test dataset.\n",
    "# get index of predicted dog breed for each image in test set\n",
    "VGG19_predictions = [np.argmax(VGG19_model.predict(np.expand_dims(feature, axis=0))) for feature in test_VGG19]\n",
    "\n",
    "# report test accuracy\n",
    "test_accuracy = 100*np.sum(np.array(VGG19_predictions)==np.argmax(test_targets, axis=1))/len(VGG19_predictions)\n",
    "print('Test accuracy: %.4f%%' % test_accuracy)"
   ]
  },
  {
   "cell_type": "code",
   "execution_count": 31,
   "metadata": {
    "nbpresent": {
     "id": "1e1c5169-867f-4c11-b9cd-8257f4dc3d5a"
    },
    "scrolled": true
   },
   "outputs": [
    {
     "name": "stdout",
     "output_type": "stream",
     "text": [
      "Train on 6680 samples, validate on 835 samples\n",
      "Epoch 1/100\n",
      "6620/6680 [============================>.] - ETA: 0s - loss: 5.1390 - acc: 0.0156Epoch 00000: val_loss improved from inf to 4.57412, saving model to saved_models/weights.best.Res.hdf5\n",
      "6680/6680 [==============================] - 4s - loss: 5.1372 - acc: 0.0157 - val_loss: 4.5741 - val_acc: 0.0778\n",
      "Epoch 2/100\n",
      "6660/6680 [============================>.] - ETA: 0s - loss: 4.5535 - acc: 0.0616Epoch 00001: val_loss improved from 4.57412 to 4.22501, saving model to saved_models/weights.best.Res.hdf5\n",
      "6680/6680 [==============================] - 4s - loss: 4.5529 - acc: 0.0614 - val_loss: 4.2250 - val_acc: 0.2012\n",
      "Epoch 3/100\n",
      "6580/6680 [============================>.] - ETA: 0s - loss: 4.1955 - acc: 0.1240Epoch 00002: val_loss improved from 4.22501 to 3.88529, saving model to saved_models/weights.best.Res.hdf5\n",
      "6680/6680 [==============================] - 4s - loss: 4.1946 - acc: 0.1244 - val_loss: 3.8853 - val_acc: 0.3042\n",
      "Epoch 4/100\n",
      "6600/6680 [============================>.] - ETA: 0s - loss: 3.8687 - acc: 0.1856Epoch 00003: val_loss improved from 3.88529 to 3.53244, saving model to saved_models/weights.best.Res.hdf5\n",
      "6680/6680 [==============================] - 4s - loss: 3.8649 - acc: 0.1867 - val_loss: 3.5324 - val_acc: 0.3641\n",
      "Epoch 5/100\n",
      "6640/6680 [============================>.] - ETA: 0s - loss: 3.5381 - acc: 0.2514Epoch 00004: val_loss improved from 3.53244 to 3.18637, saving model to saved_models/weights.best.Res.hdf5\n",
      "6680/6680 [==============================] - 4s - loss: 3.5362 - acc: 0.2519 - val_loss: 3.1864 - val_acc: 0.4228\n",
      "Epoch 6/100\n",
      "6660/6680 [============================>.] - ETA: 0s - loss: 3.2216 - acc: 0.3194Epoch 00005: val_loss improved from 3.18637 to 2.86339, saving model to saved_models/weights.best.Res.hdf5\n",
      "6680/6680 [==============================] - 4s - loss: 3.2231 - acc: 0.3189 - val_loss: 2.8634 - val_acc: 0.4874\n",
      "Epoch 7/100\n",
      "6660/6680 [============================>.] - ETA: 0s - loss: 2.9510 - acc: 0.3677Epoch 00006: val_loss improved from 2.86339 to 2.57452, saving model to saved_models/weights.best.Res.hdf5\n",
      "6680/6680 [==============================] - 4s - loss: 2.9508 - acc: 0.3678 - val_loss: 2.5745 - val_acc: 0.5293\n",
      "Epoch 8/100\n",
      "6640/6680 [============================>.] - ETA: 0s - loss: 2.6993 - acc: 0.4044Epoch 00007: val_loss improved from 2.57452 to 2.32757, saving model to saved_models/weights.best.Res.hdf5\n",
      "6680/6680 [==============================] - 4s - loss: 2.6999 - acc: 0.4040 - val_loss: 2.3276 - val_acc: 0.5749\n",
      "Epoch 9/100\n",
      "6660/6680 [============================>.] - ETA: 0s - loss: 2.4839 - acc: 0.4462Epoch 00008: val_loss improved from 2.32757 to 2.11815, saving model to saved_models/weights.best.Res.hdf5\n",
      "6680/6680 [==============================] - 4s - loss: 2.4838 - acc: 0.4461 - val_loss: 2.1181 - val_acc: 0.6096\n",
      "Epoch 10/100\n",
      "6640/6680 [============================>.] - ETA: 0s - loss: 2.3026 - acc: 0.4752Epoch 00009: val_loss improved from 2.11815 to 1.93847, saving model to saved_models/weights.best.Res.hdf5\n",
      "6680/6680 [==============================] - 4s - loss: 2.3015 - acc: 0.4754 - val_loss: 1.9385 - val_acc: 0.6359\n",
      "Epoch 11/100\n",
      "6620/6680 [============================>.] - ETA: 0s - loss: 2.1448 - acc: 0.4998Epoch 00010: val_loss improved from 1.93847 to 1.78660, saving model to saved_models/weights.best.Res.hdf5\n",
      "6680/6680 [==============================] - 4s - loss: 2.1451 - acc: 0.4996 - val_loss: 1.7866 - val_acc: 0.6575\n",
      "Epoch 12/100\n",
      "6580/6680 [============================>.] - ETA: 0s - loss: 2.0036 - acc: 0.5316Epoch 00011: val_loss improved from 1.78660 to 1.65788, saving model to saved_models/weights.best.Res.hdf5\n",
      "6680/6680 [==============================] - 4s - loss: 2.0026 - acc: 0.5319 - val_loss: 1.6579 - val_acc: 0.6695\n",
      "Epoch 13/100\n",
      "6600/6680 [============================>.] - ETA: 0s - loss: 1.8873 - acc: 0.5406Epoch 00012: val_loss improved from 1.65788 to 1.55242, saving model to saved_models/weights.best.Res.hdf5\n",
      "6680/6680 [==============================] - 4s - loss: 1.8870 - acc: 0.5410 - val_loss: 1.5524 - val_acc: 0.6802\n",
      "Epoch 14/100\n",
      "6620/6680 [============================>.] - ETA: 0s - loss: 1.7681 - acc: 0.5705Epoch 00013: val_loss improved from 1.55242 to 1.45853, saving model to saved_models/weights.best.Res.hdf5\n",
      "6680/6680 [==============================] - 4s - loss: 1.7684 - acc: 0.5702 - val_loss: 1.4585 - val_acc: 0.6898\n",
      "Epoch 15/100\n",
      "6620/6680 [============================>.] - ETA: 0s - loss: 1.6550 - acc: 0.5929Epoch 00014: val_loss improved from 1.45853 to 1.37571, saving model to saved_models/weights.best.Res.hdf5\n",
      "6680/6680 [==============================] - 4s - loss: 1.6564 - acc: 0.5928 - val_loss: 1.3757 - val_acc: 0.7006\n",
      "Epoch 16/100\n",
      "6620/6680 [============================>.] - ETA: 0s - loss: 1.5886 - acc: 0.6020Epoch 00015: val_loss improved from 1.37571 to 1.31050, saving model to saved_models/weights.best.Res.hdf5\n",
      "6680/6680 [==============================] - 4s - loss: 1.5905 - acc: 0.6015 - val_loss: 1.3105 - val_acc: 0.7102\n",
      "Epoch 17/100\n",
      "6640/6680 [============================>.] - ETA: 0s - loss: 1.5031 - acc: 0.6300Epoch 00016: val_loss improved from 1.31050 to 1.24481, saving model to saved_models/weights.best.Res.hdf5\n",
      "6680/6680 [==============================] - 4s - loss: 1.5027 - acc: 0.6304 - val_loss: 1.2448 - val_acc: 0.7186\n",
      "Epoch 18/100\n",
      "6640/6680 [============================>.] - ETA: 0s - loss: 1.4397 - acc: 0.6342Epoch 00017: val_loss improved from 1.24481 to 1.19210, saving model to saved_models/weights.best.Res.hdf5\n",
      "6680/6680 [==============================] - 4s - loss: 1.4380 - acc: 0.6347 - val_loss: 1.1921 - val_acc: 0.7198\n",
      "Epoch 19/100\n",
      "6660/6680 [============================>.] - ETA: 0s - loss: 1.3810 - acc: 0.6480Epoch 00018: val_loss improved from 1.19210 to 1.14659, saving model to saved_models/weights.best.Res.hdf5\n",
      "6680/6680 [==============================] - 4s - loss: 1.3813 - acc: 0.6481 - val_loss: 1.1466 - val_acc: 0.7329\n",
      "Epoch 20/100\n",
      "6600/6680 [============================>.] - ETA: 0s - loss: 1.3336 - acc: 0.6529Epoch 00019: val_loss improved from 1.14659 to 1.10611, saving model to saved_models/weights.best.Res.hdf5\n",
      "6680/6680 [==============================] - 4s - loss: 1.3347 - acc: 0.6527 - val_loss: 1.1061 - val_acc: 0.7509\n",
      "Epoch 21/100\n",
      "6600/6680 [============================>.] - ETA: 0s - loss: 1.2716 - acc: 0.6712Epoch 00020: val_loss improved from 1.10611 to 1.06607, saving model to saved_models/weights.best.Res.hdf5\n",
      "6680/6680 [==============================] - 4s - loss: 1.2738 - acc: 0.6705 - val_loss: 1.0661 - val_acc: 0.7545\n",
      "Epoch 22/100\n",
      "6640/6680 [============================>.] - ETA: 0s - loss: 1.2400 - acc: 0.6801Epoch 00021: val_loss improved from 1.06607 to 1.03323, saving model to saved_models/weights.best.Res.hdf5\n",
      "6680/6680 [==============================] - 4s - loss: 1.2390 - acc: 0.6805 - val_loss: 1.0332 - val_acc: 0.7641\n",
      "Epoch 23/100\n",
      "6620/6680 [============================>.] - ETA: 0s - loss: 1.1667 - acc: 0.6994Epoch 00022: val_loss improved from 1.03323 to 1.00050, saving model to saved_models/weights.best.Res.hdf5\n",
      "6680/6680 [==============================] - 4s - loss: 1.1677 - acc: 0.6991 - val_loss: 1.0005 - val_acc: 0.7665\n",
      "Epoch 24/100\n",
      "6660/6680 [============================>.] - ETA: 0s - loss: 1.1527 - acc: 0.6928Epoch 00023: val_loss improved from 1.00050 to 0.97495, saving model to saved_models/weights.best.Res.hdf5\n",
      "6680/6680 [==============================] - 4s - loss: 1.1517 - acc: 0.6933 - val_loss: 0.9750 - val_acc: 0.7701\n",
      "Epoch 25/100\n",
      "6640/6680 [============================>.] - ETA: 0s - loss: 1.1228 - acc: 0.6997Epoch 00024: val_loss improved from 0.97495 to 0.94908, saving model to saved_models/weights.best.Res.hdf5\n",
      "6680/6680 [==============================] - 4s - loss: 1.1224 - acc: 0.6997 - val_loss: 0.9491 - val_acc: 0.7749\n",
      "Epoch 26/100\n",
      "6660/6680 [============================>.] - ETA: 0s - loss: 1.0734 - acc: 0.7173Epoch 00025: val_loss improved from 0.94908 to 0.92481, saving model to saved_models/weights.best.Res.hdf5\n",
      "6680/6680 [==============================] - 4s - loss: 1.0739 - acc: 0.7172 - val_loss: 0.9248 - val_acc: 0.7784\n",
      "Epoch 27/100\n",
      "6640/6680 [============================>.] - ETA: 0s - loss: 1.0542 - acc: 0.7200Epoch 00026: val_loss improved from 0.92481 to 0.90396, saving model to saved_models/weights.best.Res.hdf5\n",
      "6680/6680 [==============================] - 4s - loss: 1.0545 - acc: 0.7199 - val_loss: 0.9040 - val_acc: 0.7784\n",
      "Epoch 28/100\n",
      "6580/6680 [============================>.] - ETA: 0s - loss: 1.0256 - acc: 0.7252Epoch 00027: val_loss improved from 0.90396 to 0.88816, saving model to saved_models/weights.best.Res.hdf5\n",
      "6680/6680 [==============================] - 4s - loss: 1.0240 - acc: 0.7256 - val_loss: 0.8882 - val_acc: 0.7832\n",
      "Epoch 29/100\n",
      "6620/6680 [============================>.] - ETA: 0s - loss: 0.9836 - acc: 0.7409Epoch 00028: val_loss improved from 0.88816 to 0.86932, saving model to saved_models/weights.best.Res.hdf5\n",
      "6680/6680 [==============================] - 4s - loss: 0.9854 - acc: 0.7401 - val_loss: 0.8693 - val_acc: 0.7832\n",
      "Epoch 30/100\n",
      "6580/6680 [============================>.] - ETA: 0s - loss: 0.9747 - acc: 0.7362Epoch 00029: val_loss improved from 0.86932 to 0.85407, saving model to saved_models/weights.best.Res.hdf5\n",
      "6680/6680 [==============================] - 4s - loss: 0.9758 - acc: 0.7359 - val_loss: 0.8541 - val_acc: 0.7832\n",
      "Epoch 31/100\n",
      "6660/6680 [============================>.] - ETA: 0s - loss: 0.9460 - acc: 0.7492Epoch 00030: val_loss improved from 0.85407 to 0.83752, saving model to saved_models/weights.best.Res.hdf5\n",
      "6680/6680 [==============================] - 4s - loss: 0.9469 - acc: 0.7491 - val_loss: 0.8375 - val_acc: 0.7868\n",
      "Epoch 32/100\n",
      "6660/6680 [============================>.] - ETA: 0s - loss: 0.9261 - acc: 0.7526Epoch 00031: val_loss improved from 0.83752 to 0.82424, saving model to saved_models/weights.best.Res.hdf5\n",
      "6680/6680 [==============================] - 4s - loss: 0.9261 - acc: 0.7525 - val_loss: 0.8242 - val_acc: 0.7832\n",
      "Epoch 33/100\n",
      "6660/6680 [============================>.] - ETA: 0s - loss: 0.8936 - acc: 0.7533Epoch 00032: val_loss improved from 0.82424 to 0.80889, saving model to saved_models/weights.best.Res.hdf5\n",
      "6680/6680 [==============================] - 4s - loss: 0.8931 - acc: 0.7533 - val_loss: 0.8089 - val_acc: 0.7904\n",
      "Epoch 34/100\n",
      "6600/6680 [============================>.] - ETA: 0s - loss: 0.8726 - acc: 0.7645Epoch 00033: val_loss improved from 0.80889 to 0.79643, saving model to saved_models/weights.best.Res.hdf5\n",
      "6680/6680 [==============================] - 4s - loss: 0.8723 - acc: 0.7642 - val_loss: 0.7964 - val_acc: 0.7928\n",
      "Epoch 35/100\n",
      "6660/6680 [============================>.] - ETA: 0s - loss: 0.8570 - acc: 0.7676Epoch 00034: val_loss improved from 0.79643 to 0.78389, saving model to saved_models/weights.best.Res.hdf5\n",
      "6680/6680 [==============================] - 4s - loss: 0.8569 - acc: 0.7678 - val_loss: 0.7839 - val_acc: 0.7940\n",
      "Epoch 36/100\n",
      "6620/6680 [============================>.] - ETA: 0s - loss: 0.8263 - acc: 0.7749Epoch 00035: val_loss improved from 0.78389 to 0.77243, saving model to saved_models/weights.best.Res.hdf5\n",
      "6680/6680 [==============================] - 4s - loss: 0.8272 - acc: 0.7746 - val_loss: 0.7724 - val_acc: 0.8012\n",
      "Epoch 37/100\n",
      "6640/6680 [============================>.] - ETA: 0s - loss: 0.8231 - acc: 0.7771Epoch 00036: val_loss improved from 0.77243 to 0.76259, saving model to saved_models/weights.best.Res.hdf5\n",
      "6680/6680 [==============================] - 4s - loss: 0.8230 - acc: 0.7775 - val_loss: 0.7626 - val_acc: 0.7952\n",
      "Epoch 38/100\n",
      "6620/6680 [============================>.] - ETA: 0s - loss: 0.7989 - acc: 0.7826Epoch 00037: val_loss improved from 0.76259 to 0.75311, saving model to saved_models/weights.best.Res.hdf5\n",
      "6680/6680 [==============================] - 4s - loss: 0.7986 - acc: 0.7826 - val_loss: 0.7531 - val_acc: 0.8000\n",
      "Epoch 39/100\n",
      "6640/6680 [============================>.] - ETA: 0s - loss: 0.7974 - acc: 0.7761Epoch 00038: val_loss improved from 0.75311 to 0.74660, saving model to saved_models/weights.best.Res.hdf5\n",
      "6680/6680 [==============================] - 4s - loss: 0.7992 - acc: 0.7756 - val_loss: 0.7466 - val_acc: 0.7988\n",
      "Epoch 40/100\n",
      "6640/6680 [============================>.] - ETA: 0s - loss: 0.7743 - acc: 0.7922Epoch 00039: val_loss improved from 0.74660 to 0.73477, saving model to saved_models/weights.best.Res.hdf5\n",
      "6680/6680 [==============================] - 4s - loss: 0.7734 - acc: 0.7924 - val_loss: 0.7348 - val_acc: 0.7988\n",
      "Epoch 41/100\n",
      "6660/6680 [============================>.] - ETA: 0s - loss: 0.7537 - acc: 0.7922Epoch 00040: val_loss improved from 0.73477 to 0.72669, saving model to saved_models/weights.best.Res.hdf5\n",
      "6680/6680 [==============================] - 4s - loss: 0.7538 - acc: 0.7922 - val_loss: 0.7267 - val_acc: 0.8036\n",
      "Epoch 42/100\n",
      "6660/6680 [============================>.] - ETA: 0s - loss: 0.7475 - acc: 0.7949Epoch 00041: val_loss improved from 0.72669 to 0.71630, saving model to saved_models/weights.best.Res.hdf5\n",
      "6680/6680 [==============================] - 4s - loss: 0.7471 - acc: 0.7949 - val_loss: 0.7163 - val_acc: 0.8048\n",
      "Epoch 43/100\n",
      "6600/6680 [============================>.] - ETA: 0s - loss: 0.7354 - acc: 0.7958Epoch 00042: val_loss improved from 0.71630 to 0.71040, saving model to saved_models/weights.best.Res.hdf5\n",
      "6680/6680 [==============================] - 4s - loss: 0.7346 - acc: 0.7961 - val_loss: 0.7104 - val_acc: 0.8000\n",
      "Epoch 44/100\n",
      "6620/6680 [============================>.] - ETA: 0s - loss: 0.7245 - acc: 0.8003Epoch 00043: val_loss improved from 0.71040 to 0.70252, saving model to saved_models/weights.best.Res.hdf5\n",
      "6680/6680 [==============================] - 4s - loss: 0.7252 - acc: 0.7997 - val_loss: 0.7025 - val_acc: 0.8000\n",
      "Epoch 45/100\n",
      "6600/6680 [============================>.] - ETA: 0s - loss: 0.7167 - acc: 0.8065Epoch 00044: val_loss improved from 0.70252 to 0.69598, saving model to saved_models/weights.best.Res.hdf5\n",
      "6680/6680 [==============================] - 4s - loss: 0.7157 - acc: 0.8070 - val_loss: 0.6960 - val_acc: 0.8048\n",
      "Epoch 46/100\n",
      "6620/6680 [============================>.] - ETA: 0s - loss: 0.7003 - acc: 0.8059Epoch 00045: val_loss improved from 0.69598 to 0.68837, saving model to saved_models/weights.best.Res.hdf5\n",
      "6680/6680 [==============================] - 4s - loss: 0.6991 - acc: 0.8063 - val_loss: 0.6884 - val_acc: 0.8060\n",
      "Epoch 47/100\n",
      "6580/6680 [============================>.] - ETA: 0s - loss: 0.6882 - acc: 0.8117Epoch 00046: val_loss improved from 0.68837 to 0.68471, saving model to saved_models/weights.best.Res.hdf5\n",
      "6680/6680 [==============================] - 4s - loss: 0.6887 - acc: 0.8118 - val_loss: 0.6847 - val_acc: 0.8096\n",
      "Epoch 48/100\n",
      "6580/6680 [============================>.] - ETA: 0s - loss: 0.6807 - acc: 0.8106Epoch 00047: val_loss improved from 0.68471 to 0.67936, saving model to saved_models/weights.best.Res.hdf5\n",
      "6680/6680 [==============================] - 4s - loss: 0.6817 - acc: 0.8102 - val_loss: 0.6794 - val_acc: 0.8048\n",
      "Epoch 49/100\n",
      "6640/6680 [============================>.] - ETA: 0s - loss: 0.6644 - acc: 0.8137Epoch 00048: val_loss improved from 0.67936 to 0.67361, saving model to saved_models/weights.best.Res.hdf5\n",
      "6680/6680 [==============================] - 4s - loss: 0.6641 - acc: 0.8136 - val_loss: 0.6736 - val_acc: 0.8084\n",
      "Epoch 50/100\n",
      "6600/6680 [============================>.] - ETA: 0s - loss: 0.6671 - acc: 0.8105Epoch 00049: val_loss improved from 0.67361 to 0.66840, saving model to saved_models/weights.best.Res.hdf5\n",
      "6680/6680 [==============================] - 4s - loss: 0.6669 - acc: 0.8105 - val_loss: 0.6684 - val_acc: 0.8060\n",
      "Epoch 51/100\n",
      "6640/6680 [============================>.] - ETA: 0s - loss: 0.6471 - acc: 0.8229Epoch 00050: val_loss improved from 0.66840 to 0.66126, saving model to saved_models/weights.best.Res.hdf5\n",
      "6680/6680 [==============================] - 4s - loss: 0.6485 - acc: 0.8225 - val_loss: 0.6613 - val_acc: 0.8072\n",
      "Epoch 52/100\n",
      "6640/6680 [============================>.] - ETA: 0s - loss: 0.6384 - acc: 0.8238Epoch 00051: val_loss improved from 0.66126 to 0.65986, saving model to saved_models/weights.best.Res.hdf5\n",
      "6680/6680 [==============================] - 4s - loss: 0.6386 - acc: 0.8237 - val_loss: 0.6599 - val_acc: 0.8060\n",
      "Epoch 53/100\n",
      "6660/6680 [============================>.] - ETA: 0s - loss: 0.6236 - acc: 0.8278Epoch 00052: val_loss improved from 0.65986 to 0.65550, saving model to saved_models/weights.best.Res.hdf5\n",
      "6680/6680 [==============================] - 4s - loss: 0.6241 - acc: 0.8272 - val_loss: 0.6555 - val_acc: 0.8048\n",
      "Epoch 54/100\n",
      "6580/6680 [============================>.] - ETA: 0s - loss: 0.6270 - acc: 0.8196Epoch 00053: val_loss improved from 0.65550 to 0.64952, saving model to saved_models/weights.best.Res.hdf5\n",
      "6680/6680 [==============================] - 4s - loss: 0.6271 - acc: 0.8198 - val_loss: 0.6495 - val_acc: 0.8084\n",
      "Epoch 55/100\n",
      "6620/6680 [============================>.] - ETA: 0s - loss: 0.6224 - acc: 0.8243Epoch 00054: val_loss improved from 0.64952 to 0.64642, saving model to saved_models/weights.best.Res.hdf5\n",
      "6680/6680 [==============================] - 4s - loss: 0.6208 - acc: 0.8251 - val_loss: 0.6464 - val_acc: 0.8132\n",
      "Epoch 56/100\n",
      "6660/6680 [============================>.] - ETA: 0s - loss: 0.5910 - acc: 0.8389Epoch 00055: val_loss improved from 0.64642 to 0.64121, saving model to saved_models/weights.best.Res.hdf5\n",
      "6680/6680 [==============================] - 4s - loss: 0.5904 - acc: 0.8391 - val_loss: 0.6412 - val_acc: 0.8072\n",
      "Epoch 57/100\n",
      "6600/6680 [============================>.] - ETA: 0s - loss: 0.5916 - acc: 0.8308Epoch 00056: val_loss improved from 0.64121 to 0.63609, saving model to saved_models/weights.best.Res.hdf5\n",
      "6680/6680 [==============================] - 4s - loss: 0.5902 - acc: 0.8316 - val_loss: 0.6361 - val_acc: 0.8108\n",
      "Epoch 58/100\n",
      "6620/6680 [============================>.] - ETA: 0s - loss: 0.5789 - acc: 0.8426Epoch 00057: val_loss improved from 0.63609 to 0.63082, saving model to saved_models/weights.best.Res.hdf5\n",
      "6680/6680 [==============================] - 4s - loss: 0.5794 - acc: 0.8421 - val_loss: 0.6308 - val_acc: 0.8084\n",
      "Epoch 59/100\n",
      "6600/6680 [============================>.] - ETA: 0s - loss: 0.5872 - acc: 0.8315Epoch 00058: val_loss improved from 0.63082 to 0.62646, saving model to saved_models/weights.best.Res.hdf5\n",
      "6680/6680 [==============================] - 4s - loss: 0.5876 - acc: 0.8311 - val_loss: 0.6265 - val_acc: 0.8108\n",
      "Epoch 60/100\n",
      "6640/6680 [============================>.] - ETA: 0s - loss: 0.5676 - acc: 0.8435Epoch 00059: val_loss improved from 0.62646 to 0.62481, saving model to saved_models/weights.best.Res.hdf5\n",
      "6680/6680 [==============================] - 4s - loss: 0.5666 - acc: 0.8442 - val_loss: 0.6248 - val_acc: 0.8156\n",
      "Epoch 61/100\n",
      "6600/6680 [============================>.] - ETA: 0s - loss: 0.5540 - acc: 0.8476Epoch 00060: val_loss improved from 0.62481 to 0.61956, saving model to saved_models/weights.best.Res.hdf5\n",
      "6680/6680 [==============================] - 4s - loss: 0.5574 - acc: 0.8464 - val_loss: 0.6196 - val_acc: 0.8228\n",
      "Epoch 62/100\n",
      "6620/6680 [============================>.] - ETA: 0s - loss: 0.5522 - acc: 0.8482Epoch 00061: val_loss improved from 0.61956 to 0.61787, saving model to saved_models/weights.best.Res.hdf5\n",
      "6680/6680 [==============================] - 4s - loss: 0.5515 - acc: 0.8490 - val_loss: 0.6179 - val_acc: 0.8120\n",
      "Epoch 63/100\n",
      "6580/6680 [============================>.] - ETA: 0s - loss: 0.5418 - acc: 0.8494Epoch 00062: val_loss improved from 0.61787 to 0.61350, saving model to saved_models/weights.best.Res.hdf5\n",
      "6680/6680 [==============================] - 4s - loss: 0.5405 - acc: 0.8500 - val_loss: 0.6135 - val_acc: 0.8144\n",
      "Epoch 64/100\n",
      "6640/6680 [============================>.] - ETA: 0s - loss: 0.5400 - acc: 0.8467Epoch 00063: val_loss improved from 0.61350 to 0.61008, saving model to saved_models/weights.best.Res.hdf5\n",
      "6680/6680 [==============================] - 4s - loss: 0.5402 - acc: 0.8469 - val_loss: 0.6101 - val_acc: 0.8156\n",
      "Epoch 65/100\n",
      "6660/6680 [============================>.] - ETA: 0s - loss: 0.5216 - acc: 0.8596Epoch 00064: val_loss improved from 0.61008 to 0.60844, saving model to saved_models/weights.best.Res.hdf5\n",
      "6680/6680 [==============================] - 4s - loss: 0.5215 - acc: 0.8596 - val_loss: 0.6084 - val_acc: 0.8132\n",
      "Epoch 66/100\n",
      "6640/6680 [============================>.] - ETA: 0s - loss: 0.5319 - acc: 0.8524Epoch 00065: val_loss improved from 0.60844 to 0.60390, saving model to saved_models/weights.best.Res.hdf5\n",
      "6680/6680 [==============================] - 4s - loss: 0.5310 - acc: 0.8530 - val_loss: 0.6039 - val_acc: 0.8144\n",
      "Epoch 67/100\n",
      "6640/6680 [============================>.] - ETA: 0s - loss: 0.5257 - acc: 0.8574Epoch 00066: val_loss improved from 0.60390 to 0.60065, saving model to saved_models/weights.best.Res.hdf5\n",
      "6680/6680 [==============================] - 4s - loss: 0.5263 - acc: 0.8572 - val_loss: 0.6007 - val_acc: 0.8156\n",
      "Epoch 68/100\n",
      "6620/6680 [============================>.] - ETA: 0s - loss: 0.5140 - acc: 0.8550Epoch 00067: val_loss improved from 0.60065 to 0.59744, saving model to saved_models/weights.best.Res.hdf5\n",
      "6680/6680 [==============================] - 4s - loss: 0.5137 - acc: 0.8549 - val_loss: 0.5974 - val_acc: 0.8168\n",
      "Epoch 69/100\n",
      "6580/6680 [============================>.] - ETA: 0s - loss: 0.5054 - acc: 0.8608Epoch 00068: val_loss improved from 0.59744 to 0.59542, saving model to saved_models/weights.best.Res.hdf5\n",
      "6680/6680 [==============================] - 4s - loss: 0.5064 - acc: 0.8606 - val_loss: 0.5954 - val_acc: 0.8192\n",
      "Epoch 70/100\n",
      "6620/6680 [============================>.] - ETA: 0s - loss: 0.5024 - acc: 0.8560Epoch 00069: val_loss improved from 0.59542 to 0.59394, saving model to saved_models/weights.best.Res.hdf5\n",
      "6680/6680 [==============================] - 4s - loss: 0.5025 - acc: 0.8561 - val_loss: 0.5939 - val_acc: 0.8192\n",
      "Epoch 71/100\n",
      "6600/6680 [============================>.] - ETA: 0s - loss: 0.4935 - acc: 0.8586Epoch 00070: val_loss improved from 0.59394 to 0.59063, saving model to saved_models/weights.best.Res.hdf5\n",
      "6680/6680 [==============================] - 4s - loss: 0.4938 - acc: 0.8585 - val_loss: 0.5906 - val_acc: 0.8168\n",
      "Epoch 72/100\n",
      "6660/6680 [============================>.] - ETA: 0s - loss: 0.4896 - acc: 0.8637Epoch 00071: val_loss improved from 0.59063 to 0.58965, saving model to saved_models/weights.best.Res.hdf5\n",
      "6680/6680 [==============================] - 4s - loss: 0.4893 - acc: 0.8639 - val_loss: 0.5896 - val_acc: 0.8144\n",
      "Epoch 73/100\n",
      "6600/6680 [============================>.] - ETA: 0s - loss: 0.4899 - acc: 0.8632Epoch 00072: val_loss improved from 0.58965 to 0.58696, saving model to saved_models/weights.best.Res.hdf5\n",
      "6680/6680 [==============================] - 4s - loss: 0.4883 - acc: 0.8633 - val_loss: 0.5870 - val_acc: 0.8216\n",
      "Epoch 74/100\n",
      "6580/6680 [============================>.] - ETA: 0s - loss: 0.4744 - acc: 0.8707Epoch 00073: val_loss improved from 0.58696 to 0.58323, saving model to saved_models/weights.best.Res.hdf5\n",
      "6680/6680 [==============================] - 4s - loss: 0.4736 - acc: 0.8707 - val_loss: 0.5832 - val_acc: 0.8251\n",
      "Epoch 75/100\n",
      "6580/6680 [============================>.] - ETA: 0s - loss: 0.4681 - acc: 0.8678Epoch 00074: val_loss improved from 0.58323 to 0.58104, saving model to saved_models/weights.best.Res.hdf5\n",
      "6680/6680 [==============================] - 4s - loss: 0.4695 - acc: 0.8675 - val_loss: 0.5810 - val_acc: 0.8251\n",
      "Epoch 76/100\n",
      "6580/6680 [============================>.] - ETA: 0s - loss: 0.4666 - acc: 0.8733Epoch 00075: val_loss improved from 0.58104 to 0.58061, saving model to saved_models/weights.best.Res.hdf5\n",
      "6680/6680 [==============================] - 4s - loss: 0.4662 - acc: 0.8731 - val_loss: 0.5806 - val_acc: 0.8311\n",
      "Epoch 77/100\n",
      "6620/6680 [============================>.] - ETA: 0s - loss: 0.4585 - acc: 0.8766Epoch 00076: val_loss improved from 0.58061 to 0.57934, saving model to saved_models/weights.best.Res.hdf5\n",
      "6680/6680 [==============================] - 4s - loss: 0.4597 - acc: 0.8760 - val_loss: 0.5793 - val_acc: 0.8240\n",
      "Epoch 78/100\n",
      "6600/6680 [============================>.] - ETA: 0s - loss: 0.4649 - acc: 0.8695Epoch 00077: val_loss improved from 0.57934 to 0.57735, saving model to saved_models/weights.best.Res.hdf5\n",
      "6680/6680 [==============================] - 4s - loss: 0.4659 - acc: 0.8695 - val_loss: 0.5773 - val_acc: 0.8263\n",
      "Epoch 79/100\n",
      "6660/6680 [============================>.] - ETA: 0s - loss: 0.4663 - acc: 0.8707Epoch 00078: val_loss improved from 0.57735 to 0.57478, saving model to saved_models/weights.best.Res.hdf5\n",
      "6680/6680 [==============================] - 4s - loss: 0.4656 - acc: 0.8710 - val_loss: 0.5748 - val_acc: 0.8299\n",
      "Epoch 80/100\n",
      "6580/6680 [============================>.] - ETA: 0s - loss: 0.4369 - acc: 0.8809Epoch 00079: val_loss improved from 0.57478 to 0.57396, saving model to saved_models/weights.best.Res.hdf5\n",
      "6680/6680 [==============================] - 4s - loss: 0.4361 - acc: 0.8811 - val_loss: 0.5740 - val_acc: 0.8263\n",
      "Epoch 81/100\n",
      "6660/6680 [============================>.] - ETA: 0s - loss: 0.4483 - acc: 0.8767Epoch 00080: val_loss improved from 0.57396 to 0.57271, saving model to saved_models/weights.best.Res.hdf5\n",
      "6680/6680 [==============================] - 4s - loss: 0.4476 - acc: 0.8771 - val_loss: 0.5727 - val_acc: 0.8263\n",
      "Epoch 82/100\n",
      "6580/6680 [============================>.] - ETA: 0s - loss: 0.4430 - acc: 0.8766Epoch 00081: val_loss improved from 0.57271 to 0.56907, saving model to saved_models/weights.best.Res.hdf5\n",
      "6680/6680 [==============================] - 4s - loss: 0.4427 - acc: 0.8765 - val_loss: 0.5691 - val_acc: 0.8275\n",
      "Epoch 83/100\n",
      "6660/6680 [============================>.] - ETA: 0s - loss: 0.4408 - acc: 0.8787Epoch 00082: val_loss improved from 0.56907 to 0.56829, saving model to saved_models/weights.best.Res.hdf5\n",
      "6680/6680 [==============================] - 4s - loss: 0.4408 - acc: 0.8784 - val_loss: 0.5683 - val_acc: 0.8251\n",
      "Epoch 84/100\n",
      "6600/6680 [============================>.] - ETA: 0s - loss: 0.4265 - acc: 0.8820Epoch 00083: val_loss improved from 0.56829 to 0.56666, saving model to saved_models/weights.best.Res.hdf5\n",
      "6680/6680 [==============================] - 4s - loss: 0.4272 - acc: 0.8816 - val_loss: 0.5667 - val_acc: 0.8251\n",
      "Epoch 85/100\n",
      "6600/6680 [============================>.] - ETA: 0s - loss: 0.4254 - acc: 0.8841Epoch 00084: val_loss improved from 0.56666 to 0.56341, saving model to saved_models/weights.best.Res.hdf5\n",
      "6680/6680 [==============================] - 4s - loss: 0.4279 - acc: 0.8834 - val_loss: 0.5634 - val_acc: 0.8275\n",
      "Epoch 86/100\n",
      "6640/6680 [============================>.] - ETA: 0s - loss: 0.4201 - acc: 0.8878Epoch 00085: val_loss improved from 0.56341 to 0.56152, saving model to saved_models/weights.best.Res.hdf5\n",
      "6680/6680 [==============================] - 4s - loss: 0.4195 - acc: 0.8879 - val_loss: 0.5615 - val_acc: 0.8287\n",
      "Epoch 87/100\n",
      "6620/6680 [============================>.] - ETA: 0s - loss: 0.4198 - acc: 0.8846Epoch 00086: val_loss improved from 0.56152 to 0.55939, saving model to saved_models/weights.best.Res.hdf5\n",
      "6680/6680 [==============================] - 4s - loss: 0.4201 - acc: 0.8846 - val_loss: 0.5594 - val_acc: 0.8347\n",
      "Epoch 88/100\n",
      "6640/6680 [============================>.] - ETA: 0s - loss: 0.4153 - acc: 0.8851Epoch 00087: val_loss improved from 0.55939 to 0.55925, saving model to saved_models/weights.best.Res.hdf5\n",
      "6680/6680 [==============================] - 4s - loss: 0.4155 - acc: 0.8852 - val_loss: 0.5593 - val_acc: 0.8251\n",
      "Epoch 89/100\n",
      "6660/6680 [============================>.] - ETA: 0s - loss: 0.4091 - acc: 0.8865Epoch 00088: val_loss improved from 0.55925 to 0.55834, saving model to saved_models/weights.best.Res.hdf5\n",
      "6680/6680 [==============================] - 4s - loss: 0.4096 - acc: 0.8862 - val_loss: 0.5583 - val_acc: 0.8275\n",
      "Epoch 90/100\n",
      "6600/6680 [============================>.] - ETA: 0s - loss: 0.4102 - acc: 0.8848Epoch 00089: val_loss improved from 0.55834 to 0.55684, saving model to saved_models/weights.best.Res.hdf5\n",
      "6680/6680 [==============================] - 4s - loss: 0.4093 - acc: 0.8855 - val_loss: 0.5568 - val_acc: 0.8299\n",
      "Epoch 91/100\n",
      "6640/6680 [============================>.] - ETA: 0s - loss: 0.4074 - acc: 0.8884Epoch 00090: val_loss improved from 0.55684 to 0.55539, saving model to saved_models/weights.best.Res.hdf5\n",
      "6680/6680 [==============================] - 4s - loss: 0.4079 - acc: 0.8883 - val_loss: 0.5554 - val_acc: 0.8323\n",
      "Epoch 92/100\n",
      "6580/6680 [============================>.] - ETA: 0s - loss: 0.3964 - acc: 0.8903Epoch 00091: val_loss improved from 0.55539 to 0.55261, saving model to saved_models/weights.best.Res.hdf5\n",
      "6680/6680 [==============================] - 4s - loss: 0.3954 - acc: 0.8907 - val_loss: 0.5526 - val_acc: 0.8263\n",
      "Epoch 93/100\n",
      "6580/6680 [============================>.] - ETA: 0s - loss: 0.4024 - acc: 0.8903Epoch 00092: val_loss did not improve\n",
      "6680/6680 [==============================] - 4s - loss: 0.4020 - acc: 0.8904 - val_loss: 0.5531 - val_acc: 0.8275\n",
      "Epoch 94/100\n",
      "6660/6680 [============================>.] - ETA: 0s - loss: 0.3833 - acc: 0.8961Epoch 00093: val_loss improved from 0.55261 to 0.55144, saving model to saved_models/weights.best.Res.hdf5\n",
      "6680/6680 [==============================] - 4s - loss: 0.3838 - acc: 0.8960 - val_loss: 0.5514 - val_acc: 0.8287\n",
      "Epoch 95/100\n",
      "6620/6680 [============================>.] - ETA: 0s - loss: 0.3938 - acc: 0.8946Epoch 00094: val_loss improved from 0.55144 to 0.54919, saving model to saved_models/weights.best.Res.hdf5\n",
      "6680/6680 [==============================] - 4s - loss: 0.3926 - acc: 0.8951 - val_loss: 0.5492 - val_acc: 0.8287\n",
      "Epoch 96/100\n",
      "6660/6680 [============================>.] - ETA: 0s - loss: 0.3909 - acc: 0.8958Epoch 00095: val_loss improved from 0.54919 to 0.54507, saving model to saved_models/weights.best.Res.hdf5\n",
      "6680/6680 [==============================] - 4s - loss: 0.3905 - acc: 0.8960 - val_loss: 0.5451 - val_acc: 0.8371\n",
      "Epoch 97/100\n",
      "6620/6680 [============================>.] - ETA: 0s - loss: 0.3910 - acc: 0.8962Epoch 00096: val_loss did not improve\n",
      "6680/6680 [==============================] - 4s - loss: 0.3907 - acc: 0.8964 - val_loss: 0.5459 - val_acc: 0.8228\n",
      "Epoch 98/100\n",
      "6640/6680 [============================>.] - ETA: 0s - loss: 0.3802 - acc: 0.8970Epoch 00097: val_loss improved from 0.54507 to 0.54434, saving model to saved_models/weights.best.Res.hdf5\n",
      "6680/6680 [==============================] - 4s - loss: 0.3791 - acc: 0.8975 - val_loss: 0.5443 - val_acc: 0.8263\n",
      "Epoch 99/100\n",
      "6660/6680 [============================>.] - ETA: 0s - loss: 0.3725 - acc: 0.8971Epoch 00098: val_loss improved from 0.54434 to 0.54254, saving model to saved_models/weights.best.Res.hdf5\n",
      "6680/6680 [==============================] - 4s - loss: 0.3721 - acc: 0.8973 - val_loss: 0.5425 - val_acc: 0.8347\n",
      "Epoch 100/100\n",
      "6640/6680 [============================>.] - ETA: 0s - loss: 0.3687 - acc: 0.9015Epoch 00099: val_loss improved from 0.54254 to 0.54153, saving model to saved_models/weights.best.Res.hdf5\n",
      "6680/6680 [==============================] - 4s - loss: 0.3693 - acc: 0.9012 - val_loss: 0.5415 - val_acc: 0.8359\n"
     ]
    }
   ],
   "source": [
    "#######################################       RESNET50 Implementation       ####################################################\n",
    "\n",
    "### TODO: Obtain bottleneck features from another pre-trained CNN.\n",
    "bottleneck_features = np.load('bottleneck_features/DogResnet50Data.npz')\n",
    "train_Res = bottleneck_features['train']\n",
    "valid_Res = bottleneck_features['valid']\n",
    "test_Res = bottleneck_features['test']\n",
    "\n",
    "### TODO: Define your architecture.\n",
    "Res_model = Sequential()\n",
    "Res_model.add(GlobalAveragePooling2D(input_shape=train_Res.shape[1:]))\n",
    "Res_model.add(Dense(512, activation='relu'))\n",
    "Res_model.add(Dropout(0.5))\n",
    "Res_model.add(Dense(133, activation='softmax'))\n",
    "\n",
    "Res_model.compile(loss='categorical_crossentropy', optimizer=optimizers.SGD(lr=1e-4, momentum=0.9), metrics=['accuracy'])\n",
    "\n",
    " \n",
    "### TODO: Train the model.\n",
    "checkpointer = ModelCheckpoint(filepath='saved_models/weights.best.Res.hdf5', \n",
    "                               verbose=1, save_best_only=True)\n",
    "\n",
    "Res_model.fit(train_Res, train_targets, \n",
    "          validation_data=(valid_Res, valid_targets),\n",
    "          epochs=100, batch_size=20, callbacks=[checkpointer], verbose=1)\n",
    "### TODO: Load the model weights with the best validation loss.\n",
    "Res_model.load_weights('saved_models/weights.best.Res.hdf5')\n"
   ]
  },
  {
   "cell_type": "code",
   "execution_count": 32,
   "metadata": {
    "nbpresent": {
     "id": "79ac0fae-69ea-4386-a3a3-2f5a104fe452"
    },
    "scrolled": false
   },
   "outputs": [
    {
     "name": "stdout",
     "output_type": "stream",
     "text": [
      "Test accuracy: 82.8947%\n"
     ]
    }
   ],
   "source": [
    "### TODO: Calculate classification accuracy on the test dataset.\n",
    "# get index of predicted dog breed for each image in test set\n",
    "Res_predictions = [np.argmax(Res_model.predict(np.expand_dims(feature, axis=0))) for feature in test_Res]\n",
    "\n",
    "# report test accuracy\n",
    "test_accuracy = 100*np.sum(np.array(Res_predictions)==np.argmax(test_targets, axis=1))/len(Res_predictions)\n",
    "print('Test accuracy: %.4f%%' % test_accuracy)"
   ]
  },
  {
   "cell_type": "code",
   "execution_count": 33,
   "metadata": {
    "nbpresent": {
     "id": "164067d0-394b-4d40-8d5e-029e6affe38c"
    },
    "scrolled": true
   },
   "outputs": [
    {
     "name": "stdout",
     "output_type": "stream",
     "text": [
      "Train on 6680 samples, validate on 835 samples\n",
      "Epoch 1/100\n",
      "6620/6680 [============================>.] - ETA: 0s - loss: 5.0812 - acc: 0.0171Epoch 00000: val_loss improved from inf to 4.38869, saving model to saved_models/weights.best.Inc.hdf5\n",
      "6680/6680 [==============================] - 6s - loss: 5.0775 - acc: 0.0172 - val_loss: 4.3887 - val_acc: 0.1353\n",
      "Epoch 2/100\n",
      "6660/6680 [============================>.] - ETA: 0s - loss: 4.3237 - acc: 0.1008Epoch 00001: val_loss improved from 4.38869 to 3.82998, saving model to saved_models/weights.best.Inc.hdf5\n",
      "6680/6680 [==============================] - 5s - loss: 4.3237 - acc: 0.1006 - val_loss: 3.8300 - val_acc: 0.3521\n",
      "Epoch 3/100\n",
      "6640/6680 [============================>.] - ETA: 0s - loss: 3.8055 - acc: 0.2402Epoch 00002: val_loss improved from 3.82998 to 3.29579, saving model to saved_models/weights.best.Inc.hdf5\n",
      "6680/6680 [==============================] - 5s - loss: 3.8029 - acc: 0.2410 - val_loss: 3.2958 - val_acc: 0.5198\n",
      "Epoch 4/100\n",
      "6660/6680 [============================>.] - ETA: 0s - loss: 3.3033 - acc: 0.3665Epoch 00003: val_loss improved from 3.29579 to 2.77557, saving model to saved_models/weights.best.Inc.hdf5\n",
      "6680/6680 [==============================] - 5s - loss: 3.3024 - acc: 0.3665 - val_loss: 2.7756 - val_acc: 0.6048\n",
      "Epoch 5/100\n",
      "6640/6680 [============================>.] - ETA: 0s - loss: 2.8300 - acc: 0.4580Epoch 00004: val_loss improved from 2.77557 to 2.31587, saving model to saved_models/weights.best.Inc.hdf5\n",
      "6680/6680 [==============================] - 5s - loss: 2.8293 - acc: 0.4581 - val_loss: 2.3159 - val_acc: 0.6467\n",
      "Epoch 6/100\n",
      "6660/6680 [============================>.] - ETA: 0s - loss: 2.4653 - acc: 0.5251Epoch 00005: val_loss improved from 2.31587 to 1.94443, saving model to saved_models/weights.best.Inc.hdf5\n",
      "6680/6680 [==============================] - 5s - loss: 2.4651 - acc: 0.5249 - val_loss: 1.9444 - val_acc: 0.6994\n",
      "Epoch 7/100\n",
      "6640/6680 [============================>.] - ETA: 0s - loss: 2.1479 - acc: 0.5764Epoch 00006: val_loss improved from 1.94443 to 1.65087, saving model to saved_models/weights.best.Inc.hdf5\n",
      "6680/6680 [==============================] - 5s - loss: 2.1466 - acc: 0.5768 - val_loss: 1.6509 - val_acc: 0.7341\n",
      "Epoch 8/100\n",
      "6620/6680 [============================>.] - ETA: 0s - loss: 1.8930 - acc: 0.6156Epoch 00007: val_loss improved from 1.65087 to 1.42877, saving model to saved_models/weights.best.Inc.hdf5\n",
      "6680/6680 [==============================] - 5s - loss: 1.8897 - acc: 0.6165 - val_loss: 1.4288 - val_acc: 0.7593\n",
      "Epoch 9/100\n",
      "6660/6680 [============================>.] - ETA: 0s - loss: 1.6897 - acc: 0.6464Epoch 00008: val_loss improved from 1.42877 to 1.26261, saving model to saved_models/weights.best.Inc.hdf5\n",
      "6680/6680 [==============================] - 5s - loss: 1.6888 - acc: 0.6469 - val_loss: 1.2626 - val_acc: 0.7689\n",
      "Epoch 10/100\n",
      "6640/6680 [============================>.] - ETA: 0s - loss: 1.5301 - acc: 0.6708Epoch 00009: val_loss improved from 1.26261 to 1.13202, saving model to saved_models/weights.best.Inc.hdf5\n",
      "6680/6680 [==============================] - 5s - loss: 1.5304 - acc: 0.6701 - val_loss: 1.1320 - val_acc: 0.7796\n",
      "Epoch 11/100\n",
      "6640/6680 [============================>.] - ETA: 0s - loss: 1.4100 - acc: 0.6873Epoch 00010: val_loss improved from 1.13202 to 1.03281, saving model to saved_models/weights.best.Inc.hdf5\n",
      "6680/6680 [==============================] - 5s - loss: 1.4097 - acc: 0.6877 - val_loss: 1.0328 - val_acc: 0.7868\n",
      "Epoch 12/100\n",
      "6660/6680 [============================>.] - ETA: 0s - loss: 1.3152 - acc: 0.7041Epoch 00011: val_loss improved from 1.03281 to 0.95384, saving model to saved_models/weights.best.Inc.hdf5\n",
      "6680/6680 [==============================] - 5s - loss: 1.3158 - acc: 0.7037 - val_loss: 0.9538 - val_acc: 0.7904\n",
      "Epoch 13/100\n",
      "6600/6680 [============================>.] - ETA: 0s - loss: 1.2147 - acc: 0.7183Epoch 00012: val_loss improved from 0.95384 to 0.89117, saving model to saved_models/weights.best.Inc.hdf5\n",
      "6680/6680 [==============================] - 5s - loss: 1.2164 - acc: 0.7175 - val_loss: 0.8912 - val_acc: 0.8012\n",
      "Epoch 14/100\n",
      "6640/6680 [============================>.] - ETA: 0s - loss: 1.1630 - acc: 0.7280Epoch 00013: val_loss improved from 0.89117 to 0.84010, saving model to saved_models/weights.best.Inc.hdf5\n",
      "6680/6680 [==============================] - 5s - loss: 1.1642 - acc: 0.7280 - val_loss: 0.8401 - val_acc: 0.8060\n",
      "Epoch 15/100\n",
      "6660/6680 [============================>.] - ETA: 0s - loss: 1.1109 - acc: 0.7333Epoch 00014: val_loss improved from 0.84010 to 0.80069, saving model to saved_models/weights.best.Inc.hdf5\n",
      "6680/6680 [==============================] - 5s - loss: 1.1121 - acc: 0.7331 - val_loss: 0.8007 - val_acc: 0.8084\n",
      "Epoch 16/100\n",
      "6620/6680 [============================>.] - ETA: 0s - loss: 1.0465 - acc: 0.7376Epoch 00015: val_loss improved from 0.80069 to 0.76374, saving model to saved_models/weights.best.Inc.hdf5\n",
      "6680/6680 [==============================] - 5s - loss: 1.0461 - acc: 0.7383 - val_loss: 0.7637 - val_acc: 0.8084\n",
      "Epoch 17/100\n",
      "6660/6680 [============================>.] - ETA: 0s - loss: 0.9828 - acc: 0.7586Epoch 00016: val_loss improved from 0.76374 to 0.73328, saving model to saved_models/weights.best.Inc.hdf5\n",
      "6680/6680 [==============================] - 5s - loss: 0.9846 - acc: 0.7582 - val_loss: 0.7333 - val_acc: 0.8144\n",
      "Epoch 18/100\n",
      "6660/6680 [============================>.] - ETA: 0s - loss: 0.9553 - acc: 0.7575Epoch 00017: val_loss improved from 0.73328 to 0.70710, saving model to saved_models/weights.best.Inc.hdf5\n",
      "6680/6680 [==============================] - 5s - loss: 0.9540 - acc: 0.7579 - val_loss: 0.7071 - val_acc: 0.8168\n",
      "Epoch 19/100\n",
      "6600/6680 [============================>.] - ETA: 0s - loss: 0.9137 - acc: 0.7685Epoch 00018: val_loss improved from 0.70710 to 0.68353, saving model to saved_models/weights.best.Inc.hdf5\n",
      "6680/6680 [==============================] - 5s - loss: 0.9127 - acc: 0.7687 - val_loss: 0.6835 - val_acc: 0.8299\n",
      "Epoch 20/100\n",
      "6620/6680 [============================>.] - ETA: 0s - loss: 0.8827 - acc: 0.7716Epoch 00019: val_loss improved from 0.68353 to 0.66535, saving model to saved_models/weights.best.Inc.hdf5\n",
      "6680/6680 [==============================] - 5s - loss: 0.8798 - acc: 0.7726 - val_loss: 0.6653 - val_acc: 0.8323\n",
      "Epoch 21/100\n",
      "6620/6680 [============================>.] - ETA: 0s - loss: 0.8658 - acc: 0.7721Epoch 00020: val_loss improved from 0.66535 to 0.64846, saving model to saved_models/weights.best.Inc.hdf5\n",
      "6680/6680 [==============================] - 5s - loss: 0.8679 - acc: 0.7717 - val_loss: 0.6485 - val_acc: 0.8287\n",
      "Epoch 22/100\n",
      "6600/6680 [============================>.] - ETA: 0s - loss: 0.8301 - acc: 0.7865Epoch 00021: val_loss improved from 0.64846 to 0.63307, saving model to saved_models/weights.best.Inc.hdf5\n",
      "6680/6680 [==============================] - 5s - loss: 0.8297 - acc: 0.7865 - val_loss: 0.6331 - val_acc: 0.8383\n",
      "Epoch 23/100\n",
      "6600/6680 [============================>.] - ETA: 0s - loss: 0.8178 - acc: 0.7792Epoch 00022: val_loss improved from 0.63307 to 0.61991, saving model to saved_models/weights.best.Inc.hdf5\n",
      "6680/6680 [==============================] - 5s - loss: 0.8187 - acc: 0.7789 - val_loss: 0.6199 - val_acc: 0.8359\n",
      "Epoch 24/100\n",
      "6620/6680 [============================>.] - ETA: 0s - loss: 0.7750 - acc: 0.7968Epoch 00023: val_loss improved from 0.61991 to 0.60758, saving model to saved_models/weights.best.Inc.hdf5\n",
      "6680/6680 [==============================] - 5s - loss: 0.7752 - acc: 0.7967 - val_loss: 0.6076 - val_acc: 0.8383\n",
      "Epoch 25/100\n",
      "6640/6680 [============================>.] - ETA: 0s - loss: 0.7644 - acc: 0.7953Epoch 00024: val_loss improved from 0.60758 to 0.59720, saving model to saved_models/weights.best.Inc.hdf5\n",
      "6680/6680 [==============================] - 5s - loss: 0.7648 - acc: 0.7952 - val_loss: 0.5972 - val_acc: 0.8443\n",
      "Epoch 26/100\n",
      "6660/6680 [============================>.] - ETA: 0s - loss: 0.7499 - acc: 0.7968Epoch 00025: val_loss improved from 0.59720 to 0.58992, saving model to saved_models/weights.best.Inc.hdf5\n",
      "6680/6680 [==============================] - 5s - loss: 0.7495 - acc: 0.7970 - val_loss: 0.5899 - val_acc: 0.8419\n",
      "Epoch 27/100\n",
      "6640/6680 [============================>.] - ETA: 0s - loss: 0.7247 - acc: 0.8072Epoch 00026: val_loss improved from 0.58992 to 0.58044, saving model to saved_models/weights.best.Inc.hdf5\n",
      "6680/6680 [==============================] - 5s - loss: 0.7256 - acc: 0.8070 - val_loss: 0.5804 - val_acc: 0.8479\n",
      "Epoch 28/100\n",
      "6640/6680 [============================>.] - ETA: 0s - loss: 0.7045 - acc: 0.8017Epoch 00027: val_loss improved from 0.58044 to 0.57291, saving model to saved_models/weights.best.Inc.hdf5\n",
      "6680/6680 [==============================] - 5s - loss: 0.7041 - acc: 0.8018 - val_loss: 0.5729 - val_acc: 0.8503\n",
      "Epoch 29/100\n",
      "6660/6680 [============================>.] - ETA: 0s - loss: 0.6967 - acc: 0.8092Epoch 00028: val_loss improved from 0.57291 to 0.56454, saving model to saved_models/weights.best.Inc.hdf5\n",
      "6680/6680 [==============================] - 5s - loss: 0.6964 - acc: 0.8094 - val_loss: 0.5645 - val_acc: 0.8467\n",
      "Epoch 30/100\n",
      "6660/6680 [============================>.] - ETA: 0s - loss: 0.6894 - acc: 0.8093Epoch 00029: val_loss improved from 0.56454 to 0.56001, saving model to saved_models/weights.best.Inc.hdf5\n",
      "6680/6680 [==============================] - 5s - loss: 0.6906 - acc: 0.8090 - val_loss: 0.5600 - val_acc: 0.8443\n",
      "Epoch 31/100\n",
      "6620/6680 [============================>.] - ETA: 0s - loss: 0.6707 - acc: 0.8159Epoch 00030: val_loss improved from 0.56001 to 0.55453, saving model to saved_models/weights.best.Inc.hdf5\n",
      "6680/6680 [==============================] - 5s - loss: 0.6700 - acc: 0.8163 - val_loss: 0.5545 - val_acc: 0.8467\n",
      "Epoch 32/100\n",
      "6600/6680 [============================>.] - ETA: 0s - loss: 0.6733 - acc: 0.8124Epoch 00031: val_loss improved from 0.55453 to 0.54778, saving model to saved_models/weights.best.Inc.hdf5\n",
      "6680/6680 [==============================] - 5s - loss: 0.6711 - acc: 0.8132 - val_loss: 0.5478 - val_acc: 0.8491\n",
      "Epoch 33/100\n",
      "6660/6680 [============================>.] - ETA: 0s - loss: 0.6470 - acc: 0.8221Epoch 00032: val_loss improved from 0.54778 to 0.54166, saving model to saved_models/weights.best.Inc.hdf5\n",
      "6680/6680 [==============================] - 5s - loss: 0.6467 - acc: 0.8223 - val_loss: 0.5417 - val_acc: 0.8479\n",
      "Epoch 34/100\n",
      "6660/6680 [============================>.] - ETA: 0s - loss: 0.6359 - acc: 0.8231Epoch 00033: val_loss improved from 0.54166 to 0.53774, saving model to saved_models/weights.best.Inc.hdf5\n",
      "6680/6680 [==============================] - 5s - loss: 0.6355 - acc: 0.8232 - val_loss: 0.5377 - val_acc: 0.8515\n",
      "Epoch 35/100\n",
      "6600/6680 [============================>.] - ETA: 0s - loss: 0.6318 - acc: 0.8258Epoch 00034: val_loss improved from 0.53774 to 0.53329, saving model to saved_models/weights.best.Inc.hdf5\n",
      "6680/6680 [==============================] - 5s - loss: 0.6305 - acc: 0.8257 - val_loss: 0.5333 - val_acc: 0.8539\n",
      "Epoch 36/100\n",
      "6620/6680 [============================>.] - ETA: 0s - loss: 0.6134 - acc: 0.8299Epoch 00035: val_loss improved from 0.53329 to 0.52850, saving model to saved_models/weights.best.Inc.hdf5\n",
      "6680/6680 [==============================] - 5s - loss: 0.6129 - acc: 0.8299 - val_loss: 0.5285 - val_acc: 0.8563\n",
      "Epoch 37/100\n",
      "6640/6680 [============================>.] - ETA: 0s - loss: 0.5929 - acc: 0.8318Epoch 00036: val_loss improved from 0.52850 to 0.52481, saving model to saved_models/weights.best.Inc.hdf5\n",
      "6680/6680 [==============================] - 5s - loss: 0.5925 - acc: 0.8323 - val_loss: 0.5248 - val_acc: 0.8539\n",
      "Epoch 38/100\n",
      "6620/6680 [============================>.] - ETA: 0s - loss: 0.6068 - acc: 0.8267Epoch 00037: val_loss improved from 0.52481 to 0.52307, saving model to saved_models/weights.best.Inc.hdf5\n",
      "6680/6680 [==============================] - 5s - loss: 0.6068 - acc: 0.8268 - val_loss: 0.5231 - val_acc: 0.8551\n",
      "Epoch 39/100\n",
      "6600/6680 [============================>.] - ETA: 0s - loss: 0.5906 - acc: 0.8320Epoch 00038: val_loss improved from 0.52307 to 0.52105, saving model to saved_models/weights.best.Inc.hdf5\n",
      "6680/6680 [==============================] - 5s - loss: 0.5909 - acc: 0.8322 - val_loss: 0.5211 - val_acc: 0.8539\n",
      "Epoch 40/100\n",
      "6640/6680 [============================>.] - ETA: 0s - loss: 0.5915 - acc: 0.8339Epoch 00039: val_loss improved from 0.52105 to 0.51563, saving model to saved_models/weights.best.Inc.hdf5\n",
      "6680/6680 [==============================] - 5s - loss: 0.5922 - acc: 0.8335 - val_loss: 0.5156 - val_acc: 0.8563\n",
      "Epoch 41/100\n",
      "6600/6680 [============================>.] - ETA: 0s - loss: 0.5742 - acc: 0.8382Epoch 00040: val_loss improved from 0.51563 to 0.51402, saving model to saved_models/weights.best.Inc.hdf5\n",
      "6680/6680 [==============================] - 5s - loss: 0.5730 - acc: 0.8383 - val_loss: 0.5140 - val_acc: 0.8527\n",
      "Epoch 42/100\n",
      "6660/6680 [============================>.] - ETA: 0s - loss: 0.5584 - acc: 0.8429Epoch 00041: val_loss improved from 0.51402 to 0.51045, saving model to saved_models/weights.best.Inc.hdf5\n",
      "6680/6680 [==============================] - 5s - loss: 0.5587 - acc: 0.8430 - val_loss: 0.5105 - val_acc: 0.8551\n",
      "Epoch 43/100\n",
      "6600/6680 [============================>.] - ETA: 0s - loss: 0.5590 - acc: 0.8411Epoch 00042: val_loss improved from 0.51045 to 0.50665, saving model to saved_models/weights.best.Inc.hdf5\n",
      "6680/6680 [==============================] - 5s - loss: 0.5616 - acc: 0.8406 - val_loss: 0.5066 - val_acc: 0.8599\n",
      "Epoch 44/100\n",
      "6640/6680 [============================>.] - ETA: 0s - loss: 0.5476 - acc: 0.8444Epoch 00043: val_loss improved from 0.50665 to 0.50457, saving model to saved_models/weights.best.Inc.hdf5\n",
      "6680/6680 [==============================] - 5s - loss: 0.5467 - acc: 0.8446 - val_loss: 0.5046 - val_acc: 0.8575\n",
      "Epoch 45/100\n",
      "6660/6680 [============================>.] - ETA: 0s - loss: 0.5468 - acc: 0.8444Epoch 00044: val_loss improved from 0.50457 to 0.50233, saving model to saved_models/weights.best.Inc.hdf5\n",
      "6680/6680 [==============================] - 5s - loss: 0.5465 - acc: 0.8446 - val_loss: 0.5023 - val_acc: 0.8539\n",
      "Epoch 46/100\n",
      "6600/6680 [============================>.] - ETA: 0s - loss: 0.5328 - acc: 0.8486Epoch 00045: val_loss improved from 0.50233 to 0.49927, saving model to saved_models/weights.best.Inc.hdf5\n",
      "6680/6680 [==============================] - 5s - loss: 0.5329 - acc: 0.8485 - val_loss: 0.4993 - val_acc: 0.8599\n",
      "Epoch 47/100\n",
      "6660/6680 [============================>.] - ETA: 0s - loss: 0.5187 - acc: 0.8500Epoch 00046: val_loss improved from 0.49927 to 0.49725, saving model to saved_models/weights.best.Inc.hdf5\n",
      "6680/6680 [==============================] - 5s - loss: 0.5193 - acc: 0.8497 - val_loss: 0.4972 - val_acc: 0.8599\n",
      "Epoch 48/100\n",
      "6620/6680 [============================>.] - ETA: 0s - loss: 0.5223 - acc: 0.8489Epoch 00047: val_loss improved from 0.49725 to 0.49422, saving model to saved_models/weights.best.Inc.hdf5\n",
      "6680/6680 [==============================] - 5s - loss: 0.5220 - acc: 0.8494 - val_loss: 0.4942 - val_acc: 0.8587\n",
      "Epoch 49/100\n",
      "6600/6680 [============================>.] - ETA: 0s - loss: 0.5131 - acc: 0.8512Epoch 00048: val_loss improved from 0.49422 to 0.49245, saving model to saved_models/weights.best.Inc.hdf5\n",
      "6680/6680 [==============================] - 5s - loss: 0.5129 - acc: 0.8507 - val_loss: 0.4924 - val_acc: 0.8599\n",
      "Epoch 50/100\n",
      "6600/6680 [============================>.] - ETA: 0s - loss: 0.5027 - acc: 0.8555Epoch 00049: val_loss improved from 0.49245 to 0.49163, saving model to saved_models/weights.best.Inc.hdf5\n",
      "6680/6680 [==============================] - 5s - loss: 0.5029 - acc: 0.8557 - val_loss: 0.4916 - val_acc: 0.8563\n",
      "Epoch 51/100\n",
      "6620/6680 [============================>.] - ETA: 0s - loss: 0.5039 - acc: 0.8542Epoch 00050: val_loss improved from 0.49163 to 0.48879, saving model to saved_models/weights.best.Inc.hdf5\n",
      "6680/6680 [==============================] - 5s - loss: 0.5045 - acc: 0.8546 - val_loss: 0.4888 - val_acc: 0.8563\n",
      "Epoch 52/100\n",
      "6660/6680 [============================>.] - ETA: 0s - loss: 0.4948 - acc: 0.8562Epoch 00051: val_loss did not improve\n",
      "6680/6680 [==============================] - 5s - loss: 0.4951 - acc: 0.8563 - val_loss: 0.4890 - val_acc: 0.8611\n",
      "Epoch 53/100\n",
      "6640/6680 [============================>.] - ETA: 0s - loss: 0.4908 - acc: 0.8538Epoch 00052: val_loss improved from 0.48879 to 0.48505, saving model to saved_models/weights.best.Inc.hdf5\n",
      "6680/6680 [==============================] - 5s - loss: 0.4890 - acc: 0.8543 - val_loss: 0.4850 - val_acc: 0.8563\n",
      "Epoch 54/100\n",
      "6640/6680 [============================>.] - ETA: 0s - loss: 0.4784 - acc: 0.8628Epoch 00053: val_loss improved from 0.48505 to 0.48290, saving model to saved_models/weights.best.Inc.hdf5\n",
      "6680/6680 [==============================] - 5s - loss: 0.4787 - acc: 0.8630 - val_loss: 0.4829 - val_acc: 0.8611\n",
      "Epoch 55/100\n",
      "6660/6680 [============================>.] - ETA: 0s - loss: 0.4785 - acc: 0.8596Epoch 00054: val_loss did not improve\n",
      "6680/6680 [==============================] - 5s - loss: 0.4785 - acc: 0.8593 - val_loss: 0.4833 - val_acc: 0.8551\n",
      "Epoch 56/100\n",
      "6640/6680 [============================>.] - ETA: 0s - loss: 0.4737 - acc: 0.8584Epoch 00055: val_loss improved from 0.48290 to 0.48288, saving model to saved_models/weights.best.Inc.hdf5\n",
      "6680/6680 [==============================] - 5s - loss: 0.4770 - acc: 0.8578 - val_loss: 0.4829 - val_acc: 0.8563\n",
      "Epoch 57/100\n",
      "6600/6680 [============================>.] - ETA: 0s - loss: 0.4691 - acc: 0.8639Epoch 00056: val_loss improved from 0.48288 to 0.48057, saving model to saved_models/weights.best.Inc.hdf5\n",
      "6680/6680 [==============================] - 5s - loss: 0.4699 - acc: 0.8639 - val_loss: 0.4806 - val_acc: 0.8599\n",
      "Epoch 58/100\n",
      "6620/6680 [============================>.] - ETA: 0s - loss: 0.4694 - acc: 0.8609Epoch 00057: val_loss improved from 0.48057 to 0.47977, saving model to saved_models/weights.best.Inc.hdf5\n",
      "6680/6680 [==============================] - 5s - loss: 0.4680 - acc: 0.8612 - val_loss: 0.4798 - val_acc: 0.8611\n",
      "Epoch 59/100\n",
      "6600/6680 [============================>.] - ETA: 0s - loss: 0.4624 - acc: 0.8709Epoch 00058: val_loss improved from 0.47977 to 0.47880, saving model to saved_models/weights.best.Inc.hdf5\n",
      "6680/6680 [==============================] - 5s - loss: 0.4616 - acc: 0.8707 - val_loss: 0.4788 - val_acc: 0.8647\n",
      "Epoch 60/100\n",
      "6640/6680 [============================>.] - ETA: 0s - loss: 0.4474 - acc: 0.8711Epoch 00059: val_loss improved from 0.47880 to 0.47755, saving model to saved_models/weights.best.Inc.hdf5\n",
      "6680/6680 [==============================] - 5s - loss: 0.4484 - acc: 0.8705 - val_loss: 0.4775 - val_acc: 0.8611\n",
      "Epoch 61/100\n",
      "6640/6680 [============================>.] - ETA: 0s - loss: 0.4445 - acc: 0.8694Epoch 00060: val_loss improved from 0.47755 to 0.47630, saving model to saved_models/weights.best.Inc.hdf5\n",
      "6680/6680 [==============================] - 5s - loss: 0.4450 - acc: 0.8692 - val_loss: 0.4763 - val_acc: 0.8611\n",
      "Epoch 62/100\n",
      "6660/6680 [============================>.] - ETA: 0s - loss: 0.4391 - acc: 0.8725Epoch 00061: val_loss improved from 0.47630 to 0.47434, saving model to saved_models/weights.best.Inc.hdf5\n",
      "6680/6680 [==============================] - 5s - loss: 0.4391 - acc: 0.8725 - val_loss: 0.4743 - val_acc: 0.8599\n",
      "Epoch 63/100\n",
      "6620/6680 [============================>.] - ETA: 0s - loss: 0.4408 - acc: 0.8686Epoch 00062: val_loss improved from 0.47434 to 0.47401, saving model to saved_models/weights.best.Inc.hdf5\n",
      "6680/6680 [==============================] - 5s - loss: 0.4410 - acc: 0.8686 - val_loss: 0.4740 - val_acc: 0.8611\n",
      "Epoch 64/100\n",
      "6620/6680 [============================>.] - ETA: 0s - loss: 0.4371 - acc: 0.8693Epoch 00063: val_loss improved from 0.47401 to 0.47181, saving model to saved_models/weights.best.Inc.hdf5\n",
      "6680/6680 [==============================] - 5s - loss: 0.4376 - acc: 0.8687 - val_loss: 0.4718 - val_acc: 0.8635\n",
      "Epoch 65/100\n",
      "6640/6680 [============================>.] - ETA: 0s - loss: 0.4317 - acc: 0.8717Epoch 00064: val_loss improved from 0.47181 to 0.47035, saving model to saved_models/weights.best.Inc.hdf5\n",
      "6680/6680 [==============================] - 5s - loss: 0.4318 - acc: 0.8720 - val_loss: 0.4703 - val_acc: 0.8623\n",
      "Epoch 66/100\n",
      "6640/6680 [============================>.] - ETA: 0s - loss: 0.4275 - acc: 0.8758Epoch 00065: val_loss did not improve\n",
      "6680/6680 [==============================] - 5s - loss: 0.4289 - acc: 0.8754 - val_loss: 0.4712 - val_acc: 0.8611\n",
      "Epoch 67/100\n",
      "6620/6680 [============================>.] - ETA: 0s - loss: 0.4278 - acc: 0.8728Epoch 00066: val_loss improved from 0.47035 to 0.46902, saving model to saved_models/weights.best.Inc.hdf5\n",
      "6680/6680 [==============================] - 5s - loss: 0.4272 - acc: 0.8729 - val_loss: 0.4690 - val_acc: 0.8599\n",
      "Epoch 68/100\n",
      "6660/6680 [============================>.] - ETA: 0s - loss: 0.4210 - acc: 0.8758Epoch 00067: val_loss improved from 0.46902 to 0.46845, saving model to saved_models/weights.best.Inc.hdf5\n",
      "6680/6680 [==============================] - 5s - loss: 0.4210 - acc: 0.8759 - val_loss: 0.4684 - val_acc: 0.8563\n",
      "Epoch 69/100\n",
      "6620/6680 [============================>.] - ETA: 0s - loss: 0.4148 - acc: 0.8789Epoch 00068: val_loss improved from 0.46845 to 0.46771, saving model to saved_models/weights.best.Inc.hdf5\n",
      "6680/6680 [==============================] - 5s - loss: 0.4149 - acc: 0.8787 - val_loss: 0.4677 - val_acc: 0.8575\n",
      "Epoch 70/100\n",
      "6600/6680 [============================>.] - ETA: 0s - loss: 0.4113 - acc: 0.8812Epoch 00069: val_loss did not improve\n",
      "6680/6680 [==============================] - 5s - loss: 0.4126 - acc: 0.8799 - val_loss: 0.4695 - val_acc: 0.8575\n",
      "Epoch 71/100\n",
      "6600/6680 [============================>.] - ETA: 0s - loss: 0.4112 - acc: 0.8759Epoch 00070: val_loss improved from 0.46771 to 0.46749, saving model to saved_models/weights.best.Inc.hdf5\n",
      "6680/6680 [==============================] - 5s - loss: 0.4121 - acc: 0.8754 - val_loss: 0.4675 - val_acc: 0.8575\n",
      "Epoch 72/100\n",
      "6600/6680 [============================>.] - ETA: 0s - loss: 0.4073 - acc: 0.8824Epoch 00071: val_loss improved from 0.46749 to 0.46687, saving model to saved_models/weights.best.Inc.hdf5\n",
      "6680/6680 [==============================] - 5s - loss: 0.4076 - acc: 0.8819 - val_loss: 0.4669 - val_acc: 0.8587\n",
      "Epoch 73/100\n",
      "6640/6680 [============================>.] - ETA: 0s - loss: 0.4032 - acc: 0.8800Epoch 00072: val_loss improved from 0.46687 to 0.46666, saving model to saved_models/weights.best.Inc.hdf5\n",
      "6680/6680 [==============================] - 5s - loss: 0.4033 - acc: 0.8799 - val_loss: 0.4667 - val_acc: 0.8575\n",
      "Epoch 74/100\n",
      "6620/6680 [============================>.] - ETA: 0s - loss: 0.3901 - acc: 0.8896Epoch 00073: val_loss improved from 0.46666 to 0.46459, saving model to saved_models/weights.best.Inc.hdf5\n",
      "6680/6680 [==============================] - 5s - loss: 0.3915 - acc: 0.8891 - val_loss: 0.4646 - val_acc: 0.8623\n",
      "Epoch 75/100\n",
      "6640/6680 [============================>.] - ETA: 0s - loss: 0.3969 - acc: 0.8842Epoch 00074: val_loss improved from 0.46459 to 0.46384, saving model to saved_models/weights.best.Inc.hdf5\n",
      "6680/6680 [==============================] - 5s - loss: 0.3959 - acc: 0.8846 - val_loss: 0.4638 - val_acc: 0.8635\n",
      "Epoch 76/100\n",
      "6620/6680 [============================>.] - ETA: 0s - loss: 0.3930 - acc: 0.8853Epoch 00075: val_loss did not improve\n",
      "6680/6680 [==============================] - 5s - loss: 0.3922 - acc: 0.8859 - val_loss: 0.4656 - val_acc: 0.8611\n",
      "Epoch 77/100\n",
      "6620/6680 [============================>.] - ETA: 0s - loss: 0.3865 - acc: 0.8869Epoch 00076: val_loss did not improve\n",
      "6680/6680 [==============================] - 5s - loss: 0.3880 - acc: 0.8867 - val_loss: 0.4654 - val_acc: 0.8575\n",
      "Epoch 78/100\n",
      "6660/6680 [============================>.] - ETA: 0s - loss: 0.3872 - acc: 0.8866Epoch 00077: val_loss did not improve\n",
      "6680/6680 [==============================] - 5s - loss: 0.3869 - acc: 0.8865 - val_loss: 0.4648 - val_acc: 0.8599\n",
      "Epoch 79/100\n",
      "6620/6680 [============================>.] - ETA: 0s - loss: 0.3794 - acc: 0.8893Epoch 00078: val_loss did not improve\n",
      "6680/6680 [==============================] - 5s - loss: 0.3797 - acc: 0.8888 - val_loss: 0.4640 - val_acc: 0.8587\n",
      "Epoch 80/100\n",
      "6600/6680 [============================>.] - ETA: 0s - loss: 0.3781 - acc: 0.8862Epoch 00079: val_loss improved from 0.46384 to 0.46277, saving model to saved_models/weights.best.Inc.hdf5\n",
      "6680/6680 [==============================] - 5s - loss: 0.3784 - acc: 0.8862 - val_loss: 0.4628 - val_acc: 0.8575\n",
      "Epoch 81/100\n",
      "6620/6680 [============================>.] - ETA: 0s - loss: 0.3815 - acc: 0.8873Epoch 00080: val_loss did not improve\n",
      "6680/6680 [==============================] - 5s - loss: 0.3807 - acc: 0.8874 - val_loss: 0.4639 - val_acc: 0.8587\n",
      "Epoch 82/100\n",
      "6600/6680 [============================>.] - ETA: 0s - loss: 0.3866 - acc: 0.8852Epoch 00081: val_loss did not improve\n",
      "6680/6680 [==============================] - 5s - loss: 0.3868 - acc: 0.8849 - val_loss: 0.4634 - val_acc: 0.8611\n",
      "Epoch 83/100\n",
      "6640/6680 [============================>.] - ETA: 0s - loss: 0.3803 - acc: 0.8866Epoch 00082: val_loss improved from 0.46277 to 0.46256, saving model to saved_models/weights.best.Inc.hdf5\n",
      "6680/6680 [==============================] - 5s - loss: 0.3802 - acc: 0.8864 - val_loss: 0.4626 - val_acc: 0.8599\n",
      "Epoch 84/100\n",
      "6660/6680 [============================>.] - ETA: 0s - loss: 0.3694 - acc: 0.8914Epoch 00083: val_loss improved from 0.46256 to 0.46246, saving model to saved_models/weights.best.Inc.hdf5\n",
      "6680/6680 [==============================] - 5s - loss: 0.3692 - acc: 0.8915 - val_loss: 0.4625 - val_acc: 0.8599\n",
      "Epoch 85/100\n",
      "6600/6680 [============================>.] - ETA: 0s - loss: 0.3643 - acc: 0.8938Epoch 00084: val_loss improved from 0.46246 to 0.46119, saving model to saved_models/weights.best.Inc.hdf5\n",
      "6680/6680 [==============================] - 5s - loss: 0.3642 - acc: 0.8937 - val_loss: 0.4612 - val_acc: 0.8587\n",
      "Epoch 86/100\n",
      "6660/6680 [============================>.] - ETA: 0s - loss: 0.3650 - acc: 0.8908Epoch 00085: val_loss improved from 0.46119 to 0.46005, saving model to saved_models/weights.best.Inc.hdf5\n",
      "6680/6680 [==============================] - 5s - loss: 0.3653 - acc: 0.8907 - val_loss: 0.4601 - val_acc: 0.8587\n",
      "Epoch 87/100\n",
      "6660/6680 [============================>.] - ETA: 0s - loss: 0.3583 - acc: 0.8937Epoch 00086: val_loss improved from 0.46005 to 0.45974, saving model to saved_models/weights.best.Inc.hdf5\n",
      "6680/6680 [==============================] - 5s - loss: 0.3579 - acc: 0.8939 - val_loss: 0.4597 - val_acc: 0.8599\n",
      "Epoch 88/100\n",
      "6600/6680 [============================>.] - ETA: 0s - loss: 0.3567 - acc: 0.8942Epoch 00087: val_loss improved from 0.45974 to 0.45820, saving model to saved_models/weights.best.Inc.hdf5\n",
      "6680/6680 [==============================] - 5s - loss: 0.3563 - acc: 0.8948 - val_loss: 0.4582 - val_acc: 0.8563\n",
      "Epoch 89/100\n",
      "6640/6680 [============================>.] - ETA: 0s - loss: 0.3516 - acc: 0.8980Epoch 00088: val_loss did not improve\n",
      "6680/6680 [==============================] - 5s - loss: 0.3516 - acc: 0.8979 - val_loss: 0.4595 - val_acc: 0.8599\n",
      "Epoch 90/100\n",
      "6600/6680 [============================>.] - ETA: 0s - loss: 0.3569 - acc: 0.8929Epoch 00089: val_loss did not improve\n",
      "6680/6680 [==============================] - 5s - loss: 0.3575 - acc: 0.8925 - val_loss: 0.4590 - val_acc: 0.8587\n",
      "Epoch 91/100\n",
      "6600/6680 [============================>.] - ETA: 0s - loss: 0.3421 - acc: 0.8979Epoch 00090: val_loss did not improve\n",
      "6680/6680 [==============================] - 5s - loss: 0.3441 - acc: 0.8970 - val_loss: 0.4591 - val_acc: 0.8623\n",
      "Epoch 92/100\n",
      "6600/6680 [============================>.] - ETA: 0s - loss: 0.3441 - acc: 0.8964Epoch 00091: val_loss did not improve\n",
      "6680/6680 [==============================] - 5s - loss: 0.3449 - acc: 0.8961 - val_loss: 0.4584 - val_acc: 0.8587\n",
      "Epoch 93/100\n",
      "6640/6680 [============================>.] - ETA: 0s - loss: 0.3453 - acc: 0.8968Epoch 00092: val_loss did not improve\n",
      "6680/6680 [==============================] - 5s - loss: 0.3458 - acc: 0.8963 - val_loss: 0.4585 - val_acc: 0.8587\n",
      "Epoch 94/100\n",
      "6660/6680 [============================>.] - ETA: 0s - loss: 0.3374 - acc: 0.9014Epoch 00093: val_loss improved from 0.45820 to 0.45818, saving model to saved_models/weights.best.Inc.hdf5\n",
      "6680/6680 [==============================] - 5s - loss: 0.3383 - acc: 0.9012 - val_loss: 0.4582 - val_acc: 0.8575\n",
      "Epoch 95/100\n",
      "6620/6680 [============================>.] - ETA: 0s - loss: 0.3383 - acc: 0.8970Epoch 00094: val_loss did not improve\n",
      "6680/6680 [==============================] - 5s - loss: 0.3390 - acc: 0.8969 - val_loss: 0.4607 - val_acc: 0.8563\n",
      "Epoch 96/100\n",
      "6640/6680 [============================>.] - ETA: 0s - loss: 0.3353 - acc: 0.9015Epoch 00095: val_loss did not improve\n",
      "6680/6680 [==============================] - 5s - loss: 0.3347 - acc: 0.9018 - val_loss: 0.4591 - val_acc: 0.8611\n",
      "Epoch 97/100\n",
      "6660/6680 [============================>.] - ETA: 0s - loss: 0.3312 - acc: 0.9024Epoch 00096: val_loss improved from 0.45818 to 0.45740, saving model to saved_models/weights.best.Inc.hdf5\n",
      "6680/6680 [==============================] - 5s - loss: 0.3304 - acc: 0.9027 - val_loss: 0.4574 - val_acc: 0.8623\n",
      "Epoch 98/100\n",
      "6660/6680 [============================>.] - ETA: 0s - loss: 0.3350 - acc: 0.8997Epoch 00097: val_loss improved from 0.45740 to 0.45633, saving model to saved_models/weights.best.Inc.hdf5\n",
      "6680/6680 [==============================] - 5s - loss: 0.3353 - acc: 0.8996 - val_loss: 0.4563 - val_acc: 0.8611\n",
      "Epoch 99/100\n",
      "6660/6680 [============================>.] - ETA: 0s - loss: 0.3297 - acc: 0.9008Epoch 00098: val_loss did not improve\n",
      "6680/6680 [==============================] - 5s - loss: 0.3296 - acc: 0.9007 - val_loss: 0.4568 - val_acc: 0.8611\n",
      "Epoch 100/100\n",
      "6600/6680 [============================>.] - ETA: 0s - loss: 0.3260 - acc: 0.9035Epoch 00099: val_loss did not improve\n",
      "6680/6680 [==============================] - 5s - loss: 0.3254 - acc: 0.9036 - val_loss: 0.4567 - val_acc: 0.8587\n"
     ]
    }
   ],
   "source": [
    "#######################################       Inception Implementation       ####################################################\n",
    "\n",
    "### TODO: Obtain bottleneck features from another pre-trained CNN.\n",
    "bottleneck_features = np.load('bottleneck_features/DogInceptionV3Data.npz')\n",
    "train_Inc = bottleneck_features['train']\n",
    "valid_Inc = bottleneck_features['valid']\n",
    "test_Inc = bottleneck_features['test']\n",
    "\n",
    "### TODO: Define your architecture.\n",
    "Inc_model = Sequential()\n",
    "Inc_model.add(GlobalAveragePooling2D(input_shape=train_Inc.shape[1:]))\n",
    "Inc_model.add(Dense(512, activation='relu'))\n",
    "Inc_model.add(Dropout(0.5))\n",
    "Inc_model.add(Dense(133, activation='softmax'))\n",
    "\n",
    "Inc_model.compile(loss='categorical_crossentropy', optimizer=optimizers.SGD(lr=1e-4, momentum=0.9), metrics=['accuracy'])\n",
    "\n",
    " \n",
    "### TODO: Train the model.\n",
    "checkpointer = ModelCheckpoint(filepath='saved_models/weights.best.Inc.hdf5', \n",
    "                               verbose=1, save_best_only=True)\n",
    "\n",
    "Inc_model.fit(train_Inc, train_targets, \n",
    "          validation_data=(valid_Inc, valid_targets),\n",
    "          epochs=100, batch_size=20, callbacks=[checkpointer], verbose=1)\n",
    "### TODO: Load the model weights with the best validation loss.\n",
    "Res_model.load_weights('saved_models/weights.best.Inc.hdf5')"
   ]
  },
  {
   "cell_type": "code",
   "execution_count": 34,
   "metadata": {
    "nbpresent": {
     "id": "4e23d757-aa9f-423f-98c7-c8183e23cda4"
    },
    "scrolled": false
   },
   "outputs": [
    {
     "name": "stdout",
     "output_type": "stream",
     "text": [
      "Test accuracy: 82.7751%\n"
     ]
    }
   ],
   "source": [
    "### TODO: Calculate classification accuracy on the test dataset.\n",
    "# get index of predicted dog breed for each image in test set\n",
    "Inc_predictions = [np.argmax(Inc_model.predict(np.expand_dims(feature, axis=0))) for feature in test_Inc]\n",
    "\n",
    "# report test accuracy\n",
    "test_accuracy = 100*np.sum(np.array(Inc_predictions)==np.argmax(test_targets, axis=1))/len(Inc_predictions)\n",
    "print('Test accuracy: %.4f%%' % test_accuracy)"
   ]
  },
  {
   "cell_type": "code",
   "execution_count": 35,
   "metadata": {
    "nbpresent": {
     "id": "6e6e0bc3-bfbd-4612-92c5-d0a931482eda"
    },
    "scrolled": true
   },
   "outputs": [
    {
     "name": "stdout",
     "output_type": "stream",
     "text": [
      "Train on 6680 samples, validate on 835 samples\n",
      "Epoch 1/500\n",
      "6550/6680 [============================>.] - ETA: 0s - loss: 5.4410 - acc: 0.0073Epoch 00000: val_loss improved from inf to 4.90084, saving model to saved_models/weights.best.Res.hdf5\n",
      "6680/6680 [==============================] - 2s - loss: 5.4348 - acc: 0.0072 - val_loss: 4.9008 - val_acc: 0.0180\n",
      "Epoch 2/500\n",
      "6600/6680 [============================>.] - ETA: 0s - loss: 5.0413 - acc: 0.0185Epoch 00001: val_loss improved from 4.90084 to 4.66500, saving model to saved_models/weights.best.Res.hdf5\n",
      "6680/6680 [==============================] - 2s - loss: 5.0383 - acc: 0.0184 - val_loss: 4.6650 - val_acc: 0.0479\n",
      "Epoch 3/500\n",
      "6550/6680 [============================>.] - ETA: 0s - loss: 4.7700 - acc: 0.0368Epoch 00002: val_loss improved from 4.66500 to 4.48842, saving model to saved_models/weights.best.Res.hdf5\n",
      "6680/6680 [==============================] - 2s - loss: 4.7686 - acc: 0.0370 - val_loss: 4.4884 - val_acc: 0.0886\n",
      "Epoch 4/500\n",
      "6600/6680 [============================>.] - ETA: 0s - loss: 4.5900 - acc: 0.0536Epoch 00003: val_loss improved from 4.48842 to 4.33935, saving model to saved_models/weights.best.Res.hdf5\n",
      "6680/6680 [==============================] - 2s - loss: 4.5894 - acc: 0.0536 - val_loss: 4.3394 - val_acc: 0.1353\n",
      "Epoch 5/500\n",
      "6500/6680 [============================>.] - ETA: 0s - loss: 4.4249 - acc: 0.0711Epoch 00004: val_loss improved from 4.33935 to 4.19835, saving model to saved_models/weights.best.Res.hdf5\n",
      "6680/6680 [==============================] - 2s - loss: 4.4284 - acc: 0.0711 - val_loss: 4.1984 - val_acc: 0.1964\n",
      "Epoch 6/500\n",
      "6600/6680 [============================>.] - ETA: 0s - loss: 4.2696 - acc: 0.1138Epoch 00005: val_loss improved from 4.19835 to 4.06003, saving model to saved_models/weights.best.Res.hdf5\n",
      "6680/6680 [==============================] - 2s - loss: 4.2699 - acc: 0.1132 - val_loss: 4.0600 - val_acc: 0.2323\n",
      "Epoch 7/500\n",
      "6600/6680 [============================>.] - ETA: 0s - loss: 4.1405 - acc: 0.1373Epoch 00006: val_loss improved from 4.06003 to 3.92115, saving model to saved_models/weights.best.Res.hdf5\n",
      "6680/6680 [==============================] - 2s - loss: 4.1385 - acc: 0.1379 - val_loss: 3.9211 - val_acc: 0.2707\n",
      "Epoch 8/500\n",
      "6600/6680 [============================>.] - ETA: 0s - loss: 4.0038 - acc: 0.1574Epoch 00007: val_loss improved from 3.92115 to 3.77994, saving model to saved_models/weights.best.Res.hdf5\n",
      "6680/6680 [==============================] - 2s - loss: 4.0022 - acc: 0.1579 - val_loss: 3.7799 - val_acc: 0.3114\n",
      "Epoch 9/500\n",
      "6600/6680 [============================>.] - ETA: 0s - loss: 3.8810 - acc: 0.1880Epoch 00008: val_loss improved from 3.77994 to 3.63853, saving model to saved_models/weights.best.Res.hdf5\n",
      "6680/6680 [==============================] - 2s - loss: 3.8822 - acc: 0.1880 - val_loss: 3.6385 - val_acc: 0.3473\n",
      "Epoch 10/500\n",
      "6500/6680 [============================>.] - ETA: 0s - loss: 3.7510 - acc: 0.2195Epoch 00009: val_loss improved from 3.63853 to 3.49866, saving model to saved_models/weights.best.Res.hdf5\n",
      "6680/6680 [==============================] - 2s - loss: 3.7508 - acc: 0.2184 - val_loss: 3.4987 - val_acc: 0.3868\n",
      "Epoch 11/500\n",
      "6600/6680 [============================>.] - ETA: 0s - loss: 3.6201 - acc: 0.2359Epoch 00010: val_loss improved from 3.49866 to 3.35831, saving model to saved_models/weights.best.Res.hdf5\n",
      "6680/6680 [==============================] - 2s - loss: 3.6167 - acc: 0.2376 - val_loss: 3.3583 - val_acc: 0.4132\n",
      "Epoch 12/500\n",
      "6550/6680 [============================>.] - ETA: 0s - loss: 3.4822 - acc: 0.2707Epoch 00011: val_loss improved from 3.35831 to 3.22047, saving model to saved_models/weights.best.Res.hdf5\n",
      "6680/6680 [==============================] - 2s - loss: 3.4821 - acc: 0.2702 - val_loss: 3.2205 - val_acc: 0.4455\n",
      "Epoch 13/500\n",
      "6650/6680 [============================>.] - ETA: 0s - loss: 3.3600 - acc: 0.2878Epoch 00012: val_loss improved from 3.22047 to 3.08839, saving model to saved_models/weights.best.Res.hdf5\n",
      "6680/6680 [==============================] - 2s - loss: 3.3595 - acc: 0.2880 - val_loss: 3.0884 - val_acc: 0.4611\n",
      "Epoch 14/500\n",
      "6500/6680 [============================>.] - ETA: 0s - loss: 3.2471 - acc: 0.3051Epoch 00013: val_loss improved from 3.08839 to 2.95959, saving model to saved_models/weights.best.Res.hdf5\n",
      "6680/6680 [==============================] - 2s - loss: 3.2426 - acc: 0.3054 - val_loss: 2.9596 - val_acc: 0.4862\n",
      "Epoch 15/500\n",
      "6650/6680 [============================>.] - ETA: 0s - loss: 3.1176 - acc: 0.3298Epoch 00014: val_loss improved from 2.95959 to 2.83499, saving model to saved_models/weights.best.Res.hdf5\n",
      "6680/6680 [==============================] - 2s - loss: 3.1180 - acc: 0.3296 - val_loss: 2.8350 - val_acc: 0.5054\n",
      "Epoch 16/500\n",
      "6550/6680 [============================>.] - ETA: 0s - loss: 3.0070 - acc: 0.3481Epoch 00015: val_loss improved from 2.83499 to 2.71747, saving model to saved_models/weights.best.Res.hdf5\n",
      "6680/6680 [==============================] - 2s - loss: 3.0085 - acc: 0.3487 - val_loss: 2.7175 - val_acc: 0.5210\n",
      "Epoch 17/500\n",
      "6600/6680 [============================>.] - ETA: 0s - loss: 2.8876 - acc: 0.3694Epoch 00016: val_loss improved from 2.71747 to 2.60579, saving model to saved_models/weights.best.Res.hdf5\n",
      "6680/6680 [==============================] - 2s - loss: 2.8903 - acc: 0.3689 - val_loss: 2.6058 - val_acc: 0.5377\n",
      "Epoch 18/500\n",
      "6650/6680 [============================>.] - ETA: 0s - loss: 2.8045 - acc: 0.3839Epoch 00017: val_loss improved from 2.60579 to 2.50215, saving model to saved_models/weights.best.Res.hdf5\n",
      "6680/6680 [==============================] - 2s - loss: 2.8040 - acc: 0.3837 - val_loss: 2.5022 - val_acc: 0.5545\n",
      "Epoch 19/500\n",
      "6550/6680 [============================>.] - ETA: 0s - loss: 2.7266 - acc: 0.3940Epoch 00018: val_loss improved from 2.50215 to 2.40416, saving model to saved_models/weights.best.Res.hdf5\n",
      "6680/6680 [==============================] - 2s - loss: 2.7282 - acc: 0.3931 - val_loss: 2.4042 - val_acc: 0.5689\n",
      "Epoch 20/500\n",
      "6600/6680 [============================>.] - ETA: 0s - loss: 2.5963 - acc: 0.4261Epoch 00019: val_loss improved from 2.40416 to 2.31076, saving model to saved_models/weights.best.Res.hdf5\n",
      "6680/6680 [==============================] - 2s - loss: 2.5966 - acc: 0.4256 - val_loss: 2.3108 - val_acc: 0.5892\n",
      "Epoch 21/500\n",
      "6600/6680 [============================>.] - ETA: 0s - loss: 2.5365 - acc: 0.4317Epoch 00020: val_loss improved from 2.31076 to 2.22387, saving model to saved_models/weights.best.Res.hdf5\n",
      "6680/6680 [==============================] - 2s - loss: 2.5355 - acc: 0.4314 - val_loss: 2.2239 - val_acc: 0.5988\n",
      "Epoch 22/500\n",
      "6600/6680 [============================>.] - ETA: 0s - loss: 2.4455 - acc: 0.4479Epoch 00021: val_loss improved from 2.22387 to 2.14198, saving model to saved_models/weights.best.Res.hdf5\n",
      "6680/6680 [==============================] - 2s - loss: 2.4457 - acc: 0.4485 - val_loss: 2.1420 - val_acc: 0.6144\n",
      "Epoch 23/500\n",
      "6600/6680 [============================>.] - ETA: 0s - loss: 2.3934 - acc: 0.4553Epoch 00022: val_loss improved from 2.14198 to 2.06643, saving model to saved_models/weights.best.Res.hdf5\n",
      "6680/6680 [==============================] - 2s - loss: 2.3928 - acc: 0.4548 - val_loss: 2.0664 - val_acc: 0.6287\n",
      "Epoch 24/500\n",
      "6550/6680 [============================>.] - ETA: 0s - loss: 2.3212 - acc: 0.4678Epoch 00023: val_loss improved from 2.06643 to 1.99622, saving model to saved_models/weights.best.Res.hdf5\n",
      "6680/6680 [==============================] - 2s - loss: 2.3162 - acc: 0.4689 - val_loss: 1.9962 - val_acc: 0.6443\n",
      "Epoch 25/500\n",
      "6650/6680 [============================>.] - ETA: 0s - loss: 2.2452 - acc: 0.4824Epoch 00024: val_loss improved from 1.99622 to 1.92984, saving model to saved_models/weights.best.Res.hdf5\n",
      "6680/6680 [==============================] - 2s - loss: 2.2439 - acc: 0.4828 - val_loss: 1.9298 - val_acc: 0.6539\n",
      "Epoch 26/500\n",
      "6600/6680 [============================>.] - ETA: 0s - loss: 2.1937 - acc: 0.4829Epoch 00025: val_loss improved from 1.92984 to 1.86797, saving model to saved_models/weights.best.Res.hdf5\n",
      "6680/6680 [==============================] - 2s - loss: 2.1918 - acc: 0.4837 - val_loss: 1.8680 - val_acc: 0.6551\n",
      "Epoch 27/500\n",
      "6550/6680 [============================>.] - ETA: 0s - loss: 2.1045 - acc: 0.5043Epoch 00026: val_loss improved from 1.86797 to 1.80821, saving model to saved_models/weights.best.Res.hdf5\n",
      "6680/6680 [==============================] - 2s - loss: 2.1044 - acc: 0.5036 - val_loss: 1.8082 - val_acc: 0.6671\n",
      "Epoch 28/500\n",
      "6550/6680 [============================>.] - ETA: 0s - loss: 2.0753 - acc: 0.5191Epoch 00027: val_loss improved from 1.80821 to 1.75362, saving model to saved_models/weights.best.Res.hdf5\n",
      "6680/6680 [==============================] - 2s - loss: 2.0743 - acc: 0.5195 - val_loss: 1.7536 - val_acc: 0.6802\n",
      "Epoch 29/500\n",
      "6550/6680 [============================>.] - ETA: 0s - loss: 2.0075 - acc: 0.5223Epoch 00028: val_loss improved from 1.75362 to 1.70096, saving model to saved_models/weights.best.Res.hdf5\n",
      "6680/6680 [==============================] - 2s - loss: 2.0070 - acc: 0.5219 - val_loss: 1.7010 - val_acc: 0.6898\n",
      "Epoch 30/500\n",
      "6600/6680 [============================>.] - ETA: 0s - loss: 1.9558 - acc: 0.5286Epoch 00029: val_loss improved from 1.70096 to 1.65237, saving model to saved_models/weights.best.Res.hdf5\n",
      "6680/6680 [==============================] - 2s - loss: 1.9560 - acc: 0.5287 - val_loss: 1.6524 - val_acc: 0.6934\n",
      "Epoch 31/500\n",
      "6550/6680 [============================>.] - ETA: 0s - loss: 1.9059 - acc: 0.5446Epoch 00030: val_loss improved from 1.65237 to 1.60730, saving model to saved_models/weights.best.Res.hdf5\n",
      "6680/6680 [==============================] - 2s - loss: 1.9043 - acc: 0.5446 - val_loss: 1.6073 - val_acc: 0.6994\n",
      "Epoch 32/500\n",
      "6600/6680 [============================>.] - ETA: 0s - loss: 1.8786 - acc: 0.5538Epoch 00031: val_loss improved from 1.60730 to 1.56475, saving model to saved_models/weights.best.Res.hdf5\n",
      "6680/6680 [==============================] - 2s - loss: 1.8775 - acc: 0.5543 - val_loss: 1.5647 - val_acc: 0.7006\n",
      "Epoch 33/500\n",
      "6600/6680 [============================>.] - ETA: 0s - loss: 1.8236 - acc: 0.5611Epoch 00032: val_loss improved from 1.56475 to 1.52421, saving model to saved_models/weights.best.Res.hdf5\n",
      "6680/6680 [==============================] - 2s - loss: 1.8213 - acc: 0.5620 - val_loss: 1.5242 - val_acc: 0.7042\n",
      "Epoch 34/500\n",
      "6600/6680 [============================>.] - ETA: 0s - loss: 1.7854 - acc: 0.5635Epoch 00033: val_loss improved from 1.52421 to 1.48648, saving model to saved_models/weights.best.Res.hdf5\n",
      "6680/6680 [==============================] - 2s - loss: 1.7826 - acc: 0.5645 - val_loss: 1.4865 - val_acc: 0.7150\n",
      "Epoch 35/500\n",
      "6600/6680 [============================>.] - ETA: 0s - loss: 1.7256 - acc: 0.5750Epoch 00034: val_loss improved from 1.48648 to 1.45151, saving model to saved_models/weights.best.Res.hdf5\n",
      "6680/6680 [==============================] - 2s - loss: 1.7272 - acc: 0.5737 - val_loss: 1.4515 - val_acc: 0.7150\n",
      "Epoch 36/500\n",
      "6600/6680 [============================>.] - ETA: 0s - loss: 1.6784 - acc: 0.5868Epoch 00035: val_loss improved from 1.45151 to 1.41610, saving model to saved_models/weights.best.Res.hdf5\n",
      "6680/6680 [==============================] - 2s - loss: 1.6759 - acc: 0.5871 - val_loss: 1.4161 - val_acc: 0.7210\n",
      "Epoch 37/500\n",
      "6550/6680 [============================>.] - ETA: 0s - loss: 1.6510 - acc: 0.5905Epoch 00036: val_loss improved from 1.41610 to 1.38448, saving model to saved_models/weights.best.Res.hdf5\n",
      "6680/6680 [==============================] - 2s - loss: 1.6504 - acc: 0.5900 - val_loss: 1.3845 - val_acc: 0.7246\n",
      "Epoch 38/500\n",
      "6650/6680 [============================>.] - ETA: 0s - loss: 1.5955 - acc: 0.6041Epoch 00037: val_loss improved from 1.38448 to 1.35396, saving model to saved_models/weights.best.Res.hdf5\n",
      "6680/6680 [==============================] - 2s - loss: 1.5958 - acc: 0.6037 - val_loss: 1.3540 - val_acc: 0.7257\n",
      "Epoch 39/500\n",
      "6650/6680 [============================>.] - ETA: 0s - loss: 1.6011 - acc: 0.5998Epoch 00038: val_loss improved from 1.35396 to 1.32528, saving model to saved_models/weights.best.Res.hdf5\n",
      "6680/6680 [==============================] - 2s - loss: 1.6005 - acc: 0.6000 - val_loss: 1.3253 - val_acc: 0.7269\n",
      "Epoch 40/500\n",
      "6550/6680 [============================>.] - ETA: 0s - loss: 1.5723 - acc: 0.6056Epoch 00039: val_loss improved from 1.32528 to 1.29923, saving model to saved_models/weights.best.Res.hdf5\n",
      "6680/6680 [==============================] - 2s - loss: 1.5686 - acc: 0.6066 - val_loss: 1.2992 - val_acc: 0.7293\n",
      "Epoch 41/500\n",
      "6650/6680 [============================>.] - ETA: 0s - loss: 1.5405 - acc: 0.6119Epoch 00040: val_loss improved from 1.29923 to 1.27335, saving model to saved_models/weights.best.Res.hdf5\n",
      "6680/6680 [==============================] - 2s - loss: 1.5384 - acc: 0.6123 - val_loss: 1.2734 - val_acc: 0.7317\n",
      "Epoch 42/500\n",
      "6650/6680 [============================>.] - ETA: 0s - loss: 1.5003 - acc: 0.6174Epoch 00041: val_loss improved from 1.27335 to 1.24850, saving model to saved_models/weights.best.Res.hdf5\n",
      "6680/6680 [==============================] - 2s - loss: 1.5026 - acc: 0.6168 - val_loss: 1.2485 - val_acc: 0.7341\n",
      "Epoch 43/500\n",
      "6600/6680 [============================>.] - ETA: 0s - loss: 1.4573 - acc: 0.6329Epoch 00042: val_loss improved from 1.24850 to 1.22676, saving model to saved_models/weights.best.Res.hdf5\n",
      "6680/6680 [==============================] - 2s - loss: 1.4583 - acc: 0.6326 - val_loss: 1.2268 - val_acc: 0.7365\n",
      "Epoch 44/500\n",
      "6600/6680 [============================>.] - ETA: 0s - loss: 1.4348 - acc: 0.6364Epoch 00043: val_loss improved from 1.22676 to 1.20576, saving model to saved_models/weights.best.Res.hdf5\n",
      "6680/6680 [==============================] - 2s - loss: 1.4373 - acc: 0.6355 - val_loss: 1.2058 - val_acc: 0.7365\n",
      "Epoch 45/500\n",
      "6500/6680 [============================>.] - ETA: 0s - loss: 1.4029 - acc: 0.6451Epoch 00044: val_loss improved from 1.20576 to 1.18416, saving model to saved_models/weights.best.Res.hdf5\n",
      "6680/6680 [==============================] - 2s - loss: 1.4030 - acc: 0.6460 - val_loss: 1.1842 - val_acc: 0.7377\n",
      "Epoch 46/500\n",
      "6550/6680 [============================>.] - ETA: 0s - loss: 1.4078 - acc: 0.6342Epoch 00045: val_loss improved from 1.18416 to 1.16544, saving model to saved_models/weights.best.Res.hdf5\n",
      "6680/6680 [==============================] - 2s - loss: 1.4038 - acc: 0.6361 - val_loss: 1.1654 - val_acc: 0.7413\n",
      "Epoch 47/500\n",
      "6500/6680 [============================>.] - ETA: 0s - loss: 1.3684 - acc: 0.6508Epoch 00046: val_loss improved from 1.16544 to 1.14786, saving model to saved_models/weights.best.Res.hdf5\n",
      "6680/6680 [==============================] - 2s - loss: 1.3687 - acc: 0.6506 - val_loss: 1.1479 - val_acc: 0.7437\n",
      "Epoch 48/500\n",
      "6600/6680 [============================>.] - ETA: 0s - loss: 1.3418 - acc: 0.6564Epoch 00047: val_loss improved from 1.14786 to 1.12976, saving model to saved_models/weights.best.Res.hdf5\n",
      "6680/6680 [==============================] - 2s - loss: 1.3412 - acc: 0.6560 - val_loss: 1.1298 - val_acc: 0.7461\n",
      "Epoch 49/500\n",
      "6600/6680 [============================>.] - ETA: 0s - loss: 1.3381 - acc: 0.6505Epoch 00048: val_loss improved from 1.12976 to 1.11408, saving model to saved_models/weights.best.Res.hdf5\n",
      "6680/6680 [==============================] - 2s - loss: 1.3370 - acc: 0.6509 - val_loss: 1.1141 - val_acc: 0.7437\n",
      "Epoch 50/500\n",
      "6550/6680 [============================>.] - ETA: 0s - loss: 1.3144 - acc: 0.6562Epoch 00049: val_loss improved from 1.11408 to 1.09769, saving model to saved_models/weights.best.Res.hdf5\n",
      "6680/6680 [==============================] - 2s - loss: 1.3123 - acc: 0.6569 - val_loss: 1.0977 - val_acc: 0.7533\n",
      "Epoch 51/500\n",
      "6650/6680 [============================>.] - ETA: 0s - loss: 1.2996 - acc: 0.6589Epoch 00050: val_loss improved from 1.09769 to 1.08351, saving model to saved_models/weights.best.Res.hdf5\n",
      "6680/6680 [==============================] - 2s - loss: 1.2996 - acc: 0.6588 - val_loss: 1.0835 - val_acc: 0.7557\n",
      "Epoch 52/500\n",
      "6600/6680 [============================>.] - ETA: 0s - loss: 1.2743 - acc: 0.6683Epoch 00051: val_loss improved from 1.08351 to 1.06916, saving model to saved_models/weights.best.Res.hdf5\n",
      "6680/6680 [==============================] - 2s - loss: 1.2742 - acc: 0.6677 - val_loss: 1.0692 - val_acc: 0.7569\n",
      "Epoch 53/500\n",
      "6600/6680 [============================>.] - ETA: 0s - loss: 1.2393 - acc: 0.6824Epoch 00052: val_loss improved from 1.06916 to 1.05474, saving model to saved_models/weights.best.Res.hdf5\n",
      "6680/6680 [==============================] - 2s - loss: 1.2406 - acc: 0.6822 - val_loss: 1.0547 - val_acc: 0.7593\n",
      "Epoch 54/500\n",
      "6600/6680 [============================>.] - ETA: 0s - loss: 1.2138 - acc: 0.6824Epoch 00053: val_loss improved from 1.05474 to 1.04045, saving model to saved_models/weights.best.Res.hdf5\n",
      "6680/6680 [==============================] - 2s - loss: 1.2162 - acc: 0.6822 - val_loss: 1.0404 - val_acc: 0.7605\n",
      "Epoch 55/500\n",
      "6650/6680 [============================>.] - ETA: 0s - loss: 1.2277 - acc: 0.6744Epoch 00054: val_loss improved from 1.04045 to 1.02804, saving model to saved_models/weights.best.Res.hdf5\n",
      "6680/6680 [==============================] - 2s - loss: 1.2290 - acc: 0.6741 - val_loss: 1.0280 - val_acc: 0.7605\n",
      "Epoch 56/500\n",
      "6600/6680 [============================>.] - ETA: 0s - loss: 1.1964 - acc: 0.6895Epoch 00055: val_loss improved from 1.02804 to 1.01546, saving model to saved_models/weights.best.Res.hdf5\n",
      "6680/6680 [==============================] - 2s - loss: 1.1976 - acc: 0.6886 - val_loss: 1.0155 - val_acc: 0.7593\n",
      "Epoch 57/500\n",
      "6550/6680 [============================>.] - ETA: 0s - loss: 1.1782 - acc: 0.6889Epoch 00056: val_loss improved from 1.01546 to 1.00430, saving model to saved_models/weights.best.Res.hdf5\n",
      "6680/6680 [==============================] - 2s - loss: 1.1766 - acc: 0.6895 - val_loss: 1.0043 - val_acc: 0.7641\n",
      "Epoch 58/500\n",
      "6550/6680 [============================>.] - ETA: 0s - loss: 1.1639 - acc: 0.6918Epoch 00057: val_loss improved from 1.00430 to 0.99317, saving model to saved_models/weights.best.Res.hdf5\n",
      "6680/6680 [==============================] - 2s - loss: 1.1630 - acc: 0.6927 - val_loss: 0.9932 - val_acc: 0.7665\n",
      "Epoch 59/500\n",
      "6600/6680 [============================>.] - ETA: 0s - loss: 1.1636 - acc: 0.6886Epoch 00058: val_loss improved from 0.99317 to 0.98150, saving model to saved_models/weights.best.Res.hdf5\n",
      "6680/6680 [==============================] - 2s - loss: 1.1608 - acc: 0.6898 - val_loss: 0.9815 - val_acc: 0.7689\n",
      "Epoch 60/500\n",
      "6600/6680 [============================>.] - ETA: 0s - loss: 1.1439 - acc: 0.6935Epoch 00059: val_loss improved from 0.98150 to 0.97210, saving model to saved_models/weights.best.Res.hdf5\n",
      "6680/6680 [==============================] - 2s - loss: 1.1467 - acc: 0.6930 - val_loss: 0.9721 - val_acc: 0.7701\n",
      "Epoch 61/500\n",
      "6600/6680 [============================>.] - ETA: 0s - loss: 1.1205 - acc: 0.7058Epoch 00060: val_loss improved from 0.97210 to 0.96149, saving model to saved_models/weights.best.Res.hdf5\n",
      "6680/6680 [==============================] - 2s - loss: 1.1188 - acc: 0.7063 - val_loss: 0.9615 - val_acc: 0.7725\n",
      "Epoch 62/500\n",
      "6600/6680 [============================>.] - ETA: 0s - loss: 1.0946 - acc: 0.7105Epoch 00061: val_loss improved from 0.96149 to 0.95065, saving model to saved_models/weights.best.Res.hdf5\n",
      "6680/6680 [==============================] - 2s - loss: 1.0979 - acc: 0.7091 - val_loss: 0.9507 - val_acc: 0.7760\n",
      "Epoch 63/500\n",
      "6500/6680 [============================>.] - ETA: 0s - loss: 1.0862 - acc: 0.7158Epoch 00062: val_loss improved from 0.95065 to 0.94120, saving model to saved_models/weights.best.Res.hdf5\n",
      "6680/6680 [==============================] - 2s - loss: 1.0869 - acc: 0.7150 - val_loss: 0.9412 - val_acc: 0.7760\n",
      "Epoch 64/500\n",
      "6650/6680 [============================>.] - ETA: 0s - loss: 1.0672 - acc: 0.7183Epoch 00063: val_loss improved from 0.94120 to 0.93227, saving model to saved_models/weights.best.Res.hdf5\n",
      "6680/6680 [==============================] - 2s - loss: 1.0664 - acc: 0.7186 - val_loss: 0.9323 - val_acc: 0.7772\n",
      "Epoch 65/500\n",
      "6500/6680 [============================>.] - ETA: 0s - loss: 1.0631 - acc: 0.7200Epoch 00064: val_loss improved from 0.93227 to 0.92406, saving model to saved_models/weights.best.Res.hdf5\n",
      "6680/6680 [==============================] - 2s - loss: 1.0638 - acc: 0.7196 - val_loss: 0.9241 - val_acc: 0.7820\n",
      "Epoch 66/500\n",
      "6500/6680 [============================>.] - ETA: 0s - loss: 1.0478 - acc: 0.7209Epoch 00065: val_loss improved from 0.92406 to 0.91606, saving model to saved_models/weights.best.Res.hdf5\n",
      "6680/6680 [==============================] - 2s - loss: 1.0487 - acc: 0.7199 - val_loss: 0.9161 - val_acc: 0.7844\n",
      "Epoch 67/500\n",
      "6650/6680 [============================>.] - ETA: 0s - loss: 1.0318 - acc: 0.7269Epoch 00066: val_loss improved from 0.91606 to 0.90684, saving model to saved_models/weights.best.Res.hdf5\n",
      "6680/6680 [==============================] - 2s - loss: 1.0309 - acc: 0.7274 - val_loss: 0.9068 - val_acc: 0.7856\n",
      "Epoch 68/500\n",
      "6650/6680 [============================>.] - ETA: 0s - loss: 1.0427 - acc: 0.7223Epoch 00067: val_loss improved from 0.90684 to 0.89969, saving model to saved_models/weights.best.Res.hdf5\n",
      "6680/6680 [==============================] - 2s - loss: 1.0412 - acc: 0.7228 - val_loss: 0.8997 - val_acc: 0.7844\n",
      "Epoch 69/500\n",
      "6500/6680 [============================>.] - ETA: 0s - loss: 0.9969 - acc: 0.7338Epoch 00068: val_loss improved from 0.89969 to 0.89196, saving model to saved_models/weights.best.Res.hdf5\n",
      "6680/6680 [==============================] - 2s - loss: 0.9963 - acc: 0.7334 - val_loss: 0.8920 - val_acc: 0.7856\n",
      "Epoch 70/500\n",
      "6650/6680 [============================>.] - ETA: 0s - loss: 1.0120 - acc: 0.7256Epoch 00069: val_loss improved from 0.89196 to 0.88492, saving model to saved_models/weights.best.Res.hdf5\n",
      "6680/6680 [==============================] - 2s - loss: 1.0117 - acc: 0.7259 - val_loss: 0.8849 - val_acc: 0.7868\n",
      "Epoch 71/500\n",
      "6650/6680 [============================>.] - ETA: 0s - loss: 1.0043 - acc: 0.7245Epoch 00070: val_loss improved from 0.88492 to 0.87829, saving model to saved_models/weights.best.Res.hdf5\n",
      "6680/6680 [==============================] - 2s - loss: 1.0045 - acc: 0.7243 - val_loss: 0.8783 - val_acc: 0.7856\n",
      "Epoch 72/500\n",
      "6600/6680 [============================>.] - ETA: 0s - loss: 0.9870 - acc: 0.7320Epoch 00071: val_loss improved from 0.87829 to 0.87086, saving model to saved_models/weights.best.Res.hdf5\n",
      "6680/6680 [==============================] - 2s - loss: 0.9862 - acc: 0.7326 - val_loss: 0.8709 - val_acc: 0.7868\n",
      "Epoch 73/500\n",
      "6650/6680 [============================>.] - ETA: 0s - loss: 0.9712 - acc: 0.7403Epoch 00072: val_loss improved from 0.87086 to 0.86434, saving model to saved_models/weights.best.Res.hdf5\n",
      "6680/6680 [==============================] - 2s - loss: 0.9696 - acc: 0.7406 - val_loss: 0.8643 - val_acc: 0.7916\n",
      "Epoch 74/500\n",
      "6650/6680 [============================>.] - ETA: 0s - loss: 0.9559 - acc: 0.7411Epoch 00073: val_loss improved from 0.86434 to 0.85780, saving model to saved_models/weights.best.Res.hdf5\n",
      "6680/6680 [==============================] - 2s - loss: 0.9585 - acc: 0.7403 - val_loss: 0.8578 - val_acc: 0.7916\n",
      "Epoch 75/500\n",
      "6550/6680 [============================>.] - ETA: 0s - loss: 0.9476 - acc: 0.7443Epoch 00074: val_loss improved from 0.85780 to 0.85028, saving model to saved_models/weights.best.Res.hdf5\n",
      "6680/6680 [==============================] - 2s - loss: 0.9442 - acc: 0.7451 - val_loss: 0.8503 - val_acc: 0.7928\n",
      "Epoch 76/500\n",
      "6650/6680 [============================>.] - ETA: 0s - loss: 0.9373 - acc: 0.7412Epoch 00075: val_loss improved from 0.85028 to 0.84392, saving model to saved_models/weights.best.Res.hdf5\n",
      "6680/6680 [==============================] - 2s - loss: 0.9380 - acc: 0.7413 - val_loss: 0.8439 - val_acc: 0.7928\n",
      "Epoch 77/500\n",
      "6650/6680 [============================>.] - ETA: 0s - loss: 0.9589 - acc: 0.7388Epoch 00076: val_loss improved from 0.84392 to 0.83808, saving model to saved_models/weights.best.Res.hdf5\n",
      "6680/6680 [==============================] - 2s - loss: 0.9579 - acc: 0.7391 - val_loss: 0.8381 - val_acc: 0.7952\n",
      "Epoch 78/500\n",
      "6600/6680 [============================>.] - ETA: 0s - loss: 0.9262 - acc: 0.7497Epoch 00077: val_loss improved from 0.83808 to 0.83205, saving model to saved_models/weights.best.Res.hdf5\n",
      "6680/6680 [==============================] - 2s - loss: 0.9247 - acc: 0.7501 - val_loss: 0.8320 - val_acc: 0.7928\n",
      "Epoch 79/500\n",
      "6600/6680 [============================>.] - ETA: 0s - loss: 0.9285 - acc: 0.7483Epoch 00078: val_loss improved from 0.83205 to 0.82783, saving model to saved_models/weights.best.Res.hdf5\n",
      "6680/6680 [==============================] - 2s - loss: 0.9295 - acc: 0.7488 - val_loss: 0.8278 - val_acc: 0.7988\n",
      "Epoch 80/500\n",
      "6600/6680 [============================>.] - ETA: 0s - loss: 0.9135 - acc: 0.7462Epoch 00079: val_loss improved from 0.82783 to 0.82296, saving model to saved_models/weights.best.Res.hdf5\n",
      "6680/6680 [==============================] - 2s - loss: 0.9148 - acc: 0.7461 - val_loss: 0.8230 - val_acc: 0.7976\n",
      "Epoch 81/500\n",
      "6650/6680 [============================>.] - ETA: 0s - loss: 0.9046 - acc: 0.7579Epoch 00080: val_loss improved from 0.82296 to 0.81679, saving model to saved_models/weights.best.Res.hdf5\n",
      "6680/6680 [==============================] - 2s - loss: 0.9040 - acc: 0.7579 - val_loss: 0.8168 - val_acc: 0.8000\n",
      "Epoch 82/500\n",
      "6650/6680 [============================>.] - ETA: 0s - loss: 0.8875 - acc: 0.7624Epoch 00081: val_loss improved from 0.81679 to 0.81151, saving model to saved_models/weights.best.Res.hdf5\n",
      "6680/6680 [==============================] - 2s - loss: 0.8878 - acc: 0.7620 - val_loss: 0.8115 - val_acc: 0.8036\n",
      "Epoch 83/500\n",
      "6550/6680 [============================>.] - ETA: 0s - loss: 0.8730 - acc: 0.7591Epoch 00082: val_loss improved from 0.81151 to 0.80569, saving model to saved_models/weights.best.Res.hdf5\n",
      "6680/6680 [==============================] - 2s - loss: 0.8725 - acc: 0.7587 - val_loss: 0.8057 - val_acc: 0.8048\n",
      "Epoch 84/500\n",
      "6650/6680 [============================>.] - ETA: 0s - loss: 0.8801 - acc: 0.7632Epoch 00083: val_loss improved from 0.80569 to 0.80094, saving model to saved_models/weights.best.Res.hdf5\n",
      "6680/6680 [==============================] - 2s - loss: 0.8799 - acc: 0.7632 - val_loss: 0.8009 - val_acc: 0.8048\n",
      "Epoch 85/500\n",
      "6600/6680 [============================>.] - ETA: 0s - loss: 0.8685 - acc: 0.7629Epoch 00084: val_loss improved from 0.80094 to 0.79693, saving model to saved_models/weights.best.Res.hdf5\n",
      "6680/6680 [==============================] - 2s - loss: 0.8676 - acc: 0.7632 - val_loss: 0.7969 - val_acc: 0.8060\n",
      "Epoch 86/500\n",
      "6550/6680 [============================>.] - ETA: 0s - loss: 0.8632 - acc: 0.7614Epoch 00085: val_loss improved from 0.79693 to 0.79234, saving model to saved_models/weights.best.Res.hdf5\n",
      "6680/6680 [==============================] - 2s - loss: 0.8622 - acc: 0.7620 - val_loss: 0.7923 - val_acc: 0.8120\n",
      "Epoch 87/500\n",
      "6600/6680 [============================>.] - ETA: 0s - loss: 0.8501 - acc: 0.7720Epoch 00086: val_loss improved from 0.79234 to 0.78762, saving model to saved_models/weights.best.Res.hdf5\n",
      "6680/6680 [==============================] - 2s - loss: 0.8498 - acc: 0.7722 - val_loss: 0.7876 - val_acc: 0.8060\n",
      "Epoch 88/500\n",
      "6650/6680 [============================>.] - ETA: 0s - loss: 0.8342 - acc: 0.7752Epoch 00087: val_loss improved from 0.78762 to 0.78288, saving model to saved_models/weights.best.Res.hdf5\n",
      "6680/6680 [==============================] - 2s - loss: 0.8349 - acc: 0.7753 - val_loss: 0.7829 - val_acc: 0.8132\n",
      "Epoch 89/500\n",
      "6550/6680 [============================>.] - ETA: 0s - loss: 0.8246 - acc: 0.7690Epoch 00088: val_loss improved from 0.78288 to 0.77904, saving model to saved_models/weights.best.Res.hdf5\n",
      "6680/6680 [==============================] - 2s - loss: 0.8245 - acc: 0.7690 - val_loss: 0.7790 - val_acc: 0.8084\n",
      "Epoch 90/500\n",
      "6550/6680 [============================>.] - ETA: 0s - loss: 0.8117 - acc: 0.7864Epoch 00089: val_loss improved from 0.77904 to 0.77404, saving model to saved_models/weights.best.Res.hdf5\n",
      "6680/6680 [==============================] - 2s - loss: 0.8137 - acc: 0.7853 - val_loss: 0.7740 - val_acc: 0.8096\n",
      "Epoch 91/500\n",
      "6550/6680 [============================>.] - ETA: 0s - loss: 0.8332 - acc: 0.7725Epoch 00090: val_loss improved from 0.77404 to 0.77023, saving model to saved_models/weights.best.Res.hdf5\n",
      "6680/6680 [==============================] - 2s - loss: 0.8332 - acc: 0.7723 - val_loss: 0.7702 - val_acc: 0.8156\n",
      "Epoch 92/500\n",
      "6600/6680 [============================>.] - ETA: 0s - loss: 0.8247 - acc: 0.7714Epoch 00091: val_loss improved from 0.77023 to 0.76546, saving model to saved_models/weights.best.Res.hdf5\n",
      "6680/6680 [==============================] - 2s - loss: 0.8235 - acc: 0.7717 - val_loss: 0.7655 - val_acc: 0.8120\n",
      "Epoch 93/500\n",
      "6550/6680 [============================>.] - ETA: 0s - loss: 0.7953 - acc: 0.7789Epoch 00092: val_loss improved from 0.76546 to 0.76245, saving model to saved_models/weights.best.Res.hdf5\n",
      "6680/6680 [==============================] - 2s - loss: 0.7991 - acc: 0.7771 - val_loss: 0.7624 - val_acc: 0.8120\n",
      "Epoch 94/500\n",
      "6600/6680 [============================>.] - ETA: 0s - loss: 0.7987 - acc: 0.7794Epoch 00093: val_loss improved from 0.76245 to 0.75793, saving model to saved_models/weights.best.Res.hdf5\n",
      "6680/6680 [==============================] - 2s - loss: 0.7980 - acc: 0.7808 - val_loss: 0.7579 - val_acc: 0.8180\n",
      "Epoch 95/500\n",
      "6600/6680 [============================>.] - ETA: 0s - loss: 0.7941 - acc: 0.7808Epoch 00094: val_loss improved from 0.75793 to 0.75446, saving model to saved_models/weights.best.Res.hdf5\n",
      "6680/6680 [==============================] - 2s - loss: 0.7963 - acc: 0.7801 - val_loss: 0.7545 - val_acc: 0.8132\n",
      "Epoch 96/500\n",
      "6600/6680 [============================>.] - ETA: 0s - loss: 0.7968 - acc: 0.7771Epoch 00095: val_loss improved from 0.75446 to 0.75211, saving model to saved_models/weights.best.Res.hdf5\n",
      "6680/6680 [==============================] - 2s - loss: 0.7969 - acc: 0.7772 - val_loss: 0.7521 - val_acc: 0.8156\n",
      "Epoch 97/500\n",
      "6650/6680 [============================>.] - ETA: 0s - loss: 0.7926 - acc: 0.7747Epoch 00096: val_loss improved from 0.75211 to 0.74819, saving model to saved_models/weights.best.Res.hdf5\n",
      "6680/6680 [==============================] - 2s - loss: 0.7937 - acc: 0.7743 - val_loss: 0.7482 - val_acc: 0.8156\n",
      "Epoch 98/500\n",
      "6600/6680 [============================>.] - ETA: 0s - loss: 0.7626 - acc: 0.7911Epoch 00097: val_loss improved from 0.74819 to 0.74389, saving model to saved_models/weights.best.Res.hdf5\n",
      "6680/6680 [==============================] - 2s - loss: 0.7661 - acc: 0.7897 - val_loss: 0.7439 - val_acc: 0.8192\n",
      "Epoch 99/500\n",
      "6650/6680 [============================>.] - ETA: 0s - loss: 0.7734 - acc: 0.7889Epoch 00098: val_loss improved from 0.74389 to 0.74078, saving model to saved_models/weights.best.Res.hdf5\n",
      "6680/6680 [==============================] - 2s - loss: 0.7733 - acc: 0.7888 - val_loss: 0.7408 - val_acc: 0.8192\n",
      "Epoch 100/500\n",
      "6500/6680 [============================>.] - ETA: 0s - loss: 0.7664 - acc: 0.7871Epoch 00099: val_loss improved from 0.74078 to 0.73725, saving model to saved_models/weights.best.Res.hdf5\n",
      "6680/6680 [==============================] - 2s - loss: 0.7669 - acc: 0.7862 - val_loss: 0.7373 - val_acc: 0.8192\n",
      "Epoch 101/500\n",
      "6600/6680 [============================>.] - ETA: 0s - loss: 0.7697 - acc: 0.7897Epoch 00100: val_loss improved from 0.73725 to 0.73414, saving model to saved_models/weights.best.Res.hdf5\n",
      "6680/6680 [==============================] - 2s - loss: 0.7678 - acc: 0.7901 - val_loss: 0.7341 - val_acc: 0.8132\n",
      "Epoch 102/500\n",
      "6550/6680 [============================>.] - ETA: 0s - loss: 0.7392 - acc: 0.7980Epoch 00101: val_loss improved from 0.73414 to 0.73086, saving model to saved_models/weights.best.Res.hdf5\n",
      "6680/6680 [==============================] - 2s - loss: 0.7411 - acc: 0.7978 - val_loss: 0.7309 - val_acc: 0.8168\n",
      "Epoch 103/500\n",
      "6550/6680 [============================>.] - ETA: 0s - loss: 0.7395 - acc: 0.7954Epoch 00102: val_loss improved from 0.73086 to 0.72736, saving model to saved_models/weights.best.Res.hdf5\n",
      "6680/6680 [==============================] - 2s - loss: 0.7384 - acc: 0.7957 - val_loss: 0.7274 - val_acc: 0.8216\n",
      "Epoch 104/500\n",
      "6600/6680 [============================>.] - ETA: 0s - loss: 0.7443 - acc: 0.7971Epoch 00103: val_loss improved from 0.72736 to 0.72357, saving model to saved_models/weights.best.Res.hdf5\n",
      "6680/6680 [==============================] - 2s - loss: 0.7453 - acc: 0.7969 - val_loss: 0.7236 - val_acc: 0.8216\n",
      "Epoch 105/500\n",
      "6550/6680 [============================>.] - ETA: 0s - loss: 0.7299 - acc: 0.7950Epoch 00104: val_loss improved from 0.72357 to 0.72065, saving model to saved_models/weights.best.Res.hdf5\n",
      "6680/6680 [==============================] - 2s - loss: 0.7296 - acc: 0.7946 - val_loss: 0.7206 - val_acc: 0.8287\n",
      "Epoch 106/500\n",
      "6500/6680 [============================>.] - ETA: 0s - loss: 0.7149 - acc: 0.8043Epoch 00105: val_loss improved from 0.72065 to 0.71753, saving model to saved_models/weights.best.Res.hdf5\n",
      "6680/6680 [==============================] - 2s - loss: 0.7161 - acc: 0.8045 - val_loss: 0.7175 - val_acc: 0.8204\n",
      "Epoch 107/500\n",
      "6650/6680 [============================>.] - ETA: 0s - loss: 0.7302 - acc: 0.8017Epoch 00106: val_loss improved from 0.71753 to 0.71546, saving model to saved_models/weights.best.Res.hdf5\n",
      "6680/6680 [==============================] - 2s - loss: 0.7297 - acc: 0.8018 - val_loss: 0.7155 - val_acc: 0.8192\n",
      "Epoch 108/500\n",
      "6550/6680 [============================>.] - ETA: 0s - loss: 0.7103 - acc: 0.8027Epoch 00107: val_loss improved from 0.71546 to 0.71189, saving model to saved_models/weights.best.Res.hdf5\n",
      "6680/6680 [==============================] - 2s - loss: 0.7095 - acc: 0.8031 - val_loss: 0.7119 - val_acc: 0.8228\n",
      "Epoch 109/500\n",
      "6550/6680 [============================>.] - ETA: 0s - loss: 0.7104 - acc: 0.8020Epoch 00108: val_loss improved from 0.71189 to 0.70936, saving model to saved_models/weights.best.Res.hdf5\n",
      "6680/6680 [==============================] - 2s - loss: 0.7089 - acc: 0.8028 - val_loss: 0.7094 - val_acc: 0.8251\n",
      "Epoch 110/500\n",
      "6550/6680 [============================>.] - ETA: 0s - loss: 0.7048 - acc: 0.8067Epoch 00109: val_loss improved from 0.70936 to 0.70676, saving model to saved_models/weights.best.Res.hdf5\n",
      "6680/6680 [==============================] - 2s - loss: 0.7032 - acc: 0.8072 - val_loss: 0.7068 - val_acc: 0.8204\n",
      "Epoch 111/500\n",
      "6600/6680 [============================>.] - ETA: 0s - loss: 0.7188 - acc: 0.8027Epoch 00110: val_loss improved from 0.70676 to 0.70464, saving model to saved_models/weights.best.Res.hdf5\n",
      "6680/6680 [==============================] - 2s - loss: 0.7173 - acc: 0.8033 - val_loss: 0.7046 - val_acc: 0.8251\n",
      "Epoch 112/500\n",
      "6600/6680 [============================>.] - ETA: 0s - loss: 0.7034 - acc: 0.8070Epoch 00111: val_loss improved from 0.70464 to 0.70239, saving model to saved_models/weights.best.Res.hdf5\n",
      "6680/6680 [==============================] - 2s - loss: 0.7019 - acc: 0.8070 - val_loss: 0.7024 - val_acc: 0.8228\n",
      "Epoch 113/500\n",
      "6600/6680 [============================>.] - ETA: 0s - loss: 0.6842 - acc: 0.8118Epoch 00112: val_loss improved from 0.70239 to 0.69946, saving model to saved_models/weights.best.Res.hdf5\n",
      "6680/6680 [==============================] - 2s - loss: 0.6854 - acc: 0.8117 - val_loss: 0.6995 - val_acc: 0.8251\n",
      "Epoch 114/500\n",
      "6650/6680 [============================>.] - ETA: 0s - loss: 0.6934 - acc: 0.8071Epoch 00113: val_loss improved from 0.69946 to 0.69706, saving model to saved_models/weights.best.Res.hdf5\n",
      "6680/6680 [==============================] - 2s - loss: 0.6926 - acc: 0.8072 - val_loss: 0.6971 - val_acc: 0.8287\n",
      "Epoch 115/500\n",
      "6500/6680 [============================>.] - ETA: 0s - loss: 0.6999 - acc: 0.8032Epoch 00114: val_loss improved from 0.69706 to 0.69491, saving model to saved_models/weights.best.Res.hdf5\n",
      "6680/6680 [==============================] - 2s - loss: 0.7002 - acc: 0.8028 - val_loss: 0.6949 - val_acc: 0.8299\n",
      "Epoch 116/500\n",
      "6550/6680 [============================>.] - ETA: 0s - loss: 0.6899 - acc: 0.8047Epoch 00115: val_loss improved from 0.69491 to 0.69242, saving model to saved_models/weights.best.Res.hdf5\n",
      "6680/6680 [==============================] - 2s - loss: 0.6890 - acc: 0.8051 - val_loss: 0.6924 - val_acc: 0.8311\n",
      "Epoch 117/500\n",
      "6650/6680 [============================>.] - ETA: 0s - loss: 0.6760 - acc: 0.8123Epoch 00116: val_loss improved from 0.69242 to 0.69081, saving model to saved_models/weights.best.Res.hdf5\n",
      "6680/6680 [==============================] - 2s - loss: 0.6768 - acc: 0.8121 - val_loss: 0.6908 - val_acc: 0.8299\n",
      "Epoch 118/500\n",
      "6650/6680 [============================>.] - ETA: 0s - loss: 0.6790 - acc: 0.8099Epoch 00117: val_loss improved from 0.69081 to 0.68935, saving model to saved_models/weights.best.Res.hdf5\n",
      "6680/6680 [==============================] - 2s - loss: 0.6793 - acc: 0.8099 - val_loss: 0.6894 - val_acc: 0.8299\n",
      "Epoch 119/500\n",
      "6500/6680 [============================>.] - ETA: 0s - loss: 0.6748 - acc: 0.8134Epoch 00118: val_loss improved from 0.68935 to 0.68604, saving model to saved_models/weights.best.Res.hdf5\n",
      "6680/6680 [==============================] - 2s - loss: 0.6725 - acc: 0.8138 - val_loss: 0.6860 - val_acc: 0.8275\n",
      "Epoch 120/500\n",
      "6550/6680 [============================>.] - ETA: 0s - loss: 0.6526 - acc: 0.8238Epoch 00119: val_loss improved from 0.68604 to 0.68327, saving model to saved_models/weights.best.Res.hdf5\n",
      "6680/6680 [==============================] - 2s - loss: 0.6503 - acc: 0.8249 - val_loss: 0.6833 - val_acc: 0.8263\n",
      "Epoch 121/500\n",
      "6550/6680 [============================>.] - ETA: 0s - loss: 0.6666 - acc: 0.8147Epoch 00120: val_loss improved from 0.68327 to 0.68130, saving model to saved_models/weights.best.Res.hdf5\n",
      "6680/6680 [==============================] - 2s - loss: 0.6665 - acc: 0.8147 - val_loss: 0.6813 - val_acc: 0.8299\n",
      "Epoch 122/500\n",
      "6600/6680 [============================>.] - ETA: 0s - loss: 0.6489 - acc: 0.8232Epoch 00121: val_loss improved from 0.68130 to 0.67927, saving model to saved_models/weights.best.Res.hdf5\n",
      "6680/6680 [==============================] - 2s - loss: 0.6494 - acc: 0.8234 - val_loss: 0.6793 - val_acc: 0.8287\n",
      "Epoch 123/500\n",
      "6650/6680 [============================>.] - ETA: 0s - loss: 0.6808 - acc: 0.8069Epoch 00122: val_loss improved from 0.67927 to 0.67701, saving model to saved_models/weights.best.Res.hdf5\n",
      "6680/6680 [==============================] - 2s - loss: 0.6804 - acc: 0.8070 - val_loss: 0.6770 - val_acc: 0.8299\n",
      "Epoch 124/500\n",
      "6650/6680 [============================>.] - ETA: 0s - loss: 0.6458 - acc: 0.8189Epoch 00123: val_loss improved from 0.67701 to 0.67532, saving model to saved_models/weights.best.Res.hdf5\n",
      "6680/6680 [==============================] - 2s - loss: 0.6471 - acc: 0.8187 - val_loss: 0.6753 - val_acc: 0.8323\n",
      "Epoch 125/500\n",
      "6500/6680 [============================>.] - ETA: 0s - loss: 0.6599 - acc: 0.8155Epoch 00124: val_loss improved from 0.67532 to 0.67273, saving model to saved_models/weights.best.Res.hdf5\n",
      "6680/6680 [==============================] - 2s - loss: 0.6573 - acc: 0.8160 - val_loss: 0.6727 - val_acc: 0.8311\n",
      "Epoch 126/500\n",
      "6650/6680 [============================>.] - ETA: 0s - loss: 0.6361 - acc: 0.8220Epoch 00125: val_loss improved from 0.67273 to 0.67140, saving model to saved_models/weights.best.Res.hdf5\n",
      "6680/6680 [==============================] - 2s - loss: 0.6351 - acc: 0.8223 - val_loss: 0.6714 - val_acc: 0.8347\n",
      "Epoch 127/500\n",
      "6500/6680 [============================>.] - ETA: 0s - loss: 0.6434 - acc: 0.8215Epoch 00126: val_loss improved from 0.67140 to 0.67015, saving model to saved_models/weights.best.Res.hdf5\n",
      "6680/6680 [==============================] - 2s - loss: 0.6414 - acc: 0.8229 - val_loss: 0.6701 - val_acc: 0.8323\n",
      "Epoch 128/500\n",
      "6600/6680 [============================>.] - ETA: 0s - loss: 0.6285 - acc: 0.8256Epoch 00127: val_loss improved from 0.67015 to 0.66741, saving model to saved_models/weights.best.Res.hdf5\n",
      "6680/6680 [==============================] - 2s - loss: 0.6300 - acc: 0.8253 - val_loss: 0.6674 - val_acc: 0.8335\n",
      "Epoch 129/500\n",
      "6650/6680 [============================>.] - ETA: 0s - loss: 0.6243 - acc: 0.8314Epoch 00128: val_loss improved from 0.66741 to 0.66480, saving model to saved_models/weights.best.Res.hdf5\n",
      "6680/6680 [==============================] - 2s - loss: 0.6236 - acc: 0.8316 - val_loss: 0.6648 - val_acc: 0.8359\n",
      "Epoch 130/500\n",
      "6500/6680 [============================>.] - ETA: 0s - loss: 0.6256 - acc: 0.8269Epoch 00129: val_loss improved from 0.66480 to 0.66313, saving model to saved_models/weights.best.Res.hdf5\n",
      "6680/6680 [==============================] - 2s - loss: 0.6248 - acc: 0.8262 - val_loss: 0.6631 - val_acc: 0.8371\n",
      "Epoch 131/500\n",
      "6600/6680 [============================>.] - ETA: 0s - loss: 0.6445 - acc: 0.8239Epoch 00130: val_loss improved from 0.66313 to 0.66238, saving model to saved_models/weights.best.Res.hdf5\n",
      "6680/6680 [==============================] - 2s - loss: 0.6442 - acc: 0.8241 - val_loss: 0.6624 - val_acc: 0.8323\n",
      "Epoch 132/500\n",
      "6550/6680 [============================>.] - ETA: 0s - loss: 0.6224 - acc: 0.8238Epoch 00131: val_loss improved from 0.66238 to 0.66098, saving model to saved_models/weights.best.Res.hdf5\n",
      "6680/6680 [==============================] - 2s - loss: 0.6218 - acc: 0.8243 - val_loss: 0.6610 - val_acc: 0.8347\n",
      "Epoch 133/500\n",
      "6650/6680 [============================>.] - ETA: 0s - loss: 0.6180 - acc: 0.8304Epoch 00132: val_loss improved from 0.66098 to 0.65854, saving model to saved_models/weights.best.Res.hdf5\n",
      "6680/6680 [==============================] - 2s - loss: 0.6179 - acc: 0.8302 - val_loss: 0.6585 - val_acc: 0.8335\n",
      "Epoch 134/500\n",
      "6600/6680 [============================>.] - ETA: 0s - loss: 0.6170 - acc: 0.8259Epoch 00133: val_loss improved from 0.65854 to 0.65670, saving model to saved_models/weights.best.Res.hdf5\n",
      "6680/6680 [==============================] - 2s - loss: 0.6174 - acc: 0.8257 - val_loss: 0.6567 - val_acc: 0.8335\n",
      "Epoch 135/500\n",
      "6600/6680 [============================>.] - ETA: 0s - loss: 0.6140 - acc: 0.8298Epoch 00134: val_loss improved from 0.65670 to 0.65461, saving model to saved_models/weights.best.Res.hdf5\n",
      "6680/6680 [==============================] - 2s - loss: 0.6148 - acc: 0.8289 - val_loss: 0.6546 - val_acc: 0.8359\n",
      "Epoch 136/500\n",
      "6550/6680 [============================>.] - ETA: 0s - loss: 0.6035 - acc: 0.8327Epoch 00135: val_loss improved from 0.65461 to 0.65327, saving model to saved_models/weights.best.Res.hdf5\n",
      "6680/6680 [==============================] - 2s - loss: 0.6037 - acc: 0.8332 - val_loss: 0.6533 - val_acc: 0.8347\n",
      "Epoch 137/500\n",
      "6650/6680 [============================>.] - ETA: 0s - loss: 0.6011 - acc: 0.8358Epoch 00136: val_loss improved from 0.65327 to 0.65126, saving model to saved_models/weights.best.Res.hdf5\n",
      "6680/6680 [==============================] - 2s - loss: 0.6019 - acc: 0.8355 - val_loss: 0.6513 - val_acc: 0.8371\n",
      "Epoch 138/500\n",
      "6550/6680 [============================>.] - ETA: 0s - loss: 0.6047 - acc: 0.8313Epoch 00137: val_loss improved from 0.65126 to 0.64945, saving model to saved_models/weights.best.Res.hdf5\n",
      "6680/6680 [==============================] - 2s - loss: 0.6040 - acc: 0.8316 - val_loss: 0.6494 - val_acc: 0.8347\n",
      "Epoch 139/500\n",
      "6550/6680 [============================>.] - ETA: 0s - loss: 0.6004 - acc: 0.8359Epoch 00138: val_loss improved from 0.64945 to 0.64677, saving model to saved_models/weights.best.Res.hdf5\n",
      "6680/6680 [==============================] - 2s - loss: 0.6023 - acc: 0.8346 - val_loss: 0.6468 - val_acc: 0.8383\n",
      "Epoch 140/500\n",
      "6550/6680 [============================>.] - ETA: 0s - loss: 0.5842 - acc: 0.8385Epoch 00139: val_loss improved from 0.64677 to 0.64565, saving model to saved_models/weights.best.Res.hdf5\n",
      "6680/6680 [==============================] - 2s - loss: 0.5857 - acc: 0.8377 - val_loss: 0.6457 - val_acc: 0.8359\n",
      "Epoch 141/500\n",
      "6650/6680 [============================>.] - ETA: 0s - loss: 0.5902 - acc: 0.8364Epoch 00140: val_loss improved from 0.64565 to 0.64467, saving model to saved_models/weights.best.Res.hdf5\n",
      "6680/6680 [==============================] - 2s - loss: 0.5891 - acc: 0.8362 - val_loss: 0.6447 - val_acc: 0.8371\n",
      "Epoch 142/500\n",
      "6600/6680 [============================>.] - ETA: 0s - loss: 0.5848 - acc: 0.8421Epoch 00141: val_loss improved from 0.64467 to 0.64333, saving model to saved_models/weights.best.Res.hdf5\n",
      "6680/6680 [==============================] - 2s - loss: 0.5838 - acc: 0.8424 - val_loss: 0.6433 - val_acc: 0.8371\n",
      "Epoch 143/500\n",
      "6600/6680 [============================>.] - ETA: 0s - loss: 0.5901 - acc: 0.8394Epoch 00142: val_loss improved from 0.64333 to 0.64216, saving model to saved_models/weights.best.Res.hdf5\n",
      "6680/6680 [==============================] - 2s - loss: 0.5882 - acc: 0.8403 - val_loss: 0.6422 - val_acc: 0.8335\n",
      "Epoch 144/500\n",
      "6550/6680 [============================>.] - ETA: 0s - loss: 0.5792 - acc: 0.8408Epoch 00143: val_loss improved from 0.64216 to 0.64087, saving model to saved_models/weights.best.Res.hdf5\n",
      "6680/6680 [==============================] - 2s - loss: 0.5770 - acc: 0.8416 - val_loss: 0.6409 - val_acc: 0.8347\n",
      "Epoch 145/500\n",
      "6550/6680 [============================>.] - ETA: 0s - loss: 0.5725 - acc: 0.8359Epoch 00144: val_loss improved from 0.64087 to 0.63910, saving model to saved_models/weights.best.Res.hdf5\n",
      "6680/6680 [==============================] - 2s - loss: 0.5728 - acc: 0.8353 - val_loss: 0.6391 - val_acc: 0.8347\n",
      "Epoch 146/500\n",
      "6600/6680 [============================>.] - ETA: 0s - loss: 0.5636 - acc: 0.8442Epoch 00145: val_loss improved from 0.63910 to 0.63857, saving model to saved_models/weights.best.Res.hdf5\n",
      "6680/6680 [==============================] - 2s - loss: 0.5627 - acc: 0.8443 - val_loss: 0.6386 - val_acc: 0.8359\n",
      "Epoch 147/500\n",
      "6600/6680 [============================>.] - ETA: 0s - loss: 0.5558 - acc: 0.8503Epoch 00146: val_loss improved from 0.63857 to 0.63711, saving model to saved_models/weights.best.Res.hdf5\n",
      "6680/6680 [==============================] - 2s - loss: 0.5546 - acc: 0.8510 - val_loss: 0.6371 - val_acc: 0.8359\n",
      "Epoch 148/500\n",
      "6650/6680 [============================>.] - ETA: 0s - loss: 0.5669 - acc: 0.8451Epoch 00147: val_loss improved from 0.63711 to 0.63655, saving model to saved_models/weights.best.Res.hdf5\n",
      "6680/6680 [==============================] - 2s - loss: 0.5670 - acc: 0.8449 - val_loss: 0.6366 - val_acc: 0.8347\n",
      "Epoch 149/500\n",
      "6600/6680 [============================>.] - ETA: 0s - loss: 0.5522 - acc: 0.8474Epoch 00148: val_loss improved from 0.63655 to 0.63476, saving model to saved_models/weights.best.Res.hdf5\n",
      "6680/6680 [==============================] - 2s - loss: 0.5517 - acc: 0.8481 - val_loss: 0.6348 - val_acc: 0.8359\n",
      "Epoch 150/500\n",
      "6650/6680 [============================>.] - ETA: 0s - loss: 0.5497 - acc: 0.8531Epoch 00149: val_loss improved from 0.63476 to 0.63210, saving model to saved_models/weights.best.Res.hdf5\n",
      "6680/6680 [==============================] - 2s - loss: 0.5494 - acc: 0.8531 - val_loss: 0.6321 - val_acc: 0.8383\n",
      "Epoch 151/500\n",
      "6650/6680 [============================>.] - ETA: 0s - loss: 0.5585 - acc: 0.8417Epoch 00150: val_loss improved from 0.63210 to 0.63090, saving model to saved_models/weights.best.Res.hdf5\n",
      "6680/6680 [==============================] - 2s - loss: 0.5598 - acc: 0.8413 - val_loss: 0.6309 - val_acc: 0.8383\n",
      "Epoch 152/500\n",
      "6650/6680 [============================>.] - ETA: 0s - loss: 0.5522 - acc: 0.8429Epoch 00151: val_loss improved from 0.63090 to 0.62971, saving model to saved_models/weights.best.Res.hdf5\n",
      "6680/6680 [==============================] - 2s - loss: 0.5529 - acc: 0.8422 - val_loss: 0.6297 - val_acc: 0.8383\n",
      "Epoch 153/500\n",
      "6600/6680 [============================>.] - ETA: 0s - loss: 0.5476 - acc: 0.8485Epoch 00152: val_loss improved from 0.62971 to 0.62911, saving model to saved_models/weights.best.Res.hdf5\n",
      "6680/6680 [==============================] - 2s - loss: 0.5482 - acc: 0.8482 - val_loss: 0.6291 - val_acc: 0.8383\n",
      "Epoch 154/500\n",
      "6650/6680 [============================>.] - ETA: 0s - loss: 0.5578 - acc: 0.8430Epoch 00153: val_loss improved from 0.62911 to 0.62741, saving model to saved_models/weights.best.Res.hdf5\n",
      "6680/6680 [==============================] - 2s - loss: 0.5579 - acc: 0.8434 - val_loss: 0.6274 - val_acc: 0.8383\n",
      "Epoch 155/500\n",
      "6650/6680 [============================>.] - ETA: 0s - loss: 0.5313 - acc: 0.8559Epoch 00154: val_loss improved from 0.62741 to 0.62568, saving model to saved_models/weights.best.Res.hdf5\n",
      "6680/6680 [==============================] - 2s - loss: 0.5308 - acc: 0.8563 - val_loss: 0.6257 - val_acc: 0.8395\n",
      "Epoch 156/500\n",
      "6550/6680 [============================>.] - ETA: 0s - loss: 0.5322 - acc: 0.8528Epoch 00155: val_loss improved from 0.62568 to 0.62506, saving model to saved_models/weights.best.Res.hdf5\n",
      "6680/6680 [==============================] - 2s - loss: 0.5317 - acc: 0.8530 - val_loss: 0.6251 - val_acc: 0.8383\n",
      "Epoch 157/500\n",
      "6500/6680 [============================>.] - ETA: 0s - loss: 0.5291 - acc: 0.8562Epoch 00156: val_loss improved from 0.62506 to 0.62405, saving model to saved_models/weights.best.Res.hdf5\n",
      "6680/6680 [==============================] - 2s - loss: 0.5296 - acc: 0.8555 - val_loss: 0.6240 - val_acc: 0.8395\n",
      "Epoch 158/500\n",
      "6650/6680 [============================>.] - ETA: 0s - loss: 0.5417 - acc: 0.8474Epoch 00157: val_loss improved from 0.62405 to 0.62313, saving model to saved_models/weights.best.Res.hdf5\n",
      "6680/6680 [==============================] - 2s - loss: 0.5417 - acc: 0.8475 - val_loss: 0.6231 - val_acc: 0.8395\n",
      "Epoch 159/500\n",
      "6650/6680 [============================>.] - ETA: 0s - loss: 0.5331 - acc: 0.8532Epoch 00158: val_loss improved from 0.62313 to 0.62218, saving model to saved_models/weights.best.Res.hdf5\n",
      "6680/6680 [==============================] - 2s - loss: 0.5332 - acc: 0.8531 - val_loss: 0.6222 - val_acc: 0.8395\n",
      "Epoch 160/500\n",
      "6550/6680 [============================>.] - ETA: 0s - loss: 0.5394 - acc: 0.8475Epoch 00159: val_loss improved from 0.62218 to 0.62015, saving model to saved_models/weights.best.Res.hdf5\n",
      "6680/6680 [==============================] - 2s - loss: 0.5386 - acc: 0.8481 - val_loss: 0.6202 - val_acc: 0.8395\n",
      "Epoch 161/500\n",
      "6550/6680 [============================>.] - ETA: 0s - loss: 0.5373 - acc: 0.8489Epoch 00160: val_loss improved from 0.62015 to 0.61840, saving model to saved_models/weights.best.Res.hdf5\n",
      "6680/6680 [==============================] - 2s - loss: 0.5377 - acc: 0.8482 - val_loss: 0.6184 - val_acc: 0.8407\n",
      "Epoch 162/500\n",
      "6650/6680 [============================>.] - ETA: 0s - loss: 0.5295 - acc: 0.8525Epoch 00161: val_loss improved from 0.61840 to 0.61689, saving model to saved_models/weights.best.Res.hdf5\n",
      "6680/6680 [==============================] - 2s - loss: 0.5305 - acc: 0.8521 - val_loss: 0.6169 - val_acc: 0.8407\n",
      "Epoch 163/500\n",
      "6550/6680 [============================>.] - ETA: 0s - loss: 0.5390 - acc: 0.8481Epoch 00162: val_loss improved from 0.61689 to 0.61556, saving model to saved_models/weights.best.Res.hdf5\n",
      "6680/6680 [==============================] - 2s - loss: 0.5376 - acc: 0.8488 - val_loss: 0.6156 - val_acc: 0.8419\n",
      "Epoch 164/500\n",
      "6650/6680 [============================>.] - ETA: 0s - loss: 0.5221 - acc: 0.8574Epoch 00163: val_loss improved from 0.61556 to 0.61440, saving model to saved_models/weights.best.Res.hdf5\n",
      "6680/6680 [==============================] - 2s - loss: 0.5212 - acc: 0.8576 - val_loss: 0.6144 - val_acc: 0.8371\n",
      "Epoch 165/500\n",
      "6550/6680 [============================>.] - ETA: 0s - loss: 0.5236 - acc: 0.8573Epoch 00164: val_loss improved from 0.61440 to 0.61309, saving model to saved_models/weights.best.Res.hdf5\n",
      "6680/6680 [==============================] - 2s - loss: 0.5231 - acc: 0.8570 - val_loss: 0.6131 - val_acc: 0.8407\n",
      "Epoch 166/500\n",
      "6650/6680 [============================>.] - ETA: 0s - loss: 0.5129 - acc: 0.8561Epoch 00165: val_loss improved from 0.61309 to 0.61267, saving model to saved_models/weights.best.Res.hdf5\n",
      "6680/6680 [==============================] - 2s - loss: 0.5129 - acc: 0.8561 - val_loss: 0.6127 - val_acc: 0.8371\n",
      "Epoch 167/500\n",
      "6500/6680 [============================>.] - ETA: 0s - loss: 0.5088 - acc: 0.8565Epoch 00166: val_loss improved from 0.61267 to 0.61171, saving model to saved_models/weights.best.Res.hdf5\n",
      "6680/6680 [==============================] - 2s - loss: 0.5108 - acc: 0.8569 - val_loss: 0.6117 - val_acc: 0.8419\n",
      "Epoch 168/500\n",
      "6650/6680 [============================>.] - ETA: 0s - loss: 0.5018 - acc: 0.8644Epoch 00167: val_loss improved from 0.61171 to 0.61042, saving model to saved_models/weights.best.Res.hdf5\n",
      "6680/6680 [==============================] - 2s - loss: 0.5013 - acc: 0.8647 - val_loss: 0.6104 - val_acc: 0.8407\n",
      "Epoch 169/500\n",
      "6550/6680 [============================>.] - ETA: 0s - loss: 0.5224 - acc: 0.8516Epoch 00168: val_loss improved from 0.61042 to 0.60993, saving model to saved_models/weights.best.Res.hdf5\n",
      "6680/6680 [==============================] - 2s - loss: 0.5223 - acc: 0.8524 - val_loss: 0.6099 - val_acc: 0.8407\n",
      "Epoch 170/500\n",
      "6550/6680 [============================>.] - ETA: 0s - loss: 0.5076 - acc: 0.8652Epoch 00169: val_loss improved from 0.60993 to 0.60835, saving model to saved_models/weights.best.Res.hdf5\n",
      "6680/6680 [==============================] - 2s - loss: 0.5077 - acc: 0.8645 - val_loss: 0.6083 - val_acc: 0.8419\n",
      "Epoch 171/500\n",
      "6550/6680 [============================>.] - ETA: 0s - loss: 0.5136 - acc: 0.8571Epoch 00170: val_loss improved from 0.60835 to 0.60745, saving model to saved_models/weights.best.Res.hdf5\n",
      "6680/6680 [==============================] - 2s - loss: 0.5150 - acc: 0.8566 - val_loss: 0.6074 - val_acc: 0.8407\n",
      "Epoch 172/500\n",
      "6550/6680 [============================>.] - ETA: 0s - loss: 0.5008 - acc: 0.8611Epoch 00171: val_loss improved from 0.60745 to 0.60585, saving model to saved_models/weights.best.Res.hdf5\n",
      "6680/6680 [==============================] - 2s - loss: 0.5019 - acc: 0.8609 - val_loss: 0.6059 - val_acc: 0.8431\n",
      "Epoch 173/500\n",
      "6550/6680 [============================>.] - ETA: 0s - loss: 0.5113 - acc: 0.8551Epoch 00172: val_loss improved from 0.60585 to 0.60501, saving model to saved_models/weights.best.Res.hdf5\n",
      "6680/6680 [==============================] - 2s - loss: 0.5108 - acc: 0.8552 - val_loss: 0.6050 - val_acc: 0.8419\n",
      "Epoch 174/500\n",
      "6500/6680 [============================>.] - ETA: 0s - loss: 0.4845 - acc: 0.8677Epoch 00173: val_loss improved from 0.60501 to 0.60462, saving model to saved_models/weights.best.Res.hdf5\n",
      "6680/6680 [==============================] - 2s - loss: 0.4856 - acc: 0.8674 - val_loss: 0.6046 - val_acc: 0.8395\n",
      "Epoch 175/500\n",
      "6550/6680 [============================>.] - ETA: 0s - loss: 0.4949 - acc: 0.8646Epoch 00174: val_loss improved from 0.60462 to 0.60460, saving model to saved_models/weights.best.Res.hdf5\n",
      "6680/6680 [==============================] - 2s - loss: 0.4941 - acc: 0.8650 - val_loss: 0.6046 - val_acc: 0.8395\n",
      "Epoch 176/500\n",
      "6650/6680 [============================>.] - ETA: 0s - loss: 0.4881 - acc: 0.8696Epoch 00175: val_loss improved from 0.60460 to 0.60278, saving model to saved_models/weights.best.Res.hdf5\n",
      "6680/6680 [==============================] - 2s - loss: 0.4875 - acc: 0.8696 - val_loss: 0.6028 - val_acc: 0.8395\n",
      "Epoch 177/500\n",
      "6600/6680 [============================>.] - ETA: 0s - loss: 0.4867 - acc: 0.8674Epoch 00176: val_loss improved from 0.60278 to 0.60190, saving model to saved_models/weights.best.Res.hdf5\n",
      "6680/6680 [==============================] - 2s - loss: 0.4864 - acc: 0.8677 - val_loss: 0.6019 - val_acc: 0.8407\n",
      "Epoch 178/500\n",
      "6550/6680 [============================>.] - ETA: 0s - loss: 0.5071 - acc: 0.8615Epoch 00177: val_loss improved from 0.60190 to 0.60096, saving model to saved_models/weights.best.Res.hdf5\n",
      "6680/6680 [==============================] - 2s - loss: 0.5059 - acc: 0.8618 - val_loss: 0.6010 - val_acc: 0.8431\n",
      "Epoch 179/500\n",
      "6600/6680 [============================>.] - ETA: 0s - loss: 0.4935 - acc: 0.8611Epoch 00178: val_loss improved from 0.60096 to 0.60015, saving model to saved_models/weights.best.Res.hdf5\n",
      "6680/6680 [==============================] - 2s - loss: 0.4923 - acc: 0.8614 - val_loss: 0.6001 - val_acc: 0.8395\n",
      "Epoch 180/500\n",
      "6500/6680 [============================>.] - ETA: 0s - loss: 0.4881 - acc: 0.8603Epoch 00179: val_loss improved from 0.60015 to 0.59878, saving model to saved_models/weights.best.Res.hdf5\n",
      "6680/6680 [==============================] - 2s - loss: 0.4855 - acc: 0.8612 - val_loss: 0.5988 - val_acc: 0.8395\n",
      "Epoch 181/500\n",
      "6600/6680 [============================>.] - ETA: 0s - loss: 0.4826 - acc: 0.8688Epoch 00180: val_loss improved from 0.59878 to 0.59810, saving model to saved_models/weights.best.Res.hdf5\n",
      "6680/6680 [==============================] - 2s - loss: 0.4822 - acc: 0.8692 - val_loss: 0.5981 - val_acc: 0.8395\n",
      "Epoch 182/500\n",
      "6550/6680 [============================>.] - ETA: 0s - loss: 0.4805 - acc: 0.8669Epoch 00181: val_loss improved from 0.59810 to 0.59794, saving model to saved_models/weights.best.Res.hdf5\n",
      "6680/6680 [==============================] - 2s - loss: 0.4793 - acc: 0.8674 - val_loss: 0.5979 - val_acc: 0.8407\n",
      "Epoch 183/500\n",
      "6650/6680 [============================>.] - ETA: 0s - loss: 0.4870 - acc: 0.8689Epoch 00182: val_loss improved from 0.59794 to 0.59678, saving model to saved_models/weights.best.Res.hdf5\n",
      "6680/6680 [==============================] - 2s - loss: 0.4862 - acc: 0.8692 - val_loss: 0.5968 - val_acc: 0.8419\n",
      "Epoch 184/500\n",
      "6600/6680 [============================>.] - ETA: 0s - loss: 0.4714 - acc: 0.8689Epoch 00183: val_loss improved from 0.59678 to 0.59500, saving model to saved_models/weights.best.Res.hdf5\n",
      "6680/6680 [==============================] - 2s - loss: 0.4708 - acc: 0.8692 - val_loss: 0.5950 - val_acc: 0.8419\n",
      "Epoch 185/500\n",
      "6650/6680 [============================>.] - ETA: 0s - loss: 0.4673 - acc: 0.8714Epoch 00184: val_loss improved from 0.59500 to 0.59474, saving model to saved_models/weights.best.Res.hdf5\n",
      "6680/6680 [==============================] - 2s - loss: 0.4668 - acc: 0.8717 - val_loss: 0.5947 - val_acc: 0.8419\n",
      "Epoch 186/500\n",
      "6550/6680 [============================>.] - ETA: 0s - loss: 0.4727 - acc: 0.8687Epoch 00185: val_loss improved from 0.59474 to 0.59386, saving model to saved_models/weights.best.Res.hdf5\n",
      "6680/6680 [==============================] - 2s - loss: 0.4730 - acc: 0.8687 - val_loss: 0.5939 - val_acc: 0.8443\n",
      "Epoch 187/500\n",
      "6600/6680 [============================>.] - ETA: 0s - loss: 0.4670 - acc: 0.8703Epoch 00186: val_loss improved from 0.59386 to 0.59278, saving model to saved_models/weights.best.Res.hdf5\n",
      "6680/6680 [==============================] - 2s - loss: 0.4688 - acc: 0.8699 - val_loss: 0.5928 - val_acc: 0.8407\n",
      "Epoch 188/500\n",
      "6600/6680 [============================>.] - ETA: 0s - loss: 0.4642 - acc: 0.8706Epoch 00187: val_loss improved from 0.59278 to 0.59249, saving model to saved_models/weights.best.Res.hdf5\n",
      "6680/6680 [==============================] - 2s - loss: 0.4647 - acc: 0.8707 - val_loss: 0.5925 - val_acc: 0.8395\n",
      "Epoch 189/500\n",
      "6600/6680 [============================>.] - ETA: 0s - loss: 0.4804 - acc: 0.8667Epoch 00188: val_loss improved from 0.59249 to 0.59149, saving model to saved_models/weights.best.Res.hdf5\n",
      "6680/6680 [==============================] - 2s - loss: 0.4784 - acc: 0.8671 - val_loss: 0.5915 - val_acc: 0.8395\n",
      "Epoch 190/500\n",
      "6600/6680 [============================>.] - ETA: 0s - loss: 0.4765 - acc: 0.8662Epoch 00189: val_loss improved from 0.59149 to 0.59109, saving model to saved_models/weights.best.Res.hdf5\n",
      "6680/6680 [==============================] - 2s - loss: 0.4760 - acc: 0.8665 - val_loss: 0.5911 - val_acc: 0.8395\n",
      "Epoch 191/500\n",
      "6650/6680 [============================>.] - ETA: 0s - loss: 0.4601 - acc: 0.8729Epoch 00190: val_loss improved from 0.59109 to 0.58993, saving model to saved_models/weights.best.Res.hdf5\n",
      "6680/6680 [==============================] - 2s - loss: 0.4591 - acc: 0.8734 - val_loss: 0.5899 - val_acc: 0.8407\n",
      "Epoch 192/500\n",
      "6600/6680 [============================>.] - ETA: 0s - loss: 0.4618 - acc: 0.8724Epoch 00191: val_loss improved from 0.58993 to 0.58851, saving model to saved_models/weights.best.Res.hdf5\n",
      "6680/6680 [==============================] - 2s - loss: 0.4624 - acc: 0.8725 - val_loss: 0.5885 - val_acc: 0.8455\n",
      "Epoch 193/500\n",
      "6600/6680 [============================>.] - ETA: 0s - loss: 0.4699 - acc: 0.8652Epoch 00192: val_loss improved from 0.58851 to 0.58733, saving model to saved_models/weights.best.Res.hdf5\n",
      "6680/6680 [==============================] - 2s - loss: 0.4685 - acc: 0.8659 - val_loss: 0.5873 - val_acc: 0.8467\n",
      "Epoch 194/500\n",
      "6600/6680 [============================>.] - ETA: 0s - loss: 0.4703 - acc: 0.8656Epoch 00193: val_loss did not improve\n",
      "6680/6680 [==============================] - 2s - loss: 0.4708 - acc: 0.8654 - val_loss: 0.5874 - val_acc: 0.8443\n",
      "Epoch 195/500\n",
      "6650/6680 [============================>.] - ETA: 0s - loss: 0.4602 - acc: 0.8726Epoch 00194: val_loss did not improve\n",
      "6680/6680 [==============================] - 2s - loss: 0.4600 - acc: 0.8729 - val_loss: 0.5875 - val_acc: 0.8443\n",
      "Epoch 196/500\n",
      "6650/6680 [============================>.] - ETA: 0s - loss: 0.4658 - acc: 0.8741Epoch 00195: val_loss did not improve\n",
      "6680/6680 [==============================] - 2s - loss: 0.4651 - acc: 0.8744 - val_loss: 0.5878 - val_acc: 0.8431\n",
      "Epoch 197/500\n",
      "6600/6680 [============================>.] - ETA: 0s - loss: 0.4383 - acc: 0.8792Epoch 00196: val_loss improved from 0.58733 to 0.58611, saving model to saved_models/weights.best.Res.hdf5\n",
      "6680/6680 [==============================] - 2s - loss: 0.4390 - acc: 0.8787 - val_loss: 0.5861 - val_acc: 0.8443\n",
      "Epoch 198/500\n",
      "6550/6680 [============================>.] - ETA: 0s - loss: 0.4497 - acc: 0.8745Epoch 00197: val_loss improved from 0.58611 to 0.58455, saving model to saved_models/weights.best.Res.hdf5\n",
      "6680/6680 [==============================] - 2s - loss: 0.4489 - acc: 0.8746 - val_loss: 0.5846 - val_acc: 0.8455\n",
      "Epoch 199/500\n",
      "6650/6680 [============================>.] - ETA: 0s - loss: 0.4581 - acc: 0.8734Epoch 00198: val_loss improved from 0.58455 to 0.58370, saving model to saved_models/weights.best.Res.hdf5\n",
      "6680/6680 [==============================] - 2s - loss: 0.4590 - acc: 0.8731 - val_loss: 0.5837 - val_acc: 0.8467\n",
      "Epoch 200/500\n",
      "6600/6680 [============================>.] - ETA: 0s - loss: 0.4530 - acc: 0.8708Epoch 00199: val_loss improved from 0.58370 to 0.58333, saving model to saved_models/weights.best.Res.hdf5\n",
      "6680/6680 [==============================] - 2s - loss: 0.4540 - acc: 0.8701 - val_loss: 0.5833 - val_acc: 0.8455\n",
      "Epoch 201/500\n",
      "6650/6680 [============================>.] - ETA: 0s - loss: 0.4383 - acc: 0.8820Epoch 00200: val_loss improved from 0.58333 to 0.58281, saving model to saved_models/weights.best.Res.hdf5\n",
      "6680/6680 [==============================] - 2s - loss: 0.4384 - acc: 0.8820 - val_loss: 0.5828 - val_acc: 0.8431\n",
      "Epoch 202/500\n",
      "6650/6680 [============================>.] - ETA: 0s - loss: 0.4523 - acc: 0.8729Epoch 00201: val_loss improved from 0.58281 to 0.58196, saving model to saved_models/weights.best.Res.hdf5\n",
      "6680/6680 [==============================] - 2s - loss: 0.4520 - acc: 0.8732 - val_loss: 0.5820 - val_acc: 0.8455\n",
      "Epoch 203/500\n",
      "6550/6680 [============================>.] - ETA: 0s - loss: 0.4438 - acc: 0.8798Epoch 00202: val_loss improved from 0.58196 to 0.58030, saving model to saved_models/weights.best.Res.hdf5\n",
      "6680/6680 [==============================] - 2s - loss: 0.4430 - acc: 0.8810 - val_loss: 0.5803 - val_acc: 0.8455\n",
      "Epoch 204/500\n",
      "6500/6680 [============================>.] - ETA: 0s - loss: 0.4388 - acc: 0.8823Epoch 00203: val_loss improved from 0.58030 to 0.57958, saving model to saved_models/weights.best.Res.hdf5\n",
      "6680/6680 [==============================] - 2s - loss: 0.4367 - acc: 0.8832 - val_loss: 0.5796 - val_acc: 0.8443\n",
      "Epoch 205/500\n",
      "6600/6680 [============================>.] - ETA: 0s - loss: 0.4452 - acc: 0.8770Epoch 00204: val_loss did not improve\n",
      "6680/6680 [==============================] - 2s - loss: 0.4456 - acc: 0.8765 - val_loss: 0.5798 - val_acc: 0.8467\n",
      "Epoch 206/500\n",
      "6650/6680 [============================>.] - ETA: 0s - loss: 0.4333 - acc: 0.8806Epoch 00205: val_loss improved from 0.57958 to 0.57895, saving model to saved_models/weights.best.Res.hdf5\n",
      "6680/6680 [==============================] - 2s - loss: 0.4331 - acc: 0.8805 - val_loss: 0.5790 - val_acc: 0.8455\n",
      "Epoch 207/500\n",
      "6600/6680 [============================>.] - ETA: 0s - loss: 0.4331 - acc: 0.8865Epoch 00206: val_loss did not improve\n",
      "6680/6680 [==============================] - 2s - loss: 0.4336 - acc: 0.8862 - val_loss: 0.5795 - val_acc: 0.8419\n",
      "Epoch 208/500\n",
      "6650/6680 [============================>.] - ETA: 0s - loss: 0.4331 - acc: 0.8820Epoch 00207: val_loss improved from 0.57895 to 0.57860, saving model to saved_models/weights.best.Res.hdf5\n",
      "6680/6680 [==============================] - 2s - loss: 0.4328 - acc: 0.8817 - val_loss: 0.5786 - val_acc: 0.8479\n",
      "Epoch 209/500\n",
      "6600/6680 [============================>.] - ETA: 0s - loss: 0.4331 - acc: 0.8774Epoch 00208: val_loss improved from 0.57860 to 0.57705, saving model to saved_models/weights.best.Res.hdf5\n",
      "6680/6680 [==============================] - 2s - loss: 0.4328 - acc: 0.8772 - val_loss: 0.5771 - val_acc: 0.8455\n",
      "Epoch 210/500\n",
      "6550/6680 [============================>.] - ETA: 0s - loss: 0.4317 - acc: 0.8797Epoch 00209: val_loss improved from 0.57705 to 0.57594, saving model to saved_models/weights.best.Res.hdf5\n",
      "6680/6680 [==============================] - 2s - loss: 0.4323 - acc: 0.8793 - val_loss: 0.5759 - val_acc: 0.8467\n",
      "Epoch 211/500\n",
      "6650/6680 [============================>.] - ETA: 0s - loss: 0.4242 - acc: 0.8844Epoch 00210: val_loss improved from 0.57594 to 0.57504, saving model to saved_models/weights.best.Res.hdf5\n",
      "6680/6680 [==============================] - 2s - loss: 0.4242 - acc: 0.8841 - val_loss: 0.5750 - val_acc: 0.8455\n",
      "Epoch 212/500\n",
      "6650/6680 [============================>.] - ETA: 0s - loss: 0.4143 - acc: 0.8844Epoch 00211: val_loss improved from 0.57504 to 0.57446, saving model to saved_models/weights.best.Res.hdf5\n",
      "6680/6680 [==============================] - 2s - loss: 0.4136 - acc: 0.8849 - val_loss: 0.5745 - val_acc: 0.8431\n",
      "Epoch 213/500\n",
      "6650/6680 [============================>.] - ETA: 0s - loss: 0.4194 - acc: 0.8847Epoch 00212: val_loss improved from 0.57446 to 0.57318, saving model to saved_models/weights.best.Res.hdf5\n",
      "6680/6680 [==============================] - 2s - loss: 0.4192 - acc: 0.8844 - val_loss: 0.5732 - val_acc: 0.8419\n",
      "Epoch 214/500\n",
      "6550/6680 [============================>.] - ETA: 0s - loss: 0.4207 - acc: 0.8867Epoch 00213: val_loss improved from 0.57318 to 0.57207, saving model to saved_models/weights.best.Res.hdf5\n",
      "6680/6680 [==============================] - 2s - loss: 0.4206 - acc: 0.8867 - val_loss: 0.5721 - val_acc: 0.8443\n",
      "Epoch 215/500\n",
      "6550/6680 [============================>.] - ETA: 0s - loss: 0.4208 - acc: 0.8850Epoch 00214: val_loss improved from 0.57207 to 0.57163, saving model to saved_models/weights.best.Res.hdf5\n",
      "6680/6680 [==============================] - 2s - loss: 0.4223 - acc: 0.8846 - val_loss: 0.5716 - val_acc: 0.8419\n",
      "Epoch 216/500\n",
      "6500/6680 [============================>.] - ETA: 0s - loss: 0.4285 - acc: 0.8775Epoch 00215: val_loss did not improve\n",
      "6680/6680 [==============================] - 2s - loss: 0.4271 - acc: 0.8778 - val_loss: 0.5718 - val_acc: 0.8431\n",
      "Epoch 217/500\n",
      "6650/6680 [============================>.] - ETA: 0s - loss: 0.4152 - acc: 0.8901Epoch 00216: val_loss improved from 0.57163 to 0.57089, saving model to saved_models/weights.best.Res.hdf5\n",
      "6680/6680 [==============================] - 2s - loss: 0.4156 - acc: 0.8901 - val_loss: 0.5709 - val_acc: 0.8431\n",
      "Epoch 218/500\n",
      "6600/6680 [============================>.] - ETA: 0s - loss: 0.4157 - acc: 0.8859Epoch 00217: val_loss improved from 0.57089 to 0.56998, saving model to saved_models/weights.best.Res.hdf5\n",
      "6680/6680 [==============================] - 2s - loss: 0.4160 - acc: 0.8862 - val_loss: 0.5700 - val_acc: 0.8419\n",
      "Epoch 219/500\n",
      "6550/6680 [============================>.] - ETA: 0s - loss: 0.4128 - acc: 0.8895Epoch 00218: val_loss improved from 0.56998 to 0.56996, saving model to saved_models/weights.best.Res.hdf5\n",
      "6680/6680 [==============================] - 2s - loss: 0.4116 - acc: 0.8894 - val_loss: 0.5700 - val_acc: 0.8431\n",
      "Epoch 220/500\n",
      "6550/6680 [============================>.] - ETA: 0s - loss: 0.4089 - acc: 0.8875Epoch 00219: val_loss improved from 0.56996 to 0.56905, saving model to saved_models/weights.best.Res.hdf5\n",
      "6680/6680 [==============================] - 2s - loss: 0.4091 - acc: 0.8876 - val_loss: 0.5690 - val_acc: 0.8467\n",
      "Epoch 221/500\n",
      "6550/6680 [============================>.] - ETA: 0s - loss: 0.4099 - acc: 0.8872Epoch 00220: val_loss did not improve\n",
      "6680/6680 [==============================] - 2s - loss: 0.4099 - acc: 0.8868 - val_loss: 0.5697 - val_acc: 0.8443\n",
      "Epoch 222/500\n",
      "6650/6680 [============================>.] - ETA: 0s - loss: 0.4107 - acc: 0.8854Epoch 00221: val_loss improved from 0.56905 to 0.56830, saving model to saved_models/weights.best.Res.hdf5\n",
      "6680/6680 [==============================] - 2s - loss: 0.4112 - acc: 0.8852 - val_loss: 0.5683 - val_acc: 0.8431\n",
      "Epoch 223/500\n",
      "6550/6680 [============================>.] - ETA: 0s - loss: 0.4021 - acc: 0.8910Epoch 00222: val_loss improved from 0.56830 to 0.56805, saving model to saved_models/weights.best.Res.hdf5\n",
      "6680/6680 [==============================] - 2s - loss: 0.4031 - acc: 0.8904 - val_loss: 0.5680 - val_acc: 0.8443\n",
      "Epoch 224/500\n",
      "6600/6680 [============================>.] - ETA: 0s - loss: 0.4042 - acc: 0.8891Epoch 00223: val_loss improved from 0.56805 to 0.56769, saving model to saved_models/weights.best.Res.hdf5\n",
      "6680/6680 [==============================] - 2s - loss: 0.4041 - acc: 0.8892 - val_loss: 0.5677 - val_acc: 0.8443\n",
      "Epoch 225/500\n",
      "6500/6680 [============================>.] - ETA: 0s - loss: 0.4011 - acc: 0.8905Epoch 00224: val_loss improved from 0.56769 to 0.56717, saving model to saved_models/weights.best.Res.hdf5\n",
      "6680/6680 [==============================] - 2s - loss: 0.4017 - acc: 0.8906 - val_loss: 0.5672 - val_acc: 0.8479\n",
      "Epoch 226/500\n",
      "6550/6680 [============================>.] - ETA: 0s - loss: 0.4036 - acc: 0.8852Epoch 00225: val_loss improved from 0.56717 to 0.56646, saving model to saved_models/weights.best.Res.hdf5\n",
      "6680/6680 [==============================] - 2s - loss: 0.4022 - acc: 0.8858 - val_loss: 0.5665 - val_acc: 0.8467\n",
      "Epoch 227/500\n",
      "6550/6680 [============================>.] - ETA: 0s - loss: 0.3968 - acc: 0.8947Epoch 00226: val_loss improved from 0.56646 to 0.56594, saving model to saved_models/weights.best.Res.hdf5\n",
      "6680/6680 [==============================] - 2s - loss: 0.3975 - acc: 0.8946 - val_loss: 0.5659 - val_acc: 0.8467\n",
      "Epoch 228/500\n",
      "6550/6680 [============================>.] - ETA: 0s - loss: 0.3926 - acc: 0.8977Epoch 00227: val_loss improved from 0.56594 to 0.56475, saving model to saved_models/weights.best.Res.hdf5\n",
      "6680/6680 [==============================] - 2s - loss: 0.3899 - acc: 0.8987 - val_loss: 0.5648 - val_acc: 0.8455\n",
      "Epoch 229/500\n",
      "6500/6680 [============================>.] - ETA: 0s - loss: 0.3997 - acc: 0.8920Epoch 00228: val_loss improved from 0.56475 to 0.56393, saving model to saved_models/weights.best.Res.hdf5\n",
      "6680/6680 [==============================] - 2s - loss: 0.3994 - acc: 0.8919 - val_loss: 0.5639 - val_acc: 0.8479\n",
      "Epoch 230/500\n",
      "6600/6680 [============================>.] - ETA: 0s - loss: 0.4019 - acc: 0.8865Epoch 00229: val_loss improved from 0.56393 to 0.56383, saving model to saved_models/weights.best.Res.hdf5\n",
      "6680/6680 [==============================] - 2s - loss: 0.4020 - acc: 0.8861 - val_loss: 0.5638 - val_acc: 0.8503\n",
      "Epoch 231/500\n",
      "6600/6680 [============================>.] - ETA: 0s - loss: 0.3930 - acc: 0.8900Epoch 00230: val_loss did not improve\n",
      "6680/6680 [==============================] - 2s - loss: 0.3929 - acc: 0.8904 - val_loss: 0.5643 - val_acc: 0.8503\n",
      "Epoch 232/500\n",
      "6650/6680 [============================>.] - ETA: 0s - loss: 0.4020 - acc: 0.8899Epoch 00231: val_loss improved from 0.56383 to 0.56380, saving model to saved_models/weights.best.Res.hdf5\n",
      "6680/6680 [==============================] - 2s - loss: 0.4024 - acc: 0.8901 - val_loss: 0.5638 - val_acc: 0.8491\n",
      "Epoch 233/500\n",
      "6600/6680 [============================>.] - ETA: 0s - loss: 0.4010 - acc: 0.8830Epoch 00232: val_loss improved from 0.56380 to 0.56253, saving model to saved_models/weights.best.Res.hdf5\n",
      "6680/6680 [==============================] - 2s - loss: 0.4009 - acc: 0.8834 - val_loss: 0.5625 - val_acc: 0.8491\n",
      "Epoch 234/500\n",
      "6650/6680 [============================>.] - ETA: 0s - loss: 0.3791 - acc: 0.8985Epoch 00233: val_loss improved from 0.56253 to 0.56247, saving model to saved_models/weights.best.Res.hdf5\n",
      "6680/6680 [==============================] - 2s - loss: 0.3782 - acc: 0.8990 - val_loss: 0.5625 - val_acc: 0.8443\n",
      "Epoch 235/500\n",
      "6500/6680 [============================>.] - ETA: 0s - loss: 0.3967 - acc: 0.8880Epoch 00234: val_loss improved from 0.56247 to 0.56171, saving model to saved_models/weights.best.Res.hdf5\n",
      "6680/6680 [==============================] - 2s - loss: 0.3975 - acc: 0.8880 - val_loss: 0.5617 - val_acc: 0.8467\n",
      "Epoch 236/500\n",
      "6600/6680 [============================>.] - ETA: 0s - loss: 0.3842 - acc: 0.8964Epoch 00235: val_loss improved from 0.56171 to 0.56127, saving model to saved_models/weights.best.Res.hdf5\n",
      "6680/6680 [==============================] - 2s - loss: 0.3852 - acc: 0.8958 - val_loss: 0.5613 - val_acc: 0.8479\n",
      "Epoch 237/500\n",
      "6550/6680 [============================>.] - ETA: 0s - loss: 0.3751 - acc: 0.9014Epoch 00236: val_loss improved from 0.56127 to 0.56125, saving model to saved_models/weights.best.Res.hdf5\n",
      "6680/6680 [==============================] - 2s - loss: 0.3755 - acc: 0.9019 - val_loss: 0.5612 - val_acc: 0.8455\n",
      "Epoch 238/500\n",
      "6650/6680 [============================>.] - ETA: 0s - loss: 0.3873 - acc: 0.8961Epoch 00237: val_loss improved from 0.56125 to 0.56020, saving model to saved_models/weights.best.Res.hdf5\n",
      "6680/6680 [==============================] - 2s - loss: 0.3876 - acc: 0.8961 - val_loss: 0.5602 - val_acc: 0.8431\n",
      "Epoch 239/500\n",
      "6600/6680 [============================>.] - ETA: 0s - loss: 0.3859 - acc: 0.8959Epoch 00238: val_loss improved from 0.56020 to 0.56009, saving model to saved_models/weights.best.Res.hdf5\n",
      "6680/6680 [==============================] - 2s - loss: 0.3858 - acc: 0.8958 - val_loss: 0.5601 - val_acc: 0.8443\n",
      "Epoch 240/500\n",
      "6650/6680 [============================>.] - ETA: 0s - loss: 0.3859 - acc: 0.8943Epoch 00239: val_loss improved from 0.56009 to 0.55882, saving model to saved_models/weights.best.Res.hdf5\n",
      "6680/6680 [==============================] - 2s - loss: 0.3858 - acc: 0.8943 - val_loss: 0.5588 - val_acc: 0.8443\n",
      "Epoch 241/500\n",
      "6650/6680 [============================>.] - ETA: 0s - loss: 0.3827 - acc: 0.8929Epoch 00240: val_loss did not improve\n",
      "6680/6680 [==============================] - 2s - loss: 0.3822 - acc: 0.8931 - val_loss: 0.5591 - val_acc: 0.8491\n",
      "Epoch 242/500\n",
      "6600/6680 [============================>.] - ETA: 0s - loss: 0.3800 - acc: 0.8948Epoch 00241: val_loss did not improve\n",
      "6680/6680 [==============================] - 2s - loss: 0.3797 - acc: 0.8951 - val_loss: 0.5590 - val_acc: 0.8491\n",
      "Epoch 243/500\n",
      "6500/6680 [============================>.] - ETA: 0s - loss: 0.3781 - acc: 0.8969Epoch 00242: val_loss improved from 0.55882 to 0.55836, saving model to saved_models/weights.best.Res.hdf5\n",
      "6680/6680 [==============================] - 2s - loss: 0.3782 - acc: 0.8969 - val_loss: 0.5584 - val_acc: 0.8479\n",
      "Epoch 244/500\n",
      "6500/6680 [============================>.] - ETA: 0s - loss: 0.3690 - acc: 0.9015Epoch 00243: val_loss improved from 0.55836 to 0.55699, saving model to saved_models/weights.best.Res.hdf5\n",
      "6680/6680 [==============================] - 2s - loss: 0.3692 - acc: 0.9007 - val_loss: 0.5570 - val_acc: 0.8455\n",
      "Epoch 245/500\n",
      "6550/6680 [============================>.] - ETA: 0s - loss: 0.3725 - acc: 0.9015Epoch 00244: val_loss improved from 0.55699 to 0.55644, saving model to saved_models/weights.best.Res.hdf5\n",
      "6680/6680 [==============================] - 2s - loss: 0.3738 - acc: 0.9010 - val_loss: 0.5564 - val_acc: 0.8479\n",
      "Epoch 246/500\n",
      "6500/6680 [============================>.] - ETA: 0s - loss: 0.3766 - acc: 0.8982Epoch 00245: val_loss improved from 0.55644 to 0.55499, saving model to saved_models/weights.best.Res.hdf5\n",
      "6680/6680 [==============================] - 2s - loss: 0.3747 - acc: 0.8991 - val_loss: 0.5550 - val_acc: 0.8479\n",
      "Epoch 247/500\n",
      "6650/6680 [============================>.] - ETA: 0s - loss: 0.3642 - acc: 0.9041Epoch 00246: val_loss improved from 0.55499 to 0.55496, saving model to saved_models/weights.best.Res.hdf5\n",
      "6680/6680 [==============================] - 2s - loss: 0.3655 - acc: 0.9037 - val_loss: 0.5550 - val_acc: 0.8467\n",
      "Epoch 248/500\n",
      "6600/6680 [============================>.] - ETA: 0s - loss: 0.3718 - acc: 0.8955Epoch 00247: val_loss improved from 0.55496 to 0.55459, saving model to saved_models/weights.best.Res.hdf5\n",
      "6680/6680 [==============================] - 2s - loss: 0.3733 - acc: 0.8952 - val_loss: 0.5546 - val_acc: 0.8479\n",
      "Epoch 249/500\n",
      "6600/6680 [============================>.] - ETA: 0s - loss: 0.3730 - acc: 0.8986Epoch 00248: val_loss did not improve\n",
      "6680/6680 [==============================] - 2s - loss: 0.3733 - acc: 0.8982 - val_loss: 0.5548 - val_acc: 0.8467\n",
      "Epoch 250/500\n",
      "6600/6680 [============================>.] - ETA: 0s - loss: 0.3653 - acc: 0.9047Epoch 00249: val_loss did not improve\n",
      "6680/6680 [==============================] - 2s - loss: 0.3660 - acc: 0.9045 - val_loss: 0.5547 - val_acc: 0.8443\n",
      "Epoch 251/500\n",
      "6550/6680 [============================>.] - ETA: 0s - loss: 0.3559 - acc: 0.9070Epoch 00250: val_loss improved from 0.55459 to 0.55434, saving model to saved_models/weights.best.Res.hdf5\n",
      "6680/6680 [==============================] - 2s - loss: 0.3568 - acc: 0.9067 - val_loss: 0.5543 - val_acc: 0.8455\n",
      "Epoch 252/500\n",
      "6650/6680 [============================>.] - ETA: 0s - loss: 0.3683 - acc: 0.9024Epoch 00251: val_loss did not improve\n",
      "6680/6680 [==============================] - 2s - loss: 0.3681 - acc: 0.9025 - val_loss: 0.5546 - val_acc: 0.8455\n",
      "Epoch 253/500\n",
      "6550/6680 [============================>.] - ETA: 0s - loss: 0.3636 - acc: 0.9017Epoch 00252: val_loss improved from 0.55434 to 0.55341, saving model to saved_models/weights.best.Res.hdf5\n",
      "6680/6680 [==============================] - 2s - loss: 0.3634 - acc: 0.9025 - val_loss: 0.5534 - val_acc: 0.8479\n",
      "Epoch 254/500\n",
      "6550/6680 [============================>.] - ETA: 0s - loss: 0.3611 - acc: 0.9047Epoch 00253: val_loss improved from 0.55341 to 0.55243, saving model to saved_models/weights.best.Res.hdf5\n",
      "6680/6680 [==============================] - 2s - loss: 0.3608 - acc: 0.9049 - val_loss: 0.5524 - val_acc: 0.8491\n",
      "Epoch 255/500\n",
      "6650/6680 [============================>.] - ETA: 0s - loss: 0.3580 - acc: 0.9041Epoch 00254: val_loss improved from 0.55243 to 0.55176, saving model to saved_models/weights.best.Res.hdf5\n",
      "6680/6680 [==============================] - 2s - loss: 0.3581 - acc: 0.9040 - val_loss: 0.5518 - val_acc: 0.8491\n",
      "Epoch 256/500\n",
      "6600/6680 [============================>.] - ETA: 0s - loss: 0.3646 - acc: 0.8991Epoch 00255: val_loss improved from 0.55176 to 0.55117, saving model to saved_models/weights.best.Res.hdf5\n",
      "6680/6680 [==============================] - 2s - loss: 0.3646 - acc: 0.8988 - val_loss: 0.5512 - val_acc: 0.8527\n",
      "Epoch 257/500\n",
      "6600/6680 [============================>.] - ETA: 0s - loss: 0.3651 - acc: 0.8991Epoch 00256: val_loss improved from 0.55117 to 0.55099, saving model to saved_models/weights.best.Res.hdf5\n",
      "6680/6680 [==============================] - 2s - loss: 0.3662 - acc: 0.8987 - val_loss: 0.5510 - val_acc: 0.8503\n",
      "Epoch 258/500\n",
      "6600/6680 [============================>.] - ETA: 0s - loss: 0.3504 - acc: 0.9102Epoch 00257: val_loss improved from 0.55099 to 0.54946, saving model to saved_models/weights.best.Res.hdf5\n",
      "6680/6680 [==============================] - 2s - loss: 0.3497 - acc: 0.9108 - val_loss: 0.5495 - val_acc: 0.8491\n",
      "Epoch 259/500\n",
      "6500/6680 [============================>.] - ETA: 0s - loss: 0.3601 - acc: 0.8980Epoch 00258: val_loss improved from 0.54946 to 0.54913, saving model to saved_models/weights.best.Res.hdf5\n",
      "6680/6680 [==============================] - 2s - loss: 0.3602 - acc: 0.8982 - val_loss: 0.5491 - val_acc: 0.8503\n",
      "Epoch 260/500\n",
      "6650/6680 [============================>.] - ETA: 0s - loss: 0.3575 - acc: 0.9033Epoch 00259: val_loss did not improve\n",
      "6680/6680 [==============================] - 2s - loss: 0.3572 - acc: 0.9034 - val_loss: 0.5495 - val_acc: 0.8479\n",
      "Epoch 261/500\n",
      "6600/6680 [============================>.] - ETA: 0s - loss: 0.3641 - acc: 0.9055Epoch 00260: val_loss did not improve\n",
      "6680/6680 [==============================] - 2s - loss: 0.3639 - acc: 0.9052 - val_loss: 0.5496 - val_acc: 0.8503\n",
      "Epoch 262/500\n",
      "6550/6680 [============================>.] - ETA: 0s - loss: 0.3564 - acc: 0.9026Epoch 00261: val_loss improved from 0.54913 to 0.54896, saving model to saved_models/weights.best.Res.hdf5\n",
      "6680/6680 [==============================] - 2s - loss: 0.3573 - acc: 0.9025 - val_loss: 0.5490 - val_acc: 0.8503\n",
      "Epoch 263/500\n",
      "6550/6680 [============================>.] - ETA: 0s - loss: 0.3567 - acc: 0.9044Epoch 00262: val_loss improved from 0.54896 to 0.54881, saving model to saved_models/weights.best.Res.hdf5\n",
      "6680/6680 [==============================] - 2s - loss: 0.3552 - acc: 0.9049 - val_loss: 0.5488 - val_acc: 0.8491\n",
      "Epoch 264/500\n",
      "6600/6680 [============================>.] - ETA: 0s - loss: 0.3585 - acc: 0.9068Epoch 00263: val_loss improved from 0.54881 to 0.54789, saving model to saved_models/weights.best.Res.hdf5\n",
      "6680/6680 [==============================] - 2s - loss: 0.3584 - acc: 0.9064 - val_loss: 0.5479 - val_acc: 0.8503\n",
      "Epoch 265/500\n",
      "6600/6680 [============================>.] - ETA: 0s - loss: 0.3471 - acc: 0.9067Epoch 00264: val_loss did not improve\n",
      "6680/6680 [==============================] - 2s - loss: 0.3469 - acc: 0.9064 - val_loss: 0.5482 - val_acc: 0.8479\n",
      "Epoch 266/500\n",
      "6650/6680 [============================>.] - ETA: 0s - loss: 0.3530 - acc: 0.9041Epoch 00265: val_loss improved from 0.54789 to 0.54760, saving model to saved_models/weights.best.Res.hdf5\n",
      "6680/6680 [==============================] - 2s - loss: 0.3536 - acc: 0.9039 - val_loss: 0.5476 - val_acc: 0.8479\n",
      "Epoch 267/500\n",
      "6600/6680 [============================>.] - ETA: 0s - loss: 0.3567 - acc: 0.9050Epoch 00266: val_loss improved from 0.54760 to 0.54715, saving model to saved_models/weights.best.Res.hdf5\n",
      "6680/6680 [==============================] - 2s - loss: 0.3565 - acc: 0.9049 - val_loss: 0.5472 - val_acc: 0.8503\n",
      "Epoch 268/500\n",
      "6600/6680 [============================>.] - ETA: 0s - loss: 0.3530 - acc: 0.9071Epoch 00267: val_loss improved from 0.54715 to 0.54694, saving model to saved_models/weights.best.Res.hdf5\n",
      "6680/6680 [==============================] - 2s - loss: 0.3538 - acc: 0.9069 - val_loss: 0.5469 - val_acc: 0.8491\n",
      "Epoch 269/500\n",
      "6600/6680 [============================>.] - ETA: 0s - loss: 0.3372 - acc: 0.9138Epoch 00268: val_loss improved from 0.54694 to 0.54681, saving model to saved_models/weights.best.Res.hdf5\n",
      "6680/6680 [==============================] - 2s - loss: 0.3389 - acc: 0.9130 - val_loss: 0.5468 - val_acc: 0.8491\n",
      "Epoch 270/500\n",
      "6650/6680 [============================>.] - ETA: 0s - loss: 0.3389 - acc: 0.9093Epoch 00269: val_loss improved from 0.54681 to 0.54637, saving model to saved_models/weights.best.Res.hdf5\n",
      "6680/6680 [==============================] - 2s - loss: 0.3384 - acc: 0.9096 - val_loss: 0.5464 - val_acc: 0.8467\n",
      "Epoch 271/500\n",
      "6650/6680 [============================>.] - ETA: 0s - loss: 0.3403 - acc: 0.9110Epoch 00270: val_loss did not improve\n",
      "6680/6680 [==============================] - 2s - loss: 0.3409 - acc: 0.9105 - val_loss: 0.5468 - val_acc: 0.8467\n",
      "Epoch 272/500\n",
      "6650/6680 [============================>.] - ETA: 0s - loss: 0.3387 - acc: 0.9104Epoch 00271: val_loss improved from 0.54637 to 0.54553, saving model to saved_models/weights.best.Res.hdf5\n",
      "6680/6680 [==============================] - 2s - loss: 0.3389 - acc: 0.9103 - val_loss: 0.5455 - val_acc: 0.8467\n",
      "Epoch 273/500\n",
      "6600/6680 [============================>.] - ETA: 0s - loss: 0.3402 - acc: 0.9098Epoch 00272: val_loss improved from 0.54553 to 0.54420, saving model to saved_models/weights.best.Res.hdf5\n",
      "6680/6680 [==============================] - 2s - loss: 0.3396 - acc: 0.9097 - val_loss: 0.5442 - val_acc: 0.8491\n",
      "Epoch 274/500\n",
      "6550/6680 [============================>.] - ETA: 0s - loss: 0.3368 - acc: 0.9111Epoch 00273: val_loss did not improve\n",
      "6680/6680 [==============================] - 2s - loss: 0.3374 - acc: 0.9114 - val_loss: 0.5447 - val_acc: 0.8479\n",
      "Epoch 275/500\n",
      "6550/6680 [============================>.] - ETA: 0s - loss: 0.3385 - acc: 0.9067Epoch 00274: val_loss improved from 0.54420 to 0.54404, saving model to saved_models/weights.best.Res.hdf5\n",
      "6680/6680 [==============================] - 2s - loss: 0.3394 - acc: 0.9064 - val_loss: 0.5440 - val_acc: 0.8455\n",
      "Epoch 276/500\n",
      "6600/6680 [============================>.] - ETA: 0s - loss: 0.3426 - acc: 0.9109Epoch 00275: val_loss improved from 0.54404 to 0.54354, saving model to saved_models/weights.best.Res.hdf5\n",
      "6680/6680 [==============================] - 2s - loss: 0.3415 - acc: 0.9112 - val_loss: 0.5435 - val_acc: 0.8467\n",
      "Epoch 277/500\n",
      "6650/6680 [============================>.] - ETA: 0s - loss: 0.3374 - acc: 0.9134Epoch 00276: val_loss did not improve\n",
      "6680/6680 [==============================] - 2s - loss: 0.3376 - acc: 0.9132 - val_loss: 0.5437 - val_acc: 0.8467\n",
      "Epoch 278/500\n",
      "6600/6680 [============================>.] - ETA: 0s - loss: 0.3292 - acc: 0.9155Epoch 00277: val_loss improved from 0.54354 to 0.54340, saving model to saved_models/weights.best.Res.hdf5\n",
      "6680/6680 [==============================] - 2s - loss: 0.3288 - acc: 0.9156 - val_loss: 0.5434 - val_acc: 0.8479\n",
      "Epoch 279/500\n",
      "6550/6680 [============================>.] - ETA: 0s - loss: 0.3415 - acc: 0.9049Epoch 00278: val_loss improved from 0.54340 to 0.54222, saving model to saved_models/weights.best.Res.hdf5\n",
      "6680/6680 [==============================] - 2s - loss: 0.3441 - acc: 0.9040 - val_loss: 0.5422 - val_acc: 0.8491\n",
      "Epoch 280/500\n",
      "6600/6680 [============================>.] - ETA: 0s - loss: 0.3347 - acc: 0.9108Epoch 00279: val_loss did not improve\n",
      "6680/6680 [==============================] - 2s - loss: 0.3342 - acc: 0.9109 - val_loss: 0.5424 - val_acc: 0.8491\n",
      "Epoch 281/500\n",
      "6550/6680 [============================>.] - ETA: 0s - loss: 0.3310 - acc: 0.9130Epoch 00280: val_loss did not improve\n",
      "6680/6680 [==============================] - 2s - loss: 0.3313 - acc: 0.9127 - val_loss: 0.5424 - val_acc: 0.8479\n",
      "Epoch 282/500\n",
      "6600/6680 [============================>.] - ETA: 0s - loss: 0.3339 - acc: 0.9112Epoch 00281: val_loss did not improve\n",
      "6680/6680 [==============================] - 2s - loss: 0.3334 - acc: 0.9114 - val_loss: 0.5425 - val_acc: 0.8491\n",
      "Epoch 283/500\n",
      "6600/6680 [============================>.] - ETA: 0s - loss: 0.3258 - acc: 0.9129Epoch 00282: val_loss improved from 0.54222 to 0.54204, saving model to saved_models/weights.best.Res.hdf5\n",
      "6680/6680 [==============================] - 2s - loss: 0.3270 - acc: 0.9124 - val_loss: 0.5420 - val_acc: 0.8479\n",
      "Epoch 284/500\n",
      "6550/6680 [============================>.] - ETA: 0s - loss: 0.3313 - acc: 0.9151Epoch 00283: val_loss improved from 0.54204 to 0.54094, saving model to saved_models/weights.best.Res.hdf5\n",
      "6680/6680 [==============================] - 2s - loss: 0.3310 - acc: 0.9153 - val_loss: 0.5409 - val_acc: 0.8491\n",
      "Epoch 285/500\n",
      "6500/6680 [============================>.] - ETA: 0s - loss: 0.3333 - acc: 0.9120Epoch 00284: val_loss improved from 0.54094 to 0.54087, saving model to saved_models/weights.best.Res.hdf5\n",
      "6680/6680 [==============================] - 2s - loss: 0.3343 - acc: 0.9109 - val_loss: 0.5409 - val_acc: 0.8467\n",
      "Epoch 286/500\n",
      "6650/6680 [============================>.] - ETA: 0s - loss: 0.3260 - acc: 0.9108Epoch 00285: val_loss did not improve\n",
      "6680/6680 [==============================] - 2s - loss: 0.3261 - acc: 0.9105 - val_loss: 0.5409 - val_acc: 0.8455\n",
      "Epoch 287/500\n",
      "6600/6680 [============================>.] - ETA: 0s - loss: 0.3216 - acc: 0.9176Epoch 00286: val_loss improved from 0.54087 to 0.54076, saving model to saved_models/weights.best.Res.hdf5\n",
      "6680/6680 [==============================] - 2s - loss: 0.3209 - acc: 0.9181 - val_loss: 0.5408 - val_acc: 0.8455\n",
      "Epoch 288/500\n",
      "6650/6680 [============================>.] - ETA: 0s - loss: 0.3225 - acc: 0.9153Epoch 00287: val_loss improved from 0.54076 to 0.53910, saving model to saved_models/weights.best.Res.hdf5\n",
      "6680/6680 [==============================] - 2s - loss: 0.3224 - acc: 0.9156 - val_loss: 0.5391 - val_acc: 0.8467\n",
      "Epoch 289/500\n",
      "6600/6680 [============================>.] - ETA: 0s - loss: 0.3302 - acc: 0.9058Epoch 00288: val_loss did not improve\n",
      "6680/6680 [==============================] - 2s - loss: 0.3302 - acc: 0.9061 - val_loss: 0.5394 - val_acc: 0.8455\n",
      "Epoch 290/500\n",
      "6550/6680 [============================>.] - ETA: 0s - loss: 0.3225 - acc: 0.9096Epoch 00289: val_loss improved from 0.53910 to 0.53872, saving model to saved_models/weights.best.Res.hdf5\n",
      "6680/6680 [==============================] - 2s - loss: 0.3221 - acc: 0.9094 - val_loss: 0.5387 - val_acc: 0.8443\n",
      "Epoch 291/500\n",
      "6550/6680 [============================>.] - ETA: 0s - loss: 0.3214 - acc: 0.9169Epoch 00290: val_loss did not improve\n",
      "6680/6680 [==============================] - 2s - loss: 0.3207 - acc: 0.9171 - val_loss: 0.5392 - val_acc: 0.8455\n",
      "Epoch 292/500\n",
      "6650/6680 [============================>.] - ETA: 0s - loss: 0.3171 - acc: 0.9186Epoch 00291: val_loss improved from 0.53872 to 0.53842, saving model to saved_models/weights.best.Res.hdf5\n",
      "6680/6680 [==============================] - 2s - loss: 0.3165 - acc: 0.9189 - val_loss: 0.5384 - val_acc: 0.8443\n",
      "Epoch 293/500\n",
      "6650/6680 [============================>.] - ETA: 0s - loss: 0.3194 - acc: 0.9147Epoch 00292: val_loss improved from 0.53842 to 0.53783, saving model to saved_models/weights.best.Res.hdf5\n",
      "6680/6680 [==============================] - 2s - loss: 0.3198 - acc: 0.9145 - val_loss: 0.5378 - val_acc: 0.8467\n",
      "Epoch 294/500\n",
      "6600/6680 [============================>.] - ETA: 0s - loss: 0.3197 - acc: 0.9136Epoch 00293: val_loss improved from 0.53783 to 0.53750, saving model to saved_models/weights.best.Res.hdf5\n",
      "6680/6680 [==============================] - 2s - loss: 0.3198 - acc: 0.9133 - val_loss: 0.5375 - val_acc: 0.8503\n",
      "Epoch 295/500\n",
      "6550/6680 [============================>.] - ETA: 0s - loss: 0.3096 - acc: 0.9165Epoch 00294: val_loss improved from 0.53750 to 0.53710, saving model to saved_models/weights.best.Res.hdf5\n",
      "6680/6680 [==============================] - 2s - loss: 0.3092 - acc: 0.9169 - val_loss: 0.5371 - val_acc: 0.8503\n",
      "Epoch 296/500\n",
      "6600/6680 [============================>.] - ETA: 0s - loss: 0.3240 - acc: 0.9115Epoch 00295: val_loss did not improve\n",
      "6680/6680 [==============================] - 2s - loss: 0.3235 - acc: 0.9118 - val_loss: 0.5377 - val_acc: 0.8491\n",
      "Epoch 297/500\n",
      "6650/6680 [============================>.] - ETA: 0s - loss: 0.3180 - acc: 0.9167Epoch 00296: val_loss improved from 0.53710 to 0.53662, saving model to saved_models/weights.best.Res.hdf5\n",
      "6680/6680 [==============================] - 2s - loss: 0.3181 - acc: 0.9168 - val_loss: 0.5366 - val_acc: 0.8467\n",
      "Epoch 298/500\n",
      "6500/6680 [============================>.] - ETA: 0s - loss: 0.3141 - acc: 0.9160Epoch 00297: val_loss did not improve\n",
      "6680/6680 [==============================] - 2s - loss: 0.3159 - acc: 0.9151 - val_loss: 0.5366 - val_acc: 0.8467\n",
      "Epoch 299/500\n",
      "6600/6680 [============================>.] - ETA: 0s - loss: 0.3186 - acc: 0.9139Epoch 00298: val_loss improved from 0.53662 to 0.53621, saving model to saved_models/weights.best.Res.hdf5\n",
      "6680/6680 [==============================] - 2s - loss: 0.3180 - acc: 0.9142 - val_loss: 0.5362 - val_acc: 0.8479\n",
      "Epoch 300/500\n",
      "6650/6680 [============================>.] - ETA: 0s - loss: 0.3086 - acc: 0.9235Epoch 00299: val_loss improved from 0.53621 to 0.53566, saving model to saved_models/weights.best.Res.hdf5\n",
      "6680/6680 [==============================] - 2s - loss: 0.3083 - acc: 0.9237 - val_loss: 0.5357 - val_acc: 0.8479\n",
      "Epoch 301/500\n",
      "6550/6680 [============================>.] - ETA: 0s - loss: 0.3101 - acc: 0.9131Epoch 00300: val_loss improved from 0.53566 to 0.53518, saving model to saved_models/weights.best.Res.hdf5\n",
      "6680/6680 [==============================] - 2s - loss: 0.3129 - acc: 0.9121 - val_loss: 0.5352 - val_acc: 0.8479\n",
      "Epoch 302/500\n",
      "6550/6680 [============================>.] - ETA: 0s - loss: 0.3207 - acc: 0.9122Epoch 00301: val_loss improved from 0.53518 to 0.53512, saving model to saved_models/weights.best.Res.hdf5\n",
      "6680/6680 [==============================] - 2s - loss: 0.3214 - acc: 0.9117 - val_loss: 0.5351 - val_acc: 0.8491\n",
      "Epoch 303/500\n",
      "6550/6680 [============================>.] - ETA: 0s - loss: 0.3120 - acc: 0.9185Epoch 00302: val_loss improved from 0.53512 to 0.53491, saving model to saved_models/weights.best.Res.hdf5\n",
      "6680/6680 [==============================] - 2s - loss: 0.3116 - acc: 0.9189 - val_loss: 0.5349 - val_acc: 0.8491\n",
      "Epoch 304/500\n",
      "6550/6680 [============================>.] - ETA: 0s - loss: 0.3142 - acc: 0.9147Epoch 00303: val_loss improved from 0.53491 to 0.53423, saving model to saved_models/weights.best.Res.hdf5\n",
      "6680/6680 [==============================] - 2s - loss: 0.3143 - acc: 0.9147 - val_loss: 0.5342 - val_acc: 0.8491\n",
      "Epoch 305/500\n",
      "6650/6680 [============================>.] - ETA: 0s - loss: 0.3107 - acc: 0.9146Epoch 00304: val_loss improved from 0.53423 to 0.53357, saving model to saved_models/weights.best.Res.hdf5\n",
      "6680/6680 [==============================] - 2s - loss: 0.3108 - acc: 0.9147 - val_loss: 0.5336 - val_acc: 0.8479\n",
      "Epoch 306/500\n",
      "6550/6680 [============================>.] - ETA: 0s - loss: 0.3123 - acc: 0.9209Epoch 00305: val_loss improved from 0.53357 to 0.53321, saving model to saved_models/weights.best.Res.hdf5\n",
      "6680/6680 [==============================] - 2s - loss: 0.3123 - acc: 0.9211 - val_loss: 0.5332 - val_acc: 0.8491\n",
      "Epoch 307/500\n",
      "6650/6680 [============================>.] - ETA: 0s - loss: 0.3024 - acc: 0.9205Epoch 00306: val_loss improved from 0.53321 to 0.53241, saving model to saved_models/weights.best.Res.hdf5\n",
      "6680/6680 [==============================] - 2s - loss: 0.3026 - acc: 0.9204 - val_loss: 0.5324 - val_acc: 0.8503\n",
      "Epoch 308/500\n",
      "6650/6680 [============================>.] - ETA: 0s - loss: 0.3114 - acc: 0.9147Epoch 00307: val_loss improved from 0.53241 to 0.53230, saving model to saved_models/weights.best.Res.hdf5\n",
      "6680/6680 [==============================] - 2s - loss: 0.3118 - acc: 0.9147 - val_loss: 0.5323 - val_acc: 0.8491\n",
      "Epoch 309/500\n",
      "6650/6680 [============================>.] - ETA: 0s - loss: 0.2976 - acc: 0.9221Epoch 00308: val_loss improved from 0.53230 to 0.53133, saving model to saved_models/weights.best.Res.hdf5\n",
      "6680/6680 [==============================] - 2s - loss: 0.2988 - acc: 0.9217 - val_loss: 0.5313 - val_acc: 0.8491\n",
      "Epoch 310/500\n",
      "6600/6680 [============================>.] - ETA: 0s - loss: 0.3097 - acc: 0.9185Epoch 00309: val_loss did not improve\n",
      "6680/6680 [==============================] - 2s - loss: 0.3093 - acc: 0.9189 - val_loss: 0.5315 - val_acc: 0.8479\n",
      "Epoch 311/500\n",
      "6550/6680 [============================>.] - ETA: 0s - loss: 0.3032 - acc: 0.9227Epoch 00310: val_loss improved from 0.53133 to 0.53132, saving model to saved_models/weights.best.Res.hdf5\n",
      "6680/6680 [==============================] - 2s - loss: 0.3016 - acc: 0.9234 - val_loss: 0.5313 - val_acc: 0.8479\n",
      "Epoch 312/500\n",
      "6550/6680 [============================>.] - ETA: 0s - loss: 0.2985 - acc: 0.9171Epoch 00311: val_loss improved from 0.53132 to 0.53080, saving model to saved_models/weights.best.Res.hdf5\n",
      "6680/6680 [==============================] - 2s - loss: 0.2974 - acc: 0.9181 - val_loss: 0.5308 - val_acc: 0.8503\n",
      "Epoch 313/500\n",
      "6550/6680 [============================>.] - ETA: 0s - loss: 0.2989 - acc: 0.9223Epoch 00312: val_loss improved from 0.53080 to 0.53018, saving model to saved_models/weights.best.Res.hdf5\n",
      "6680/6680 [==============================] - 2s - loss: 0.2992 - acc: 0.9217 - val_loss: 0.5302 - val_acc: 0.8503\n",
      "Epoch 314/500\n",
      "6600/6680 [============================>.] - ETA: 0s - loss: 0.3033 - acc: 0.9174Epoch 00313: val_loss improved from 0.53018 to 0.52983, saving model to saved_models/weights.best.Res.hdf5\n",
      "6680/6680 [==============================] - 2s - loss: 0.3046 - acc: 0.9166 - val_loss: 0.5298 - val_acc: 0.8467\n",
      "Epoch 315/500\n",
      "6650/6680 [============================>.] - ETA: 0s - loss: 0.2981 - acc: 0.9229Epoch 00314: val_loss did not improve\n",
      "6680/6680 [==============================] - 2s - loss: 0.2984 - acc: 0.9228 - val_loss: 0.5303 - val_acc: 0.8467\n",
      "Epoch 316/500\n",
      "6550/6680 [============================>.] - ETA: 0s - loss: 0.3022 - acc: 0.9235Epoch 00315: val_loss did not improve\n",
      "6680/6680 [==============================] - 2s - loss: 0.3022 - acc: 0.9235 - val_loss: 0.5313 - val_acc: 0.8479\n",
      "Epoch 317/500\n",
      "6550/6680 [============================>.] - ETA: 0s - loss: 0.2982 - acc: 0.9208Epoch 00316: val_loss did not improve\n",
      "6680/6680 [==============================] - 2s - loss: 0.2988 - acc: 0.9208 - val_loss: 0.5311 - val_acc: 0.8479\n",
      "Epoch 318/500\n",
      "6550/6680 [============================>.] - ETA: 0s - loss: 0.2992 - acc: 0.9264-Epoch 00317: val_loss did not improve\n",
      "6680/6680 [==============================] - 2s - loss: 0.2992 - acc: 0.9262 - val_loss: 0.5310 - val_acc: 0.8467\n",
      "Epoch 319/500\n",
      "6500/6680 [============================>.] - ETA: 0s - loss: 0.2932 - acc: 0.9277Epoch 00318: val_loss did not improve\n",
      "6680/6680 [==============================] - 2s - loss: 0.2926 - acc: 0.9275 - val_loss: 0.5308 - val_acc: 0.8467\n",
      "Epoch 320/500\n",
      "6500/6680 [============================>.] - ETA: 0s - loss: 0.2927 - acc: 0.9237Epoch 00319: val_loss did not improve\n",
      "6680/6680 [==============================] - 2s - loss: 0.2907 - acc: 0.9241 - val_loss: 0.5299 - val_acc: 0.8479\n",
      "Epoch 321/500\n",
      "6600/6680 [============================>.] - ETA: 0s - loss: 0.3027 - acc: 0.9212Epoch 00320: val_loss improved from 0.52983 to 0.52923, saving model to saved_models/weights.best.Res.hdf5\n",
      "6680/6680 [==============================] - 2s - loss: 0.3025 - acc: 0.9216 - val_loss: 0.5292 - val_acc: 0.8503\n",
      "Epoch 322/500\n",
      "6500/6680 [============================>.] - ETA: 0s - loss: 0.2954 - acc: 0.9245Epoch 00321: val_loss did not improve\n",
      "6680/6680 [==============================] - 2s - loss: 0.2949 - acc: 0.9243 - val_loss: 0.5294 - val_acc: 0.8479\n",
      "Epoch 323/500\n",
      "6550/6680 [============================>.] - ETA: 0s - loss: 0.2980 - acc: 0.9224Epoch 00322: val_loss improved from 0.52923 to 0.52866, saving model to saved_models/weights.best.Res.hdf5\n",
      "6680/6680 [==============================] - 2s - loss: 0.2980 - acc: 0.9220 - val_loss: 0.5287 - val_acc: 0.8491\n",
      "Epoch 324/500\n",
      "6550/6680 [============================>.] - ETA: 0s - loss: 0.2871 - acc: 0.9241Epoch 00323: val_loss improved from 0.52866 to 0.52788, saving model to saved_models/weights.best.Res.hdf5\n",
      "6680/6680 [==============================] - 2s - loss: 0.2884 - acc: 0.9235 - val_loss: 0.5279 - val_acc: 0.8491\n",
      "Epoch 325/500\n",
      "6600/6680 [============================>.] - ETA: 0s - loss: 0.2894 - acc: 0.9279Epoch 00324: val_loss improved from 0.52788 to 0.52690, saving model to saved_models/weights.best.Res.hdf5\n",
      "6680/6680 [==============================] - 2s - loss: 0.2896 - acc: 0.9275 - val_loss: 0.5269 - val_acc: 0.8479\n",
      "Epoch 326/500\n",
      "6550/6680 [============================>.] - ETA: 0s - loss: 0.2898 - acc: 0.9264Epoch 00325: val_loss did not improve\n",
      "6680/6680 [==============================] - 2s - loss: 0.2900 - acc: 0.9262 - val_loss: 0.5270 - val_acc: 0.8503\n",
      "Epoch 327/500\n",
      "6600/6680 [============================>.] - ETA: 0s - loss: 0.2886 - acc: 0.9258Epoch 00326: val_loss improved from 0.52690 to 0.52633, saving model to saved_models/weights.best.Res.hdf5\n",
      "6680/6680 [==============================] - 2s - loss: 0.2886 - acc: 0.9260 - val_loss: 0.5263 - val_acc: 0.8479\n",
      "Epoch 328/500\n",
      "6550/6680 [============================>.] - ETA: 0s - loss: 0.2933 - acc: 0.9224Epoch 00327: val_loss did not improve\n",
      "6680/6680 [==============================] - 2s - loss: 0.2930 - acc: 0.9229 - val_loss: 0.5266 - val_acc: 0.8467\n",
      "Epoch 329/500\n",
      "6550/6680 [============================>.] - ETA: 0s - loss: 0.2897 - acc: 0.9267Epoch 00328: val_loss did not improve\n",
      "6680/6680 [==============================] - 2s - loss: 0.2890 - acc: 0.9269 - val_loss: 0.5270 - val_acc: 0.8479\n",
      "Epoch 330/500\n",
      "6550/6680 [============================>.] - ETA: 0s - loss: 0.2892 - acc: 0.9229Epoch 00329: val_loss did not improve\n",
      "6680/6680 [==============================] - 2s - loss: 0.2895 - acc: 0.9228 - val_loss: 0.5266 - val_acc: 0.8467\n",
      "Epoch 331/500\n",
      "6650/6680 [============================>.] - ETA: 0s - loss: 0.2803 - acc: 0.9274Epoch 00330: val_loss did not improve\n",
      "6680/6680 [==============================] - 2s - loss: 0.2799 - acc: 0.9275 - val_loss: 0.5264 - val_acc: 0.8467\n",
      "Epoch 332/500\n",
      "6650/6680 [============================>.] - ETA: 0s - loss: 0.2834 - acc: 0.9274Epoch 00331: val_loss did not improve\n",
      "6680/6680 [==============================] - 2s - loss: 0.2835 - acc: 0.9272 - val_loss: 0.5264 - val_acc: 0.8479\n",
      "Epoch 333/500\n",
      "6550/6680 [============================>.] - ETA: 0s - loss: 0.2785 - acc: 0.9337Epoch 00332: val_loss improved from 0.52633 to 0.52629, saving model to saved_models/weights.best.Res.hdf5\n",
      "6680/6680 [==============================] - 2s - loss: 0.2774 - acc: 0.9341 - val_loss: 0.5263 - val_acc: 0.8479\n",
      "Epoch 334/500\n",
      "6600/6680 [============================>.] - ETA: 0s - loss: 0.2825 - acc: 0.9238Epoch 00333: val_loss improved from 0.52629 to 0.52617, saving model to saved_models/weights.best.Res.hdf5\n",
      "6680/6680 [==============================] - 2s - loss: 0.2825 - acc: 0.9243 - val_loss: 0.5262 - val_acc: 0.8479\n",
      "Epoch 335/500\n",
      "6550/6680 [============================>.] - ETA: 0s - loss: 0.2788 - acc: 0.9299Epoch 00334: val_loss improved from 0.52617 to 0.52548, saving model to saved_models/weights.best.Res.hdf5\n",
      "6680/6680 [==============================] - 2s - loss: 0.2801 - acc: 0.9296 - val_loss: 0.5255 - val_acc: 0.8467\n",
      "Epoch 336/500\n",
      "6650/6680 [============================>.] - ETA: 0s - loss: 0.2857 - acc: 0.9299Epoch 00335: val_loss did not improve\n",
      "6680/6680 [==============================] - 2s - loss: 0.2853 - acc: 0.9301 - val_loss: 0.5256 - val_acc: 0.8467\n",
      "Epoch 337/500\n",
      "6600/6680 [============================>.] - ETA: 0s - loss: 0.2833 - acc: 0.9250Epoch 00336: val_loss improved from 0.52548 to 0.52534, saving model to saved_models/weights.best.Res.hdf5\n",
      "6680/6680 [==============================] - 2s - loss: 0.2830 - acc: 0.9250 - val_loss: 0.5253 - val_acc: 0.8479\n",
      "Epoch 338/500\n",
      "6650/6680 [============================>.] - ETA: 0s - loss: 0.2811 - acc: 0.9257Epoch 00337: val_loss did not improve\n",
      "6680/6680 [==============================] - 2s - loss: 0.2809 - acc: 0.9256 - val_loss: 0.5255 - val_acc: 0.8467\n",
      "Epoch 339/500\n",
      "6650/6680 [============================>.] - ETA: 0s - loss: 0.2857 - acc: 0.9239Epoch 00338: val_loss improved from 0.52534 to 0.52525, saving model to saved_models/weights.best.Res.hdf5\n",
      "6680/6680 [==============================] - 2s - loss: 0.2855 - acc: 0.9243 - val_loss: 0.5253 - val_acc: 0.8467\n",
      "Epoch 340/500\n",
      "6500/6680 [============================>.] - ETA: 0s - loss: 0.2780 - acc: 0.9338Epoch 00339: val_loss improved from 0.52525 to 0.52393, saving model to saved_models/weights.best.Res.hdf5\n",
      "6680/6680 [==============================] - 2s - loss: 0.2781 - acc: 0.9334 - val_loss: 0.5239 - val_acc: 0.8467\n",
      "Epoch 341/500\n",
      "6600/6680 [============================>.] - ETA: 0s - loss: 0.2728 - acc: 0.9323Epoch 00340: val_loss did not improve\n",
      "6680/6680 [==============================] - 2s - loss: 0.2738 - acc: 0.9323 - val_loss: 0.5241 - val_acc: 0.8479\n",
      "Epoch 342/500\n",
      "6500/6680 [============================>.] - ETA: 0s - loss: 0.2756 - acc: 0.9275Epoch 00341: val_loss improved from 0.52393 to 0.52334, saving model to saved_models/weights.best.Res.hdf5\n",
      "6680/6680 [==============================] - 2s - loss: 0.2769 - acc: 0.9271 - val_loss: 0.5233 - val_acc: 0.8467\n",
      "Epoch 343/500\n",
      "6600/6680 [============================>.] - ETA: 0s - loss: 0.2768 - acc: 0.9274Epoch 00342: val_loss improved from 0.52334 to 0.52307, saving model to saved_models/weights.best.Res.hdf5\n",
      "6680/6680 [==============================] - 2s - loss: 0.2768 - acc: 0.9277 - val_loss: 0.5231 - val_acc: 0.8455\n",
      "Epoch 344/500\n",
      "6550/6680 [============================>.] - ETA: 0s - loss: 0.2762 - acc: 0.9282Epoch 00343: val_loss improved from 0.52307 to 0.52269, saving model to saved_models/weights.best.Res.hdf5\n",
      "6680/6680 [==============================] - 2s - loss: 0.2766 - acc: 0.9286 - val_loss: 0.5227 - val_acc: 0.8491\n",
      "Epoch 345/500\n",
      "6500/6680 [============================>.] - ETA: 0s - loss: 0.2733 - acc: 0.9280Epoch 00344: val_loss did not improve\n",
      "6680/6680 [==============================] - 2s - loss: 0.2740 - acc: 0.9274 - val_loss: 0.5228 - val_acc: 0.8503\n",
      "Epoch 346/500\n",
      "6550/6680 [============================>.] - ETA: 0s - loss: 0.2783 - acc: 0.9269Epoch 00345: val_loss improved from 0.52269 to 0.52206, saving model to saved_models/weights.best.Res.hdf5\n",
      "6680/6680 [==============================] - 2s - loss: 0.2786 - acc: 0.9265 - val_loss: 0.5221 - val_acc: 0.8503\n",
      "Epoch 347/500\n",
      "6550/6680 [============================>.] - ETA: 0s - loss: 0.2730 - acc: 0.9310Epoch 00346: val_loss did not improve\n",
      "6680/6680 [==============================] - 2s - loss: 0.2729 - acc: 0.9311 - val_loss: 0.5221 - val_acc: 0.8503\n",
      "Epoch 348/500\n",
      "6650/6680 [============================>.] - ETA: 0s - loss: 0.2725 - acc: 0.9290Epoch 00347: val_loss did not improve\n",
      "6680/6680 [==============================] - 2s - loss: 0.2721 - acc: 0.9292 - val_loss: 0.5223 - val_acc: 0.8491\n",
      "Epoch 349/500\n",
      "6550/6680 [============================>.] - ETA: 0s - loss: 0.2732 - acc: 0.9305Epoch 00348: val_loss did not improve\n",
      "6680/6680 [==============================] - 2s - loss: 0.2723 - acc: 0.9313 - val_loss: 0.5225 - val_acc: 0.8479\n",
      "Epoch 350/500\n",
      "6500/6680 [============================>.] - ETA: 0s - loss: 0.2727 - acc: 0.9283Epoch 00349: val_loss did not improve\n",
      "6680/6680 [==============================] - 2s - loss: 0.2736 - acc: 0.9272 - val_loss: 0.5229 - val_acc: 0.8503\n",
      "Epoch 351/500\n",
      "6650/6680 [============================>.] - ETA: 0s - loss: 0.2775 - acc: 0.9296Epoch 00350: val_loss did not improve\n",
      "6680/6680 [==============================] - 2s - loss: 0.2781 - acc: 0.9295 - val_loss: 0.5226 - val_acc: 0.8491\n",
      "Epoch 352/500\n",
      "6600/6680 [============================>.] - ETA: 0s - loss: 0.2687 - acc: 0.9286Epoch 00351: val_loss did not improve\n",
      "6680/6680 [==============================] - 2s - loss: 0.2681 - acc: 0.9290 - val_loss: 0.5224 - val_acc: 0.8479\n",
      "Epoch 353/500\n",
      "6600/6680 [============================>.] - ETA: 0s - loss: 0.2733 - acc: 0.9312Epoch 00352: val_loss did not improve\n",
      "6680/6680 [==============================] - 2s - loss: 0.2735 - acc: 0.9310 - val_loss: 0.5222 - val_acc: 0.8491\n",
      "Epoch 354/500\n",
      "6600/6680 [============================>.] - ETA: 0s - loss: 0.2632 - acc: 0.9327Epoch 00353: val_loss improved from 0.52206 to 0.52148, saving model to saved_models/weights.best.Res.hdf5\n",
      "6680/6680 [==============================] - 2s - loss: 0.2637 - acc: 0.9322 - val_loss: 0.5215 - val_acc: 0.8491\n",
      "Epoch 355/500\n",
      "6650/6680 [============================>.] - ETA: 0s - loss: 0.2641 - acc: 0.9322Epoch 00354: val_loss improved from 0.52148 to 0.52052, saving model to saved_models/weights.best.Res.hdf5\n",
      "6680/6680 [==============================] - 2s - loss: 0.2643 - acc: 0.9320 - val_loss: 0.5205 - val_acc: 0.8491\n",
      "Epoch 356/500\n",
      "6550/6680 [============================>.] - ETA: 0s - loss: 0.2720 - acc: 0.9261Epoch 00355: val_loss improved from 0.52052 to 0.52005, saving model to saved_models/weights.best.Res.hdf5\n",
      "6680/6680 [==============================] - 2s - loss: 0.2718 - acc: 0.9259 - val_loss: 0.5200 - val_acc: 0.8503\n",
      "Epoch 357/500\n",
      "6600/6680 [============================>.] - ETA: 0s - loss: 0.2680 - acc: 0.9326Epoch 00356: val_loss did not improve\n",
      "6680/6680 [==============================] - 2s - loss: 0.2681 - acc: 0.9325 - val_loss: 0.5203 - val_acc: 0.8503\n",
      "Epoch 358/500\n",
      "6600/6680 [============================>.] - ETA: 0s - loss: 0.2649 - acc: 0.9311Epoch 00357: val_loss did not improve\n",
      "6680/6680 [==============================] - 2s - loss: 0.2640 - acc: 0.9316 - val_loss: 0.5201 - val_acc: 0.8503\n",
      "Epoch 359/500\n",
      "6650/6680 [============================>.] - ETA: 0s - loss: 0.2634 - acc: 0.9337Epoch 00358: val_loss improved from 0.52005 to 0.51966, saving model to saved_models/weights.best.Res.hdf5\n",
      "6680/6680 [==============================] - 2s - loss: 0.2641 - acc: 0.9335 - val_loss: 0.5197 - val_acc: 0.8503\n",
      "Epoch 360/500\n",
      "6550/6680 [============================>.] - ETA: 0s - loss: 0.2682 - acc: 0.9296Epoch 00359: val_loss improved from 0.51966 to 0.51956, saving model to saved_models/weights.best.Res.hdf5\n",
      "6680/6680 [==============================] - 2s - loss: 0.2671 - acc: 0.9298 - val_loss: 0.5196 - val_acc: 0.8527\n",
      "Epoch 361/500\n",
      "6650/6680 [============================>.] - ETA: 0s - loss: 0.2553 - acc: 0.9349Epoch 00360: val_loss improved from 0.51956 to 0.51912, saving model to saved_models/weights.best.Res.hdf5\n",
      "6680/6680 [==============================] - 2s - loss: 0.2558 - acc: 0.9349 - val_loss: 0.5191 - val_acc: 0.8527\n",
      "Epoch 362/500\n",
      "6550/6680 [============================>.] - ETA: 0s - loss: 0.2605 - acc: 0.9327Epoch 00361: val_loss did not improve\n",
      "6680/6680 [==============================] - 2s - loss: 0.2626 - acc: 0.9320 - val_loss: 0.5199 - val_acc: 0.8515\n",
      "Epoch 363/500\n",
      "6600/6680 [============================>.] - ETA: 0s - loss: 0.2661 - acc: 0.9330Epoch 00362: val_loss did not improve\n",
      "6680/6680 [==============================] - 2s - loss: 0.2657 - acc: 0.9332 - val_loss: 0.5201 - val_acc: 0.8539\n",
      "Epoch 364/500\n",
      "6600/6680 [============================>.] - ETA: 0s - loss: 0.2667 - acc: 0.9321Epoch 00363: val_loss did not improve\n",
      "6680/6680 [==============================] - 2s - loss: 0.2668 - acc: 0.9320 - val_loss: 0.5199 - val_acc: 0.8515\n",
      "Epoch 365/500\n",
      "6600/6680 [============================>.] - ETA: 0s - loss: 0.2606 - acc: 0.9338Epoch 00364: val_loss did not improve\n",
      "6680/6680 [==============================] - 2s - loss: 0.2604 - acc: 0.9338 - val_loss: 0.5194 - val_acc: 0.8527\n",
      "Epoch 366/500\n",
      "6550/6680 [============================>.] - ETA: 0s - loss: 0.2723 - acc: 0.9279Epoch 00365: val_loss did not improve\n",
      "6680/6680 [==============================] - 2s - loss: 0.2734 - acc: 0.9272 - val_loss: 0.5193 - val_acc: 0.8491\n",
      "Epoch 367/500\n",
      "6650/6680 [============================>.] - ETA: 0s - loss: 0.2620 - acc: 0.9314Epoch 00366: val_loss did not improve\n",
      "6680/6680 [==============================] - 2s - loss: 0.2617 - acc: 0.9314 - val_loss: 0.5197 - val_acc: 0.8503\n",
      "Epoch 368/500\n",
      "6550/6680 [============================>.] - ETA: 0s - loss: 0.2658 - acc: 0.9328Epoch 00367: val_loss did not improve\n",
      "6680/6680 [==============================] - 2s - loss: 0.2651 - acc: 0.9331 - val_loss: 0.5193 - val_acc: 0.8527\n",
      "Epoch 369/500\n",
      "6600/6680 [============================>.] - ETA: 0s - loss: 0.2573 - acc: 0.9352Epoch 00368: val_loss improved from 0.51912 to 0.51853, saving model to saved_models/weights.best.Res.hdf5\n",
      "6680/6680 [==============================] - 2s - loss: 0.2576 - acc: 0.9350 - val_loss: 0.5185 - val_acc: 0.8527\n",
      "Epoch 370/500\n",
      "6650/6680 [============================>.] - ETA: 0s - loss: 0.2612 - acc: 0.9344Epoch 00369: val_loss improved from 0.51853 to 0.51848, saving model to saved_models/weights.best.Res.hdf5\n",
      "6680/6680 [==============================] - 2s - loss: 0.2609 - acc: 0.9346 - val_loss: 0.5185 - val_acc: 0.8503\n",
      "Epoch 371/500\n",
      "6600/6680 [============================>.] - ETA: 0s - loss: 0.2642 - acc: 0.9314Epoch 00370: val_loss improved from 0.51848 to 0.51842, saving model to saved_models/weights.best.Res.hdf5\n",
      "6680/6680 [==============================] - 2s - loss: 0.2636 - acc: 0.9317 - val_loss: 0.5184 - val_acc: 0.8503\n",
      "Epoch 372/500\n",
      "6650/6680 [============================>.] - ETA: 0s - loss: 0.2550 - acc: 0.9379Epoch 00371: val_loss improved from 0.51842 to 0.51776, saving model to saved_models/weights.best.Res.hdf5\n",
      "6680/6680 [==============================] - 2s - loss: 0.2554 - acc: 0.9377 - val_loss: 0.5178 - val_acc: 0.8515\n",
      "Epoch 373/500\n",
      "6500/6680 [============================>.] - ETA: 0s - loss: 0.2519 - acc: 0.9368Epoch 00372: val_loss improved from 0.51776 to 0.51686, saving model to saved_models/weights.best.Res.hdf5\n",
      "6680/6680 [==============================] - 2s - loss: 0.2533 - acc: 0.9361 - val_loss: 0.5169 - val_acc: 0.8491\n",
      "Epoch 374/500\n",
      "6600/6680 [============================>.] - ETA: 0s - loss: 0.2497 - acc: 0.9382Epoch 00373: val_loss improved from 0.51686 to 0.51599, saving model to saved_models/weights.best.Res.hdf5\n",
      "6680/6680 [==============================] - 2s - loss: 0.2494 - acc: 0.9385 - val_loss: 0.5160 - val_acc: 0.8503\n",
      "Epoch 375/500\n",
      "6550/6680 [============================>.] - ETA: 0s - loss: 0.2535 - acc: 0.9344Epoch 00374: val_loss improved from 0.51599 to 0.51593, saving model to saved_models/weights.best.Res.hdf5\n",
      "6680/6680 [==============================] - 2s - loss: 0.2528 - acc: 0.9347 - val_loss: 0.5159 - val_acc: 0.8515\n",
      "Epoch 376/500\n",
      "6600/6680 [============================>.] - ETA: 0s - loss: 0.2500 - acc: 0.9397Epoch 00375: val_loss did not improve\n",
      "6680/6680 [==============================] - 2s - loss: 0.2501 - acc: 0.9401 - val_loss: 0.5160 - val_acc: 0.8527\n",
      "Epoch 377/500\n",
      "6650/6680 [============================>.] - ETA: 0s - loss: 0.2505 - acc: 0.9385Epoch 00376: val_loss improved from 0.51593 to 0.51543, saving model to saved_models/weights.best.Res.hdf5\n",
      "6680/6680 [==============================] - 2s - loss: 0.2502 - acc: 0.9388 - val_loss: 0.5154 - val_acc: 0.8539\n",
      "Epoch 378/500\n",
      "6500/6680 [============================>.] - ETA: 0s - loss: 0.2591 - acc: 0.9332Epoch 00377: val_loss improved from 0.51543 to 0.51508, saving model to saved_models/weights.best.Res.hdf5\n",
      "6680/6680 [==============================] - 2s - loss: 0.2594 - acc: 0.9331 - val_loss: 0.5151 - val_acc: 0.8527\n",
      "Epoch 379/500\n",
      "6650/6680 [============================>.] - ETA: 0s - loss: 0.2495 - acc: 0.9400Epoch 00378: val_loss did not improve\n",
      "6680/6680 [==============================] - 2s - loss: 0.2490 - acc: 0.9401 - val_loss: 0.5151 - val_acc: 0.8515\n",
      "Epoch 380/500\n",
      "6500/6680 [============================>.] - ETA: 0s - loss: 0.2475 - acc: 0.9388Epoch 00379: val_loss did not improve\n",
      "6680/6680 [==============================] - 2s - loss: 0.2476 - acc: 0.9392 - val_loss: 0.5151 - val_acc: 0.8527\n",
      "Epoch 381/500\n",
      "6600/6680 [============================>.] - ETA: 0s - loss: 0.2464 - acc: 0.9403Epoch 00380: val_loss did not improve\n",
      "6680/6680 [==============================] - 2s - loss: 0.2465 - acc: 0.9401 - val_loss: 0.5152 - val_acc: 0.8527\n",
      "Epoch 382/500\n",
      "6650/6680 [============================>.] - ETA: 0s - loss: 0.2571 - acc: 0.9343Epoch 00381: val_loss improved from 0.51508 to 0.51496, saving model to saved_models/weights.best.Res.hdf5\n",
      "6680/6680 [==============================] - 2s - loss: 0.2574 - acc: 0.9341 - val_loss: 0.5150 - val_acc: 0.8503\n",
      "Epoch 383/500\n",
      "6500/6680 [============================>.] - ETA: 0s - loss: 0.2544 - acc: 0.9334Epoch 00382: val_loss improved from 0.51496 to 0.51435, saving model to saved_models/weights.best.Res.hdf5\n",
      "6680/6680 [==============================] - 2s - loss: 0.2554 - acc: 0.9332 - val_loss: 0.5144 - val_acc: 0.8491\n",
      "Epoch 384/500\n",
      "6650/6680 [============================>.] - ETA: 0s - loss: 0.2483 - acc: 0.9385Epoch 00383: val_loss did not improve\n",
      "6680/6680 [==============================] - 2s - loss: 0.2481 - acc: 0.9388 - val_loss: 0.5154 - val_acc: 0.8491\n",
      "Epoch 385/500\n",
      "6650/6680 [============================>.] - ETA: 0s - loss: 0.2504 - acc: 0.9355Epoch 00384: val_loss did not improve\n",
      "6680/6680 [==============================] - 2s - loss: 0.2502 - acc: 0.9355 - val_loss: 0.5152 - val_acc: 0.8479\n",
      "Epoch 386/500\n",
      "6550/6680 [============================>.] - ETA: 0s - loss: 0.2458 - acc: 0.9360Epoch 00385: val_loss did not improve\n",
      "6680/6680 [==============================] - 2s - loss: 0.2455 - acc: 0.9365 - val_loss: 0.5149 - val_acc: 0.8491\n",
      "Epoch 387/500\n",
      "6550/6680 [============================>.] - ETA: 0s - loss: 0.2474 - acc: 0.9385Epoch 00386: val_loss did not improve\n",
      "6680/6680 [==============================] - 2s - loss: 0.2471 - acc: 0.9386 - val_loss: 0.5145 - val_acc: 0.8503\n",
      "Epoch 388/500\n",
      "6650/6680 [============================>.] - ETA: 0s - loss: 0.2487 - acc: 0.9347Epoch 00387: val_loss did not improve\n",
      "6680/6680 [==============================] - 2s - loss: 0.2488 - acc: 0.9347 - val_loss: 0.5145 - val_acc: 0.8503\n",
      "Epoch 389/500\n",
      "6500/6680 [============================>.] - ETA: 0s - loss: 0.2456 - acc: 0.9392Epoch 00388: val_loss did not improve\n",
      "6680/6680 [==============================] - 2s - loss: 0.2452 - acc: 0.9395 - val_loss: 0.5144 - val_acc: 0.8515\n",
      "Epoch 390/500\n",
      "6600/6680 [============================>.] - ETA: 0s - loss: 0.2408 - acc: 0.9406Epoch 00389: val_loss did not improve\n",
      "6680/6680 [==============================] - 2s - loss: 0.2408 - acc: 0.9409 - val_loss: 0.5146 - val_acc: 0.8503\n",
      "Epoch 391/500\n",
      "6600/6680 [============================>.] - ETA: 0s - loss: 0.2466 - acc: 0.9361Epoch 00390: val_loss improved from 0.51435 to 0.51420, saving model to saved_models/weights.best.Res.hdf5\n",
      "6680/6680 [==============================] - 2s - loss: 0.2466 - acc: 0.9362 - val_loss: 0.5142 - val_acc: 0.8515\n",
      "Epoch 392/500\n",
      "6550/6680 [============================>.] - ETA: 0s - loss: 0.2404 - acc: 0.9429Epoch 00391: val_loss improved from 0.51420 to 0.51406, saving model to saved_models/weights.best.Res.hdf5\n",
      "6680/6680 [==============================] - 2s - loss: 0.2408 - acc: 0.9424 - val_loss: 0.5141 - val_acc: 0.8527\n",
      "Epoch 393/500\n",
      "6650/6680 [============================>.] - ETA: 0s - loss: 0.2441 - acc: 0.9383Epoch 00392: val_loss improved from 0.51406 to 0.51400, saving model to saved_models/weights.best.Res.hdf5\n",
      "6680/6680 [==============================] - 2s - loss: 0.2438 - acc: 0.9385 - val_loss: 0.5140 - val_acc: 0.8515\n",
      "Epoch 394/500\n",
      "6600/6680 [============================>.] - ETA: 0s - loss: 0.2390 - acc: 0.9415Epoch 00393: val_loss did not improve\n",
      "6680/6680 [==============================] - 2s - loss: 0.2404 - acc: 0.9409 - val_loss: 0.5145 - val_acc: 0.8479\n",
      "Epoch 395/500\n",
      "6650/6680 [============================>.] - ETA: 0s - loss: 0.2426 - acc: 0.9432Epoch 00394: val_loss improved from 0.51400 to 0.51373, saving model to saved_models/weights.best.Res.hdf5\n",
      "6680/6680 [==============================] - 2s - loss: 0.2429 - acc: 0.9430 - val_loss: 0.5137 - val_acc: 0.8491\n",
      "Epoch 396/500\n",
      "6550/6680 [============================>.] - ETA: 0s - loss: 0.2485 - acc: 0.9380Epoch 00395: val_loss improved from 0.51373 to 0.51299, saving model to saved_models/weights.best.Res.hdf5\n",
      "6680/6680 [==============================] - 2s - loss: 0.2477 - acc: 0.9382 - val_loss: 0.5130 - val_acc: 0.8491\n",
      "Epoch 397/500\n",
      "6650/6680 [============================>.] - ETA: 0s - loss: 0.2415 - acc: 0.9412Epoch 00396: val_loss did not improve\n",
      "6680/6680 [==============================] - 2s - loss: 0.2419 - acc: 0.9412 - val_loss: 0.5138 - val_acc: 0.8503\n",
      "Epoch 398/500\n",
      "6650/6680 [============================>.] - ETA: 0s - loss: 0.2394 - acc: 0.9417Epoch 00397: val_loss did not improve\n",
      "6680/6680 [==============================] - 2s - loss: 0.2399 - acc: 0.9415 - val_loss: 0.5140 - val_acc: 0.8515\n",
      "Epoch 399/500\n",
      "6650/6680 [============================>.] - ETA: 0s - loss: 0.2363 - acc: 0.9391Epoch 00398: val_loss did not improve\n",
      "6680/6680 [==============================] - 2s - loss: 0.2361 - acc: 0.9391 - val_loss: 0.5140 - val_acc: 0.8515\n",
      "Epoch 400/500\n",
      "6600/6680 [============================>.] - ETA: 0s - loss: 0.2411 - acc: 0.9417Epoch 00399: val_loss did not improve\n",
      "6680/6680 [==============================] - 2s - loss: 0.2417 - acc: 0.9413 - val_loss: 0.5136 - val_acc: 0.8503\n",
      "Epoch 401/500\n",
      "6550/6680 [============================>.] - ETA: 0s - loss: 0.2372 - acc: 0.9441Epoch 00400: val_loss did not improve\n",
      "6680/6680 [==============================] - 2s - loss: 0.2372 - acc: 0.9446 - val_loss: 0.5139 - val_acc: 0.8503\n",
      "Epoch 402/500\n",
      "6650/6680 [============================>.] - ETA: 0s - loss: 0.2351 - acc: 0.9405Epoch 00401: val_loss did not improve\n",
      "6680/6680 [==============================] - 2s - loss: 0.2355 - acc: 0.9401 - val_loss: 0.5135 - val_acc: 0.8503\n",
      "Epoch 403/500\n",
      "6650/6680 [============================>.] - ETA: 0s - loss: 0.2409 - acc: 0.9398Epoch 00402: val_loss improved from 0.51299 to 0.51254, saving model to saved_models/weights.best.Res.hdf5\n",
      "6680/6680 [==============================] - 2s - loss: 0.2408 - acc: 0.9400 - val_loss: 0.5125 - val_acc: 0.8515\n",
      "Epoch 404/500\n",
      "6600/6680 [============================>.] - ETA: 0s - loss: 0.2381 - acc: 0.9418Epoch 00403: val_loss improved from 0.51254 to 0.51237, saving model to saved_models/weights.best.Res.hdf5\n",
      "6680/6680 [==============================] - 2s - loss: 0.2380 - acc: 0.9415 - val_loss: 0.5124 - val_acc: 0.8515\n",
      "Epoch 405/500\n",
      "6550/6680 [============================>.] - ETA: 0s - loss: 0.2350 - acc: 0.9406Epoch 00404: val_loss did not improve\n",
      "6680/6680 [==============================] - 2s - loss: 0.2343 - acc: 0.9409 - val_loss: 0.5127 - val_acc: 0.8503\n",
      "Epoch 406/500\n",
      "6550/6680 [============================>.] - ETA: 0s - loss: 0.2363 - acc: 0.9397Epoch 00405: val_loss did not improve\n",
      "6680/6680 [==============================] - 2s - loss: 0.2365 - acc: 0.9395 - val_loss: 0.5128 - val_acc: 0.8491\n",
      "Epoch 407/500\n",
      "6550/6680 [============================>.] - ETA: 0s - loss: 0.2304 - acc: 0.9429Epoch 00406: val_loss improved from 0.51237 to 0.51234, saving model to saved_models/weights.best.Res.hdf5\n",
      "6680/6680 [==============================] - 2s - loss: 0.2303 - acc: 0.9430 - val_loss: 0.5123 - val_acc: 0.8503\n",
      "Epoch 408/500\n",
      "6650/6680 [============================>.] - ETA: 0s - loss: 0.2354 - acc: 0.9385Epoch 00407: val_loss improved from 0.51234 to 0.51226, saving model to saved_models/weights.best.Res.hdf5\n",
      "6680/6680 [==============================] - 2s - loss: 0.2350 - acc: 0.9388 - val_loss: 0.5123 - val_acc: 0.8527\n",
      "Epoch 409/500\n",
      "6500/6680 [============================>.] - ETA: 0s - loss: 0.2453 - acc: 0.9378Epoch 00408: val_loss improved from 0.51226 to 0.51216, saving model to saved_models/weights.best.Res.hdf5\n",
      "6680/6680 [==============================] - 2s - loss: 0.2447 - acc: 0.9382 - val_loss: 0.5122 - val_acc: 0.8491\n",
      "Epoch 410/500\n",
      "6650/6680 [============================>.] - ETA: 0s - loss: 0.2410 - acc: 0.9358Epoch 00409: val_loss improved from 0.51216 to 0.51164, saving model to saved_models/weights.best.Res.hdf5\n",
      "6680/6680 [==============================] - 2s - loss: 0.2406 - acc: 0.9361 - val_loss: 0.5116 - val_acc: 0.8515\n",
      "Epoch 411/500\n",
      "6500/6680 [============================>.] - ETA: 0s - loss: 0.2371 - acc: 0.9357Epoch 00410: val_loss did not improve\n",
      "6680/6680 [==============================] - 2s - loss: 0.2369 - acc: 0.9362 - val_loss: 0.5123 - val_acc: 0.8515\n",
      "Epoch 412/500\n",
      "6650/6680 [============================>.] - ETA: 0s - loss: 0.2342 - acc: 0.9373Epoch 00411: val_loss improved from 0.51164 to 0.51133, saving model to saved_models/weights.best.Res.hdf5\n",
      "6680/6680 [==============================] - 2s - loss: 0.2345 - acc: 0.9373 - val_loss: 0.5113 - val_acc: 0.8515\n",
      "Epoch 413/500\n",
      "6650/6680 [============================>.] - ETA: 0s - loss: 0.2353 - acc: 0.9448Epoch 00412: val_loss improved from 0.51133 to 0.51039, saving model to saved_models/weights.best.Res.hdf5\n",
      "6680/6680 [==============================] - 2s - loss: 0.2355 - acc: 0.9449 - val_loss: 0.5104 - val_acc: 0.8503\n",
      "Epoch 414/500\n",
      "6600/6680 [============================>.] - ETA: 0s - loss: 0.2346 - acc: 0.9389Epoch 00413: val_loss did not improve\n",
      "6680/6680 [==============================] - 2s - loss: 0.2344 - acc: 0.9383 - val_loss: 0.5104 - val_acc: 0.8503\n",
      "Epoch 415/500\n",
      "6500/6680 [============================>.] - ETA: 0s - loss: 0.2294 - acc: 0.9443Epoch 00414: val_loss improved from 0.51039 to 0.51018, saving model to saved_models/weights.best.Res.hdf5\n",
      "6680/6680 [==============================] - 2s - loss: 0.2281 - acc: 0.9445 - val_loss: 0.5102 - val_acc: 0.8527\n",
      "Epoch 416/500\n",
      "6600/6680 [============================>.] - ETA: 0s - loss: 0.2383 - acc: 0.9427Epoch 00415: val_loss did not improve\n",
      "6680/6680 [==============================] - 2s - loss: 0.2381 - acc: 0.9428 - val_loss: 0.5110 - val_acc: 0.8515\n",
      "Epoch 417/500\n",
      "6600/6680 [============================>.] - ETA: 0s - loss: 0.2277 - acc: 0.9448Epoch 00416: val_loss did not improve\n",
      "6680/6680 [==============================] - 2s - loss: 0.2274 - acc: 0.9451 - val_loss: 0.5108 - val_acc: 0.8527\n",
      "Epoch 418/500\n",
      "6550/6680 [============================>.] - ETA: 0s - loss: 0.2317 - acc: 0.9412Epoch 00417: val_loss did not improve\n",
      "6680/6680 [==============================] - 2s - loss: 0.2320 - acc: 0.9412 - val_loss: 0.5105 - val_acc: 0.8551\n",
      "Epoch 419/500\n",
      "6500/6680 [============================>.] - ETA: 0s - loss: 0.2320 - acc: 0.9432Epoch 00418: val_loss did not improve\n",
      "6680/6680 [==============================] - 2s - loss: 0.2318 - acc: 0.9437 - val_loss: 0.5104 - val_acc: 0.8551\n",
      "Epoch 420/500\n",
      "6600/6680 [============================>.] - ETA: 0s - loss: 0.2288 - acc: 0.9430Epoch 00419: val_loss improved from 0.51018 to 0.51015, saving model to saved_models/weights.best.Res.hdf5\n",
      "6680/6680 [==============================] - 2s - loss: 0.2279 - acc: 0.9434 - val_loss: 0.5102 - val_acc: 0.8539\n",
      "Epoch 421/500\n",
      "6650/6680 [============================>.] - ETA: 0s - loss: 0.2271 - acc: 0.9445Epoch 00420: val_loss improved from 0.51015 to 0.50959, saving model to saved_models/weights.best.Res.hdf5\n",
      "6680/6680 [==============================] - 2s - loss: 0.2265 - acc: 0.9448 - val_loss: 0.5096 - val_acc: 0.8527\n",
      "Epoch 422/500\n",
      "6650/6680 [============================>.] - ETA: 0s - loss: 0.2257 - acc: 0.9456Epoch 00421: val_loss improved from 0.50959 to 0.50936, saving model to saved_models/weights.best.Res.hdf5\n",
      "6680/6680 [==============================] - 2s - loss: 0.2252 - acc: 0.9458 - val_loss: 0.5094 - val_acc: 0.8539\n",
      "Epoch 423/500\n",
      "6600/6680 [============================>.] - ETA: 0s - loss: 0.2282 - acc: 0.9429Epoch 00422: val_loss did not improve\n",
      "6680/6680 [==============================] - 2s - loss: 0.2277 - acc: 0.9431 - val_loss: 0.5095 - val_acc: 0.8551\n",
      "Epoch 424/500\n",
      "6600/6680 [============================>.] - ETA: 0s - loss: 0.2258 - acc: 0.9442Epoch 00423: val_loss did not improve\n",
      "6680/6680 [==============================] - 2s - loss: 0.2262 - acc: 0.9443 - val_loss: 0.5094 - val_acc: 0.8527\n",
      "Epoch 425/500\n",
      "6600/6680 [============================>.] - ETA: 0s - loss: 0.2358 - acc: 0.9388Epoch 00424: val_loss did not improve\n",
      "6680/6680 [==============================] - 2s - loss: 0.2360 - acc: 0.9389 - val_loss: 0.5099 - val_acc: 0.8515\n",
      "Epoch 426/500\n",
      "6600/6680 [============================>.] - ETA: 0s - loss: 0.2277 - acc: 0.9459Epoch 00425: val_loss improved from 0.50936 to 0.50865, saving model to saved_models/weights.best.Res.hdf5\n",
      "6680/6680 [==============================] - 2s - loss: 0.2271 - acc: 0.9463 - val_loss: 0.5087 - val_acc: 0.8575\n",
      "Epoch 427/500\n",
      "6650/6680 [============================>.] - ETA: 0s - loss: 0.2343 - acc: 0.9394Epoch 00426: val_loss did not improve\n",
      "6680/6680 [==============================] - 2s - loss: 0.2343 - acc: 0.9394 - val_loss: 0.5092 - val_acc: 0.8527\n",
      "Epoch 428/500\n",
      "6600/6680 [============================>.] - ETA: 0s - loss: 0.2248 - acc: 0.9441Epoch 00427: val_loss did not improve\n",
      "6680/6680 [==============================] - 2s - loss: 0.2251 - acc: 0.9440 - val_loss: 0.5090 - val_acc: 0.8515\n",
      "Epoch 429/500\n",
      "6650/6680 [============================>.] - ETA: 0s - loss: 0.2246 - acc: 0.9472Epoch 00428: val_loss did not improve\n",
      "6680/6680 [==============================] - 2s - loss: 0.2246 - acc: 0.9473 - val_loss: 0.5089 - val_acc: 0.8515\n",
      "Epoch 430/500\n",
      "6500/6680 [============================>.] - ETA: 0s - loss: 0.2296 - acc: 0.9423Epoch 00429: val_loss improved from 0.50865 to 0.50808, saving model to saved_models/weights.best.Res.hdf5\n",
      "6680/6680 [==============================] - 2s - loss: 0.2298 - acc: 0.9425 - val_loss: 0.5081 - val_acc: 0.8563\n",
      "Epoch 431/500\n",
      "6650/6680 [============================>.] - ETA: 0s - loss: 0.2240 - acc: 0.9462Epoch 00430: val_loss did not improve\n",
      "6680/6680 [==============================] - 2s - loss: 0.2240 - acc: 0.9463 - val_loss: 0.5083 - val_acc: 0.8551\n",
      "Epoch 432/500\n",
      "6600/6680 [============================>.] - ETA: 0s - loss: 0.2234 - acc: 0.9442Epoch 00431: val_loss improved from 0.50808 to 0.50750, saving model to saved_models/weights.best.Res.hdf5\n",
      "6680/6680 [==============================] - 2s - loss: 0.2229 - acc: 0.9445 - val_loss: 0.5075 - val_acc: 0.8527\n",
      "Epoch 433/500\n",
      "6600/6680 [============================>.] - ETA: 0s - loss: 0.2271 - acc: 0.9436Epoch 00432: val_loss improved from 0.50750 to 0.50703, saving model to saved_models/weights.best.Res.hdf5\n",
      "6680/6680 [==============================] - 2s - loss: 0.2273 - acc: 0.9439 - val_loss: 0.5070 - val_acc: 0.8527\n",
      "Epoch 434/500\n",
      "6600/6680 [============================>.] - ETA: 0s - loss: 0.2228 - acc: 0.9459Epoch 00433: val_loss improved from 0.50703 to 0.50671, saving model to saved_models/weights.best.Res.hdf5\n",
      "6680/6680 [==============================] - 2s - loss: 0.2237 - acc: 0.9457 - val_loss: 0.5067 - val_acc: 0.8539\n",
      "Epoch 435/500\n",
      "6600/6680 [============================>.] - ETA: 0s - loss: 0.2198 - acc: 0.9436- ETA: 0s - loss: 0.2200Epoch 00434: val_loss did not improve\n",
      "6680/6680 [==============================] - 2s - loss: 0.2194 - acc: 0.9436 - val_loss: 0.5067 - val_acc: 0.8539\n",
      "Epoch 436/500\n",
      "6650/6680 [============================>.] - ETA: 0s - loss: 0.2214 - acc: 0.9456Epoch 00435: val_loss did not improve\n",
      "6680/6680 [==============================] - 2s - loss: 0.2217 - acc: 0.9452 - val_loss: 0.5072 - val_acc: 0.8539\n",
      "Epoch 437/500\n",
      "6500/6680 [============================>.] - ETA: 0s - loss: 0.2186 - acc: 0.9462Epoch 00436: val_loss did not improve\n",
      "6680/6680 [==============================] - 2s - loss: 0.2180 - acc: 0.9467 - val_loss: 0.5079 - val_acc: 0.8551\n",
      "Epoch 438/500\n",
      "6600/6680 [============================>.] - ETA: 0s - loss: 0.2223 - acc: 0.9474Epoch 00437: val_loss did not improve\n",
      "6680/6680 [==============================] - 2s - loss: 0.2222 - acc: 0.9478 - val_loss: 0.5079 - val_acc: 0.8551\n",
      "Epoch 439/500\n",
      "6650/6680 [============================>.] - ETA: 0s - loss: 0.2199 - acc: 0.9417Epoch 00438: val_loss improved from 0.50671 to 0.50665, saving model to saved_models/weights.best.Res.hdf5\n",
      "6680/6680 [==============================] - 2s - loss: 0.2194 - acc: 0.9419 - val_loss: 0.5066 - val_acc: 0.8539\n",
      "Epoch 440/500\n",
      "6500/6680 [============================>.] - ETA: 0s - loss: 0.2232 - acc: 0.9435Epoch 00439: val_loss improved from 0.50665 to 0.50661, saving model to saved_models/weights.best.Res.hdf5\n",
      "6680/6680 [==============================] - 2s - loss: 0.2238 - acc: 0.9433 - val_loss: 0.5066 - val_acc: 0.8551\n",
      "Epoch 441/500\n",
      "6500/6680 [============================>.] - ETA: 0s - loss: 0.2154 - acc: 0.9498Epoch 00440: val_loss did not improve\n",
      "6680/6680 [==============================] - 2s - loss: 0.2153 - acc: 0.9500 - val_loss: 0.5070 - val_acc: 0.8551\n",
      "Epoch 442/500\n",
      "6550/6680 [============================>.] - ETA: 0s - loss: 0.2158 - acc: 0.9489Epoch 00441: val_loss improved from 0.50661 to 0.50615, saving model to saved_models/weights.best.Res.hdf5\n",
      "6680/6680 [==============================] - 2s - loss: 0.2159 - acc: 0.9488 - val_loss: 0.5062 - val_acc: 0.8563\n",
      "Epoch 443/500\n",
      "6600/6680 [============================>.] - ETA: 0s - loss: 0.2149 - acc: 0.9479Epoch 00442: val_loss did not improve\n",
      "6680/6680 [==============================] - 2s - loss: 0.2159 - acc: 0.9475 - val_loss: 0.5070 - val_acc: 0.8575\n",
      "Epoch 444/500\n",
      "6600/6680 [============================>.] - ETA: 0s - loss: 0.2208 - acc: 0.9452Epoch 00443: val_loss did not improve\n",
      "6680/6680 [==============================] - 2s - loss: 0.2209 - acc: 0.9451 - val_loss: 0.5070 - val_acc: 0.8587\n",
      "Epoch 445/500\n",
      "6650/6680 [============================>.] - ETA: 0s - loss: 0.2153 - acc: 0.9468Epoch 00444: val_loss did not improve\n",
      "6680/6680 [==============================] - 2s - loss: 0.2150 - acc: 0.9469 - val_loss: 0.5070 - val_acc: 0.8587\n",
      "Epoch 446/500\n",
      "6550/6680 [============================>.] - ETA: 0s - loss: 0.2187 - acc: 0.9446Epoch 00445: val_loss did not improve\n",
      "6680/6680 [==============================] - 2s - loss: 0.2190 - acc: 0.9443 - val_loss: 0.5072 - val_acc: 0.8587\n",
      "Epoch 447/500\n",
      "6600/6680 [============================>.] - ETA: 0s - loss: 0.2149 - acc: 0.9455Epoch 00446: val_loss did not improve\n",
      "6680/6680 [==============================] - 2s - loss: 0.2152 - acc: 0.9455 - val_loss: 0.5072 - val_acc: 0.8539\n",
      "Epoch 448/500\n",
      "6500/6680 [============================>.] - ETA: 0s - loss: 0.2110 - acc: 0.9512Epoch 00447: val_loss did not improve\n",
      "6680/6680 [==============================] - 2s - loss: 0.2113 - acc: 0.9510 - val_loss: 0.5076 - val_acc: 0.8527\n",
      "Epoch 449/500\n",
      "6600/6680 [============================>.] - ETA: 0s - loss: 0.2101 - acc: 0.9497Epoch 00448: val_loss did not improve\n",
      "6680/6680 [==============================] - 2s - loss: 0.2091 - acc: 0.9500 - val_loss: 0.5069 - val_acc: 0.8527\n",
      "Epoch 450/500\n",
      "6650/6680 [============================>.] - ETA: 0s - loss: 0.2111 - acc: 0.9496Epoch 00449: val_loss did not improve\n",
      "6680/6680 [==============================] - 2s - loss: 0.2109 - acc: 0.9497 - val_loss: 0.5068 - val_acc: 0.8539\n",
      "Epoch 451/500\n",
      "6500/6680 [============================>.] - ETA: 0s - loss: 0.2077 - acc: 0.9491Epoch 00450: val_loss did not improve\n",
      "6680/6680 [==============================] - 2s - loss: 0.2070 - acc: 0.9493 - val_loss: 0.5068 - val_acc: 0.8527\n",
      "Epoch 452/500\n",
      "6650/6680 [============================>.] - ETA: 0s - loss: 0.2186 - acc: 0.9462Epoch 00451: val_loss did not improve\n",
      "6680/6680 [==============================] - 2s - loss: 0.2187 - acc: 0.9463 - val_loss: 0.5066 - val_acc: 0.8527\n",
      "Epoch 453/500\n",
      "6650/6680 [============================>.] - ETA: 0s - loss: 0.2083 - acc: 0.9507Epoch 00452: val_loss did not improve\n",
      "6680/6680 [==============================] - 2s - loss: 0.2081 - acc: 0.9506 - val_loss: 0.5065 - val_acc: 0.8527\n",
      "Epoch 454/500\n",
      "6550/6680 [============================>.] - ETA: 0s - loss: 0.2151 - acc: 0.9443Epoch 00453: val_loss did not improve\n",
      "6680/6680 [==============================] - 2s - loss: 0.2153 - acc: 0.9440 - val_loss: 0.5066 - val_acc: 0.8539\n",
      "Epoch 455/500\n",
      "6550/6680 [============================>.] - ETA: 0s - loss: 0.2132 - acc: 0.9472Epoch 00454: val_loss improved from 0.50615 to 0.50581, saving model to saved_models/weights.best.Res.hdf5\n",
      "6680/6680 [==============================] - 2s - loss: 0.2130 - acc: 0.9475 - val_loss: 0.5058 - val_acc: 0.8527\n",
      "Epoch 456/500\n",
      "6550/6680 [============================>.] - ETA: 0s - loss: 0.2126 - acc: 0.9455Epoch 00455: val_loss improved from 0.50581 to 0.50571, saving model to saved_models/weights.best.Res.hdf5\n",
      "6680/6680 [==============================] - 2s - loss: 0.2122 - acc: 0.9458 - val_loss: 0.5057 - val_acc: 0.8551\n",
      "Epoch 457/500\n",
      "6550/6680 [============================>.] - ETA: 0s - loss: 0.2123 - acc: 0.9456Epoch 00456: val_loss improved from 0.50571 to 0.50523, saving model to saved_models/weights.best.Res.hdf5\n",
      "6680/6680 [==============================] - 2s - loss: 0.2125 - acc: 0.9458 - val_loss: 0.5052 - val_acc: 0.8539\n",
      "Epoch 458/500\n",
      "6650/6680 [============================>.] - ETA: 0s - loss: 0.2148 - acc: 0.9492Epoch 00457: val_loss did not improve\n",
      "6680/6680 [==============================] - 2s - loss: 0.2148 - acc: 0.9491 - val_loss: 0.5055 - val_acc: 0.8515\n",
      "Epoch 459/500\n",
      "6650/6680 [============================>.] - ETA: 0s - loss: 0.2158 - acc: 0.9498Epoch 00458: val_loss did not improve\n",
      "6680/6680 [==============================] - 2s - loss: 0.2153 - acc: 0.9500 - val_loss: 0.5057 - val_acc: 0.8515\n",
      "Epoch 460/500\n",
      "6650/6680 [============================>.] - ETA: 0s - loss: 0.2155 - acc: 0.9483Epoch 00459: val_loss did not improve\n",
      "6680/6680 [==============================] - 2s - loss: 0.2150 - acc: 0.9485 - val_loss: 0.5065 - val_acc: 0.8527\n",
      "Epoch 461/500\n",
      "6500/6680 [============================>.] - ETA: 0s - loss: 0.2068 - acc: 0.9517Epoch 00460: val_loss did not improve\n",
      "6680/6680 [==============================] - 2s - loss: 0.2076 - acc: 0.9512 - val_loss: 0.5060 - val_acc: 0.8539\n",
      "Epoch 462/500\n",
      "6650/6680 [============================>.] - ETA: 0s - loss: 0.2099 - acc: 0.9484Epoch 00461: val_loss did not improve\n",
      "6680/6680 [==============================] - 2s - loss: 0.2096 - acc: 0.9485 - val_loss: 0.5053 - val_acc: 0.8551\n",
      "Epoch 463/500\n",
      "6650/6680 [============================>.] - ETA: 0s - loss: 0.2018 - acc: 0.9544Epoch 00462: val_loss improved from 0.50523 to 0.50485, saving model to saved_models/weights.best.Res.hdf5\n",
      "6680/6680 [==============================] - 2s - loss: 0.2019 - acc: 0.9543 - val_loss: 0.5049 - val_acc: 0.8539\n",
      "Epoch 464/500\n",
      "6650/6680 [============================>.] - ETA: 0s - loss: 0.2077 - acc: 0.9511- EEpoch 00463: val_loss did not improve\n",
      "6680/6680 [==============================] - 2s - loss: 0.2075 - acc: 0.9512 - val_loss: 0.5049 - val_acc: 0.8539\n",
      "Epoch 465/500\n",
      "6600/6680 [============================>.] - ETA: 0s - loss: 0.2118 - acc: 0.9474Epoch 00464: val_loss improved from 0.50485 to 0.50430, saving model to saved_models/weights.best.Res.hdf5\n",
      "6680/6680 [==============================] - 2s - loss: 0.2110 - acc: 0.9479 - val_loss: 0.5043 - val_acc: 0.8527\n",
      "Epoch 466/500\n",
      "6600/6680 [============================>.] - ETA: 0s - loss: 0.2127 - acc: 0.9485Epoch 00465: val_loss did not improve\n",
      "6680/6680 [==============================] - 2s - loss: 0.2125 - acc: 0.9487 - val_loss: 0.5047 - val_acc: 0.8515\n",
      "Epoch 467/500\n",
      "6650/6680 [============================>.] - ETA: 0s - loss: 0.2163 - acc: 0.9435Epoch 00466: val_loss did not improve\n",
      "6680/6680 [==============================] - 2s - loss: 0.2159 - acc: 0.9436 - val_loss: 0.5043 - val_acc: 0.8527\n",
      "Epoch 468/500\n",
      "6500/6680 [============================>.] - ETA: 0s - loss: 0.2080 - acc: 0.9471Epoch 00467: val_loss improved from 0.50430 to 0.50376, saving model to saved_models/weights.best.Res.hdf5\n",
      "6680/6680 [==============================] - 2s - loss: 0.2091 - acc: 0.9472 - val_loss: 0.5038 - val_acc: 0.8563\n",
      "Epoch 469/500\n",
      "6550/6680 [============================>.] - ETA: 0s - loss: 0.2099 - acc: 0.9501Epoch 00468: val_loss did not improve\n",
      "6680/6680 [==============================] - 2s - loss: 0.2093 - acc: 0.9504 - val_loss: 0.5047 - val_acc: 0.8551\n",
      "Epoch 470/500\n",
      "6600/6680 [============================>.] - ETA: 0s - loss: 0.2076 - acc: 0.9480Epoch 00469: val_loss did not improve\n",
      "6680/6680 [==============================] - 2s - loss: 0.2068 - acc: 0.9485 - val_loss: 0.5038 - val_acc: 0.8539\n",
      "Epoch 471/500\n",
      "6550/6680 [============================>.] - ETA: 0s - loss: 0.2018 - acc: 0.9548Epoch 00470: val_loss improved from 0.50376 to 0.50290, saving model to saved_models/weights.best.Res.hdf5\n",
      "6680/6680 [==============================] - 2s - loss: 0.2022 - acc: 0.9548 - val_loss: 0.5029 - val_acc: 0.8503\n",
      "Epoch 472/500\n",
      "6650/6680 [============================>.] - ETA: 0s - loss: 0.2041 - acc: 0.9519Epoch 00471: val_loss did not improve\n",
      "6680/6680 [==============================] - 2s - loss: 0.2039 - acc: 0.9518 - val_loss: 0.5031 - val_acc: 0.8539\n",
      "Epoch 473/500\n",
      "6550/6680 [============================>.] - ETA: 0s - loss: 0.2029 - acc: 0.9513Epoch 00472: val_loss did not improve\n",
      "6680/6680 [==============================] - 2s - loss: 0.2035 - acc: 0.9512 - val_loss: 0.5032 - val_acc: 0.8539\n",
      "Epoch 474/500\n",
      "6550/6680 [============================>.] - ETA: 0s - loss: 0.2003 - acc: 0.9515Epoch 00473: val_loss did not improve\n",
      "6680/6680 [==============================] - 2s - loss: 0.2009 - acc: 0.9513 - val_loss: 0.5035 - val_acc: 0.8563\n",
      "Epoch 475/500\n",
      "6550/6680 [============================>.] - ETA: 0s - loss: 0.2009 - acc: 0.9522Epoch 00474: val_loss did not improve\n",
      "6680/6680 [==============================] - 2s - loss: 0.2008 - acc: 0.9522 - val_loss: 0.5033 - val_acc: 0.8551\n",
      "Epoch 476/500\n",
      "6500/6680 [============================>.] - ETA: 0s - loss: 0.2014 - acc: 0.9525Epoch 00475: val_loss did not improve\n",
      "6680/6680 [==============================] - 2s - loss: 0.2017 - acc: 0.9524 - val_loss: 0.5031 - val_acc: 0.8563\n",
      "Epoch 477/500\n",
      "6500/6680 [============================>.] - ETA: 0s - loss: 0.2017 - acc: 0.9532Epoch 00476: val_loss did not improve\n",
      "6680/6680 [==============================] - 2s - loss: 0.2013 - acc: 0.9530 - val_loss: 0.5031 - val_acc: 0.8575\n",
      "Epoch 478/500\n",
      "6550/6680 [============================>.] - ETA: 0s - loss: 0.1981 - acc: 0.9527Epoch 00477: val_loss did not improve\n",
      "6680/6680 [==============================] - 2s - loss: 0.1974 - acc: 0.9531 - val_loss: 0.5032 - val_acc: 0.8539\n",
      "Epoch 479/500\n",
      "6600/6680 [============================>.] - ETA: 0s - loss: 0.2003 - acc: 0.9530Epoch 00478: val_loss did not improve\n",
      "6680/6680 [==============================] - 2s - loss: 0.2008 - acc: 0.9524 - val_loss: 0.5032 - val_acc: 0.8563\n",
      "Epoch 480/500\n",
      "6550/6680 [============================>.] - ETA: 0s - loss: 0.1985 - acc: 0.9547Epoch 00479: val_loss did not improve\n",
      "6680/6680 [==============================] - 2s - loss: 0.1989 - acc: 0.9543 - val_loss: 0.5030 - val_acc: 0.8551\n",
      "Epoch 481/500\n",
      "6650/6680 [============================>.] - ETA: 0s - loss: 0.2014 - acc: 0.9528Epoch 00480: val_loss improved from 0.50290 to 0.50229, saving model to saved_models/weights.best.Res.hdf5\n",
      "6680/6680 [==============================] - 2s - loss: 0.2016 - acc: 0.9530 - val_loss: 0.5023 - val_acc: 0.8575\n",
      "Epoch 482/500\n",
      "6550/6680 [============================>.] - ETA: 0s - loss: 0.2025 - acc: 0.9525Epoch 00481: val_loss improved from 0.50229 to 0.50188, saving model to saved_models/weights.best.Res.hdf5\n",
      "6680/6680 [==============================] - 2s - loss: 0.2022 - acc: 0.9530 - val_loss: 0.5019 - val_acc: 0.8551\n",
      "Epoch 483/500\n",
      "6500/6680 [============================>.] - ETA: 0s - loss: 0.2036 - acc: 0.9495Epoch 00482: val_loss did not improve\n",
      "6680/6680 [==============================] - 2s - loss: 0.2032 - acc: 0.9499 - val_loss: 0.5022 - val_acc: 0.8551\n",
      "Epoch 484/500\n",
      "6600/6680 [============================>.] - ETA: 0s - loss: 0.2053 - acc: 0.9502Epoch 00483: val_loss did not improve\n",
      "6680/6680 [==============================] - 2s - loss: 0.2054 - acc: 0.9501 - val_loss: 0.5024 - val_acc: 0.8539\n",
      "Epoch 485/500\n",
      "6600/6680 [============================>.] - ETA: 0s - loss: 0.1975 - acc: 0.9545- ETEpoch 00484: val_loss did not improve\n",
      "6680/6680 [==============================] - 2s - loss: 0.1986 - acc: 0.9546 - val_loss: 0.5024 - val_acc: 0.8527\n",
      "Epoch 486/500\n",
      "6500/6680 [============================>.] - ETA: 0s - loss: 0.1960 - acc: 0.9543Epoch 00485: val_loss did not improve\n",
      "6680/6680 [==============================] - 2s - loss: 0.1945 - acc: 0.9548 - val_loss: 0.5019 - val_acc: 0.8563\n",
      "Epoch 487/500\n",
      "6500/6680 [============================>.] - ETA: 0s - loss: 0.1937 - acc: 0.9537Epoch 00486: val_loss did not improve\n",
      "6680/6680 [==============================] - 2s - loss: 0.1937 - acc: 0.9536 - val_loss: 0.5024 - val_acc: 0.8539\n",
      "Epoch 488/500\n",
      "6650/6680 [============================>.] - ETA: 0s - loss: 0.1954 - acc: 0.9538Epoch 00487: val_loss did not improve\n",
      "6680/6680 [==============================] - 2s - loss: 0.1959 - acc: 0.9534 - val_loss: 0.5023 - val_acc: 0.8575\n",
      "Epoch 489/500\n",
      "6600/6680 [============================>.] - ETA: 0s - loss: 0.1970 - acc: 0.9521Epoch 00488: val_loss did not improve\n",
      "6680/6680 [==============================] - 2s - loss: 0.1975 - acc: 0.9519 - val_loss: 0.5023 - val_acc: 0.8575\n",
      "Epoch 490/500\n",
      "6650/6680 [============================>.] - ETA: 0s - loss: 0.2049 - acc: 0.9498Epoch 00489: val_loss improved from 0.50188 to 0.50144, saving model to saved_models/weights.best.Res.hdf5\n",
      "6680/6680 [==============================] - 2s - loss: 0.2049 - acc: 0.9499 - val_loss: 0.5014 - val_acc: 0.8563\n",
      "Epoch 491/500\n",
      "6600/6680 [============================>.] - ETA: 0s - loss: 0.1972 - acc: 0.9521Epoch 00490: val_loss did not improve\n",
      "6680/6680 [==============================] - 2s - loss: 0.1968 - acc: 0.9521 - val_loss: 0.5021 - val_acc: 0.8563\n",
      "Epoch 492/500\n",
      "6500/6680 [============================>.] - ETA: 0s - loss: 0.1965 - acc: 0.9512Epoch 00491: val_loss did not improve\n",
      "6680/6680 [==============================] - 2s - loss: 0.1970 - acc: 0.9510 - val_loss: 0.5016 - val_acc: 0.8527\n",
      "Epoch 493/500\n",
      "6550/6680 [============================>.] - ETA: 0s - loss: 0.1986 - acc: 0.9524Epoch 00492: val_loss did not improve\n",
      "6680/6680 [==============================] - 2s - loss: 0.1983 - acc: 0.9530 - val_loss: 0.5017 - val_acc: 0.8503\n",
      "Epoch 494/500\n",
      "6600/6680 [============================>.] - ETA: 0s - loss: 0.1939 - acc: 0.9536Epoch 00493: val_loss did not improve\n",
      "6680/6680 [==============================] - 2s - loss: 0.1947 - acc: 0.9533 - val_loss: 0.5016 - val_acc: 0.8527\n",
      "Epoch 495/500\n",
      "6550/6680 [============================>.] - ETA: 0s - loss: 0.1947 - acc: 0.9565Epoch 00494: val_loss improved from 0.50144 to 0.50139, saving model to saved_models/weights.best.Res.hdf5\n",
      "6680/6680 [==============================] - 2s - loss: 0.1947 - acc: 0.9566 - val_loss: 0.5014 - val_acc: 0.8539\n",
      "Epoch 496/500\n",
      "6650/6680 [============================>.] - ETA: 0s - loss: 0.1969 - acc: 0.9535Epoch 00495: val_loss did not improve\n",
      "6680/6680 [==============================] - 2s - loss: 0.1967 - acc: 0.9537 - val_loss: 0.5021 - val_acc: 0.8539\n",
      "Epoch 497/500\n",
      "6600/6680 [============================>.] - ETA: 0s - loss: 0.1862 - acc: 0.9598Epoch 00496: val_loss did not improve\n",
      "6680/6680 [==============================] - 2s - loss: 0.1859 - acc: 0.9599 - val_loss: 0.5024 - val_acc: 0.8551\n",
      "Epoch 498/500\n",
      "6650/6680 [============================>.] - ETA: 0s - loss: 0.1927 - acc: 0.9534Epoch 00497: val_loss improved from 0.50139 to 0.50129, saving model to saved_models/weights.best.Res.hdf5\n",
      "6680/6680 [==============================] - 2s - loss: 0.1924 - acc: 0.9536 - val_loss: 0.5013 - val_acc: 0.8539\n",
      "Epoch 499/500\n",
      "6650/6680 [============================>.] - ETA: 0s - loss: 0.2015 - acc: 0.9501Epoch 00498: val_loss improved from 0.50129 to 0.50108, saving model to saved_models/weights.best.Res.hdf5\n",
      "6680/6680 [==============================] - 2s - loss: 0.2011 - acc: 0.9501 - val_loss: 0.5011 - val_acc: 0.8563\n",
      "Epoch 500/500\n",
      "6600/6680 [============================>.] - ETA: 0s - loss: 0.1909 - acc: 0.9556Epoch 00499: val_loss did not improve\n",
      "6680/6680 [==============================] - 2s - loss: 0.1916 - acc: 0.9554 - val_loss: 0.5012 - val_acc: 0.8551\n"
     ]
    }
   ],
   "source": [
    "#######################################       RESNET50 Implementation w/500 epochs    ###########################################\n",
    "\n",
    "### TODO: Obtain bottleneck features from another pre-trained CNN.\n",
    "bottleneck_features = np.load('bottleneck_features/DogResnet50Data.npz')\n",
    "train_Res = bottleneck_features['train']\n",
    "valid_Res = bottleneck_features['valid']\n",
    "test_Res = bottleneck_features['test']\n",
    "\n",
    "### TODO: Define your architecture.\n",
    "Res_model = Sequential()\n",
    "Res_model.add(GlobalAveragePooling2D(input_shape=train_Res.shape[1:]))\n",
    "Res_model.add(Dense(512, activation='relu'))\n",
    "Res_model.add(Dropout(0.5))\n",
    "Res_model.add(Dense(133, activation='softmax'))\n",
    "\n",
    "Res_model.compile(loss='categorical_crossentropy', optimizer=optimizers.SGD(lr=1e-4, momentum=0.9), metrics=['accuracy'])\n",
    "\n",
    " \n",
    "### TODO: Train the model.\n",
    "checkpointer = ModelCheckpoint(filepath='saved_models/weights.best.Res.hdf5', \n",
    "                               verbose=1, save_best_only=True)\n",
    "\n",
    "Res_model.fit(train_Res, train_targets, \n",
    "          validation_data=(valid_Res, valid_targets),\n",
    "          epochs=500, batch_size=50, callbacks=[checkpointer], verbose=1)\n",
    "### TODO: Load the model weights with the best validation loss.\n",
    "Res_model.load_weights('saved_models/weights.best.Res.hdf5')"
   ]
  },
  {
   "cell_type": "code",
   "execution_count": 36,
   "metadata": {
    "nbpresent": {
     "id": "4461ff4b-ca00-439e-a84f-395416506b61"
    },
    "scrolled": false
   },
   "outputs": [
    {
     "name": "stdout",
     "output_type": "stream",
     "text": [
      "Test accuracy: 85.1675%\n"
     ]
    }
   ],
   "source": [
    "### TODO: Calculate classification accuracy on the test dataset.\n",
    "# get index of predicted dog breed for each image in test set\n",
    "Res_predictions = [np.argmax(Res_model.predict(np.expand_dims(feature, axis=0))) for feature in test_Res]\n",
    "\n",
    "# report test accuracy\n",
    "test_accuracy = 100*np.sum(np.array(Res_predictions)==np.argmax(test_targets, axis=1))/len(Res_predictions)\n",
    "print('Test accuracy: %.4f%%' % test_accuracy)"
   ]
  },
  {
   "cell_type": "markdown",
   "metadata": {
    "nbpresent": {
     "id": "120cbf0d-37d8-4a5e-8386-bd223f3e21d0"
    }
   },
   "source": [
    "### (IMPLEMENTATION) Predict Dog Breed with the Model\n",
    "\n",
    "Write a function that takes an image path as input and returns the dog breed (`Affenpinscher`, `Afghan_hound`, etc) that is predicted by your model.  \n",
    "\n",
    "Similar to the analogous function in Step 5, your function should have three steps:\n",
    "1. Extract the bottleneck features corresponding to the chosen CNN model.\n",
    "2. Supply the bottleneck features as input to the model to return the predicted vector.  Note that the argmax of this prediction vector gives the index of the predicted dog breed.\n",
    "3. Use the `dog_names` array defined in Step 0 of this notebook to return the corresponding breed.\n",
    "\n",
    "The functions to extract the bottleneck features can be found in `extract_bottleneck_features.py`, and they have been imported in an earlier code cell.  To obtain the bottleneck features corresponding to your chosen CNN architecture, you need to use the function\n",
    "\n",
    "    extract_{network}\n",
    "    \n",
    "where `{network}`, in the above filename, should be one of `VGG19`, `Resnet50`, `InceptionV3`, or `Xception`."
   ]
  },
  {
   "cell_type": "code",
   "execution_count": 37,
   "metadata": {
    "collapsed": true,
    "nbpresent": {
     "id": "40e9688d-1d8e-4ff1-b457-f1d03ae0b6ab"
    },
    "scrolled": false
   },
   "outputs": [],
   "source": [
    "### TODO: Write a function that takes a path to an image as input\n",
    "### and returns the dog breed that is predicted by the model.\n",
    "\n",
    "def Resnet50_predict_breed(img_path):\n",
    "    # extract bottleneck features\n",
    "    bottleneck_feature = extract_Resnet50(path_to_tensor(img_path))\n",
    "    # obtain predicted vector\n",
    "    predicted_vector = Res_model.predict(bottleneck_feature)\n",
    "    # return dog breed that is predicted by the model\n",
    "    return dog_names[np.argmax(predicted_vector)]"
   ]
  },
  {
   "cell_type": "markdown",
   "metadata": {
    "nbpresent": {
     "id": "c2a38cc2-2065-4183-9504-d3cac6741f6a"
    }
   },
   "source": [
    "---\n",
    "<a id='step6'></a>\n",
    "## Step 6: Write your Algorithm\n",
    "\n",
    "Write an algorithm that accepts a file path to an image and first determines whether the image contains a human, dog, or neither.  Then,\n",
    "- if a __dog__ is detected in the image, return the predicted breed.\n",
    "- if a __human__ is detected in the image, return the resembling dog breed.\n",
    "- if __neither__ is detected in the image, provide output that indicates an error.\n",
    "\n",
    "You are welcome to write your own functions for detecting humans and dogs in images, but feel free to use the `face_detector` and `dog_detector` functions developed above.  You are __required__ to use your CNN from Step 5 to predict dog breed.  \n",
    "\n",
    "Some sample output for our algorithm is provided below, but feel free to design your own user experience!\n",
    "\n",
    "![Sample Human Output](images/sample_human_output.png)\n",
    "\n",
    "\n",
    "### (IMPLEMENTATION) Write your Algorithm"
   ]
  },
  {
   "cell_type": "code",
   "execution_count": 38,
   "metadata": {
    "collapsed": true,
    "nbpresent": {
     "id": "dc3e2803-27ed-4e49-922f-3438493b2309"
    },
    "scrolled": false
   },
   "outputs": [],
   "source": [
    "def dog_app(img_path):\n",
    "    if face_detector(img_path):\n",
    "        print(\"Hello, human!\")\n",
    "        print(\"You look like a ...\")\n",
    "        print(Resnet50_predict_breed(img_path))\n",
    "    elif dog_detector(img_path):\n",
    "        print(\"Hello, Dog!\")\n",
    "        print(\"It looks like you own a ...\")\n",
    "        print(Resnet50_predict_breed(img_path))\n",
    "    else:\n",
    "        print(\"Sorry, you need to use a picture of a human or a dog!!!\")"
   ]
  },
  {
   "cell_type": "markdown",
   "metadata": {
    "nbpresent": {
     "id": "09e8ed52-897f-471d-b71f-9f636c9d7359"
    }
   },
   "source": [
    "---\n",
    "<a id='step7'></a>\n",
    "## Step 7: Test Your Algorithm\n",
    "\n",
    "In this section, you will take your new algorithm for a spin!  What kind of dog does the algorithm think that __you__ look like?  If you have a dog, does it predict your dog's breed accurately?  If you have a cat, does it mistakenly think that your cat is a dog?\n",
    "\n",
    "### (IMPLEMENTATION) Test Your Algorithm on Sample Images!\n",
    "\n",
    "Test your algorithm at least six images on your computer.  Feel free to use any images you like.  Use at least two human and two dog images.  \n",
    "\n",
    "__Question 6:__ Is the output better than you expected :) ?  Or worse :( ?  Provide at least three possible points of improvement for your algorithm.\n",
    "\n",
    "__Answer:__\n",
    "\n",
    "Both humans were detected as humans and recieved a dog that they most resemble. One dog was detected as a human, but was properly labeled as a labrador. The second dog was detected as a dog and properly labeled as a German Shepard. The two cat images successfully displayed the error since they weren't detected as dogs or humans.\n",
    "\n",
    "The output was about what I exptected for the dogs. Since the final model I used had 85% accuracy, I assumed the two samples would be properly identified. I thought there was a chance the cats would get labeled as dogs, but that didn't happen. I don't know what to make of the output for the humans other than it would make for a funny app. \n",
    "\n",
    "Improvement areas could include: \n",
    "- Better detection, since a dog was labeled as a human.\n",
    "- In phone app form, the algorithm should accept images straight from a camera input.\n",
    "- Speed improvements would be nice as well, since it took several seconds to get a prediction.\n",
    "- A GUI that included a picture of the type of dog that the human resembles, right next to the human image would make it more entertaining."
   ]
  },
  {
   "cell_type": "markdown",
   "metadata": {
    "nbpresent": {
     "id": "30e14e33-bbde-4da7-a340-09c0547f81c1"
    }
   },
   "source": [
    "<img src='images/human1.jpg' />"
   ]
  },
  {
   "cell_type": "code",
   "execution_count": 53,
   "metadata": {
    "nbpresent": {
     "id": "ff0504be-0abb-4dcc-974b-a3f252f76e20"
    },
    "scrolled": false
   },
   "outputs": [
    {
     "name": "stdout",
     "output_type": "stream",
     "text": [
      "Hello, human!\n",
      "You look like a ...\n",
      "Chihuahua\n"
     ]
    }
   ],
   "source": [
    "dog_app('images/human1.jpg')"
   ]
  },
  {
   "cell_type": "markdown",
   "metadata": {
    "nbpresent": {
     "id": "dd4378a9-eb98-4df1-bd2d-d1f5fce478b4"
    }
   },
   "source": [
    "<img src='images/human2.jpg' />"
   ]
  },
  {
   "cell_type": "code",
   "execution_count": 54,
   "metadata": {
    "nbpresent": {
     "id": "2fe2e683-78cc-49d4-b244-7ee42cc93137"
    },
    "scrolled": false
   },
   "outputs": [
    {
     "name": "stdout",
     "output_type": "stream",
     "text": [
      "Hello, human!\n",
      "You look like a ...\n",
      "American_water_spaniel\n"
     ]
    }
   ],
   "source": [
    "dog_app('images/human2.jpg')"
   ]
  },
  {
   "cell_type": "markdown",
   "metadata": {
    "nbpresent": {
     "id": "54aa0105-588c-428b-8c36-2bfd59861215"
    }
   },
   "source": [
    "<img src='images/dog1.jpg' />"
   ]
  },
  {
   "cell_type": "code",
   "execution_count": 55,
   "metadata": {
    "nbpresent": {
     "id": "d4e83688-3df4-4735-8d88-6241d909c7ab"
    },
    "scrolled": false
   },
   "outputs": [
    {
     "name": "stdout",
     "output_type": "stream",
     "text": [
      "Hello, human!\n",
      "You look like a ...\n",
      "Labrador_retriever\n"
     ]
    }
   ],
   "source": [
    "dog_app('images/dog1.jpg')"
   ]
  },
  {
   "cell_type": "markdown",
   "metadata": {
    "nbpresent": {
     "id": "ef7200f0-ab61-4479-a21e-ecb6f611095f"
    }
   },
   "source": [
    "<img src='images/dog2.jpg' />"
   ]
  },
  {
   "cell_type": "code",
   "execution_count": 56,
   "metadata": {
    "nbpresent": {
     "id": "28a1382b-f749-4fe9-8e0c-7157bc7eecd1"
    },
    "scrolled": false
   },
   "outputs": [
    {
     "name": "stdout",
     "output_type": "stream",
     "text": [
      "Hello, Dog!\n",
      "It looks like you own a ...\n",
      "German_shepherd_dog\n"
     ]
    }
   ],
   "source": [
    "dog_app('images/dog2.jpg')"
   ]
  },
  {
   "cell_type": "markdown",
   "metadata": {
    "nbpresent": {
     "id": "47010ded-9dab-4203-834f-dccefd973bad"
    }
   },
   "source": [
    "<img src='images/cat1.JPG' />"
   ]
  },
  {
   "cell_type": "code",
   "execution_count": 57,
   "metadata": {
    "nbpresent": {
     "id": "002b2684-6c10-4655-803b-2fdc3dd54029"
    },
    "scrolled": false
   },
   "outputs": [
    {
     "name": "stdout",
     "output_type": "stream",
     "text": [
      "Sorry, you need to use a picture of a human or a dog!!!\n"
     ]
    }
   ],
   "source": [
    "dog_app('images/cat1.JPG')"
   ]
  },
  {
   "cell_type": "markdown",
   "metadata": {
    "nbpresent": {
     "id": "da2c191c-1305-4d05-bba8-6df87ccda6b4"
    }
   },
   "source": [
    "<img src='images/cat2.JPG' />"
   ]
  },
  {
   "cell_type": "code",
   "execution_count": 58,
   "metadata": {
    "nbpresent": {
     "id": "701d9f3f-3340-42ab-ad30-1467bb22e55a"
    },
    "scrolled": false
   },
   "outputs": [
    {
     "name": "stdout",
     "output_type": "stream",
     "text": [
      "Sorry, you need to use a picture of a human or a dog!!!\n"
     ]
    }
   ],
   "source": [
    "dog_app('images/cat2.JPG')\n"
   ]
  }
 ],
 "metadata": {
  "anaconda-cloud": {},
  "kernelspec": {
   "display_name": "Python 3",
   "language": "python",
   "name": "python3"
  },
  "language_info": {
   "codemirror_mode": {
    "name": "ipython",
    "version": 3
   },
   "file_extension": ".py",
   "mimetype": "text/x-python",
   "name": "python",
   "nbconvert_exporter": "python",
   "pygments_lexer": "ipython3",
   "version": "3.6.1"
  },
  "nbpresent": {
   "slides": {
    "063b8d73-1d0d-42df-b5ae-2ad0d14adfa8": {
     "id": "063b8d73-1d0d-42df-b5ae-2ad0d14adfa8",
     "prev": "e1610ddc-7b05-42e5-9eda-c92324cf6767",
     "regions": {
      "f63bc5f9-66d1-44c5-af72-baa38a3947ce": {
       "attrs": {
        "height": 0.8,
        "width": 0.8,
        "x": 0.1,
        "y": 0.1
       },
       "content": {
        "cell": "8a856d1b-97f7-42a3-8f4b-fb1020d47ef0",
        "part": "whole"
       },
       "id": "f63bc5f9-66d1-44c5-af72-baa38a3947ce"
      }
     }
    },
    "09a60639-85e9-473f-9bd5-e5e733764c6b": {
     "id": "09a60639-85e9-473f-9bd5-e5e733764c6b",
     "prev": "bf06ac61-8173-4b21-a826-d94d7091bc2c",
     "regions": {
      "326f2cd9-239e-4752-b7ee-8e71c08e45a8": {
       "attrs": {
        "height": 0.8,
        "width": 0.8,
        "x": 0.1,
        "y": 0.1
       },
       "content": {
        "cell": "76dd4630-e672-44fc-b2c9-694de96229be",
        "part": "whole"
       },
       "id": "326f2cd9-239e-4752-b7ee-8e71c08e45a8"
      }
     }
    },
    "0a7d1789-7072-4bd4-b403-342be9e85977": {
     "id": "0a7d1789-7072-4bd4-b403-342be9e85977",
     "prev": "beae7539-ec0c-49e5-afd9-b46a6e8f5fe5",
     "regions": {
      "9af61cc3-897e-4590-b143-1cd45e7c7873": {
       "attrs": {
        "height": 0.8,
        "width": 0.8,
        "x": 0.1,
        "y": 0.1
       },
       "content": {
        "cell": "120cbf0d-37d8-4a5e-8386-bd223f3e21d0",
        "part": "whole"
       },
       "id": "9af61cc3-897e-4590-b143-1cd45e7c7873"
      }
     }
    },
    "0c022e7f-c6aa-4846-a272-c4ee94937001": {
     "id": "0c022e7f-c6aa-4846-a272-c4ee94937001",
     "prev": "e8fa51b7-4cb4-44b6-b3a2-7eccf1f3fdad",
     "regions": {
      "1aed19c7-8319-44c1-ac52-a3e64265fb86": {
       "attrs": {
        "height": 0.8,
        "width": 0.8,
        "x": 0.1,
        "y": 0.1
       },
       "content": {
        "cell": "d6ff3093-83d7-4596-a317-0eb378733877",
        "part": "whole"
       },
       "id": "1aed19c7-8319-44c1-ac52-a3e64265fb86"
      }
     }
    },
    "11b702f1-4923-4b26-9136-ed2dd3e6cfb6": {
     "id": "11b702f1-4923-4b26-9136-ed2dd3e6cfb6",
     "prev": "eff26920-54cb-45f3-9630-0e9783e72161",
     "regions": {
      "da585311-5785-435f-b360-d6553e4d15b3": {
       "attrs": {
        "height": 0.8,
        "width": 0.8,
        "x": 0.1,
        "y": 0.1
       },
       "content": {
        "cell": "ff0504be-0abb-4dcc-974b-a3f252f76e20",
        "part": "whole"
       },
       "id": "da585311-5785-435f-b360-d6553e4d15b3"
      }
     }
    },
    "148f527a-dc77-4f08-bca5-a7acc1232233": {
     "id": "148f527a-dc77-4f08-bca5-a7acc1232233",
     "prev": "11b702f1-4923-4b26-9136-ed2dd3e6cfb6",
     "regions": {
      "b7a7b868-87d0-4d50-81fe-2cf6383a3331": {
       "attrs": {
        "height": 0.8,
        "width": 0.8,
        "x": 0.1,
        "y": 0.1
       },
       "content": {
        "cell": "dd4378a9-eb98-4df1-bd2d-d1f5fce478b4",
        "part": "whole"
       },
       "id": "b7a7b868-87d0-4d50-81fe-2cf6383a3331"
      }
     }
    },
    "1648b69e-b184-48b7-ac54-ef09d63d1d6e": {
     "id": "1648b69e-b184-48b7-ac54-ef09d63d1d6e",
     "prev": "6a37c4b0-2126-4762-83eb-1d56e9c38b51",
     "regions": {
      "610185b9-c08f-4ed1-b4f2-6e24d58f8d6d": {
       "attrs": {
        "height": 0.8,
        "width": 0.8,
        "x": 0.1,
        "y": 0.1
       },
       "content": {
        "cell": "fe585b02-0648-4bed-9a10-d7fbd5c084ff",
        "part": "whole"
       },
       "id": "610185b9-c08f-4ed1-b4f2-6e24d58f8d6d"
      }
     }
    },
    "19103e1e-a12f-4f7a-a82f-0cccca34dd81": {
     "id": "19103e1e-a12f-4f7a-a82f-0cccca34dd81",
     "prev": "6692e094-aecf-4872-bfab-7553befcf406",
     "regions": {
      "6954f01a-488a-4322-b537-cea113eaef1a": {
       "attrs": {
        "height": 0.8,
        "width": 0.8,
        "x": 0.1,
        "y": 0.1
       },
       "content": {
        "cell": "bb35f6e3-d2c1-4e70-ba54-938ee9eaefe1",
        "part": "whole"
       },
       "id": "6954f01a-488a-4322-b537-cea113eaef1a"
      }
     }
    },
    "197b2088-9c5a-47d6-9864-297b2fa9d50a": {
     "id": "197b2088-9c5a-47d6-9864-297b2fa9d50a",
     "prev": "dc6001fe-4c26-4c6d-9f3b-b60b4481e130",
     "regions": {
      "77f62c73-be90-4093-a9ca-b7616625f94f": {
       "attrs": {
        "height": 0.8,
        "width": 0.8,
        "x": 0.1,
        "y": 0.1
       },
       "content": {
        "cell": "8a6b0228-99a0-4c33-b0ce-535c5b56102d",
        "part": "whole"
       },
       "id": "77f62c73-be90-4093-a9ca-b7616625f94f"
      }
     }
    },
    "1caa9c5b-2f1c-4315-9ef3-2a051aef5c6b": {
     "id": "1caa9c5b-2f1c-4315-9ef3-2a051aef5c6b",
     "prev": "839b2a00-8ec0-482f-8513-9c274e15c779",
     "regions": {
      "2c045016-e595-4b7d-b238-9f88d2146800": {
       "attrs": {
        "height": 0.8,
        "width": 0.8,
        "x": 0.1,
        "y": 0.1
       },
       "content": {
        "cell": "40bfc0ac-b4b1-43ff-8b6f-c4094c24b437",
        "part": "whole"
       },
       "id": "2c045016-e595-4b7d-b238-9f88d2146800"
      }
     }
    },
    "2219e122-2e40-467c-8e42-2ae65fdea26a": {
     "id": "2219e122-2e40-467c-8e42-2ae65fdea26a",
     "prev": "2591f272-4e98-42b4-af15-40f7713be161",
     "regions": {
      "a3e62837-f34e-4c8f-90d4-8cc5a3959fc6": {
       "attrs": {
        "height": 0.8,
        "width": 0.8,
        "x": 0.1,
        "y": 0.1
       },
       "content": {
        "cell": "5a55d640-1bda-43cb-926c-3cfcd7c461c4",
        "part": "whole"
       },
       "id": "a3e62837-f34e-4c8f-90d4-8cc5a3959fc6"
      }
     }
    },
    "25518dfd-da10-47c8-bc29-0c62da3ee2b1": {
     "id": "25518dfd-da10-47c8-bc29-0c62da3ee2b1",
     "prev": "44fb29e3-71fb-49de-a457-119e6288749d",
     "regions": {
      "d4a2877d-fcaa-4e9e-9148-90969717cb36": {
       "attrs": {
        "height": 0.8,
        "width": 0.8,
        "x": 0.1,
        "y": 0.1
       },
       "content": {
        "cell": "efa4dcdf-25c5-4f39-b482-2b20c04bd396",
        "part": "whole"
       },
       "id": "d4a2877d-fcaa-4e9e-9148-90969717cb36"
      }
     }
    },
    "2591f272-4e98-42b4-af15-40f7713be161": {
     "id": "2591f272-4e98-42b4-af15-40f7713be161",
     "prev": "4ac338f9-32a4-43b5-93a3-2ba0e5fa8ffb",
     "regions": {
      "7a0b5ead-6108-4824-a5de-a7ec0b002e4f": {
       "attrs": {
        "height": 0.8,
        "width": 0.8,
        "x": 0.1,
        "y": 0.1
       },
       "content": {
        "cell": "93e6e66b-1c4d-4078-b5b5-5f20c4a6d696",
        "part": "whole"
       },
       "id": "7a0b5ead-6108-4824-a5de-a7ec0b002e4f"
      }
     }
    },
    "2720fa78-e935-45df-9c7f-5731de106d38": {
     "id": "2720fa78-e935-45df-9c7f-5731de106d38",
     "prev": "b6778ccf-8225-48bd-a92a-7e6ca651c4a8",
     "regions": {
      "722ed3c6-c7e7-451f-8827-cd5c6ca2039e": {
       "attrs": {
        "height": 0.8,
        "width": 0.8,
        "x": 0.1,
        "y": 0.1
       },
       "content": {
        "cell": "002b2684-6c10-4655-803b-2fdc3dd54029",
        "part": "whole"
       },
       "id": "722ed3c6-c7e7-451f-8827-cd5c6ca2039e"
      }
     }
    },
    "2cd8f86e-84b6-465b-b029-cfa9dc318f35": {
     "id": "2cd8f86e-84b6-465b-b029-cfa9dc318f35",
     "prev": "1648b69e-b184-48b7-ac54-ef09d63d1d6e",
     "regions": {
      "76ab4ec6-1755-4361-9c38-a91566337e91": {
       "attrs": {
        "height": 0.8,
        "width": 0.8,
        "x": 0.1,
        "y": 0.1
       },
       "content": {
        "cell": "b134ae7c-d30b-413a-b5e9-8eb8fc5a5332",
        "part": "whole"
       },
       "id": "76ab4ec6-1755-4361-9c38-a91566337e91"
      }
     }
    },
    "2e46586f-a736-44d1-9064-3989edd2dea4": {
     "id": "2e46586f-a736-44d1-9064-3989edd2dea4",
     "prev": "7a0c0a54-5b11-44dc-bbf1-a7a92602b77e",
     "regions": {
      "c3afd09b-7748-466a-b7d0-4aa4ccf52c90": {
       "attrs": {
        "height": 0.8,
        "width": 0.8,
        "x": 0.1,
        "y": 0.1
       },
       "content": {
        "cell": "d1cab638-b77b-4d26-ac61-2d085f8b7d9b",
        "part": "whole"
       },
       "id": "c3afd09b-7748-466a-b7d0-4aa4ccf52c90"
      }
     }
    },
    "3436101c-f064-41af-9b7f-82577417a935": {
     "id": "3436101c-f064-41af-9b7f-82577417a935",
     "prev": "7e761591-dbb0-4fef-b047-5956e09dd416",
     "regions": {
      "fab3373f-5991-422b-a8af-786bcbf10247": {
       "attrs": {
        "height": 0.8,
        "width": 0.8,
        "x": 0.1,
        "y": 0.1
       },
       "content": {
        "cell": "5f2f0863-3365-4d0f-b188-bfb017d7c9c2",
        "part": "whole"
       },
       "id": "fab3373f-5991-422b-a8af-786bcbf10247"
      }
     }
    },
    "357bf8d4-6ab6-4114-b0e0-ccac6df23d37": {
     "id": "357bf8d4-6ab6-4114-b0e0-ccac6df23d37",
     "prev": "feb711ef-e8f0-443b-a9e0-2e6a794614d6",
     "regions": {
      "9c271a2e-06d3-4bc6-8fe1-056a71d08500": {
       "attrs": {
        "height": 0.8,
        "width": 0.8,
        "x": 0.1,
        "y": 0.1
       },
       "content": {
        "cell": "93e448c9-cba4-4132-8123-fcc29eecf5cd",
        "part": "whole"
       },
       "id": "9c271a2e-06d3-4bc6-8fe1-056a71d08500"
      }
     }
    },
    "3e3382c6-47ad-44de-96dd-6b73e92abb01": {
     "id": "3e3382c6-47ad-44de-96dd-6b73e92abb01",
     "prev": "2720fa78-e935-45df-9c7f-5731de106d38",
     "regions": {
      "29c618f2-5445-4713-9c84-ee60e0cb116c": {
       "attrs": {
        "height": 0.8,
        "width": 0.8,
        "x": 0.1,
        "y": 0.1
       },
       "content": {
        "cell": "da2c191c-1305-4d05-bba8-6df87ccda6b4",
        "part": "whole"
       },
       "id": "29c618f2-5445-4713-9c84-ee60e0cb116c"
      }
     }
    },
    "3e4b83b0-61ea-4010-8e15-41de2046165d": {
     "id": "3e4b83b0-61ea-4010-8e15-41de2046165d",
     "prev": null,
     "regions": {
      "56274a9b-f5d4-4537-a426-355c40396d9d": {
       "attrs": {
        "height": 0.8,
        "width": 0.8,
        "x": 0.1,
        "y": 0.1
       },
       "content": {
        "cell": "0b1d1371-e9f4-4dda-8dc6-e7882e362b20",
        "part": "whole"
       },
       "id": "56274a9b-f5d4-4537-a426-355c40396d9d"
      }
     }
    },
    "448ab863-dabc-4842-a841-c205d61d3c53": {
     "id": "448ab863-dabc-4842-a841-c205d61d3c53",
     "prev": "4aff62ca-c4a1-49cb-86a7-e690494ab9ed",
     "regions": {
      "f4e42a24-52eb-416f-8c40-a9061f2c9d02": {
       "attrs": {
        "height": 0.8,
        "width": 0.8,
        "x": 0.1,
        "y": 0.1
       },
       "content": {
        "cell": "4e23d757-aa9f-423f-98c7-c8183e23cda4",
        "part": "whole"
       },
       "id": "f4e42a24-52eb-416f-8c40-a9061f2c9d02"
      }
     }
    },
    "44fb29e3-71fb-49de-a457-119e6288749d": {
     "id": "44fb29e3-71fb-49de-a457-119e6288749d",
     "prev": "9b05a789-caf2-45f9-8dd9-fadd1f1a8363",
     "regions": {
      "5f52dcf3-bbc8-455b-a810-143db39e953d": {
       "attrs": {
        "height": 0.8,
        "width": 0.8,
        "x": 0.1,
        "y": 0.1
       },
       "content": {
        "cell": "285d10bf-cef5-4093-9e21-808a09f3fceb",
        "part": "whole"
       },
       "id": "5f52dcf3-bbc8-455b-a810-143db39e953d"
      }
     }
    },
    "46b475a3-ebce-4bfc-af38-b50c79f2f0a7": {
     "id": "46b475a3-ebce-4bfc-af38-b50c79f2f0a7",
     "prev": "197b2088-9c5a-47d6-9864-297b2fa9d50a",
     "regions": {
      "738329b4-b648-4588-8e3c-ea037e74b536": {
       "attrs": {
        "height": 0.8,
        "width": 0.8,
        "x": 0.1,
        "y": 0.1
       },
       "content": {
        "cell": "298d0910-21a9-4261-962c-ee93bb6ac592",
        "part": "whole"
       },
       "id": "738329b4-b648-4588-8e3c-ea037e74b536"
      }
     }
    },
    "4ac338f9-32a4-43b5-93a3-2ba0e5fa8ffb": {
     "id": "4ac338f9-32a4-43b5-93a3-2ba0e5fa8ffb",
     "prev": "e1e9e11e-c16d-4abb-afef-e2ba94c06575",
     "regions": {
      "8703ddd0-0a23-4075-b052-69746a257148": {
       "attrs": {
        "height": 0.8,
        "width": 0.8,
        "x": 0.1,
        "y": 0.1
       },
       "content": {
        "cell": "8ce78060-7823-4180-b1de-7480070928cc",
        "part": "whole"
       },
       "id": "8703ddd0-0a23-4075-b052-69746a257148"
      }
     }
    },
    "4aff62ca-c4a1-49cb-86a7-e690494ab9ed": {
     "id": "4aff62ca-c4a1-49cb-86a7-e690494ab9ed",
     "prev": "9a6d4202-0a09-4a03-a785-a1d959de9ef1",
     "regions": {
      "bd6abb23-fe35-49a5-a704-86b6c9998101": {
       "attrs": {
        "height": 0.8,
        "width": 0.8,
        "x": 0.1,
        "y": 0.1
       },
       "content": {
        "cell": "164067d0-394b-4d40-8d5e-029e6affe38c",
        "part": "whole"
       },
       "id": "bd6abb23-fe35-49a5-a704-86b6c9998101"
      }
     }
    },
    "4fc8716e-1884-4fcf-a782-a7b15bc6301f": {
     "id": "4fc8716e-1884-4fcf-a782-a7b15bc6301f",
     "prev": "69633901-628a-42f6-8300-423f4045f964",
     "regions": {
      "85520271-f265-4f3d-80fb-e725975adba0": {
       "attrs": {
        "height": 0.8,
        "width": 0.8,
        "x": 0.1,
        "y": 0.1
       },
       "content": {
        "cell": "a0e528df-c5d3-4f4f-ac21-22c6cd102e56",
        "part": "whole"
       },
       "id": "85520271-f265-4f3d-80fb-e725975adba0"
      }
     }
    },
    "5191e236-795a-4ca6-b892-0cff57b3cc4c": {
     "id": "5191e236-795a-4ca6-b892-0cff57b3cc4c",
     "prev": "357bf8d4-6ab6-4114-b0e0-ccac6df23d37",
     "regions": {
      "c368ea5b-a2be-4336-b934-73910906b0d6": {
       "attrs": {
        "height": 0.8,
        "width": 0.8,
        "x": 0.1,
        "y": 0.1
       },
       "content": {
        "cell": "1e1c5169-867f-4c11-b9cd-8257f4dc3d5a",
        "part": "whole"
       },
       "id": "c368ea5b-a2be-4336-b934-73910906b0d6"
      }
     }
    },
    "5292315b-2d4d-465e-b840-bb1dc7e261c9": {
     "id": "5292315b-2d4d-465e-b840-bb1dc7e261c9",
     "prev": "8f4bf026-eea7-4a6e-8654-01b23c341653",
     "regions": {
      "d0617aca-a190-48aa-9c60-f994e1d837be": {
       "attrs": {
        "height": 0.8,
        "width": 0.8,
        "x": 0.1,
        "y": 0.1
       },
       "content": {
        "cell": "b0ec57f9-5d06-4e12-b598-3366a1bd4a53",
        "part": "whole"
       },
       "id": "d0617aca-a190-48aa-9c60-f994e1d837be"
      }
     }
    },
    "57f16d19-fa26-463c-800f-49fef5339b9f": {
     "id": "57f16d19-fa26-463c-800f-49fef5339b9f",
     "prev": "714f93cb-c025-42f4-afb9-0178ad65baa6",
     "regions": {
      "63fc4232-3be8-4e32-a993-d646c360d859": {
       "attrs": {
        "height": 0.8,
        "width": 0.8,
        "x": 0.1,
        "y": 0.1
       },
       "content": {
        "cell": "95ca45c9-4659-4be3-9fc7-a674b91ae7db",
        "part": "whole"
       },
       "id": "63fc4232-3be8-4e32-a993-d646c360d859"
      }
     }
    },
    "668b2555-e18f-489f-a6d1-26d19de44dc8": {
     "id": "668b2555-e18f-489f-a6d1-26d19de44dc8",
     "prev": "f8b3f977-9620-45b6-b0a2-b6d7d443441f",
     "regions": {
      "088f47dd-ee38-430d-9102-59deb6974861": {
       "attrs": {
        "height": 0.8,
        "width": 0.8,
        "x": 0.1,
        "y": 0.1
       },
       "content": {
        "cell": "9e2f1553-8581-4fac-9402-ce0510458c7d",
        "part": "whole"
       },
       "id": "088f47dd-ee38-430d-9102-59deb6974861"
      }
     }
    },
    "6692e094-aecf-4872-bfab-7553befcf406": {
     "id": "6692e094-aecf-4872-bfab-7553befcf406",
     "prev": "d90a49e5-f19b-44da-a475-9937bbfd6809",
     "regions": {
      "50523eb4-0a57-4115-862c-b7f83421aa39": {
       "attrs": {
        "height": 0.8,
        "width": 0.8,
        "x": 0.1,
        "y": 0.1
       },
       "content": {
        "cell": "fe9034c9-227f-4ec2-8e1a-2201ed102401",
        "part": "whole"
       },
       "id": "50523eb4-0a57-4115-862c-b7f83421aa39"
      }
     }
    },
    "69199d30-5e47-4438-bce5-4fbd1c77314f": {
     "id": "69199d30-5e47-4438-bce5-4fbd1c77314f",
     "prev": "063b8d73-1d0d-42df-b5ae-2ad0d14adfa8",
     "regions": {
      "2d214a84-758b-41ae-ba73-62971465b71d": {
       "attrs": {
        "height": 0.8,
        "width": 0.8,
        "x": 0.1,
        "y": 0.1
       },
       "content": {
        "cell": "6a5d04a8-c85c-4573-8da8-1671348f5182",
        "part": "whole"
       },
       "id": "2d214a84-758b-41ae-ba73-62971465b71d"
      }
     }
    },
    "69633901-628a-42f6-8300-423f4045f964": {
     "id": "69633901-628a-42f6-8300-423f4045f964",
     "prev": "9405fa02-109c-4fbf-9608-94788d39ffdc",
     "regions": {
      "c6832faf-fbf1-4379-b00c-d01a2c2536be": {
       "attrs": {
        "height": 0.8,
        "width": 0.8,
        "x": 0.1,
        "y": 0.1
       },
       "content": {
        "cell": "617cc09a-6a6f-4746-8e28-d9c627135a64",
        "part": "whole"
       },
       "id": "c6832faf-fbf1-4379-b00c-d01a2c2536be"
      }
     }
    },
    "6a37c4b0-2126-4762-83eb-1d56e9c38b51": {
     "id": "6a37c4b0-2126-4762-83eb-1d56e9c38b51",
     "prev": "19103e1e-a12f-4f7a-a82f-0cccca34dd81",
     "regions": {
      "133ffe54-22d2-41bc-ac30-a0397d1ce29b": {
       "attrs": {
        "height": 0.8,
        "width": 0.8,
        "x": 0.1,
        "y": 0.1
       },
       "content": {
        "cell": "bbc8a30c-aa10-4579-973f-f991c9014dc4",
        "part": "whole"
       },
       "id": "133ffe54-22d2-41bc-ac30-a0397d1ce29b"
      }
     }
    },
    "6ae72de6-791a-4f62-aa15-0b89ccebf1f2": {
     "id": "6ae72de6-791a-4f62-aa15-0b89ccebf1f2",
     "prev": "e48dacd6-27a1-4b4a-9e07-32e3c3c23d4d",
     "regions": {
      "c2638ccd-3c08-4714-9d5d-91d3aa735ea0": {
       "attrs": {
        "height": 0.8,
        "width": 0.8,
        "x": 0.1,
        "y": 0.1
       },
       "content": {
        "cell": "9d7fcb7a-fc73-48e1-825a-ebd5af3ed167",
        "part": "whole"
       },
       "id": "c2638ccd-3c08-4714-9d5d-91d3aa735ea0"
      }
     }
    },
    "714f93cb-c025-42f4-afb9-0178ad65baa6": {
     "id": "714f93cb-c025-42f4-afb9-0178ad65baa6",
     "prev": "6ae72de6-791a-4f62-aa15-0b89ccebf1f2",
     "regions": {
      "eeaa7ffa-8699-4892-9c08-138f5c10752b": {
       "attrs": {
        "height": 0.8,
        "width": 0.8,
        "x": 0.1,
        "y": 0.1
       },
       "content": {
        "cell": "197df124-a496-4dc9-a10b-80de67d20ded",
        "part": "whole"
       },
       "id": "eeaa7ffa-8699-4892-9c08-138f5c10752b"
      }
     }
    },
    "7733b30c-61d7-45e2-8bce-cfa6f3b02e6d": {
     "id": "7733b30c-61d7-45e2-8bce-cfa6f3b02e6d",
     "prev": "3e3382c6-47ad-44de-96dd-6b73e92abb01",
     "regions": {
      "a5e0da9c-f760-4b0a-a386-37d9fb6088bf": {
       "attrs": {
        "height": 0.8,
        "width": 0.8,
        "x": 0.1,
        "y": 0.1
       },
       "content": {
        "cell": "701d9f3f-3340-42ab-ad30-1467bb22e55a",
        "part": "whole"
       },
       "id": "a5e0da9c-f760-4b0a-a386-37d9fb6088bf"
      }
     }
    },
    "7a0c0a54-5b11-44dc-bbf1-a7a92602b77e": {
     "id": "7a0c0a54-5b11-44dc-bbf1-a7a92602b77e",
     "prev": "09a60639-85e9-473f-9bd5-e5e733764c6b",
     "regions": {
      "6fa05236-12c8-4350-bbcc-7181813f6c7a": {
       "attrs": {
        "height": 0.8,
        "width": 0.8,
        "x": 0.1,
        "y": 0.1
       },
       "content": {
        "cell": "e3421c6c-f71c-4a21-9c46-2e1485e97d36",
        "part": "whole"
       },
       "id": "6fa05236-12c8-4350-bbcc-7181813f6c7a"
      }
     }
    },
    "7d9bc2d6-b5c2-465c-8f45-9fabce6b6a9f": {
     "id": "7d9bc2d6-b5c2-465c-8f45-9fabce6b6a9f",
     "prev": "2e46586f-a736-44d1-9064-3989edd2dea4",
     "regions": {
      "4f5c10d7-40f6-4671-90d4-7302936517f6": {
       "attrs": {
        "height": 0.8,
        "width": 0.8,
        "x": 0.1,
        "y": 0.1
       },
       "content": {
        "cell": "96880e8c-d72e-49f9-8cde-132a57731919",
        "part": "whole"
       },
       "id": "4f5c10d7-40f6-4671-90d4-7302936517f6"
      }
     }
    },
    "7e761591-dbb0-4fef-b047-5956e09dd416": {
     "id": "7e761591-dbb0-4fef-b047-5956e09dd416",
     "prev": "3e4b83b0-61ea-4010-8e15-41de2046165d",
     "regions": {
      "cf15c1d3-084f-4df0-857f-96535e77f6db": {
       "attrs": {
        "height": 0.8,
        "width": 0.8,
        "x": 0.1,
        "y": 0.1
       },
       "content": {
        "cell": "be414f28-6d27-4e52-8786-1d0d51575532",
        "part": "whole"
       },
       "id": "cf15c1d3-084f-4df0-857f-96535e77f6db"
      }
     }
    },
    "839b2a00-8ec0-482f-8513-9c274e15c779": {
     "id": "839b2a00-8ec0-482f-8513-9c274e15c779",
     "prev": "b29ad2cc-cde8-40e8-82e2-beb583db0092",
     "regions": {
      "a2687f8c-fbbb-4a6c-86c7-60be0b8172bd": {
       "attrs": {
        "height": 0.8,
        "width": 0.8,
        "x": 0.1,
        "y": 0.1
       },
       "content": {
        "cell": "14326f0d-2f7f-4ca0-9609-37d3d1311666",
        "part": "whole"
       },
       "id": "a2687f8c-fbbb-4a6c-86c7-60be0b8172bd"
      }
     }
    },
    "84f8be36-5679-49aa-b20f-3886f24803f6": {
     "id": "84f8be36-5679-49aa-b20f-3886f24803f6",
     "prev": "fdc4d227-082b-4cb0-8e44-c47ffb8af9ac",
     "regions": {
      "dfc5c841-d6b9-44ee-8e89-4f330d9806e1": {
       "attrs": {
        "height": 0.8,
        "width": 0.8,
        "x": 0.1,
        "y": 0.1
       },
       "content": {
        "cell": "4dcd32d1-22c0-4c4c-a175-18dbd73de3ca",
        "part": "whole"
       },
       "id": "dfc5c841-d6b9-44ee-8e89-4f330d9806e1"
      }
     }
    },
    "8a05beb4-584d-4396-a559-3f89e29e7ef7": {
     "id": "8a05beb4-584d-4396-a559-3f89e29e7ef7",
     "prev": "5292315b-2d4d-465e-b840-bb1dc7e261c9",
     "regions": {
      "8c1d9fe2-09f5-4630-972e-01e0b113b836": {
       "attrs": {
        "height": 0.8,
        "width": 0.8,
        "x": 0.1,
        "y": 0.1
       },
       "content": {
        "cell": "11f53b71-e368-45e5-a900-fd3eb2e13587",
        "part": "whole"
       },
       "id": "8c1d9fe2-09f5-4630-972e-01e0b113b836"
      }
     }
    },
    "8f4bf026-eea7-4a6e-8654-01b23c341653": {
     "id": "8f4bf026-eea7-4a6e-8654-01b23c341653",
     "prev": "c9d67d68-6d15-4640-b06f-02e7f8e607af",
     "regions": {
      "06a49088-3735-4775-bf80-1317a9a89e6c": {
       "attrs": {
        "height": 0.8,
        "width": 0.8,
        "x": 0.1,
        "y": 0.1
       },
       "content": {
        "cell": "2f21f4bf-ca21-41b5-b2e8-177d2c85a319",
        "part": "whole"
       },
       "id": "06a49088-3735-4775-bf80-1317a9a89e6c"
      }
     }
    },
    "90278a6d-d99b-4911-be66-193ff8f98a3c": {
     "id": "90278a6d-d99b-4911-be66-193ff8f98a3c",
     "prev": "148f527a-dc77-4f08-bca5-a7acc1232233",
     "regions": {
      "d86db07a-89d3-4a01-aabf-84f647639724": {
       "attrs": {
        "height": 0.8,
        "width": 0.8,
        "x": 0.1,
        "y": 0.1
       },
       "content": {
        "cell": "2fe2e683-78cc-49d4-b244-7ee42cc93137",
        "part": "whole"
       },
       "id": "d86db07a-89d3-4a01-aabf-84f647639724"
      }
     }
    },
    "93542281-2e00-40c5-bce0-37a24bd4dae5": {
     "id": "93542281-2e00-40c5-bce0-37a24bd4dae5",
     "prev": "0c022e7f-c6aa-4846-a272-c4ee94937001",
     "regions": {
      "dfbd5f68-90ba-4cab-80b4-cc33a601e3c2": {
       "attrs": {
        "height": 0.8,
        "width": 0.8,
        "x": 0.1,
        "y": 0.1
       },
       "content": {
        "cell": "68a866d5-b1dd-4fd1-a515-1fcf15c15172",
        "part": "whole"
       },
       "id": "dfbd5f68-90ba-4cab-80b4-cc33a601e3c2"
      }
     }
    },
    "9405fa02-109c-4fbf-9608-94788d39ffdc": {
     "id": "9405fa02-109c-4fbf-9608-94788d39ffdc",
     "prev": "97a52e63-b3cc-4a71-acb4-5a8d75116e2d",
     "regions": {
      "c4c6c836-2b13-4c6b-a964-5a6f97fab453": {
       "attrs": {
        "height": 0.8,
        "width": 0.8,
        "x": 0.1,
        "y": 0.1
       },
       "content": {
        "cell": "1d337b93-57f5-498c-8ba2-fc350be7eae8",
        "part": "whole"
       },
       "id": "c4c6c836-2b13-4c6b-a964-5a6f97fab453"
      }
     }
    },
    "97a52e63-b3cc-4a71-acb4-5a8d75116e2d": {
     "id": "97a52e63-b3cc-4a71-acb4-5a8d75116e2d",
     "prev": "46b475a3-ebce-4bfc-af38-b50c79f2f0a7",
     "regions": {
      "7cffe9a8-dc26-42b5-a06c-2ec0a7a64b08": {
       "attrs": {
        "height": 0.8,
        "width": 0.8,
        "x": 0.1,
        "y": 0.1
       },
       "content": {
        "cell": "6a23eac4-242b-4e8e-9d94-ef7fe32824cb",
        "part": "whole"
       },
       "id": "7cffe9a8-dc26-42b5-a06c-2ec0a7a64b08"
      }
     }
    },
    "9862dc19-2cc6-48f4-a681-4a4b4ae9ed11": {
     "id": "9862dc19-2cc6-48f4-a681-4a4b4ae9ed11",
     "prev": "d91b56f1-55b2-4274-a34c-a65421d96a1e",
     "regions": {
      "cf857511-74b4-4b93-bfb6-f0fbd926054f": {
       "attrs": {
        "height": 0.8,
        "width": 0.8,
        "x": 0.1,
        "y": 0.1
       },
       "content": {
        "cell": "9785470a-3226-4b28-bb31-b408e246f471",
        "part": "whole"
       },
       "id": "cf857511-74b4-4b93-bfb6-f0fbd926054f"
      }
     }
    },
    "9a6d4202-0a09-4a03-a785-a1d959de9ef1": {
     "id": "9a6d4202-0a09-4a03-a785-a1d959de9ef1",
     "prev": "5191e236-795a-4ca6-b892-0cff57b3cc4c",
     "regions": {
      "db70b143-fce3-4042-b5ae-e1240b2711a3": {
       "attrs": {
        "height": 0.8,
        "width": 0.8,
        "x": 0.1,
        "y": 0.1
       },
       "content": {
        "cell": "79ac0fae-69ea-4386-a3a3-2f5a104fe452",
        "part": "whole"
       },
       "id": "db70b143-fce3-4042-b5ae-e1240b2711a3"
      }
     }
    },
    "9b05a789-caf2-45f9-8dd9-fadd1f1a8363": {
     "id": "9b05a789-caf2-45f9-8dd9-fadd1f1a8363",
     "prev": "e9a6515c-4e8d-4168-a2f9-146a08d9a904",
     "regions": {
      "46e1897d-20f4-47a8-9b6f-ccb531d03c4d": {
       "attrs": {
        "height": 0.8,
        "width": 0.8,
        "x": 0.1,
        "y": 0.1
       },
       "content": {
        "cell": "9e57ec93-eaa0-4f5a-803f-fb2c3cc34496",
        "part": "whole"
       },
       "id": "46e1897d-20f4-47a8-9b6f-ccb531d03c4d"
      }
     }
    },
    "9b9c32a5-30ad-430c-a5da-1cbef4016c80": {
     "id": "9b9c32a5-30ad-430c-a5da-1cbef4016c80",
     "prev": "668b2555-e18f-489f-a6d1-26d19de44dc8",
     "regions": {
      "c2a56d62-751b-44c3-89e1-996483329568": {
       "attrs": {
        "height": 0.8,
        "width": 0.8,
        "x": 0.1,
        "y": 0.1
       },
       "content": {
        "cell": "fd8fd949-ab08-4b19-83e4-5058d6494b44",
        "part": "whole"
       },
       "id": "c2a56d62-751b-44c3-89e1-996483329568"
      }
     }
    },
    "9d78ebf8-7429-4ab1-8d3c-da04414ee0ab": {
     "id": "9d78ebf8-7429-4ab1-8d3c-da04414ee0ab",
     "prev": "efe362d0-32de-4432-b127-df8520fc340a",
     "regions": {
      "fecd2937-2d26-49f1-a9a2-bd97b4fb3983": {
       "attrs": {
        "height": 0.8,
        "width": 0.8,
        "x": 0.1,
        "y": 0.1
       },
       "content": {
        "cell": "d4e83688-3df4-4735-8d88-6241d909c7ab",
        "part": "whole"
       },
       "id": "fecd2937-2d26-49f1-a9a2-bd97b4fb3983"
      }
     }
    },
    "a0c01e2b-ee56-4233-96b3-9f7875c3659d": {
     "id": "a0c01e2b-ee56-4233-96b3-9f7875c3659d",
     "prev": "448ab863-dabc-4842-a841-c205d61d3c53",
     "regions": {
      "523ab98f-d87e-4962-ab36-696080cad4d7": {
       "attrs": {
        "height": 0.8,
        "width": 0.8,
        "x": 0.1,
        "y": 0.1
       },
       "content": {
        "cell": "6e6e0bc3-bfbd-4612-92c5-d0a931482eda",
        "part": "whole"
       },
       "id": "523ab98f-d87e-4962-ab36-696080cad4d7"
      }
     }
    },
    "ac166adc-2f50-49e6-b35b-b685536b98c9": {
     "id": "ac166adc-2f50-49e6-b35b-b685536b98c9",
     "prev": "25518dfd-da10-47c8-bc29-0c62da3ee2b1",
     "regions": {
      "8e7f0b71-a5b8-46c7-a348-7b9f9bfdc9fe": {
       "attrs": {
        "height": 0.8,
        "width": 0.8,
        "x": 0.1,
        "y": 0.1
       },
       "content": {
        "cell": "69c0df3d-d0f3-4020-8c67-40a24bd8e97b",
        "part": "whole"
       },
       "id": "8e7f0b71-a5b8-46c7-a348-7b9f9bfdc9fe"
      }
     }
    },
    "acf9b3ee-832a-4af4-a4c1-b23114227d8e": {
     "id": "acf9b3ee-832a-4af4-a4c1-b23114227d8e",
     "prev": "9d78ebf8-7429-4ab1-8d3c-da04414ee0ab",
     "regions": {
      "58863da5-b8c7-46ec-adb0-e40085b078db": {
       "attrs": {
        "height": 0.8,
        "width": 0.8,
        "x": 0.1,
        "y": 0.1
       },
       "content": {
        "cell": "ef7200f0-ab61-4479-a21e-ecb6f611095f",
        "part": "whole"
       },
       "id": "58863da5-b8c7-46ec-adb0-e40085b078db"
      }
     }
    },
    "b29ad2cc-cde8-40e8-82e2-beb583db0092": {
     "id": "b29ad2cc-cde8-40e8-82e2-beb583db0092",
     "prev": "8a05beb4-584d-4396-a559-3f89e29e7ef7",
     "regions": {
      "f14b59d7-cac8-4211-80d1-fb442f44f860": {
       "attrs": {
        "height": 0.8,
        "width": 0.8,
        "x": 0.1,
        "y": 0.1
       },
       "content": {
        "cell": "b17f501c-85c8-48c1-8bb1-01673ef453de",
        "part": "whole"
       },
       "id": "f14b59d7-cac8-4211-80d1-fb442f44f860"
      }
     }
    },
    "b6778ccf-8225-48bd-a92a-7e6ca651c4a8": {
     "id": "b6778ccf-8225-48bd-a92a-7e6ca651c4a8",
     "prev": "be4244dd-e838-4af5-b51f-f5d6169fdb59",
     "regions": {
      "e9632125-ba6e-459e-9825-ae2f0ccd5e63": {
       "attrs": {
        "height": 0.8,
        "width": 0.8,
        "x": 0.1,
        "y": 0.1
       },
       "content": {
        "cell": "47010ded-9dab-4203-834f-dccefd973bad",
        "part": "whole"
       },
       "id": "e9632125-ba6e-459e-9825-ae2f0ccd5e63"
      }
     }
    },
    "b963492a-8022-4c4d-adaa-12f95ac91652": {
     "id": "b963492a-8022-4c4d-adaa-12f95ac91652",
     "prev": "0a7d1789-7072-4bd4-b403-342be9e85977",
     "regions": {
      "5f5d4758-1b83-4293-8bf1-ace0fe2be254": {
       "attrs": {
        "height": 0.8,
        "width": 0.8,
        "x": 0.1,
        "y": 0.1
       },
       "content": {
        "cell": "40e9688d-1d8e-4ff1-b457-f1d03ae0b6ab",
        "part": "whole"
       },
       "id": "5f5d4758-1b83-4293-8bf1-ace0fe2be254"
      }
     }
    },
    "be4244dd-e838-4af5-b51f-f5d6169fdb59": {
     "id": "be4244dd-e838-4af5-b51f-f5d6169fdb59",
     "prev": "acf9b3ee-832a-4af4-a4c1-b23114227d8e",
     "regions": {
      "6c95f61b-28de-4f70-a049-ace6e57fcda2": {
       "attrs": {
        "height": 0.8,
        "width": 0.8,
        "x": 0.1,
        "y": 0.1
       },
       "content": {
        "cell": "28a1382b-f749-4fe9-8e0c-7157bc7eecd1",
        "part": "whole"
       },
       "id": "6c95f61b-28de-4f70-a049-ace6e57fcda2"
      }
     }
    },
    "be4c524a-2108-4b58-ae89-867353e96fe2": {
     "id": "be4c524a-2108-4b58-ae89-867353e96fe2",
     "prev": "e9e9510e-8b44-4e01-8066-89cfa6e9970b",
     "regions": {
      "b0c5ad6c-0070-49b2-bf5c-cef76c035f24": {
       "attrs": {
        "height": 0.8,
        "width": 0.8,
        "x": 0.1,
        "y": 0.1
       },
       "content": {
        "cell": "09e8ed52-897f-471d-b71f-9f636c9d7359",
        "part": "whole"
       },
       "id": "b0c5ad6c-0070-49b2-bf5c-cef76c035f24"
      }
     }
    },
    "beae7539-ec0c-49e5-afd9-b46a6e8f5fe5": {
     "id": "beae7539-ec0c-49e5-afd9-b46a6e8f5fe5",
     "prev": "a0c01e2b-ee56-4233-96b3-9f7875c3659d",
     "regions": {
      "84f18edf-9ffa-4759-98d8-bd147eee837f": {
       "attrs": {
        "height": 0.8,
        "width": 0.8,
        "x": 0.1,
        "y": 0.1
       },
       "content": {
        "cell": "4461ff4b-ca00-439e-a84f-395416506b61",
        "part": "whole"
       },
       "id": "84f18edf-9ffa-4759-98d8-bd147eee837f"
      }
     }
    },
    "bf06ac61-8173-4b21-a826-d94d7091bc2c": {
     "id": "bf06ac61-8173-4b21-a826-d94d7091bc2c",
     "prev": "c9d06323-1802-4c59-9c24-1483d8b4ead6",
     "regions": {
      "d84bf8c7-6f30-42f5-92cc-af1ebc84ebe2": {
       "attrs": {
        "height": 0.8,
        "width": 0.8,
        "x": 0.1,
        "y": 0.1
       },
       "content": {
        "cell": "5aded55d-a7be-4955-9622-3a8c84f13340",
        "part": "whole"
       },
       "id": "d84bf8c7-6f30-42f5-92cc-af1ebc84ebe2"
      }
     }
    },
    "c9d06323-1802-4c59-9c24-1483d8b4ead6": {
     "id": "c9d06323-1802-4c59-9c24-1483d8b4ead6",
     "prev": "1caa9c5b-2f1c-4315-9ef3-2a051aef5c6b",
     "regions": {
      "38b005d5-f84e-4e47-a1a2-5ba337173017": {
       "attrs": {
        "height": 0.8,
        "width": 0.8,
        "x": 0.1,
        "y": 0.1
       },
       "content": {
        "cell": "c1ae29c7-3b8b-47e1-b6cc-b3855b660fc0",
        "part": "whole"
       },
       "id": "38b005d5-f84e-4e47-a1a2-5ba337173017"
      }
     }
    },
    "c9d67d68-6d15-4640-b06f-02e7f8e607af": {
     "id": "c9d67d68-6d15-4640-b06f-02e7f8e607af",
     "prev": "69199d30-5e47-4438-bce5-4fbd1c77314f",
     "regions": {
      "98e4f34c-b486-4f53-8739-e387d6b839e0": {
       "attrs": {
        "height": 0.8,
        "width": 0.8,
        "x": 0.1,
        "y": 0.1
       },
       "content": {
        "cell": "0d5079c3-d8b4-47c0-86ea-2f30433c2556",
        "part": "whole"
       },
       "id": "98e4f34c-b486-4f53-8739-e387d6b839e0"
      }
     }
    },
    "cd36e68d-d76e-4101-92d0-3b83268e8917": {
     "id": "cd36e68d-d76e-4101-92d0-3b83268e8917",
     "prev": "2219e122-2e40-467c-8e42-2ae65fdea26a",
     "regions": {
      "a660ba3e-724c-4549-a238-95c62f98b968": {
       "attrs": {
        "height": 0.8,
        "width": 0.8,
        "x": 0.1,
        "y": 0.1
       },
       "content": {
        "cell": "4a10d074-285c-41c8-9878-4b0ddba05d03",
        "part": "whole"
       },
       "id": "a660ba3e-724c-4549-a238-95c62f98b968"
      }
     }
    },
    "d90a49e5-f19b-44da-a475-9937bbfd6809": {
     "id": "d90a49e5-f19b-44da-a475-9937bbfd6809",
     "prev": "ac166adc-2f50-49e6-b35b-b685536b98c9",
     "regions": {
      "79e64f1a-1dae-4003-9267-b0b437008acf": {
       "attrs": {
        "height": 0.8,
        "width": 0.8,
        "x": 0.1,
        "y": 0.1
       },
       "content": {
        "cell": "eb16b6c2-d84d-4b5c-b7fa-1fb637df84d9",
        "part": "whole"
       },
       "id": "79e64f1a-1dae-4003-9267-b0b437008acf"
      }
     }
    },
    "d91b56f1-55b2-4274-a34c-a65421d96a1e": {
     "id": "d91b56f1-55b2-4274-a34c-a65421d96a1e",
     "prev": "9b9c32a5-30ad-430c-a5da-1cbef4016c80",
     "regions": {
      "61c4867b-579f-4110-a8ee-b3337fe4e755": {
       "attrs": {
        "height": 0.8,
        "width": 0.8,
        "x": 0.1,
        "y": 0.1
       },
       "content": {
        "cell": "82321456-bdf7-429f-87a5-80bbb875ed4b",
        "part": "whole"
       },
       "id": "61c4867b-579f-4110-a8ee-b3337fe4e755"
      }
     }
    },
    "dc6001fe-4c26-4c6d-9f3b-b60b4481e130": {
     "id": "dc6001fe-4c26-4c6d-9f3b-b60b4481e130",
     "prev": "7d9bc2d6-b5c2-465c-8f45-9fabce6b6a9f",
     "regions": {
      "a52909bf-40ce-4be2-b463-6f34fad739cb": {
       "attrs": {
        "height": 0.8,
        "width": 0.8,
        "x": 0.1,
        "y": 0.1
       },
       "content": {
        "cell": "5b6391e4-183c-4e6f-b556-073ea09dadf7",
        "part": "whole"
       },
       "id": "a52909bf-40ce-4be2-b463-6f34fad739cb"
      }
     }
    },
    "dd3c2564-19df-40f5-806f-6a995ebef5b1": {
     "id": "dd3c2564-19df-40f5-806f-6a995ebef5b1",
     "prev": "b963492a-8022-4c4d-adaa-12f95ac91652",
     "regions": {
      "737d16dc-b1bc-4efb-8a30-89fb404b55d3": {
       "attrs": {
        "height": 0.8,
        "width": 0.8,
        "x": 0.1,
        "y": 0.1
       },
       "content": {
        "cell": "c2a38cc2-2065-4183-9504-d3cac6741f6a",
        "part": "whole"
       },
       "id": "737d16dc-b1bc-4efb-8a30-89fb404b55d3"
      }
     }
    },
    "e1610ddc-7b05-42e5-9eda-c92324cf6767": {
     "id": "e1610ddc-7b05-42e5-9eda-c92324cf6767",
     "prev": "57f16d19-fa26-463c-800f-49fef5339b9f",
     "regions": {
      "f50df8f0-45e2-4130-be20-b104be33a43d": {
       "attrs": {
        "height": 0.8,
        "width": 0.8,
        "x": 0.1,
        "y": 0.1
       },
       "content": {
        "cell": "a7e03bb9-f910-403a-89be-ccb580273907",
        "part": "whole"
       },
       "id": "f50df8f0-45e2-4130-be20-b104be33a43d"
      }
     }
    },
    "e1e9e11e-c16d-4abb-afef-e2ba94c06575": {
     "id": "e1e9e11e-c16d-4abb-afef-e2ba94c06575",
     "prev": "93542281-2e00-40c5-bce0-37a24bd4dae5",
     "regions": {
      "8ee36d58-0a85-446a-bd35-6bf1e06ca909": {
       "attrs": {
        "height": 0.8,
        "width": 0.8,
        "x": 0.1,
        "y": 0.1
       },
       "content": {
        "cell": "f9d05385-5750-493f-a8a6-676a2a2a29f5",
        "part": "whole"
       },
       "id": "8ee36d58-0a85-446a-bd35-6bf1e06ca909"
      }
     }
    },
    "e3c1960e-4d9c-43ca-bfee-7e5748e6ef51": {
     "id": "e3c1960e-4d9c-43ca-bfee-7e5748e6ef51",
     "prev": "84f8be36-5679-49aa-b20f-3886f24803f6",
     "regions": {
      "5ac15aa1-ef15-4674-a428-554fcb75eb65": {
       "attrs": {
        "height": 0.8,
        "width": 0.8,
        "x": 0.1,
        "y": 0.1
       },
       "content": {
        "cell": "6369770f-aac6-4921-80e6-947191449268",
        "part": "whole"
       },
       "id": "5ac15aa1-ef15-4674-a428-554fcb75eb65"
      }
     }
    },
    "e48dacd6-27a1-4b4a-9e07-32e3c3c23d4d": {
     "id": "e48dacd6-27a1-4b4a-9e07-32e3c3c23d4d",
     "prev": "9862dc19-2cc6-48f4-a681-4a4b4ae9ed11",
     "regions": {
      "ae4ac55f-0370-4faf-9c4e-87eaa1863e4f": {
       "attrs": {
        "height": 0.8,
        "width": 0.8,
        "x": 0.1,
        "y": 0.1
       },
       "content": {
        "cell": "922e2623-1236-4d28-8bdc-df63b756ab9a",
        "part": "whole"
       },
       "id": "ae4ac55f-0370-4faf-9c4e-87eaa1863e4f"
      }
     }
    },
    "e8fa51b7-4cb4-44b6-b3a2-7eccf1f3fdad": {
     "id": "e8fa51b7-4cb4-44b6-b3a2-7eccf1f3fdad",
     "prev": "e3c1960e-4d9c-43ca-bfee-7e5748e6ef51",
     "regions": {
      "42e8c3b7-ee1b-45a2-a727-b949bbeadbc3": {
       "attrs": {
        "height": 0.8,
        "width": 0.8,
        "x": 0.1,
        "y": 0.1
       },
       "content": {
        "cell": "c792a73e-81cc-475e-be24-8f429a75b5b3",
        "part": "whole"
       },
       "id": "42e8c3b7-ee1b-45a2-a727-b949bbeadbc3"
      }
     }
    },
    "e9a6515c-4e8d-4168-a2f9-146a08d9a904": {
     "id": "e9a6515c-4e8d-4168-a2f9-146a08d9a904",
     "prev": "cd36e68d-d76e-4101-92d0-3b83268e8917",
     "regions": {
      "97923c44-8a57-4b0d-a84e-128d5762e1da": {
       "attrs": {
        "height": 0.8,
        "width": 0.8,
        "x": 0.1,
        "y": 0.1
       },
       "content": {
        "cell": "29c791f6-bf10-4a84-9230-8e73ce1e5d56",
        "part": "whole"
       },
       "id": "97923c44-8a57-4b0d-a84e-128d5762e1da"
      }
     }
    },
    "e9e9510e-8b44-4e01-8066-89cfa6e9970b": {
     "id": "e9e9510e-8b44-4e01-8066-89cfa6e9970b",
     "prev": "dd3c2564-19df-40f5-806f-6a995ebef5b1",
     "regions": {
      "1df3afcd-7fc7-4cfe-8830-76872b65f107": {
       "attrs": {
        "height": 0.8,
        "width": 0.8,
        "x": 0.1,
        "y": 0.1
       },
       "content": {
        "cell": "dc3e2803-27ed-4e49-922f-3438493b2309",
        "part": "whole"
       },
       "id": "1df3afcd-7fc7-4cfe-8830-76872b65f107"
      }
     }
    },
    "ed0049a0-1c3f-47f2-a301-442a8acb765e": {
     "id": "ed0049a0-1c3f-47f2-a301-442a8acb765e",
     "prev": "2cd8f86e-84b6-465b-b029-cfa9dc318f35",
     "regions": {
      "866d9128-d338-4ae9-80bc-f316155fbc7a": {
       "attrs": {
        "height": 0.8,
        "width": 0.8,
        "x": 0.1,
        "y": 0.1
       },
       "content": {
        "cell": "1c02170f-4661-4741-98fb-2e73fae3c15e",
        "part": "whole"
       },
       "id": "866d9128-d338-4ae9-80bc-f316155fbc7a"
      }
     }
    },
    "efe362d0-32de-4432-b127-df8520fc340a": {
     "id": "efe362d0-32de-4432-b127-df8520fc340a",
     "prev": "90278a6d-d99b-4911-be66-193ff8f98a3c",
     "regions": {
      "3dc71ee4-ec95-4a5b-9cff-c664faf7e294": {
       "attrs": {
        "height": 0.8,
        "width": 0.8,
        "x": 0.1,
        "y": 0.1
       },
       "content": {
        "cell": "54aa0105-588c-428b-8c36-2bfd59861215",
        "part": "whole"
       },
       "id": "3dc71ee4-ec95-4a5b-9cff-c664faf7e294"
      }
     }
    },
    "eff26920-54cb-45f3-9630-0e9783e72161": {
     "id": "eff26920-54cb-45f3-9630-0e9783e72161",
     "prev": "be4c524a-2108-4b58-ae89-867353e96fe2",
     "regions": {
      "e912e061-9b3b-4805-a288-573b16a790ea": {
       "attrs": {
        "height": 0.8,
        "width": 0.8,
        "x": 0.1,
        "y": 0.1
       },
       "content": {
        "cell": "30e14e33-bbde-4da7-a340-09c0547f81c1",
        "part": "whole"
       },
       "id": "e912e061-9b3b-4805-a288-573b16a790ea"
      }
     }
    },
    "f8b3f977-9620-45b6-b0a2-b6d7d443441f": {
     "id": "f8b3f977-9620-45b6-b0a2-b6d7d443441f",
     "prev": "3436101c-f064-41af-9b7f-82577417a935",
     "regions": {
      "c68eb1db-2d31-46cb-b8a0-ab309fc44a66": {
       "attrs": {
        "height": 0.8,
        "width": 0.8,
        "x": 0.1,
        "y": 0.1
       },
       "content": {
        "cell": "aa49ee33-9985-43e4-b7bd-e502ac28ab64",
        "part": "whole"
       },
       "id": "c68eb1db-2d31-46cb-b8a0-ab309fc44a66"
      }
     }
    },
    "fdc4d227-082b-4cb0-8e44-c47ffb8af9ac": {
     "id": "fdc4d227-082b-4cb0-8e44-c47ffb8af9ac",
     "prev": "4fc8716e-1884-4fcf-a782-a7b15bc6301f",
     "regions": {
      "ce4253cd-4151-4450-a25e-afa1e77bd9b2": {
       "attrs": {
        "height": 0.8,
        "width": 0.8,
        "x": 0.1,
        "y": 0.1
       },
       "content": {
        "cell": "c71e9ce4-4a39-4979-b695-dfbcf05e465a",
        "part": "whole"
       },
       "id": "ce4253cd-4151-4450-a25e-afa1e77bd9b2"
      }
     }
    },
    "feb711ef-e8f0-443b-a9e0-2e6a794614d6": {
     "id": "feb711ef-e8f0-443b-a9e0-2e6a794614d6",
     "prev": "ed0049a0-1c3f-47f2-a301-442a8acb765e",
     "regions": {
      "844e293f-de04-4f01-b9a9-e767f78d3294": {
       "attrs": {
        "height": 0.8,
        "width": 0.8,
        "x": 0.1,
        "y": 0.1
       },
       "content": {
        "cell": "82f89478-4ac7-4e36-bdcf-4190c8ddcfc9",
        "part": "whole"
       },
       "id": "844e293f-de04-4f01-b9a9-e767f78d3294"
      }
     }
    }
   },
   "themes": {}
  }
 },
 "nbformat": 4,
 "nbformat_minor": 1
}
